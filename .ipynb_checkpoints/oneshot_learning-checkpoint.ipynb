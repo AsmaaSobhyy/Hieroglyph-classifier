{
 "cells": [
  {
   "cell_type": "code",
   "execution_count": 1,
   "metadata": {
    "id": "S9EUfmmBja-_"
   },
   "outputs": [
    {
     "name": "stderr",
     "output_type": "stream",
     "text": [
      "/home/asmaa/anaconda3/lib/python3.7/site-packages/tensorflow/python/framework/dtypes.py:516: FutureWarning: Passing (type, 1) or '1type' as a synonym of type is deprecated; in a future version of numpy, it will be understood as (type, (1,)) / '(1,)type'.\n",
      "  _np_qint8 = np.dtype([(\"qint8\", np.int8, 1)])\n",
      "/home/asmaa/anaconda3/lib/python3.7/site-packages/tensorflow/python/framework/dtypes.py:517: FutureWarning: Passing (type, 1) or '1type' as a synonym of type is deprecated; in a future version of numpy, it will be understood as (type, (1,)) / '(1,)type'.\n",
      "  _np_quint8 = np.dtype([(\"quint8\", np.uint8, 1)])\n",
      "/home/asmaa/anaconda3/lib/python3.7/site-packages/tensorflow/python/framework/dtypes.py:518: FutureWarning: Passing (type, 1) or '1type' as a synonym of type is deprecated; in a future version of numpy, it will be understood as (type, (1,)) / '(1,)type'.\n",
      "  _np_qint16 = np.dtype([(\"qint16\", np.int16, 1)])\n",
      "/home/asmaa/anaconda3/lib/python3.7/site-packages/tensorflow/python/framework/dtypes.py:519: FutureWarning: Passing (type, 1) or '1type' as a synonym of type is deprecated; in a future version of numpy, it will be understood as (type, (1,)) / '(1,)type'.\n",
      "  _np_quint16 = np.dtype([(\"quint16\", np.uint16, 1)])\n",
      "/home/asmaa/anaconda3/lib/python3.7/site-packages/tensorflow/python/framework/dtypes.py:520: FutureWarning: Passing (type, 1) or '1type' as a synonym of type is deprecated; in a future version of numpy, it will be understood as (type, (1,)) / '(1,)type'.\n",
      "  _np_qint32 = np.dtype([(\"qint32\", np.int32, 1)])\n",
      "/home/asmaa/anaconda3/lib/python3.7/site-packages/tensorflow/python/framework/dtypes.py:525: FutureWarning: Passing (type, 1) or '1type' as a synonym of type is deprecated; in a future version of numpy, it will be understood as (type, (1,)) / '(1,)type'.\n",
      "  np_resource = np.dtype([(\"resource\", np.ubyte, 1)])\n",
      "/home/asmaa/anaconda3/lib/python3.7/site-packages/tensorboard/compat/tensorflow_stub/dtypes.py:541: FutureWarning: Passing (type, 1) or '1type' as a synonym of type is deprecated; in a future version of numpy, it will be understood as (type, (1,)) / '(1,)type'.\n",
      "  _np_qint8 = np.dtype([(\"qint8\", np.int8, 1)])\n",
      "/home/asmaa/anaconda3/lib/python3.7/site-packages/tensorboard/compat/tensorflow_stub/dtypes.py:542: FutureWarning: Passing (type, 1) or '1type' as a synonym of type is deprecated; in a future version of numpy, it will be understood as (type, (1,)) / '(1,)type'.\n",
      "  _np_quint8 = np.dtype([(\"quint8\", np.uint8, 1)])\n",
      "/home/asmaa/anaconda3/lib/python3.7/site-packages/tensorboard/compat/tensorflow_stub/dtypes.py:543: FutureWarning: Passing (type, 1) or '1type' as a synonym of type is deprecated; in a future version of numpy, it will be understood as (type, (1,)) / '(1,)type'.\n",
      "  _np_qint16 = np.dtype([(\"qint16\", np.int16, 1)])\n",
      "/home/asmaa/anaconda3/lib/python3.7/site-packages/tensorboard/compat/tensorflow_stub/dtypes.py:544: FutureWarning: Passing (type, 1) or '1type' as a synonym of type is deprecated; in a future version of numpy, it will be understood as (type, (1,)) / '(1,)type'.\n",
      "  _np_quint16 = np.dtype([(\"quint16\", np.uint16, 1)])\n",
      "/home/asmaa/anaconda3/lib/python3.7/site-packages/tensorboard/compat/tensorflow_stub/dtypes.py:545: FutureWarning: Passing (type, 1) or '1type' as a synonym of type is deprecated; in a future version of numpy, it will be understood as (type, (1,)) / '(1,)type'.\n",
      "  _np_qint32 = np.dtype([(\"qint32\", np.int32, 1)])\n",
      "/home/asmaa/anaconda3/lib/python3.7/site-packages/tensorboard/compat/tensorflow_stub/dtypes.py:550: FutureWarning: Passing (type, 1) or '1type' as a synonym of type is deprecated; in a future version of numpy, it will be understood as (type, (1,)) / '(1,)type'.\n",
      "  np_resource = np.dtype([(\"resource\", np.ubyte, 1)])\n",
      "Using TensorFlow backend.\n"
     ]
    }
   ],
   "source": [
    "import os\n",
    "import pandas as pd\n",
    "import numpy as np\n",
    "import random\n",
    "import matplotlib.pyplot as plt\n",
    "import seaborn as sns\n",
    "import cv2\n",
    "\n",
    "import skimage.io as io\n",
    "import pickle\n",
    "\n",
    "import time\n",
    "\n",
    "from sklearn.utils import shuffle\n",
    "from sklearn.model_selection import train_test_split\n",
    "\n",
    "import tensorflow as tf\n",
    "from keras.models import Sequential\n",
    "#for colab\n",
    "# from tensorflow.keras.optimizers import Adam\n",
    "\n",
    "from keras.optimizers import Adam\n",
    "from keras.layers import Conv2D, ZeroPadding2D, Activation, Input, concatenate\n",
    "from keras.models import Model\n",
    "\n",
    "from tensorflow.keras.layers import BatchNormalization,Dropout\n",
    "from keras.layers.pooling import MaxPooling2D\n",
    "from keras.layers.merge import Concatenate\n",
    "from keras.layers.core import Lambda, Flatten, Dense\n",
    "from keras.initializers import glorot_uniform\n",
    "\n",
    "from tensorflow.keras.layers import Layer\n",
    "from keras.regularizers import l2\n",
    "from keras import backend as K\n",
    "\n",
    "from tensorflow.keras.applications.inception_v3 import InceptionV3\n",
    "# from tensorflow.keras.preprocessing import image\n",
    "# from tensorflow.keras.models import Model\n",
    "# from tensorflow.keras.layers import Dense, GlobalAveragePooling2D\n",
    "\n",
    "from sklearn.metrics import confusion_matrix, classification_report\n"
   ]
  },
  {
   "cell_type": "markdown",
   "metadata": {
    "id": "XXwbeZYYjbAJ"
   },
   "source": [
    "# Loading data\n",
    "a function that loads the images locations and labels.<br>\n",
    "input: the data path.<br>\n",
    "output:<br>\n",
    "&emsp;&emsp;dataHiero -> a dataframe with index= location of images and label= their labels <br>\n",
    "&emsp;&emsp;img_groups -> a dictionary in the shape of { \"label\" : [array of locations of images labeled with this label] }"
   ]
  },
  {
   "cell_type": "code",
   "execution_count": null,
   "metadata": {
    "id": "noWbwGlLjbAY"
   },
   "outputs": [],
   "source": [
    "path=\"../GlyphDataset/Dataset/Manual/Preprocessed/\"\n",
    "\n",
    "def loadData(folderPictures=path):\n",
    "    \n",
    "    folders=next(os.walk(folderPictures))[1]\n",
    "    img_groups = {}\n",
    "    img_list={}\n",
    "\n",
    "    for folder in folders:\n",
    "        for img_file in os.listdir(folderPictures+folder):\n",
    "            name, label = img_file.strip('.png').split(\"_\")\n",
    "            \n",
    "            \n",
    "            # One image per class\n",
    "\n",
    "            #if label not in img_groups.keys():\n",
    "            #    img_groups[label] = [folder + \"_\" + name]\n",
    "\n",
    "\n",
    "            # Multiple images per class\n",
    "\n",
    "            if label in img_groups.keys():\n",
    "                img_groups[label].append(folder+\"_\"+name)\n",
    "            else:\n",
    "                img_groups[label] = [folder+\"_\"+name]\n",
    "\n",
    "            img_list[folder+\"_\"+name]=[label]\n",
    "\n",
    "\n",
    "    # Remove class with only one hieroglyph\n",
    "\n",
    "\n",
    "    for k,v in list(img_groups.items()):\n",
    "        if len(v)==1: del img_groups[k]\n",
    "\n",
    "    # Extract only N hieroglyph classes randomly\n",
    "\n",
    "    nclass = len(img_groups.keys())\n",
    "\n",
    "    list_of_class = random.sample(list(img_groups.keys()), nclass)\n",
    "#     print(list_of_class)\n",
    "\n",
    "    short_dico = {x: img_groups[x] for x in list_of_class if x in img_groups}\n",
    "\n",
    "    dataHiero=pd.DataFrame.from_dict(img_list,orient='index')\n",
    "    dataHiero.columns = [\"label\"]\n",
    "    dataHiero = dataHiero[dataHiero.label != 'UNKNOWN']\n",
    "\n",
    "    dataHiero = dataHiero.loc[dataHiero['label'].isin(short_dico)]\n",
    "\n",
    "\n",
    "    dataHiero.reset_index(level=0, inplace=True)\n",
    "\n",
    "    return dataHiero,img_groups"
   ]
  },
  {
   "cell_type": "markdown",
   "metadata": {
    "id": "_CaZM8DxjbAp"
   },
   "source": [
    "a function that takes the image groups and load those images<br>\n",
    "input: img_proups dictionary<br>\n",
    "output:<br>\n",
    "&emsp;&emsp;X -> np array of the images<br>\n",
    "&emsp;&emsp;y -> np array of labels<br>\n",
    "&emsp;&emsp;glyph_sizes -> a dictionary in the form of {'label' : (starting index, ending index in X and y)}\n"
   ]
  },
  {
   "cell_type": "code",
   "execution_count": null,
   "metadata": {
    "id": "xO2UaDgTjbAu"
   },
   "outputs": [],
   "source": [
    "def read_images(img_groups,path):\n",
    "    X=[]\n",
    "    y=[]\n",
    "    glyph_sizes={}\n",
    "    low=0\n",
    "    for glyph in img_groups:\n",
    "        category_images=[]\n",
    "        high=low\n",
    "        for img_path in img_groups[glyph] :\n",
    "            folder,name = img_path.split('_')\n",
    "            image = io.imread(path+folder+'/'+name+'_'+glyph+'.png')\n",
    "            X.append(image)\n",
    "            y.append(glyph)\n",
    "            high+=1\n",
    "#         X.append(np.array(category_images))\n",
    "        glyph_sizes[glyph]=(low,high-1)\n",
    "        low=high\n",
    "        \n",
    "    return np.array(X),np.array(y).reshape((-1,1)),glyph_sizes\n",
    "            \n",
    "    "
   ]
  },
  {
   "cell_type": "code",
   "execution_count": null,
   "metadata": {
    "id": "vwJdv81wuntL"
   },
   "outputs": [],
   "source": []
  },
  {
   "cell_type": "code",
   "execution_count": null,
   "metadata": {
    "colab": {
     "base_uri": "https://localhost:8080/",
     "height": 324
    },
    "id": "IYwf13e4jbA3",
    "outputId": "40164a56-2bf4-4e9f-9e17-823f4146688c"
   },
   "outputs": [
    {
     "data": {
      "text/html": [
       "<div>\n",
       "<style scoped>\n",
       "    .dataframe tbody tr th:only-of-type {\n",
       "        vertical-align: middle;\n",
       "    }\n",
       "\n",
       "    .dataframe tbody tr th {\n",
       "        vertical-align: top;\n",
       "    }\n",
       "\n",
       "    .dataframe thead th {\n",
       "        text-align: right;\n",
       "    }\n",
       "</style>\n",
       "<table border=\"1\" class=\"dataframe\">\n",
       "  <thead>\n",
       "    <tr style=\"text-align: right;\">\n",
       "      <th></th>\n",
       "      <th>index</th>\n",
       "      <th>label</th>\n",
       "    </tr>\n",
       "  </thead>\n",
       "  <tbody>\n",
       "    <tr>\n",
       "      <th>0</th>\n",
       "      <td>39_390115</td>\n",
       "      <td>D21</td>\n",
       "    </tr>\n",
       "    <tr>\n",
       "      <th>1</th>\n",
       "      <td>39_390082</td>\n",
       "      <td>M17</td>\n",
       "    </tr>\n",
       "    <tr>\n",
       "      <th>2</th>\n",
       "      <td>39_390292</td>\n",
       "      <td>V31</td>\n",
       "    </tr>\n",
       "    <tr>\n",
       "      <th>3</th>\n",
       "      <td>39_390375</td>\n",
       "      <td>U15</td>\n",
       "    </tr>\n",
       "    <tr>\n",
       "      <th>4</th>\n",
       "      <td>39_390175</td>\n",
       "      <td>D35</td>\n",
       "    </tr>\n",
       "  </tbody>\n",
       "</table>\n",
       "</div>"
      ],
      "text/plain": [
       "       index label\n",
       "0  39_390115   D21\n",
       "1  39_390082   M17\n",
       "2  39_390292   V31\n",
       "3  39_390375   U15\n",
       "4  39_390175   D35"
      ]
     },
     "execution_count": 11,
     "metadata": {},
     "output_type": "execute_result"
    }
   ],
   "source": [
    "dataHiero,img_groups=loadData(folderPictures=path)\n",
    "dataHiero.head()\n",
    "# img_groups"
   ]
  },
  {
   "cell_type": "code",
   "execution_count": null,
   "metadata": {
    "id": "-j6RWKkrjbA6"
   },
   "outputs": [],
   "source": [
    "X,y,sizes=read_images(img_groups,path)"
   ]
  },
  {
   "cell_type": "code",
   "execution_count": null,
   "metadata": {
    "id": "6dtSHq2CuntN",
    "outputId": "ece1fc39-78e5-44e5-afce-2d02122bff05"
   },
   "outputs": [
    {
     "data": {
      "text/plain": [
       "135"
      ]
     },
     "execution_count": 27,
     "metadata": {},
     "output_type": "execute_result"
    }
   ],
   "source": [
    "len(np.unique(y))"
   ]
  },
  {
   "cell_type": "code",
   "execution_count": null,
   "metadata": {
    "id": "kNTAe8oQjbBG",
    "outputId": "a030e446-b195-4481-b03e-2b201b17045f",
    "scrolled": true
   },
   "outputs": [
    {
     "name": "stdout",
     "output_type": "stream",
     "text": [
      "(2921, 1)\n",
      "(2921, 75, 50)\n"
     ]
    },
    {
     "data": {
      "text/plain": [
       "5"
      ]
     },
     "execution_count": 25,
     "metadata": {},
     "output_type": "execute_result"
    }
   ],
   "source": [
    "type(X)\n",
    "print(y.shape)\n",
    "print(X.shape)\n",
    "sizes['D21'][1]"
   ]
  },
  {
   "cell_type": "markdown",
   "metadata": {
    "id": "hjQdogROjbBI"
   },
   "source": [
    "saving the images into a pickle"
   ]
  },
  {
   "cell_type": "code",
   "execution_count": null,
   "metadata": {
    "id": "Br2-Xm7bjbBb"
   },
   "outputs": [],
   "source": [
    "#train val split\n",
    "X_train, X_test, y_train, y_test = train_test_split(X, y, test_size=0.3,stratify=y, random_state=42)"
   ]
  },
  {
   "cell_type": "code",
   "execution_count": null,
   "metadata": {
    "id": "h19VDNyjuntR",
    "outputId": "778d602a-b24b-4c4e-fa9b-0f5260984105"
   },
   "outputs": [
    {
     "data": {
      "text/plain": [
       "(1252, 75, 50)"
      ]
     },
     "execution_count": 24,
     "metadata": {},
     "output_type": "execute_result"
    }
   ],
   "source": [
    "X_test.shape"
   ]
  },
  {
   "cell_type": "code",
   "execution_count": null,
   "metadata": {
    "id": "lPS8xCJPjbBh"
   },
   "outputs": [],
   "source": [
    "def get_sizes(X,Y):\n",
    "    sizes={}\n",
    "    for i ,(x,y) in enumerate(zip(X,Y)):\n",
    "#         print(i,x,y)\n",
    "        if y[0] in sizes:\n",
    "            sizes[y[0]].append(i)\n",
    "        else:\n",
    "            sizes[y[0]]=[i]\n",
    "    return sizes\n",
    "    "
   ]
  },
  {
   "cell_type": "code",
   "execution_count": null,
   "metadata": {
    "id": "sG1c9UUHjbBi"
   },
   "outputs": [],
   "source": [
    "sizes=get_sizes(X_train,y_train)\n",
    "X=X_train\n",
    "y=y_train"
   ]
  },
  {
   "cell_type": "code",
   "execution_count": null,
   "metadata": {
    "id": "bbrU-fAkjbBn"
   },
   "outputs": [],
   "source": [
    "#saving data as pickle\n",
    "with open(\"train.pickle\", \"wb\") as f:\n",
    "    pickle.dump((X,y,sizes),f)"
   ]
  },
  {
   "cell_type": "code",
   "execution_count": null,
   "metadata": {
    "id": "x4szlW2XjbBo"
   },
   "outputs": [],
   "source": [
    "sizes_val=get_sizes(X_test,y_test)\n",
    "Xval=X_test\n",
    "yval=y_test"
   ]
  },
  {
   "cell_type": "code",
   "execution_count": null,
   "metadata": {
    "id": "NkrX6IOujbBp"
   },
   "outputs": [],
   "source": [
    "#saving data as pickle\n",
    "with open(\"test.pickle\", \"wb\") as f:\n",
    "    pickle.dump((Xval,yval,sizes_val),f)"
   ]
  },
  {
   "cell_type": "markdown",
   "metadata": {
    "id": "PLsdlmINTx6R"
   },
   "source": [
    "**Creating all pairs**"
   ]
  },
  {
   "cell_type": "code",
   "execution_count": null,
   "metadata": {
    "id": "cUfovN9vjbBw"
   },
   "outputs": [],
   "source": [
    "def create_all_pairs(X,y):\n",
    "    n=y.shape[0]\n",
    "    _,w,h=X.shape\n",
    "    input1_ind=[]\n",
    "    input2_ind=[]\n",
    "    label=[]\n",
    "    for i in range(n):\n",
    "        for j in range(i+1,n):\n",
    "            if y[i] == y[j]:\n",
    "                  label.append(1)\n",
    "            else:\n",
    "                label.append(0)\n",
    "\n",
    "            input1_ind.append(i)\n",
    "            input2_ind.append(j)\n",
    "\n",
    "\n",
    "\n",
    "    label=np.asarray(label)\n",
    "    input1,input2,label = shuffle(input1_ind,input2_ind,label)\n",
    "    pairs=[input1,input2]\n",
    "\n",
    "    return X,np.asarray(pairs),np.asarray(label)"
   ]
  },
  {
   "cell_type": "code",
   "execution_count": null,
   "metadata": {
    "id": "oO1idzHuVvIH"
   },
   "outputs": [],
   "source": [
    "images_all_train,pairs_all_train,labels_all_train=create_all_pairs(X,y)"
   ]
  },
  {
   "cell_type": "code",
   "execution_count": null,
   "metadata": {
    "id": "VlhOr26j1B26"
   },
   "outputs": [],
   "source": [
    "images_all_test,pairs_all_test,labels_all_test=create_all_pairs(Xval,yval)"
   ]
  },
  {
   "cell_type": "code",
   "execution_count": null,
   "metadata": {
    "colab": {
     "base_uri": "https://localhost:8080/"
    },
    "id": "cJTd3vY_3DEu",
    "outputId": "f5dbbcc5-b22a-41aa-c92c-f5c5b9d3bc3d"
   },
   "outputs": [
    {
     "name": "stdout",
     "output_type": "stream",
     "text": [
      "(2, 783126)\n"
     ]
    },
    {
     "data": {
      "text/plain": [
       "(2, 4264660)"
      ]
     },
     "execution_count": 102,
     "metadata": {},
     "output_type": "execute_result"
    }
   ],
   "source": [
    "print(pairs_all_test.shape)\n",
    "pairs_all_train.shape"
   ]
  },
  {
   "cell_type": "code",
   "execution_count": null,
   "metadata": {
    "colab": {
     "base_uri": "https://localhost:8080/"
    },
    "id": "7bMw1KqJgz_F",
    "outputId": "d7b43e0c-6747-4f11-8100-2821c273926a"
   },
   "outputs": [
    {
     "name": "stdout",
     "output_type": "stream",
     "text": [
      "(4090789,)\n"
     ]
    },
    {
     "data": {
      "text/plain": [
       "(173871,)"
      ]
     },
     "execution_count": 103,
     "metadata": {},
     "output_type": "execute_result"
    }
   ],
   "source": [
    "print(labels_all_train[labels_all_train==0].shape)\n",
    "labels_all_train[labels_all_train==1].shape"
   ]
  },
  {
   "cell_type": "code",
   "execution_count": null,
   "metadata": {
    "id": "uwGMn6z1gz6q"
   },
   "outputs": [],
   "source": [
    "with open(data_path+\"pairs_all_train.pickle\", \"wb\") as f:\n",
    "    pickle.dump((images_all_train,pairs_all_train,labels_all_train),f)"
   ]
  },
  {
   "cell_type": "code",
   "execution_count": null,
   "metadata": {
    "id": "dGbIqJY11VBu"
   },
   "outputs": [],
   "source": [
    "with open(data_path+\"pairs_all_test.pickle\", \"wb\") as f:\n",
    "    pickle.dump((images_all_test,pairs_all_test,labels_all_test),f)"
   ]
  },
  {
   "cell_type": "markdown",
   "metadata": {
    "id": "jtd7kUY6jbBx"
   },
   "source": [
    "# reading the Data with pickle"
   ]
  },
  {
   "cell_type": "code",
   "execution_count": 2,
   "metadata": {
    "id": "XVz6vsHZ4SeJ"
   },
   "outputs": [],
   "source": [
    "#colab\n",
    "# data_path= '/content/drive/MyDrive/hiero_cv/'\n",
    "#local|\n",
    "data_path='./'"
   ]
  },
  {
   "cell_type": "code",
   "execution_count": 4,
   "metadata": {
    "colab": {
     "base_uri": "https://localhost:8080/"
    },
    "id": "UdKimrvevHWM",
    "outputId": "6ce07df8-8c0d-4c22-e86d-847ebfae63ef"
   },
   "outputs": [
    {
     "name": "stdout",
     "output_type": "stream",
     "text": [
      "Mounted at /content/drive\n"
     ]
    }
   ],
   "source": [
    "from google.colab import drive\n",
    "drive.mount('/content/drive')"
   ]
  },
  {
   "cell_type": "code",
   "execution_count": 3,
   "metadata": {
    "id": "9ZPC6wKrjbB4"
   },
   "outputs": [],
   "source": [
    "with open(data_path+\"train.pickle\", \"rb\") as f:\n",
    "    (X,y,sizes) = pickle.load(f)"
   ]
  },
  {
   "cell_type": "code",
   "execution_count": 4,
   "metadata": {
    "id": "lOstoN_vjbB7"
   },
   "outputs": [],
   "source": [
    "with open(data_path+\"test.pickle\", \"rb\") as f:\n",
    "    (Xval,yval,sizes_val) = pickle.load(f)"
   ]
  },
  {
   "cell_type": "code",
   "execution_count": null,
   "metadata": {
    "id": "EmdcIQiwpDLV"
   },
   "outputs": [],
   "source": [
    "# from google.colab import drive\n",
    "# drive.mount('/content/drive')"
   ]
  },
  {
   "cell_type": "code",
   "execution_count": 7,
   "metadata": {
    "id": "E47lfQCBRt-t"
   },
   "outputs": [],
   "source": [
    "#read all pairs train\n",
    "with open(data_path+\"pairs_all_train.pickle\", \"rb\") as f:\n",
    "    (images_all_train,pairs_all_train,labels_all_train) = pickle.load(f)"
   ]
  },
  {
   "cell_type": "code",
   "execution_count": 8,
   "metadata": {
    "id": "grt9vg3J1cq4"
   },
   "outputs": [],
   "source": [
    "#read all pairs test\n",
    "with open(data_path+\"pairs_all_test.pickle\", \"rb\") as f:\n",
    "    (images_all_test,pairs_all_test,labels_all_test) = pickle.load(f)"
   ]
  },
  {
   "cell_type": "code",
   "execution_count": 9,
   "metadata": {
    "colab": {
     "base_uri": "https://localhost:8080/"
    },
    "id": "pGGfzez1Oitc",
    "outputId": "8b7ba508-af10-4820-ba6b-8322585831e2"
   },
   "outputs": [
    {
     "data": {
      "text/plain": [
       "(4264660,)"
      ]
     },
     "execution_count": 9,
     "metadata": {},
     "output_type": "execute_result"
    }
   ],
   "source": [
    "labels_all_train.shape"
   ]
  },
  {
   "cell_type": "markdown",
   "metadata": {
    "id": "GcwSOPsVSWXI"
   },
   "source": [
    "# The Model"
   ]
  },
  {
   "cell_type": "code",
   "execution_count": 5,
   "metadata": {
    "id": "JpR7qVOCjbCX"
   },
   "outputs": [],
   "source": [
    "def get_siamese_model(input_shape):\n",
    "    \"\"\"\n",
    "        Model architecture based on the one provided in: http://www.cs.utoronto.ca/~gkoch/files/msc-thesis.pdf\n",
    "    \"\"\"\n",
    "    \n",
    "    # Define the tensors for the two input images\n",
    "    left_input = Input(input_shape,name='Input_1')\n",
    "    right_input = Input(input_shape,name='Input_2')\n",
    "    \n",
    "    # Convolutional Neural Network\n",
    "    model = Sequential(name='CNN')\n",
    "    model.add(Conv2D(64, (3,3), activation='relu', input_shape=input_shape, kernel_regularizer=l2(2e-4)))\n",
    "    model.add(MaxPooling2D())\n",
    "    model.add(Conv2D(64, (3,3), activation='relu', kernel_regularizer=l2(2e-4)))\n",
    "    model.add(MaxPooling2D())\n",
    "    model.add(Conv2D(128, (4,4), activation='relu', kernel_regularizer=l2(2e-4)))\n",
    "    model.add(MaxPooling2D())\n",
    "    model.add(Conv2D(256, (4,4), activation='relu',  kernel_regularizer=l2(2e-4)))\n",
    "    model.add(Flatten())\n",
    "\n",
    "    model.add(Dense(4096, activation='relu',\n",
    "                   kernel_regularizer=l2(1e-3)))\n",
    "    # model.add(Dropout(0.2))\n",
    "    # Generate the encodings (feature vectors) for the two images\n",
    "    encoded_l = model(left_input)\n",
    "    encoded_r = model(right_input)\n",
    "    \n",
    "    # Add a customized layer to compute the absolute difference between the encodings\n",
    "    L1_layer = Lambda(lambda tensors:K.abs(tensors[0] - tensors[1]),name='Subtract')\n",
    "    \n",
    "    L1_distance = L1_layer([encoded_l, encoded_r])\n",
    "    L1_distance = Dense(512,activation='relu',kernel_regularizer=l2(1e-3),name='Dense_1')(L1_distance)\n",
    "    L1_distance = Dense(256,activation='relu',kernel_regularizer=l2(1e-3),name='Dense_2')(L1_distance)\n",
    "    # Add a dense layer with a sigmoid unit to generate the similarity score\n",
    "\n",
    "    prediction = Dense(1,activation='sigmoid',name='Output')(L1_distance)\n",
    "\n",
    "    \n",
    "    \n",
    "    # prediction = Lambda(cosine_distance, output_shape=1)([encoded_l, encoded_r])\n",
    "    # Connect the inputs with the outputs\n",
    "    siamese_net = Model(inputs=[left_input,right_input],outputs=prediction)\n",
    "    \n",
    "    # return the model\n",
    "    return siamese_net"
   ]
  },
  {
   "cell_type": "code",
   "execution_count": 6,
   "metadata": {
    "colab": {
     "base_uri": "https://localhost:8080/"
    },
    "id": "4MtvWYCyjbCb",
    "outputId": "9c9514e2-8421-4c45-850e-3bd1da64e7b1",
    "scrolled": true
   },
   "outputs": [
    {
     "name": "stdout",
     "output_type": "stream",
     "text": [
      "WARNING:tensorflow:From /home/asmaa/anaconda3/lib/python3.7/site-packages/keras/backend/tensorflow_backend.py:4070: The name tf.nn.max_pool is deprecated. Please use tf.nn.max_pool2d instead.\n",
      "\n",
      "Model: \"model_1\"\n",
      "__________________________________________________________________________________________________\n",
      "Layer (type)                    Output Shape         Param #     Connected to                     \n",
      "==================================================================================================\n",
      "Input_1 (InputLayer)            (None, 75, 50, 1)    0                                            \n",
      "__________________________________________________________________________________________________\n",
      "Input_2 (InputLayer)            (None, 75, 50, 1)    0                                            \n",
      "__________________________________________________________________________________________________\n",
      "CNN (Sequential)                (None, 4096)         4891712     Input_1[0][0]                    \n",
      "                                                                 Input_2[0][0]                    \n",
      "__________________________________________________________________________________________________\n",
      "Subtract (Lambda)               (None, 4096)         0           CNN[1][0]                        \n",
      "                                                                 CNN[2][0]                        \n",
      "__________________________________________________________________________________________________\n",
      "Dense_1 (Dense)                 (None, 512)          2097664     Subtract[0][0]                   \n",
      "__________________________________________________________________________________________________\n",
      "Dense_2 (Dense)                 (None, 256)          131328      Dense_1[0][0]                    \n",
      "__________________________________________________________________________________________________\n",
      "Output (Dense)                  (None, 1)            257         Dense_2[0][0]                    \n",
      "==================================================================================================\n",
      "Total params: 7,120,961\n",
      "Trainable params: 7,120,961\n",
      "Non-trainable params: 0\n",
      "__________________________________________________________________________________________________\n"
     ]
    }
   ],
   "source": [
    "model = get_siamese_model((75, 50, 1))\n",
    "model.summary()"
   ]
  },
  {
   "cell_type": "code",
   "execution_count": 7,
   "metadata": {
    "colab": {
     "base_uri": "https://localhost:8080/"
    },
    "id": "FpDd_9CWjbCd",
    "outputId": "28665632-3319-4158-a74c-63152a79242e",
    "scrolled": true
   },
   "outputs": [
    {
     "name": "stdout",
     "output_type": "stream",
     "text": [
      "WARNING:tensorflow:From /home/asmaa/anaconda3/lib/python3.7/site-packages/tensorflow/python/ops/nn_impl.py:180: add_dispatch_support.<locals>.wrapper (from tensorflow.python.ops.array_ops) is deprecated and will be removed in a future version.\n",
      "Instructions for updating:\n",
      "Use tf.where in 2.0, which has the same broadcast rule as np.where\n"
     ]
    }
   ],
   "source": [
    "optimizer = Adam(lr = 0.001)\n",
    "model.compile(loss=\"binary_crossentropy\",optimizer=optimizer,metrics=['accuracy'])"
   ]
  },
  {
   "cell_type": "code",
   "execution_count": null,
   "metadata": {
    "colab": {
     "base_uri": "https://localhost:8080/",
     "height": 564
    },
    "id": "QV5x1y6Funtd",
    "outputId": "7d328b15-5c3b-4ad3-975d-0122b7d02fa8"
   },
   "outputs": [
    {
     "data": {
      "image/png": "[encoded data removed]",
      "text/plain": [
       "<IPython.core.display.Image object>"
      ]
     },
     "execution_count": 31,
     "metadata": {},
     "output_type": "execute_result"
    }
   ],
   "source": [
    "tf.keras.utils.plot_model(\n",
    "    model, to_file='model.png',\n",
    "    show_layer_names=True, rankdir='TB'\n",
    ")\n",
    "\n"
   ]
  },
  {
   "cell_type": "code",
   "execution_count": null,
   "metadata": {
    "id": "VgD8wnmQunte"
   },
   "outputs": [],
   "source": []
  },
  {
   "cell_type": "markdown",
   "metadata": {
    "id": "9CIl_GyLSiz6"
   },
   "source": [
    "# Functions"
   ]
  },
  {
   "cell_type": "markdown",
   "metadata": {
    "id": "tUBHJas8jbCf"
   },
   "source": [
    "## a function to predict which glyph"
   ]
  },
  {
   "cell_type": "code",
   "execution_count": 8,
   "metadata": {
    "id": "Kua3lTs3jbCf"
   },
   "outputs": [],
   "source": [
    "def create_glyphlist(X,sizes):\n",
    "    images=[]\n",
    "    labels=[]\n",
    "    _,w,h=X.shape\n",
    "    for glyph in sizes:\n",
    "        # index=sizes[glyph][0]\n",
    "        if glyph != 'UNKNOWN':\n",
    "            index = np.random.choice(sizes[glyph])\n",
    "            images.append(X[index].reshape( w , h, 1))\n",
    "            labels.append(glyph)\n",
    "    return np.asarray(images), np.asarray(labels) "
   ]
  },
  {
   "cell_type": "code",
   "execution_count": 9,
   "metadata": {
    "id": "DTWwXWyBjbCn"
   },
   "outputs": [],
   "source": [
    "anchor_img, anchor_label=create_glyphlist(X,sizes)"
   ]
  },
  {
   "cell_type": "markdown",
   "metadata": {
    "id": "mTbJ8qWountf"
   },
   "source": [
    "**a function that create pairs from the image that we want to test and the anchor list**"
   ]
  },
  {
   "cell_type": "code",
   "execution_count": 10,
   "metadata": {
    "id": "cj5krLHkjbCo"
   },
   "outputs": [],
   "source": [
    "def whichGlyph_pair(image,anchor_img,anchor_label):\n",
    "    N,w,h,_=anchor_img.shape\n",
    "#     pairs=[np.zeros((N, w, h,1)) for i in range(2)]\n",
    "    \n",
    "    test_image= np.asarray([image]*N).reshape(N, w, h,1)\n",
    "    \n",
    "    anchor_label, test_image, anchor_img = shuffle(anchor_label, test_image, anchor_img)\n",
    "#     pairs = [test_image,anchor_img]\n",
    "    \n",
    "    return test_image, anchor_img, anchor_label\n",
    "    "
   ]
  },
  {
   "cell_type": "markdown",
   "metadata": {
    "id": "BVoEbZhhuntg"
   },
   "source": [
    "**a funnction that compairs the image with each character from the anchor list and outputs the propabilities.**"
   ]
  },
  {
   "cell_type": "code",
   "execution_count": 11,
   "metadata": {
    "id": "e6a5mx_MjbCq"
   },
   "outputs": [],
   "source": [
    "def whichGlyph(model,image,anchor_img,anchor_label):\n",
    "    test_image,anchor_img,targets = whichGlyph_pair(image,anchor_img,anchor_label)\n",
    "    probs = model.predict([test_image,anchor_img])\n",
    "    return probs,anchor_img,targets\n",
    "    "
   ]
  },
  {
   "cell_type": "markdown",
   "metadata": {
    "id": "6xCa5bCWjbC6"
   },
   "source": [
    "## creating pairs of images"
   ]
  },
  {
   "cell_type": "markdown",
   "metadata": {
    "id": "ZNSpnQaljbCe"
   },
   "source": [
    "**a function that create pairs of images with a certain batch size with y= 1 if they are similar and 0 if they are different.**"
   ]
  },
  {
   "cell_type": "code",
   "execution_count": 12,
   "metadata": {
    "id": "a7t5J2GCjbC7"
   },
   "outputs": [],
   "source": [
    "def createPairs(X,y,sizes,batch_size):\n",
    "    ##create a batch with half it's size are similar glyphs and the other half are different.\n",
    "    n=0\n",
    "    i=0\n",
    "    \n",
    "    label=[]\n",
    "    _,w,h=X.shape\n",
    "    # initialize 2 empty arrays for the input image batch\n",
    "#     pairs=[np.zeros((batch_size, w, h,1)) for i in range(2)]\n",
    "    input1=np.zeros((batch_size, w, h,1))\n",
    "    input2=np.zeros((batch_size, w, h,1))\n",
    "    \n",
    "    while n < batch_size:\n",
    "        random_key1=random.choice(list(sizes))\n",
    "#         low=sizes[random_key1][0]\n",
    "#         high=sizes[random_key1][1]\n",
    "        index1, index3 = np.random.choice(sizes[random_key1], size=2)\n",
    "        index2 = np.random.choice(sizes[random_key1])\n",
    "        \n",
    "        random_key2=random.choice(list(sizes))\n",
    "        \n",
    "        while random_key2 == random_key1:\n",
    "            random_key2=random.choice(list(sizes))\n",
    "            \n",
    "#         low=sizes[random_key2][0]\n",
    "#         high=sizes[random_key2][1]\n",
    "        index4=np.random.choice(sizes[random_key2])\n",
    "        n += 2\n",
    "        # appending images 1 and 3 into input1 and input2 corresponding to y=1 \n",
    "        #and images 2 and 4 corresponding to y=0\n",
    "    \n",
    "        input1[i,:,:,:] = X[index1].reshape( w , h, 1)\n",
    "        input1[i+1,:,:,:] = X[index2].reshape(w, h, 1)\n",
    "        input2[i,:,:,:] = X[index3].reshape(w, h, 1)\n",
    "        input2[i+1,:,:,:] = X[index4].reshape(w, h, 1)\n",
    "        i += 2\n",
    "#         input1+=[X[index1],X[index2]]\n",
    "#         input2+=[X[index3],X[index4]]\n",
    "        label+=[1,0]\n",
    "        \n",
    "#         print(index1,index2,index3,index4)\n",
    "#         print(y[index1],y[index2],y[index3],y[index4])\n",
    "#         print(random_key1,random_key2)\n",
    "    input1,input2,label = shuffle(input1,input2,label)\n",
    "    pairs=[input1,input2]\n",
    "    \n",
    "    return pairs,label\n",
    "pairs,label=createPairs(X,y,sizes,32)   "
   ]
  },
  {
   "cell_type": "code",
   "execution_count": null,
   "metadata": {
    "id": "II8Jq4vZ39AL"
   },
   "outputs": [],
   "source": []
  },
  {
   "cell_type": "code",
   "execution_count": 13,
   "metadata": {
    "id": "rd46Yer40w_a"
   },
   "outputs": [],
   "source": [
    "def get_batch_all(images,pairs_all,labels_all,batch_size,it):\n",
    "    _,w,h=images.shape\n",
    "    input1=np.zeros((batch_size, w, h,1))\n",
    "    input2=np.zeros((batch_size, w, h,1))\n",
    "    # label=np.zeros((batch_size,1))\n",
    "    index=0\n",
    "    start=it*batch_size\n",
    "    end= it*batch_size + batch_size\n",
    "    for i in range(start,end):\n",
    "      # random_index=random.choice(range(batch_size))\n",
    "      ind1=pairs_all[0][i]\n",
    "      ind2=pairs_all[1][i]\n",
    "      input1[index,:,:,:] = images[ind1].reshape( w , h, 1)\n",
    "      input2[index,:,:,:] = images[ind2].reshape( w , h, 1)\n",
    "      index+=1\n",
    "\n",
    "    input1,input2,label = shuffle(input1,input2,labels_all[start:end])\n",
    "    pairs=[input1,input2]\n",
    "    \n",
    "    return pairs,label\n"
   ]
  },
  {
   "cell_type": "code",
   "execution_count": 25,
   "metadata": {
    "id": "BXoehBUTjbC9"
   },
   "outputs": [],
   "source": [
    "# pp,mm=get_batch_all(images_all_train,pairs_all_train,labels_all_train,5)"
   ]
  },
  {
   "cell_type": "code",
   "execution_count": null,
   "metadata": {
    "id": "EAxrWxikbdH2"
   },
   "outputs": [],
   "source": []
  },
  {
   "cell_type": "markdown",
   "metadata": {
    "id": "BhahTAyiTfMU"
   },
   "source": [
    "## Testing"
   ]
  },
  {
   "cell_type": "markdown",
   "metadata": {
    "id": "pclsIyfMyots"
   },
   "source": [
    "### Testing accuracy random"
   ]
  },
  {
   "cell_type": "code",
   "execution_count": 14,
   "metadata": {
    "id": "lDQXUEmFjbDt"
   },
   "outputs": [],
   "source": [
    "def calc_accuracy(N,Xval,yval,anchor_img,anchor_label,model,sizes):\n",
    "    count_first=0\n",
    "    count_first3=0\n",
    "    for i in range(N):\n",
    "        # ind=random.choice(range(yval.shape[0]))\n",
    "        random_key = random.choice(list(sizes))\n",
    "        ind = np.random.choice(sizes[random_key])\n",
    "                               \n",
    "        predicted,anchor_imgs,targets=whichGlyph(model,Xval[ind],anchor_img,anchor_label)\n",
    "        sort_index = np.argsort(np.asarray(predicted).reshape(len(predicted),))\n",
    "        if targets[sort_index[-1]] == yval[ind][0]:\n",
    "            count_first+=1\n",
    "        if yval[ind][0] in targets[sort_index[127:]]:\n",
    "            count_first3+=1\n",
    "    accuracy_first=count_first/N\n",
    "    accuracy_first3=count_first3/N\n",
    "    \n",
    "    return accuracy_first, accuracy_first3"
   ]
  },
  {
   "cell_type": "code",
   "execution_count": 15,
   "metadata": {
    "id": "Lwcdo2Vountq"
   },
   "outputs": [],
   "source": [
    "def predict_random(N,Xval,yval,anchor_img,anchor_label,model,sizes):\n",
    "    preds=[]\n",
    "    actual=[]\n",
    "    for i in range(N):\n",
    "        # ind=random.choice(range(yval.shape[0]))\n",
    "        random_key = random.choice(list(sizes))\n",
    "        ind = np.random.choice(sizes[random_key])\n",
    "        \n",
    "        predicted,anchor_imgs,targets=whichGlyph(model,Xval[ind],anchor_img,anchor_label)\n",
    "        sort_index = np.argsort(np.asarray(predicted).reshape(len(predicted),))\n",
    "        preds.append(targets[sort_index[-1]])\n",
    "        actual.append(yval[ind][0])\n",
    "        \n",
    "    \n",
    "    return np.asarray(preds),np.asarray(actual)"
   ]
  },
  {
   "cell_type": "code",
   "execution_count": null,
   "metadata": {
    "id": "wr6bSOuBjbDZ"
   },
   "outputs": [],
   "source": []
  },
  {
   "cell_type": "markdown",
   "metadata": {
    "id": "eumupxeIuntm"
   },
   "source": [
    "**a function to test accuracy**"
   ]
  },
  {
   "cell_type": "code",
   "execution_count": 16,
   "metadata": {
    "id": "S2aZlLWQuntm"
   },
   "outputs": [],
   "source": [
    "def test_accuracy_score(N,Xval,yval,anchor_img,anchor_label,model,sizes):\n",
    "    count_first=0\n",
    "    for i in range(N):\n",
    "        random_key = random.choice(list(sizes))\n",
    "        ind = np.random.choice(sizes[random_key])\n",
    "        \n",
    "#         ind=random.choice(range(yval.shape[0]))\n",
    "        predicted,anchor_imgs,targets=whichGlyph(model,Xval[ind],anchor_img,anchor_label)\n",
    "        if targets[np.argmax(predicted)]== yval[ind][0]:\n",
    "            count_first+=1\n",
    "    percent_correct = (100.0 * count_first / N)\n",
    "    print(\"Got an average of {}% accuracy in {} samples. \\n\".format(percent_correct,N))\n",
    "    return percent_correct"
   ]
  },
  {
   "cell_type": "code",
   "execution_count": null,
   "metadata": {
    "id": "hUJxsuo15mVi"
   },
   "outputs": [],
   "source": []
  },
  {
   "cell_type": "markdown",
   "metadata": {
    "id": "BaxIvzx6J6TO"
   },
   "source": [
    "## Under sampling"
   ]
  },
  {
   "cell_type": "code",
   "execution_count": 23,
   "metadata": {
    "id": "ThYt641EJ-Lj"
   },
   "outputs": [],
   "source": [
    "from imblearn.under_sampling import RandomUnderSampler\n",
    "rus = RandomUnderSampler(random_state=42)\n",
    "#undersampling training data\n",
    "\n",
    "in_df=pd.DataFrame({'0':pairs_all_train[0],'1':pairs_all_train[1]})\n",
    "in_df,labels_tr= rus.fit_resample(in_df,labels_all_train)\n",
    "p0,p1,labels_tr= shuffle(in_df['0'].to_numpy(),in_df['1'].to_numpy(),labels_tr)\n",
    "pairs_all_train=[p0,p1] \n",
    "labels_all_train= labels_tr\n",
    "\n",
    "#undersampling test data\n",
    "\n",
    "test_df=pd.DataFrame({'0':pairs_all_test[0],'1':pairs_all_test[1]})\n",
    "test_df,labels_te= rus.fit_resample(test_df,labels_all_test)\n",
    "p0t,p1t,labels_te=shuffle(test_df['0'].to_numpy(),test_df['1'].to_numpy(),labels_te)\n",
    "pairs_all_test= [p0t,p1t]\n",
    "labels_all_test=labels_te\n"
   ]
  },
  {
   "cell_type": "code",
   "execution_count": 24,
   "metadata": {
    "colab": {
     "base_uri": "https://localhost:8080/"
    },
    "id": "4YdL1UeLMSrS",
    "outputId": "4429084c-ed20-4d84-af80-99ccbfcdfcb5"
   },
   "outputs": [
    {
     "data": {
      "text/plain": [
       "(347742,)"
      ]
     },
     "execution_count": 24,
     "metadata": {},
     "output_type": "execute_result"
    }
   ],
   "source": [
    "labels_all_train.shape"
   ]
  },
  {
   "cell_type": "code",
   "execution_count": 25,
   "metadata": {
    "colab": {
     "base_uri": "https://localhost:8080/"
    },
    "id": "I_13tGrYMUc8",
    "outputId": "273b0ac3-6034-4b83-ca79-b57e0110db26"
   },
   "outputs": [
    {
     "name": "stdout",
     "output_type": "stream",
     "text": [
      "(173871,)\n",
      "(173871,)\n"
     ]
    }
   ],
   "source": [
    "print(labels_all_train[labels_all_train==0].shape)\n",
    "print(labels_all_train[labels_all_train==1].shape)"
   ]
  },
  {
   "cell_type": "markdown",
   "metadata": {
    "id": "d7hU-S3B5nRf"
   },
   "source": [
    "# Training"
   ]
  },
  {
   "cell_type": "code",
   "execution_count": 29,
   "metadata": {
    "id": "RbUqy4FNjbDf"
   },
   "outputs": [],
   "source": [
    "# Hyper parameters\n",
    "evaluate_every = 200 # interval for evaluating on one-shot tasks\n",
    "batch_size = 128 #64#32\n",
    "n_iter = 2000 #5400 # No. of training iterations 20000\n",
    "N_way = 20 # how many classes for testing one-shot tasks\n",
    "n_val = 256 # how many one-shot tasks to validate on\n",
    "best = -1\n",
    "epochs=2\n"
   ]
  },
  {
   "cell_type": "code",
   "execution_count": null,
   "metadata": {
    "colab": {
     "base_uri": "https://localhost:8080/"
    },
    "id": "jsHUoLrX8QEt",
    "outputId": "7e8b39f4-03d5-4b7d-8c15-d99d664a3968"
   },
   "outputs": [
    {
     "data": {
      "text/plain": [
       "(347742,)"
      ]
     },
     "execution_count": 192,
     "metadata": {},
     "output_type": "execute_result"
    }
   ],
   "source": [
    "labels_all_train.shape"
   ]
  },
  {
   "cell_type": "code",
   "execution_count": null,
   "metadata": {
    "id": "fJXH6WomjbDg"
   },
   "outputs": [],
   "source": [
    "model_path = './weights/'\n",
    "# model_2_path= '/content/drive/MyDrive/hiero_cv/'\n",
    "# model_cos_path= '/content/drive/MyDrive/hiero_cv/weights_cos/'\n",
    "# model_regul='/content/drive/MyDrive/hiero_cv/regul_weights/'\n"
   ]
  },
  {
   "cell_type": "code",
   "execution_count": null,
   "metadata": {
    "colab": {
     "base_uri": "https://localhost:8080/"
    },
    "id": "gUJcfqJLjbDh",
    "outputId": "068cb139-7db2-43d0-bfde-f00d781ad49b"
   },
   "outputs": [
    {
     "name": "stdout",
     "output_type": "stream",
     "text": [
      "Training on all pairs!\n",
      "-------------------------------------\n",
      "\n",
      " ------------- \n",
      "\n",
      "Time for 200 iterations epoch :0 : 0.42071298758188885 mins\n",
      "Train Loss: 1.08247709274292 , accuracy : 0.8828125\n",
      "validation Loss: 1.1965086460113525, val accuracy : 0.8046875\n",
      "\n",
      " ------------- \n",
      "\n",
      "Time for 400 iterations epoch :0 : 0.8210418661435445 mins\n",
      "Train Loss: 0.7471252083778381 , accuracy : 0.875\n",
      "validation Loss: 0.8491807579994202, val accuracy : 0.8046875\n",
      "\n",
      " ------------- \n",
      "\n",
      "Time for 600 iterations epoch :0 : 1.2161245544751484 mins\n",
      "Train Loss: 0.5257269740104675 , accuracy : 0.890625\n",
      "validation Loss: 0.8908308148384094, val accuracy : 0.69921875\n",
      "\n",
      " ------------- \n",
      "\n",
      "Time for 800 iterations epoch :0 : 1.612519919872284 mins\n",
      "Train Loss: 0.3741898238658905 , accuracy : 0.9453125\n",
      "validation Loss: 0.5596645474433899, val accuracy : 0.8203125\n",
      "\n",
      " ------------- \n",
      "\n",
      "Time for 1000 iterations epoch :0 : 2.0090962330500286 mins\n",
      "Train Loss: 0.3960479497909546 , accuracy : 0.921875\n",
      "validation Loss: 0.6098873615264893, val accuracy : 0.80078125\n",
      "\n",
      " ------------- \n",
      "\n",
      "Time for 1200 iterations epoch :0 : 2.406405174732208 mins\n",
      "Train Loss: 0.27913761138916016 , accuracy : 0.9453125\n",
      "validation Loss: 0.3550369143486023, val accuracy : 0.9453125\n",
      "\n",
      " ------------- \n",
      "\n",
      "Time for 1400 iterations epoch :0 : 2.8043320814768475 mins\n",
      "Train Loss: 0.3249303102493286 , accuracy : 0.9375\n",
      "validation Loss: 0.3997982442378998, val accuracy : 0.88671875\n",
      "\n",
      " ------------- \n",
      "\n",
      "Time for 1600 iterations epoch :0 : 3.2017372767130534 mins\n",
      "Train Loss: 0.25934478640556335 , accuracy : 0.9453125\n",
      "validation Loss: 0.5478310585021973, val accuracy : 0.8359375\n",
      "\n",
      " ------------- \n",
      "\n",
      "Time for 1800 iterations epoch :0 : 3.597434357802073 mins\n",
      "Train Loss: 0.22043049335479736 , accuracy : 0.9609375\n",
      "validation Loss: 0.42981258034706116, val accuracy : 0.90625\n",
      "\n",
      " ------------- \n",
      "\n",
      "Time for 2000 iterations epoch :0 : 3.9932962099711102 mins\n",
      "Train Loss: 0.21357300877571106 , accuracy : 0.9453125\n",
      "validation Loss: 0.48910611867904663, val accuracy : 0.88671875\n",
      "\n",
      " ------------- \n",
      "\n",
      "Time for 200 iterations epoch :1 : 4.388568389415741 mins\n",
      "Train Loss: 0.19857147336006165 , accuracy : 0.953125\n",
      "validation Loss: 0.33715635538101196, val accuracy : 0.90234375\n",
      "\n",
      " ------------- \n",
      "\n",
      "Time for 400 iterations epoch :1 : 4.784790714581807 mins\n",
      "Train Loss: 0.13568976521492004 , accuracy : 0.96875\n",
      "validation Loss: 0.3538593053817749, val accuracy : 0.921875\n",
      "\n",
      " ------------- \n",
      "\n",
      "Time for 600 iterations epoch :1 : 5.1807354887326555 mins\n",
      "Train Loss: 0.12285464257001877 , accuracy : 0.9765625\n",
      "validation Loss: 0.40509870648384094, val accuracy : 0.90625\n",
      "\n",
      " ------------- \n",
      "\n",
      "Time for 800 iterations epoch :1 : 5.577065447966258 mins\n",
      "Train Loss: 0.11210869997739792 , accuracy : 0.984375\n",
      "validation Loss: 0.45995569229125977, val accuracy : 0.90625\n",
      "\n",
      " ------------- \n",
      "\n",
      "Time for 1000 iterations epoch :1 : 5.973814046382904 mins\n",
      "Train Loss: 0.13998252153396606 , accuracy : 0.9609375\n",
      "validation Loss: 0.3134084641933441, val accuracy : 0.94140625\n",
      "\n",
      " ------------- \n",
      "\n",
      "Time for 1200 iterations epoch :1 : 6.369326396783193 mins\n",
      "Train Loss: 0.10261207818984985 , accuracy : 0.984375\n",
      "validation Loss: 0.329933226108551, val accuracy : 0.92578125\n",
      "\n",
      " ------------- \n",
      "\n",
      "Time for 1400 iterations epoch :1 : 6.76532522837321 mins\n",
      "Train Loss: 0.1087246760725975 , accuracy : 0.984375\n",
      "validation Loss: 0.2398504763841629, val accuracy : 0.9375\n",
      "\n",
      " ------------- \n",
      "\n",
      "Time for 1600 iterations epoch :1 : 7.162565263112386 mins\n",
      "Train Loss: 0.13014738261699677 , accuracy : 0.9765625\n",
      "validation Loss: 0.23461252450942993, val accuracy : 0.92578125\n",
      "\n",
      " ------------- \n",
      "\n",
      "Time for 1800 iterations epoch :1 : 7.557902987798055 mins\n",
      "Train Loss: 0.09648261964321136 , accuracy : 0.9921875\n",
      "validation Loss: 0.3201572597026825, val accuracy : 0.9453125\n",
      "\n",
      " ------------- \n",
      "\n",
      "Time for 2000 iterations epoch :1 : 7.954659100373586 mins\n",
      "Train Loss: 0.0947251170873642 , accuracy : 0.984375\n",
      "validation Loss: 0.2487073391675949, val accuracy : 0.94140625\n"
     ]
    }
   ],
   "source": [
    "print(\"Training on all pairs!\")\n",
    "print(\"-------------------------------------\")\n",
    "train_loss=[]\n",
    "validation_loss=[]\n",
    "t_start = time.time()\n",
    "\n",
    "for epoch in range(epochs):\n",
    "    test_it=0\n",
    "    pairs_all_train[0],pairs_all_train[1],labels_all_train=shuffle(pairs_all_train[0],pairs_all_train[1],labels_all_train)\n",
    "    pairs_all_test[0],pairs_all_test[1],labels_all_test=shuffle(pairs_all_test[0],pairs_all_test[1],labels_all_test)\n",
    "    for i in range(1, n_iter+1):\n",
    "        (inputs,targets) = get_batch_all(images_all_train,pairs_all_train,labels_all_train,batch_size,i)\n",
    "        targets=np.asarray(targets)\n",
    "        loss = model.train_on_batch(inputs, targets)\n",
    "        train_loss.append(loss[0])\n",
    "        if i % evaluate_every == 0:\n",
    "            print(\"\\n ------------- \\n\")\n",
    "            print(\"Time for {0} iterations epoch :{1} : {2} mins\".format(i, epoch,(time.time()-t_start)/60.0))\n",
    "            print(f\"Train Loss: {loss[0]} , accuracy : {loss[1]}\") \n",
    "    #         val_acc = test_oneshot(model,Xval,yval,sizes_val, N_way, n_val, verbose=True)\n",
    "            (val_inputs,val_targets) = get_batch_all(images_all_test,pairs_all_test,labels_all_test,n_val,test_it)\n",
    "            test_it+=1\n",
    "            val_targets=np.asarray(val_targets)\n",
    "            val_loss= model.test_on_batch(val_inputs, val_targets)\n",
    "            validation_loss.append(val_loss[0])\n",
    "            # model.save_weights(os.path.join(model_2_path, 'weights.{}.h5'.format(i)))\n",
    "            print(f\"validation Loss: {val_loss[0]}, val accuracy : {val_loss[1]}\") "
   ]
  },
  {
   "cell_type": "code",
   "execution_count": null,
   "metadata": {
    "colab": {
     "base_uri": "https://localhost:8080/",
     "height": 282
    },
    "id": "ZNO44a9oKn4w",
    "outputId": "97f5008a-d1a3-4b81-8e75-efb1571db6c8"
   },
   "outputs": [
    {
     "data": {
      "text/plain": [
       "[<matplotlib.lines.Line2D at 0x7f2e01cadb50>]"
      ]
     },
     "execution_count": 206,
     "metadata": {},
     "output_type": "execute_result"
    },
    {
     "data": {
      "image/png": "[encoded data removed]",
      "text/plain": [
       "<Figure size 432x288 with 2 Axes>"
      ]
     },
     "metadata": {
      "needs_background": "light"
     },
     "output_type": "display_data"
    }
   ],
   "source": [
    "#plot loss\n",
    "plt.figure(1)\n",
    "plt.subplot(211)\n",
    "plt.plot(range(2, len(train_loss)),train_loss[2:])\n",
    "plt.subplot(212)\n",
    "plt.plot(range(1, len(validation_loss)+1),validation_loss)\n"
   ]
  },
  {
   "cell_type": "code",
   "execution_count": null,
   "metadata": {
    "colab": {
     "base_uri": "https://localhost:8080/"
    },
    "id": "vaS6igHkxj7Q",
    "outputId": "04df86c2-314d-4c7c-962d-e7fcc5e5ce8d"
   },
   "outputs": [
    {
     "name": "stdout",
     "output_type": "stream",
     "text": [
      "32/32 [==============================] - 1s 21ms/step - loss: 0.2699 - accuracy: 0.9450\n"
     ]
    },
    {
     "data": {
      "text/plain": [
       "[0.2699025869369507, 0.9449999928474426]"
      ]
     },
     "execution_count": 207,
     "metadata": {},
     "output_type": "execute_result"
    }
   ],
   "source": [
    "inputs,targets = get_batch_all(images_all_test,pairs_all_test,labels_all_test,1000,0)\n",
    "model.evaluate(inputs,targets )"
   ]
  },
  {
   "cell_type": "markdown",
   "metadata": {
    "id": "td3qcSvs_2N-"
   },
   "source": [
    "## Training on less represented class"
   ]
  },
  {
   "cell_type": "code",
   "execution_count": 21,
   "metadata": {
    "id": "ztkuFDEi0uZb"
   },
   "outputs": [],
   "source": [
    "less_represented={}\n",
    "for m in sizes:\n",
    "  if len(sizes[m]) <= 10:\n",
    "    less_represented[m]=sizes[m]"
   ]
  },
  {
   "cell_type": "code",
   "execution_count": 20,
   "metadata": {
    "colab": {
     "base_uri": "https://localhost:8080/"
    },
    "id": "L6_g78jV45Ji",
    "outputId": "2b6688aa-9ccd-4621-f629-5fa1807e75f1"
   },
   "outputs": [
    {
     "name": "stdout",
     "output_type": "stream",
     "text": [
      "66\n"
     ]
    }
   ],
   "source": [
    "ccc=[]\n",
    "for m in sizes:\n",
    "  if len(sizes[m]) <= 10:\n",
    "    ccc.append(m)\n",
    "print(len(ccc))"
   ]
  },
  {
   "cell_type": "code",
   "execution_count": 22,
   "metadata": {
    "id": "MIe9wlUz07k5"
   },
   "outputs": [],
   "source": [
    "# Hyper parameters\n",
    "evaluate_every = 200 # interval for evaluating on one-shot tasks\n",
    "batch_size = 32 #64#32\n",
    "n_iter = 1500 #5400 # No. of training iterations 20000\n",
    "N_way = 20 # how many classes for testing one-shot tasks\n",
    "n_val = 256 # how many one-shot tasks to validate on\n",
    "best = -1"
   ]
  },
  {
   "cell_type": "code",
   "execution_count": 23,
   "metadata": {
    "id": "wGbpxaWn2S5D"
   },
   "outputs": [],
   "source": [
    "optimizer = Adam(1e-6)\n",
    "model.compile(loss=\"binary_crossentropy\",optimizer=optimizer,metrics=['accuracy'])"
   ]
  },
  {
   "cell_type": "code",
   "execution_count": 24,
   "metadata": {
    "colab": {
     "base_uri": "https://localhost:8080/"
    },
    "id": "A4JoCm_5jbDk",
    "outputId": "9f7b9bb9-8a26-4122-ad4a-f43b884e3634"
   },
   "outputs": [
    {
     "name": "stdout",
     "output_type": "stream",
     "text": [
      "Starting training process for the less represented classes !\n",
      "-------------------------------------\n",
      "WARNING:tensorflow:From /home/asmaa/anaconda3/lib/python3.7/site-packages/keras/backend/tensorflow_backend.py:422: The name tf.global_variables is deprecated. Please use tf.compat.v1.global_variables instead.\n",
      "\n"
     ]
    },
    {
     "ename": "KeyboardInterrupt",
     "evalue": "",
     "output_type": "error",
     "traceback": [
      "\u001b[0;31m---------------------------------------------------------------------------\u001b[0m",
      "\u001b[0;31mKeyboardInterrupt\u001b[0m                         Traceback (most recent call last)",
      "\u001b[0;32m<ipython-input-24-ff005d857c1a>\u001b[0m in \u001b[0;36m<module>\u001b[0;34m\u001b[0m\n\u001b[1;32m      5\u001b[0m     \u001b[0;34m(\u001b[0m\u001b[0minputs\u001b[0m\u001b[0;34m,\u001b[0m\u001b[0mtargets\u001b[0m\u001b[0;34m)\u001b[0m \u001b[0;34m=\u001b[0m \u001b[0mcreatePairs\u001b[0m\u001b[0;34m(\u001b[0m\u001b[0mX\u001b[0m\u001b[0;34m,\u001b[0m\u001b[0my\u001b[0m\u001b[0;34m,\u001b[0m\u001b[0mless_represented\u001b[0m\u001b[0;34m,\u001b[0m\u001b[0mbatch_size\u001b[0m\u001b[0;34m)\u001b[0m\u001b[0;34m\u001b[0m\u001b[0;34m\u001b[0m\u001b[0m\n\u001b[1;32m      6\u001b[0m     \u001b[0mtargets\u001b[0m\u001b[0;34m=\u001b[0m\u001b[0mnp\u001b[0m\u001b[0;34m.\u001b[0m\u001b[0masarray\u001b[0m\u001b[0;34m(\u001b[0m\u001b[0mtargets\u001b[0m\u001b[0;34m)\u001b[0m\u001b[0;34m\u001b[0m\u001b[0;34m\u001b[0m\u001b[0m\n\u001b[0;32m----> 7\u001b[0;31m     \u001b[0mloss\u001b[0m \u001b[0;34m=\u001b[0m \u001b[0mmodel\u001b[0m\u001b[0;34m.\u001b[0m\u001b[0mtrain_on_batch\u001b[0m\u001b[0;34m(\u001b[0m\u001b[0minputs\u001b[0m\u001b[0;34m,\u001b[0m \u001b[0mtargets\u001b[0m\u001b[0;34m)\u001b[0m\u001b[0;34m\u001b[0m\u001b[0;34m\u001b[0m\u001b[0m\n\u001b[0m\u001b[1;32m      8\u001b[0m     \u001b[0;32mif\u001b[0m \u001b[0mi\u001b[0m \u001b[0;34m%\u001b[0m \u001b[0mevaluate_every\u001b[0m \u001b[0;34m==\u001b[0m \u001b[0;36m0\u001b[0m\u001b[0;34m:\u001b[0m\u001b[0;34m\u001b[0m\u001b[0;34m\u001b[0m\u001b[0m\n\u001b[1;32m      9\u001b[0m         \u001b[0mprint\u001b[0m\u001b[0;34m(\u001b[0m\u001b[0;34m\"\\n ------------- \\n\"\u001b[0m\u001b[0;34m)\u001b[0m\u001b[0;34m\u001b[0m\u001b[0;34m\u001b[0m\u001b[0m\n",
      "\u001b[0;32m~/anaconda3/lib/python3.7/site-packages/keras/engine/training.py\u001b[0m in \u001b[0;36mtrain_on_batch\u001b[0;34m(self, x, y, sample_weight, class_weight, reset_metrics)\u001b[0m\n\u001b[1;32m   1512\u001b[0m             \u001b[0mins\u001b[0m \u001b[0;34m=\u001b[0m \u001b[0mx\u001b[0m \u001b[0;34m+\u001b[0m \u001b[0my\u001b[0m \u001b[0;34m+\u001b[0m \u001b[0msample_weights\u001b[0m\u001b[0;34m\u001b[0m\u001b[0;34m\u001b[0m\u001b[0m\n\u001b[1;32m   1513\u001b[0m         \u001b[0mself\u001b[0m\u001b[0;34m.\u001b[0m\u001b[0m_make_train_function\u001b[0m\u001b[0;34m(\u001b[0m\u001b[0;34m)\u001b[0m\u001b[0;34m\u001b[0m\u001b[0;34m\u001b[0m\u001b[0m\n\u001b[0;32m-> 1514\u001b[0;31m         \u001b[0moutputs\u001b[0m \u001b[0;34m=\u001b[0m \u001b[0mself\u001b[0m\u001b[0;34m.\u001b[0m\u001b[0mtrain_function\u001b[0m\u001b[0;34m(\u001b[0m\u001b[0mins\u001b[0m\u001b[0;34m)\u001b[0m\u001b[0;34m\u001b[0m\u001b[0;34m\u001b[0m\u001b[0m\n\u001b[0m\u001b[1;32m   1515\u001b[0m \u001b[0;34m\u001b[0m\u001b[0m\n\u001b[1;32m   1516\u001b[0m         \u001b[0;32mif\u001b[0m \u001b[0mreset_metrics\u001b[0m\u001b[0;34m:\u001b[0m\u001b[0;34m\u001b[0m\u001b[0;34m\u001b[0m\u001b[0m\n",
      "\u001b[0;32m~/anaconda3/lib/python3.7/site-packages/tensorflow/python/keras/backend.py\u001b[0m in \u001b[0;36m__call__\u001b[0;34m(self, inputs)\u001b[0m\n\u001b[1;32m   3290\u001b[0m \u001b[0;34m\u001b[0m\u001b[0m\n\u001b[1;32m   3291\u001b[0m     fetched = self._callable_fn(*array_vals,\n\u001b[0;32m-> 3292\u001b[0;31m                                 run_metadata=self.run_metadata)\n\u001b[0m\u001b[1;32m   3293\u001b[0m     \u001b[0mself\u001b[0m\u001b[0;34m.\u001b[0m\u001b[0m_call_fetch_callbacks\u001b[0m\u001b[0;34m(\u001b[0m\u001b[0mfetched\u001b[0m\u001b[0;34m[\u001b[0m\u001b[0;34m-\u001b[0m\u001b[0mlen\u001b[0m\u001b[0;34m(\u001b[0m\u001b[0mself\u001b[0m\u001b[0;34m.\u001b[0m\u001b[0m_fetches\u001b[0m\u001b[0;34m)\u001b[0m\u001b[0;34m:\u001b[0m\u001b[0;34m]\u001b[0m\u001b[0;34m)\u001b[0m\u001b[0;34m\u001b[0m\u001b[0;34m\u001b[0m\u001b[0m\n\u001b[1;32m   3294\u001b[0m     output_structure = nest.pack_sequence_as(\n",
      "\u001b[0;32m~/anaconda3/lib/python3.7/site-packages/tensorflow/python/client/session.py\u001b[0m in \u001b[0;36m__call__\u001b[0;34m(self, *args, **kwargs)\u001b[0m\n\u001b[1;32m   1456\u001b[0m         ret = tf_session.TF_SessionRunCallable(self._session._session,\n\u001b[1;32m   1457\u001b[0m                                                \u001b[0mself\u001b[0m\u001b[0;34m.\u001b[0m\u001b[0m_handle\u001b[0m\u001b[0;34m,\u001b[0m \u001b[0margs\u001b[0m\u001b[0;34m,\u001b[0m\u001b[0;34m\u001b[0m\u001b[0;34m\u001b[0m\u001b[0m\n\u001b[0;32m-> 1458\u001b[0;31m                                                run_metadata_ptr)\n\u001b[0m\u001b[1;32m   1459\u001b[0m         \u001b[0;32mif\u001b[0m \u001b[0mrun_metadata\u001b[0m\u001b[0;34m:\u001b[0m\u001b[0;34m\u001b[0m\u001b[0;34m\u001b[0m\u001b[0m\n\u001b[1;32m   1460\u001b[0m           \u001b[0mproto_data\u001b[0m \u001b[0;34m=\u001b[0m \u001b[0mtf_session\u001b[0m\u001b[0;34m.\u001b[0m\u001b[0mTF_GetBuffer\u001b[0m\u001b[0;34m(\u001b[0m\u001b[0mrun_metadata_ptr\u001b[0m\u001b[0;34m)\u001b[0m\u001b[0;34m\u001b[0m\u001b[0;34m\u001b[0m\u001b[0m\n",
      "\u001b[0;31mKeyboardInterrupt\u001b[0m: "
     ]
    }
   ],
   "source": [
    "print(\"Starting training process for the less represented classes !\")\n",
    "print(\"-------------------------------------\")\n",
    "t_start = time.time()\n",
    "for i in range(1, n_iter+1):\n",
    "    (inputs,targets) = createPairs(X,y,less_represented,batch_size)\n",
    "    targets=np.asarray(targets)\n",
    "    loss = model.train_on_batch(inputs, targets)\n",
    "    if i % evaluate_every == 0:\n",
    "        print(\"\\n ------------- \\n\")\n",
    "        print(\"Time for {0} iterations: {1} mins\".format(i, (time.time()-t_start)/60.0))\n",
    "        print(\"Train Loss: {0}, accuracy : {1}\".format(loss[0],loss[1])) \n",
    "#         val_acc = test_oneshot(model,Xval,yval,sizes_val, N_way, n_val, verbose=True)\n",
    "        val_acc = test_accuracy_score(n_val,Xval,yval,anchor_img,anchor_label,model,sizes_val)\n",
    "        # model.save_weights(os.path.join(model_2_path, 'weights.{}.h5'.format(i)))\n",
    "        if val_acc >= best:\n",
    "            print(\"Current best: {0}, previous best: {1}\".format(val_acc, best))\n",
    "            best = val_acc"
   ]
  },
  {
   "cell_type": "markdown",
   "metadata": {
    "id": "jcTZ3HHJjbDp"
   },
   "source": [
    "## loading model from weights"
   ]
  },
  {
   "cell_type": "code",
   "execution_count": null,
   "metadata": {
    "id": "Yt8pqshBxKcQ"
   },
   "outputs": [],
   "source": [
    "# model_path="
   ]
  },
  {
   "cell_type": "code",
   "execution_count": 51,
   "metadata": {
    "id": "GDa3cYDdLmfB"
   },
   "outputs": [],
   "source": [
    "# model.save_weights(os.path.join(data_path, 'weights_finetuned.h5'))"
   ]
  },
  {
   "cell_type": "code",
   "execution_count": 25,
   "metadata": {
    "id": "5XSzGDRhjbDr"
   },
   "outputs": [],
   "source": [
    "model.load_weights(os.path.join(data_path,'weights_finetuned.h5'))"
   ]
  },
  {
   "cell_type": "markdown",
   "metadata": {
    "id": "uBhAHSjiuntr"
   },
   "source": [
    "# language model"
   ]
  },
  {
   "cell_type": "code",
   "execution_count": null,
   "metadata": {
    "id": "903NR4MWuntr"
   },
   "outputs": [],
   "source": [
    "# !pip install ipynb"
   ]
  },
  {
   "cell_type": "code",
   "execution_count": 176,
   "metadata": {
    "id": "ZfVttM_Nunts"
   },
   "outputs": [],
   "source": [
    "from collections import Counter, defaultdict\n",
    "def lm_next(model,prev):\n",
    "    pred = dict( eval('model'+ str(prev)))\n",
    "    next_scores = sorted(pred.items(), key=lambda item: item[1],reverse=True)\n",
    "    out = dict(next_scores)\n",
    "    if len(list(out.keys()))==0:\n",
    "        out ={'None':0}\n",
    "    return out"
   ]
  },
  {
   "cell_type": "code",
   "execution_count": 215,
   "metadata": {
    "id": "5aymN-okunts"
   },
   "outputs": [],
   "source": [
    "import dill as pickle\n",
    "with open(\"language_model_sent.pkl\", \"rb\") as f:\n",
    "    language_model = pickle.load(f)"
   ]
  },
  {
   "cell_type": "code",
   "execution_count": 180,
   "metadata": {
    "id": "C_pLa7vpunts"
   },
   "outputs": [],
   "source": [
    "import dill as pickle\n",
    "with open(\"lm_sentences.pickle\", \"rb\") as f:\n",
    "    sentences = pickle.load(f)"
   ]
  },
  {
   "cell_type": "code",
   "execution_count": 218,
   "metadata": {
    "id": "BWgvAe_huntu"
   },
   "outputs": [],
   "source": [
    "def choose_next(clf_3,score_3,language_model,prev):\n",
    "#     print(\"prev\",str(prev))\n",
    "    \n",
    "    freq=lm_next(language_model,prev)\n",
    "#     print(freq)\n",
    "    freq_3=[]\n",
    "    for pred in clf_3:\n",
    "        if pred in freq.keys():\n",
    "            freq_3.append(freq[pred])\n",
    "        else:\n",
    "            freq_3.append(0)\n",
    "    freq_3=np.array(freq_3)\n",
    "    score_3 =np.array(score_3).flatten()\n",
    "    \n",
    "#     freq_3_sum = freq_3/np.sum(freq_3)\n",
    "#     print(score_3.flatten())\n",
    "    score_3_sum = score_3 / np.sum(score_3)\n",
    "#     score_3_exp = np.exp(score_3)/sum(np.exp(score_3))\n",
    "    freq_3_exp = np.exp(freq_3)/sum(np.exp(freq_3))\n",
    "    \n",
    "#     print(freq_3)\n",
    "    \n",
    "    scores = score_3_sum + freq_3_exp\n",
    "#     print('scores : ',scores)\n",
    "    predicted=clf_3[np.argmax(scores)]\n",
    "    print(f\"clf predicted : {clf_3[-1]} lm freq max : {list(freq.items())[0]} final :{predicted}\")\n",
    "    print(clf_3)\n",
    "#     print('act',score_3)\n",
    "# #     print('exp',score_3_exp)\n",
    "    print('sum',score_3_sum)\n",
    "#     print('frq',freq_3)\n",
    "    print('frE',freq_3_exp)\n",
    "#     print('frS',freq_3_sum)\n",
    "    return predicted"
   ]
  },
  {
   "cell_type": "code",
   "execution_count": 216,
   "metadata": {
    "id": "gpBfXT800k_M"
   },
   "outputs": [],
   "source": [
    "def predict_lm(Xtest,anchor_img,anchor_label,model,language_model,sizes):\n",
    "    preds=[]\n",
    "    for new in Xtest:\n",
    "        if len(preds) < 1 :\n",
    "            predicted,anchor_imgs,targets=whichGlyph(model,new,anchor_img,anchor_label)\n",
    "            sort_index = np.argsort(np.asarray(predicted).reshape(len(predicted),))\n",
    "            targ=targets[sort_index[-1]]\n",
    "#             print(targ)\n",
    "            if targ =='UNKNOWN':\n",
    "                targ=targets[sort_index[-2]] \n",
    "            preds.append(targ)\n",
    "        else:\n",
    "            predicted,anchor_imgs,targets=whichGlyph(model,new,anchor_img,anchor_label)\n",
    "            sort_index = np.argsort(np.asarray(predicted).reshape(len(predicted),))\n",
    "#             print('target : ',targets[sort_index[-1:]])\n",
    "            predicted = choose_next(targets[sort_index[-3:]],predicted[sort_index[-3:]],language_model,preds[-1:])\n",
    "            preds.append(predicted)\n",
    "    return preds\n"
   ]
  },
  {
   "cell_type": "code",
   "execution_count": 195,
   "metadata": {
    "id": "xmiyLTkr6R26"
   },
   "outputs": [],
   "source": [
    "def test_lm(Xtest,ytest,anchor_img,anchor_label,model,language_model,sizes):\n",
    "    preds=predict_lm(Xtest,anchor_img,anchor_label,model,language_model,sizes)\n",
    "    preds=np.asarray(preds)\n",
    "    ytest=np.asarray(ytest)\n",
    "    accuracy = sum(preds==ytest)/len(ytest)\n",
    "    return accuracy"
   ]
  },
  {
   "cell_type": "code",
   "execution_count": 206,
   "metadata": {},
   "outputs": [],
   "source": [
    "# test_sentences\n",
    "test_sentences = np.random.choice(np.asarray(sentences),replace=False, size=500)"
   ]
  },
  {
   "cell_type": "code",
   "execution_count": null,
   "metadata": {},
   "outputs": [],
   "source": [
    "t_start = time.time()\n",
    "\n",
    "count=0\n",
    "correct=0\n",
    "i=0\n",
    "for word in test_sentences[:10]:\n",
    "    i+=1\n",
    "    image_lm_test=[]\n",
    "    for w in word:\n",
    "        count+=1\n",
    "        ind = np.random.choice(sizes_val[w])\n",
    "        image_lm_test.append(Xval[ind])\n",
    "    print(\"word = \",np.asarray(word).flatten())\n",
    "#     accuracy=test_lm(image_lm_test,word,anchor_img,anchor_label,model,language_model,sizes)\n",
    "    preds=predict_lm(image_lm_test,anchor_img,anchor_label,model,language_model,sizes_val)\n",
    "    preds=np.asarray(preds)\n",
    "    correct+=sum(preds==np.asarray(word))\n",
    "    if i%25 == 0:\n",
    "        print(correct/count)\n",
    "        print(\"{0} sentences took {1} mins\".format(i,(time.time()-t_start)/60.0))\n",
    "#     accuracies.append(accuracy)\n",
    "# print(\"accuracy fn took {0} mins\".format((time.time()-t_start)/60.0))"
   ]
  },
  {
   "cell_type": "code",
   "execution_count": 211,
   "metadata": {},
   "outputs": [
    {
     "name": "stdout",
     "output_type": "stream",
     "text": [
      "454\n",
      "528\n"
     ]
    },
    {
     "data": {
      "text/plain": [
       "0.8598484848484849"
      ]
     },
     "execution_count": 211,
     "metadata": {},
     "output_type": "execute_result"
    }
   ],
   "source": [
    "lm_acc=correct/count\n",
    "print(correct)\n",
    "print(count)\n",
    "lm_acc"
   ]
  },
  {
   "cell_type": "code",
   "execution_count": 212,
   "metadata": {},
   "outputs": [
    {
     "name": "stdout",
     "output_type": "stream",
     "text": [
      "0.8145695364238411\n",
      "25 sentences took 46.65953124364217 mins\n",
      "0.853448275862069\n",
      "50 sentences took 48.69984651406606 mins\n",
      "0.8640776699029126\n",
      "75 sentences took 50.38660619656245 mins\n",
      "0.8586626139817629\n",
      "100 sentences took 51.88933554093043 mins\n",
      "0.8725490196078431\n",
      "125 sentences took 53.531908754507704 mins\n",
      "0.8673366834170855\n",
      "150 sentences took 55.37787359158198 mins\n",
      "0.8674377224199288\n",
      "175 sentences took 56.67834332386653 mins\n",
      "0.869701726844584\n",
      "200 sentences took 58.621795082092284 mins\n",
      "0.870434183321847\n",
      "225 sentences took 60.628129756450654 mins\n",
      "0.8710888610763454\n",
      "250 sentences took 62.49302504857381 mins\n",
      "0.8729805013927576\n",
      "275 sentences took 65.04668684005738 mins\n",
      "0.8688775510204082\n",
      "300 sentences took 66.81143745581309 mins\n",
      "0.8691369606003753\n",
      "325 sentences took 68.73073494036993 mins\n",
      "0.8680494263018534\n",
      "350 sentences took 70.20641403198242 mins\n",
      "0.8698347107438017\n",
      "375 sentences took 71.83479903141658 mins\n",
      "0.8707799767171129\n",
      "400 sentences took 73.46743058760961 mins\n",
      "0.8713814584096738\n",
      "425 sentences took 75.0652067899704 mins\n",
      "0.8682842287694974\n",
      "450 sentences took 76.77966507275899 mins\n",
      "0.8675213675213675\n",
      "475 sentences took 78.44746717611949 mins\n",
      "0.8679479231246126\n",
      "500 sentences took 80.39925425847372 mins\n"
     ]
    }
   ],
   "source": [
    "t_start = time.time()\n",
    "count=0\n",
    "correct=0\n",
    "i=0\n",
    "for word in test_sentences :\n",
    "    i+=1\n",
    "    for w in word:\n",
    "        count+=1\n",
    "        ind = np.random.choice(sizes_val[w])\n",
    "        predicted,anchor_imgs,targets=whichGlyph(model,Xval[ind],anchor_img,anchor_label)\n",
    "        pred=targets[ np.argmax(predicted)]\n",
    "        if pred == yval[ind]:\n",
    "            correct+=1\n",
    "    if i%25 == 0:\n",
    "        print(correct/count)\n",
    "        print(\"{0} sentences took {1} mins\".format(i,(time.time()-t_start)/60.0))\n",
    "accuracy=correct/count"
   ]
  },
  {
   "cell_type": "code",
   "execution_count": 214,
   "metadata": {
    "id": "uqngYdIbUVmk"
   },
   "outputs": [
    {
     "data": {
      "text/plain": [
       "0.8679479231246126"
      ]
     },
     "execution_count": 214,
     "metadata": {},
     "output_type": "execute_result"
    }
   ],
   "source": [
    "accuracy"
   ]
  },
  {
   "cell_type": "code",
   "execution_count": 207,
   "metadata": {
    "id": "ibv1_h0ABJWg",
    "outputId": "b4012c01-d6cf-48d1-8a3c-9bae7b843c1f"
   },
   "outputs": [
    {
     "data": {
      "text/plain": [
       "3226"
      ]
     },
     "execution_count": 207,
     "metadata": {},
     "output_type": "execute_result"
    }
   ],
   "source": [
    "count=0\n",
    "for sent in test_sentences:\n",
    "    count+=len(sent)\n",
    "count"
   ]
  },
  {
   "cell_type": "markdown",
   "metadata": {
    "id": "qOhbMPWfBJ2D"
   },
   "source": [
    "## Multi anchor array"
   ]
  },
  {
   "cell_type": "code",
   "execution_count": 37,
   "metadata": {
    "id": "tdP0sccj306G"
   },
   "outputs": [],
   "source": [
    "def create_multi_anchor(N,X,sizes):\n",
    "  multi_anchor_img=[]\n",
    "  multi_anchor_label=[]\n",
    "  for n in range(N):\n",
    "    anchor_img, anchor_label=create_glyphlist(X,sizes)\n",
    "    multi_anchor_img.append(anchor_img)\n",
    "    multi_anchor_label.append(anchor_label)\n",
    "  return np.asarray(multi_anchor_img),np.asarray(multi_anchor_label)"
   ]
  },
  {
   "cell_type": "code",
   "execution_count": null,
   "metadata": {
    "id": "ebqC6Jor7vRt"
   },
   "outputs": [],
   "source": [
    "multi_anchor_img,multi_anchor_label=create_multi_anchor(3,X,sizes)"
   ]
  },
  {
   "cell_type": "code",
   "execution_count": null,
   "metadata": {
    "colab": {
     "base_uri": "https://localhost:8080/"
    },
    "id": "K_rwy8RwGwzD",
    "outputId": "6808a576-d7bd-4dd8-af92-82cacd1fd125"
   },
   "outputs": [
    {
     "data": {
      "text/plain": [
       "array([ 3,  7, 12])"
      ]
     },
     "execution_count": 53,
     "metadata": {},
     "output_type": "execute_result"
    }
   ],
   "source": []
  },
  {
   "cell_type": "code",
   "execution_count": 38,
   "metadata": {
    "id": "aj6UDcss7rZp"
   },
   "outputs": [],
   "source": [
    "def test_multi_anchor_random(N,Xval,yval,multi_anchor_img,multi_anchor_label,model,sizes):\n",
    "  count_first=0\n",
    "  multi_N=multi_anchor_img.shape[0]\n",
    "  final_scores=np.zeros((multi_anchor_label[0].shape[0],1))\n",
    "  for i in range(N):\n",
    "    if i%100 == 0:\n",
    "      print(\"test \",i)\n",
    "    random_key = random.choice(list(sizes))\n",
    "    ind = np.random.choice(sizes[random_key])\n",
    "    # print(yval[ind][0])\n",
    "    for j in range(multi_N):\n",
    "      predicted,anchor_imgs,targets=whichGlyph(model,Xval[ind],multi_anchor_img[j],multi_anchor_label[j])\n",
    "      zipped_lists = zip(targets,predicted)\n",
    "      sorted_pairs = sorted(zipped_lists)\n",
    "      tuples = zip(*sorted_pairs)\n",
    "      targets,predicted = [ list(tuple) for tuple in  tuples]\n",
    "      # print(targets[:3],\" - \",predicted[:3])\n",
    "      final_scores = np.asarray(final_scores) + np.asarray(predicted)\n",
    "\n",
    "    final_pred = targets[np.argmax(final_scores)]\n",
    "    # print(final_pred ,'  - ', yval[ind][0],' - ',count_first)\n",
    "    if final_pred == yval[ind][0]:\n",
    "        count_first+=1\n",
    "    final_scores=np.zeros((multi_anchor_label[0].shape[0],1))\n",
    "    \n",
    "  percent_correct = (100.0 * count_first / N)\n",
    "  return percent_correct\n",
    "\n"
   ]
  },
  {
   "cell_type": "code",
   "execution_count": null,
   "metadata": {
    "colab": {
     "base_uri": "https://localhost:8080/"
    },
    "id": "ubUXaG1ixPhe",
    "outputId": "d430cc94-c706-4cbd-da98-5ae31fc2259c"
   },
   "outputs": [
    {
     "name": "stdout",
     "output_type": "stream",
     "text": [
      "test  0\n",
      "test  100\n",
      "test  200\n",
      "test  300\n",
      "test  400\n",
      "test  500\n",
      "test  600\n",
      "test  700\n",
      "test  800\n",
      "test  900\n",
      "testing:\n",
      "found first accuracy with multi anchors = 63.2\n",
      "accuracy fn took 6.661158684889475 mins\n"
     ]
    }
   ],
   "source": [
    "t_start = time.time()\n",
    "acc=test_multi_anchor_random(1000,Xval,yval,multi_anchor_img,multi_anchor_label,model,sizes_val)\n",
    "print(f'testing:\\nfound first accuracy with multi anchors = {acc}')\n",
    "print(\"accuracy fn took {0} mins\".format((time.time()-t_start)/60.0))"
   ]
  },
  {
   "cell_type": "code",
   "execution_count": null,
   "metadata": {
    "id": "iNrKRHu2y3us"
   },
   "outputs": [],
   "source": [
    "\n",
    "    # print(m,\":\",len(sizes[m]))"
   ]
  },
  {
   "cell_type": "markdown",
   "metadata": {
    "id": "heS2B6tcuntu"
   },
   "source": [
    "# Some Testing"
   ]
  },
  {
   "cell_type": "code",
   "execution_count": 50,
   "metadata": {
    "colab": {
     "base_uri": "https://localhost:8080/"
    },
    "id": "GmLQ6lVYjbDt",
    "outputId": "f6a70741-a932-44f1-c705-e5e2dab68199",
    "scrolled": true
   },
   "outputs": [
    {
     "name": "stdout",
     "output_type": "stream",
     "text": [
      "testing:\n",
      "found first accuracy = 0.6518 , first 3 accuracy = 0.8574\n",
      "accuracy fn took 26.547106484572094 mins\n"
     ]
    }
   ],
   "source": [
    "t_start = time.time()\n",
    "acc1,acc3=calc_accuracy(1000,Xval,yval,anchor_img,anchor_label,model,sizes_val)\n",
    "print(f'testing:\\nfound first accuracy = {acc1} , first 3 accuracy = {acc3}')\n",
    "print(\"accuracy fn took {0} mins\".format((time.time()-t_start)/60.0))"
   ]
  },
  {
   "cell_type": "code",
   "execution_count": null,
   "metadata": {
    "colab": {
     "base_uri": "https://localhost:8080/"
    },
    "id": "NdtRB3qAjbDw",
    "outputId": "616b2116-9157-41c4-a5d1-bc86573330c7",
    "scrolled": false
   },
   "outputs": [
    {
     "name": "stdout",
     "output_type": "stream",
     "text": [
      "training:\n",
      "found first accuracy = 0.996 , first 3 accuracy = 1.0 \n",
      "accuracy fn took 0.5483039061228434 mins\n"
     ]
    }
   ],
   "source": [
    "t_start = time.time()\n",
    "acc1,acc3=calc_accuracy(250,X,y,anchor_img,anchor_label,model,sizes)\n",
    "print(f'training:\\nfound first accuracy = {acc1} , first 3 accuracy = {acc3} ')\n",
    "print(\"accuracy fn took {0} mins\".format((time.time()-t_start)/60.0))"
   ]
  },
  {
   "cell_type": "code",
   "execution_count": 52,
   "metadata": {
    "colab": {
     "base_uri": "https://localhost:8080/"
    },
    "id": "W4Ci6fRSuntv",
    "outputId": "c50537cd-f3e9-4a68-cb66-965ce9f4a1bb"
   },
   "outputs": [
    {
     "name": "stdout",
     "output_type": "stream",
     "text": [
      "accuracy fn took 26.517513191699983 mins\n"
     ]
    }
   ],
   "source": [
    "t_start = time.time()\n",
    "y_pred,y_true= predict_random(1000,Xval,yval,anchor_img,anchor_label,model,sizes_val)\n",
    "print(\"accuracy fn took {0} mins\".format((time.time()-t_start)/60.0))"
   ]
  },
  {
   "cell_type": "code",
   "execution_count": 69,
   "metadata": {
    "colab": {
     "base_uri": "https://localhost:8080/"
    },
    "id": "_mG4v2a9yeTU",
    "outputId": "262b4746-3c53-43aa-d18c-60af0ad97764"
   },
   "outputs": [
    {
     "data": {
      "text/plain": [
       "[729, 2737]"
      ]
     },
     "execution_count": 69,
     "metadata": {},
     "output_type": "execute_result"
    }
   ],
   "source": [
    "sizes['M40']"
   ]
  },
  {
   "cell_type": "code",
   "execution_count": 76,
   "metadata": {
    "colab": {
     "base_uri": "https://localhost:8080/",
     "height": 285
    },
    "id": "zwPJ-iSv_ZKf",
    "outputId": "058ae616-6a91-46d3-d526-7e218f144f25"
   },
   "outputs": [
    {
     "data": {
      "text/plain": [
       "<matplotlib.image.AxesImage at 0x7f97ee97f210>"
      ]
     },
     "execution_count": 76,
     "metadata": {},
     "output_type": "execute_result"
    },
    {
     "data": {
      "image/png": "[encoded data removed]",
      "text/plain": [
       "<Figure size 432x288 with 1 Axes>"
      ]
     },
     "metadata": {
      "needs_background": "light"
     },
     "output_type": "display_data"
    }
   ],
   "source": [
    "sizes_val['M40']\n",
    "plt.imshow(X[1114],cmap='gray')"
   ]
  },
  {
   "cell_type": "code",
   "execution_count": 60,
   "metadata": {
    "colab": {
     "base_uri": "https://localhost:8080/"
    },
    "id": "Jb2dVv2Vxvxj",
    "outputId": "051d5680-0788-4178-cae4-f6aee18f56c7"
   },
   "outputs": [
    {
     "data": {
      "text/plain": [
       "array([dict_keys(['N14', 'G4', 'M20', 'N17', 'O49', 'Z11', 'F18', 'T22', 'X8', 'O28', 'G37', 'Y3', 'N36', 'V24', 'S24', 'F13', 'V4', 'P1', 'M41', 'V30', 'Q7', 'F9', 'M1', 'H6', 'M12', 'O31', 'F31', 'O4', 'U28', 'G29', 'Aa15', 'M44', 'G26', 'G7', 'W11', 'E9', 'T20', 'F16', 'E1', 'M16', 'S28', 'D19', 'D52', 'F35', 'M42', 'F4', 'W18', 'N30', 'R4', 'M8', 'W25', 'U7', 'E23', 'Z7', 'W19', 'F34', 'L1', 'D54', 'V7', 'F26', 'M18', 'M40', 'D10', 'G40', 'U15', 'D156', 'D1', 'Y5', 'S34', 'T30', 'D39', 'F40', 'D60', 'N41', 'Aa27', 'P6', 'Y2', 'P98', 'D56', 'Aa26', 'N25', 'T21', 'V6', 'M29', 'T28', 'W22', 'M3', 'M195', 'G36', 'G14', 'G21'])],\n",
       "      dtype=object)"
      ]
     },
     "execution_count": 60,
     "metadata": {},
     "output_type": "execute_result"
    }
   ],
   "source": [
    "np.array(less_represented.keys()).flatten()"
   ]
  },
  {
   "cell_type": "code",
   "execution_count": 53,
   "metadata": {
    "colab": {
     "base_uri": "https://localhost:8080/"
    },
    "id": "dwJIsMhQuntw",
    "outputId": "c95907be-35d3-4f80-fa15-4c000ac049f4"
   },
   "outputs": [
    {
     "name": "stdout",
     "output_type": "stream",
     "text": [
      "              precision    recall  f1-score   support\n",
      "\n",
      "        Aa15       0.95      1.00      0.97        86\n",
      "        Aa26       1.00      1.00      1.00        68\n",
      "        Aa27       0.56      1.00      0.72        81\n",
      "          D1       0.00      0.00      0.00        85\n",
      "         D10       0.00      0.00      0.00        75\n",
      "        D156       1.00      1.00      1.00        83\n",
      "         D19       0.00      0.00      0.00        52\n",
      "          D2       0.80      0.87      0.83        85\n",
      "         D21       1.00      0.84      0.92        77\n",
      "         D28       1.00      0.63      0.78        82\n",
      "         D35       1.00      1.00      1.00        61\n",
      "         D36       0.95      0.83      0.89        70\n",
      "         D39       0.97      1.00      0.99        67\n",
      "          D4       0.80      1.00      0.89        66\n",
      "         D46       0.56      0.86      0.68        78\n",
      "         D52       0.91      1.00      0.95        74\n",
      "         D54       1.00      1.00      1.00        71\n",
      "         D56       0.00      0.00      0.00        63\n",
      "         D58       0.39      0.74      0.51        76\n",
      "         D60       1.00      0.55      0.71        74\n",
      "          E1       1.00      1.00      1.00        64\n",
      "         E23       1.00      0.76      0.86        70\n",
      "         E34       0.92      1.00      0.96        84\n",
      "          E9       1.00      1.00      1.00        77\n",
      "         F13       1.00      1.00      1.00        86\n",
      "         F16       1.00      1.00      1.00        74\n",
      "         F18       1.00      0.58      0.73        78\n",
      "         F26       0.99      1.00      0.99        79\n",
      "         F31       1.00      0.48      0.65        66\n",
      "         F34       1.00      0.73      0.84        70\n",
      "         F35       0.00      0.00      0.00        66\n",
      "          F4       1.00      1.00      1.00        73\n",
      "         F40       1.00      1.00      1.00        80\n",
      "          F9       0.00      0.00      0.00        84\n",
      "          G1       0.26      0.43      0.32        77\n",
      "         G14       0.00      0.00      0.00        90\n",
      "         G17       0.43      0.95      0.59        85\n",
      "         G21       0.00      0.00      0.00        72\n",
      "         G25       1.00      0.75      0.86        77\n",
      "         G26       0.00      0.00      0.00        66\n",
      "         G29       0.53      1.00      0.69        85\n",
      "         G35       0.67      0.41      0.51        71\n",
      "         G36       1.00      1.00      1.00        72\n",
      "         G37       0.00      0.00      0.00        67\n",
      "         G39       0.96      0.60      0.74        91\n",
      "          G4       0.83      0.49      0.61        80\n",
      "         G40       1.00      1.00      1.00        60\n",
      "         G43       0.87      1.00      0.93        72\n",
      "          G5       0.28      0.96      0.43        68\n",
      "          G7       0.96      0.73      0.83        64\n",
      "          H6       1.00      0.49      0.65        68\n",
      "         I10       0.99      1.00      0.99        92\n",
      "          I9       0.29      1.00      0.45        63\n",
      "          L1       0.00      0.00      0.00        69\n",
      "          M1       0.98      1.00      0.99        81\n",
      "         M12       0.00      0.00      0.00        64\n",
      "         M16       1.00      1.00      1.00        82\n",
      "         M17       0.72      0.92      0.81        63\n",
      "         M18       0.95      0.23      0.37        79\n",
      "        M195       0.00      0.00      0.00        78\n",
      "         M20       1.00      1.00      1.00        63\n",
      "         M23       1.00      1.00      1.00        69\n",
      "         M29       0.00      0.00      0.00        45\n",
      "          M3       0.00      0.00      0.00        72\n",
      "         M40       0.00      0.00      0.00        76\n",
      "         M41       0.92      1.00      0.96        67\n",
      "         M42       0.69      1.00      0.81        59\n",
      "         M44       0.00      0.00      0.00        77\n",
      "          M8       0.00      0.00      0.00        74\n",
      "          N1       1.00      0.60      0.75        77\n",
      "         N14       1.00      1.00      1.00        75\n",
      "         N17       0.00      0.00      0.00        81\n",
      "         N18       0.13      0.65      0.22        81\n",
      "         N25       1.00      1.00      1.00        85\n",
      "         N29       0.90      0.18      0.30       101\n",
      "         N30       1.00      1.00      1.00        60\n",
      "         N31       1.00      1.00      1.00        68\n",
      "         N35       0.50      0.94      0.65        80\n",
      "         N36       0.00      0.00      0.00        64\n",
      "         N37       0.29      0.63      0.40        75\n",
      "         N41       0.00      0.00      0.00        84\n",
      "          N5       0.92      0.62      0.74        73\n",
      "          O1       0.36      1.00      0.53        55\n",
      "         O28       0.52      1.00      0.68        69\n",
      "         O31       0.00      0.00      0.00        69\n",
      "         O34       0.96      1.00      0.98        67\n",
      "          O4       0.51      1.00      0.68        79\n",
      "         O49       1.00      1.00      1.00        77\n",
      "         O50       0.38      0.81      0.52        77\n",
      "          P1       1.00      1.00      1.00        71\n",
      "          P6       0.41      1.00      0.58        59\n",
      "          P8       0.15      0.33      0.21        66\n",
      "         P98       0.44      1.00      0.61        58\n",
      "          Q1       0.66      1.00      0.80        66\n",
      "          Q3       0.17      0.97      0.29        89\n",
      "          Q7       1.00      1.00      1.00        80\n",
      "          R4       1.00      1.00      1.00        83\n",
      "          R8       0.20      1.00      0.34        56\n",
      "         S24       0.00      0.00      0.00        71\n",
      "         S28       1.00      1.00      1.00        73\n",
      "         S29       0.73      1.00      0.84        81\n",
      "         S34       1.00      1.00      1.00        78\n",
      "         T20       1.00      1.00      1.00        76\n",
      "         T21       1.00      1.00      1.00        75\n",
      "         T22       0.00      0.00      0.00        79\n",
      "         T28       0.00      0.00      0.00        76\n",
      "         T30       0.00      0.00      0.00        76\n",
      "          U1       1.00      1.00      1.00        82\n",
      "         U15       0.89      1.00      0.94        76\n",
      "         U28       0.00      0.00      0.00        69\n",
      "         U33       0.66      0.56      0.60        79\n",
      "          U7       0.00      0.00      0.00        93\n",
      "     UNKNOWN       0.00      0.00      0.00        63\n",
      "         V13       0.65      1.00      0.78        71\n",
      "         V24       0.99      1.00      0.99        75\n",
      "         V28       0.93      1.00      0.96        76\n",
      "         V30       0.00      0.00      0.00        84\n",
      "         V31       0.38      0.86      0.53        83\n",
      "          V4       0.62      0.69      0.65        80\n",
      "          V6       0.00      0.00      0.00        78\n",
      "          V7       1.00      1.00      1.00        64\n",
      "         W11       0.00      0.00      0.00        57\n",
      "         W18       1.00      0.57      0.73        75\n",
      "         W19       1.00      1.00      1.00        75\n",
      "         W22       0.00      0.00      0.00        77\n",
      "         W24       0.35      0.63      0.45        71\n",
      "         W25       1.00      1.00      1.00        87\n",
      "          X1       0.97      0.82      0.89        91\n",
      "          X8       1.00      0.53      0.70        73\n",
      "          Y2       0.00      0.00      0.00        77\n",
      "          Y3       1.00      1.00      1.00        61\n",
      "          Y5       0.99      1.00      0.99        83\n",
      "          Z1       1.00      1.00      1.00        78\n",
      "         Z11       1.00      0.62      0.77        72\n",
      "          Z7       1.00      1.00      1.00        77\n",
      "\n",
      "    accuracy                           0.65     10000\n",
      "   macro avg       0.61      0.65      0.60     10000\n",
      "weighted avg       0.62      0.65      0.61     10000\n",
      "\n"
     ]
    },
    {
     "name": "stderr",
     "output_type": "stream",
     "text": [
      "/usr/local/lib/python3.7/dist-packages/sklearn/metrics/_classification.py:1308: UndefinedMetricWarning: Precision and F-score are ill-defined and being set to 0.0 in labels with no predicted samples. Use `zero_division` parameter to control this behavior.\n",
      "  _warn_prf(average, modifier, msg_start, len(result))\n",
      "/usr/local/lib/python3.7/dist-packages/sklearn/metrics/_classification.py:1308: UndefinedMetricWarning: Precision and F-score are ill-defined and being set to 0.0 in labels with no predicted samples. Use `zero_division` parameter to control this behavior.\n",
      "  _warn_prf(average, modifier, msg_start, len(result))\n",
      "/usr/local/lib/python3.7/dist-packages/sklearn/metrics/_classification.py:1308: UndefinedMetricWarning: Precision and F-score are ill-defined and being set to 0.0 in labels with no predicted samples. Use `zero_division` parameter to control this behavior.\n",
      "  _warn_prf(average, modifier, msg_start, len(result))\n"
     ]
    }
   ],
   "source": [
    "# confusion_matrix = pd.crosstab(index=y_true, columns=y_pred, rownames=['True'], colnames=['predictions']).astype(int)\n",
    "# sns.heatmap(confusion_matrix, annot=True, fmt='.2f', cmap=\"YlGnBu\").set_title('Confusion Matrix')\n",
    "print(classification_report(y_true,y_pred))"
   ]
  },
  {
   "cell_type": "code",
   "execution_count": null,
   "metadata": {
    "colab": {
     "base_uri": "https://localhost:8080/"
    },
    "id": "X4Xa-BGqPzgQ",
    "outputId": "b116be19-2a5f-4926-ff80-cfc8cb6932dc"
   },
   "outputs": [
    {
     "data": {
      "text/plain": [
       "(125,)"
      ]
     },
     "execution_count": 158,
     "metadata": {},
     "output_type": "execute_result"
    }
   ],
   "source": [
    "y[y=='UNKNOWN'].shape"
   ]
  },
  {
   "cell_type": "code",
   "execution_count": null,
   "metadata": {
    "id": "poAicP_njbDx"
   },
   "outputs": [],
   "source": [
    "# t_start = time.time()\n",
    "# print(calc_accuracy(1,Xval,yval,anchor_img,anchor_label,model))\n",
    "# print(\"accuracy fn took {0} sec\".format((time.time()-t_start)))"
   ]
  },
  {
   "cell_type": "markdown",
   "metadata": {
    "id": "beW1a29IjbDz"
   },
   "source": [
    "### Testing new images"
   ]
  },
  {
   "cell_type": "code",
   "execution_count": null,
   "metadata": {
    "id": "JF4kj__Cunty"
   },
   "outputs": [],
   "source": [
    "def preprocess(img):\n",
    "    if len(img.shape) == 3 and img.shape[2]==3:\n",
    "        img = cv2.cvtColor(img, cv2.COLOR_BGR2GRAY)\n",
    "        \n",
    "    img = cv2.resize(img,(50,75))\n",
    "    return img"
   ]
  },
  {
   "cell_type": "code",
   "execution_count": null,
   "metadata": {
    "id": "hrLEK0fejbDz",
    "outputId": "53ef323a-f1ba-4b3d-9a23-ca7b4fce6a66",
    "scrolled": false
   },
   "outputs": [
    {
     "name": "stdout",
     "output_type": "stream",
     "text": [
      "(75, 50)\n"
     ]
    },
    {
     "data": {
      "text/plain": [
       "<matplotlib.image.AxesImage at 0x7f9021d10450>"
      ]
     },
     "execution_count": 187,
     "metadata": {},
     "output_type": "execute_result"
    },
    {
     "data": {
      "image/png": "[encoded data removed]",
      "text/plain": [
       "<Figure size 432x288 with 1 Axes>"
      ]
     },
     "metadata": {
      "needs_background": "light"
     },
     "output_type": "display_data"
    }
   ],
   "source": [
    "test_img1=io.imread('3.jpg')\n",
    "test_img1=preprocess(test_img1)\n",
    "print(test_img1.shape)\n",
    "io.imshow(test_img1)\n"
   ]
  },
  {
   "cell_type": "code",
   "execution_count": null,
   "metadata": {
    "id": "YZerd3l3untz",
    "outputId": "7cd6dfca-6118-4754-f9f7-6a97f8a237b2"
   },
   "outputs": [
    {
     "name": "stdout",
     "output_type": "stream",
     "text": [
      "X1\n"
     ]
    },
    {
     "data": {
      "text/plain": [
       "array(['U33', 'Q1', 'Y3', 'D39', 'N17', 'G29', 'G26', 'M23', 'Z1', 'M40',\n",
       "       'D21', 'W18', 'T30', 'F34', 'G7', 'M12', 'W24', 'G39', 'M20',\n",
       "       'N25', 'V7', 'D2', 'Y2', 'E34', 'E23', 'G40', 'N5', 'N18', 'G37',\n",
       "       'W25', 'F18', 'D60', 'T20', 'G1', 'V28', 'N35', 'U1', 'N41',\n",
       "       'M195', 'D56', 'D10', 'Q3', 'G36', 'D28', 'T21', 'W11', 'G25',\n",
       "       'F31', 'E9', 'Q7', 'O34', 'M17', 'I10', 'Y5', 'V24', 'N30', 'X8',\n",
       "       'S24', 'M41', 'N14', 'UNKNOWN', 'G35', 'S28', 'P6', 'X1', 'V30',\n",
       "       'N29', 'Z7', 'R8', 'D156', 'V4', 'F16', 'D58', 'N31', 'G14', 'G17',\n",
       "       'F13', 'F4', 'P98', 'D46', 'V31', 'G4', 'F9', 'D35', 'M1', 'O50',\n",
       "       'O4', 'F35', 'P8', 'O31', 'S34', 'D4', 'M16', 'R4', 'O28', 'M3',\n",
       "       'N36', 'Z11', 'N1', 'D36', 'D1', 'W22', 'D52', 'O49', 'M29', 'D19',\n",
       "       'V6', 'U15', 'F26', 'G5', 'M44', 'M42', 'G43', 'U7', 'N37', 'T22',\n",
       "       'H6', 'L1', 'E1', 'S29', 'I9', 'Aa27', 'T28', 'G21', 'M8', 'U28',\n",
       "       'O1', 'Aa26', 'Aa15', 'F40', 'W19', 'P1', 'M18', 'D54', 'V13'],\n",
       "      dtype='<U7')"
      ]
     },
     "execution_count": 195,
     "metadata": {},
     "output_type": "execute_result"
    }
   ],
   "source": [
    "print(targets[64])\n",
    "targets"
   ]
  },
  {
   "cell_type": "code",
   "execution_count": null,
   "metadata": {
    "id": "1Lic7m0Quntz",
    "outputId": "33210212-e0e0-43f0-ce61-ffa038241d44"
   },
   "outputs": [
    {
     "data": {
      "text/plain": [
       "array([0.65185916], dtype=float32)"
      ]
     },
     "execution_count": 197,
     "metadata": {},
     "output_type": "execute_result"
    }
   ],
   "source": [
    "predicted[100]"
   ]
  },
  {
   "cell_type": "code",
   "execution_count": null,
   "metadata": {
    "id": "9ZplSFXGjbD3"
   },
   "outputs": [],
   "source": [
    "predicted,anchor_imgs,targets=whichGlyph(model,test_img1.reshape(75,50,1),anchor_img,anchor_label)"
   ]
  },
  {
   "cell_type": "code",
   "execution_count": null,
   "metadata": {
    "id": "sBjp6Mgvunt0",
    "outputId": "ac73d447-99dd-4a25-dc20-e592194a706b"
   },
   "outputs": [
    {
     "data": {
      "text/plain": [
       "array([ 57,  22,  39, 121, 116,  20,  97, 125,  30,  62,  90,  15, 110,\n",
       "        98,  29, 130,  50, 104,  93,  92, 111,   5,  86,  37,  56,  76,\n",
       "       106,  59,  31,  83, 115, 122,  73, 134,  34,  44,  88,  72,  27,\n",
       "         1, 107,  65,  87,  32,  89,  95,  55,  67, 133,  77,  94, 129,\n",
       "       114,  38,  81,  49, 101,  11,   0,  63, 131, 132, 117,  19,  54,\n",
       "        91, 127,   4, 108,  70,  99,  69,  46,  28,  84,   6,   2,  17,\n",
       "       126, 113,  78,  40,  51, 124,  74,  79, 103,   3, 128,   7,   9,\n",
       "         8,  24, 118,  43,  47,  35,  96,  18,  82, 119, 120, 105,  13,\n",
       "        36, 102,  68,  66,  48,  42,  21,  61,  33,  25,  10,  52,  71,\n",
       "        64, 109,  23,  75,  53,  14,  60,  12,  45, 123, 112,  80,  26,\n",
       "        85,  58,  41,  16, 100])"
      ]
     },
     "execution_count": 172,
     "metadata": {},
     "output_type": "execute_result"
    }
   ],
   "source": [
    "sort_index = np.argsort(np.asarray(predicted).reshape(len(predicted),))\n",
    "sort_index "
   ]
  },
  {
   "cell_type": "code",
   "execution_count": null,
   "metadata": {
    "id": "Xas8Egtzunt1",
    "outputId": "f6e5d690-82e8-472f-c34d-cd271e20286a"
   },
   "outputs": [
    {
     "data": {
      "text/plain": [
       "<matplotlib.image.AxesImage at 0x7f9021c8af50>"
      ]
     },
     "execution_count": 198,
     "metadata": {},
     "output_type": "execute_result"
    },
    {
     "data": {
      "image/png": "[encoded data removed]",
      "text/plain": [
       "<Figure size 432x288 with 1 Axes>"
      ]
     },
     "metadata": {
      "needs_background": "light"
     },
     "output_type": "display_data"
    }
   ],
   "source": [
    "io.imshow(anchor_imgs[100].reshape(75,50))"
   ]
  },
  {
   "cell_type": "code",
   "execution_count": null,
   "metadata": {
    "id": "PIEwqh2Hunt1"
   },
   "outputs": [],
   "source": []
  }
 ],
 "metadata": {
  "colab": {
   "collapsed_sections": [],
   "name": "oneshot_learning.ipynb",
   "provenance": []
  },
  "kernelspec": {
   "display_name": "Python 3",
   "language": "python",
   "name": "python3"
  },
  "language_info": {
   "codemirror_mode": {
    "name": "ipython",
    "version": 3
   },
   "file_extension": ".py",
   "mimetype": "text/x-python",
   "name": "python",
   "nbconvert_exporter": "python",
   "pygments_lexer": "ipython3",
   "version": "3.7.6"
  }
 },
 "nbformat": 4,
 "nbformat_minor": 1
}
