{
  "nbformat": 4,
  "nbformat_minor": 0,
  "metadata": {
    "colab": {
      "name": "oneshot learning.ipynb",
      "provenance": [],
      "collapsed_sections": []
    },
    "kernelspec": {
      "display_name": "Python 3",
      "language": "python",
      "name": "python3"
    },
    "language_info": {
      "codemirror_mode": {
        "name": "ipython",
        "version": 3
      },
      "file_extension": ".py",
      "mimetype": "text/x-python",
      "name": "python",
      "nbconvert_exporter": "python",
      "pygments_lexer": "ipython3",
      "version": "3.7.6"
    },
    "accelerator": "GPU"
  },
  "cells": [
    {
      "cell_type": "code",
      "metadata": {
        "id": "S9EUfmmBja-_"
      },
      "source": [
        "import os\n",
        "import pandas as pd\n",
        "import numpy as np\n",
        "import random\n",
        "import matplotlib.pyplot as plt\n",
        "import seaborn as sns\n",
        "import cv2\n",
        "\n",
        "import skimage.io as io\n",
        "import pickle\n",
        "\n",
        "import time\n",
        "\n",
        "from sklearn.utils import shuffle\n",
        "from sklearn.model_selection import train_test_split\n",
        "\n",
        "import tensorflow as tf\n",
        "from keras.models import Sequential\n",
        "#for colab\n",
        "from tensorflow.keras.optimizers import Adam\n",
        "\n",
        "# from keras.optimizers import Adam\n",
        "from keras.layers import Conv2D, ZeroPadding2D, Activation, Input, concatenate\n",
        "from keras.models import Model\n",
        "\n",
        "from tensorflow.keras.layers import BatchNormalization,Dropout\n",
        "from keras.layers.pooling import MaxPooling2D\n",
        "from keras.layers.merge import Concatenate\n",
        "from keras.layers.core import Lambda, Flatten, Dense\n",
        "from keras.initializers import glorot_uniform\n",
        "\n",
        "from tensorflow.keras.layers import Layer\n",
        "from keras.regularizers import l2\n",
        "from keras import backend as K\n",
        "\n",
        "from tensorflow.keras.applications.inception_v3 import InceptionV3\n",
        "# from tensorflow.keras.preprocessing import image\n",
        "# from tensorflow.keras.models import Model\n",
        "# from tensorflow.keras.layers import Dense, GlobalAveragePooling2D\n",
        "\n",
        "from sklearn.metrics import confusion_matrix, classification_report\n"
      ],
      "execution_count": 197,
      "outputs": []
    },
    {
      "cell_type": "markdown",
      "metadata": {
        "id": "XXwbeZYYjbAJ"
      },
      "source": [
        "# Loading data\n",
        "a function that loads the images locations and labels.<br>\n",
        "input: the data path.<br>\n",
        "output:<br>\n",
        "&emsp;&emsp;dataHiero -> a dataframe with index= location of images and label= their labels <br>\n",
        "&emsp;&emsp;img_groups -> a dictionary in the shape of { \"label\" : [array of locations of images labeled with this label] }"
      ]
    },
    {
      "cell_type": "code",
      "metadata": {
        "id": "noWbwGlLjbAY"
      },
      "source": [
        "path=\"../GlyphDataset/Dataset/Manual/Preprocessed/\"\n",
        "\n",
        "def loadData(folderPictures=path):\n",
        "    \n",
        "    folders=next(os.walk(folderPictures))[1]\n",
        "    img_groups = {}\n",
        "    img_list={}\n",
        "\n",
        "    for folder in folders:\n",
        "        for img_file in os.listdir(folderPictures+folder):\n",
        "            name, label = img_file.strip('.png').split(\"_\")\n",
        "            \n",
        "            \n",
        "            # One image per class\n",
        "\n",
        "            #if label not in img_groups.keys():\n",
        "            #    img_groups[label] = [folder + \"_\" + name]\n",
        "\n",
        "\n",
        "            # Multiple images per class\n",
        "\n",
        "            if label in img_groups.keys():\n",
        "                img_groups[label].append(folder+\"_\"+name)\n",
        "            else:\n",
        "                img_groups[label] = [folder+\"_\"+name]\n",
        "\n",
        "            img_list[folder+\"_\"+name]=[label]\n",
        "\n",
        "\n",
        "    # Remove class with only one hieroglyph\n",
        "\n",
        "\n",
        "    for k,v in list(img_groups.items()):\n",
        "        if len(v)==1: del img_groups[k]\n",
        "\n",
        "    # Extract only N hieroglyph classes randomly\n",
        "\n",
        "    nclass = len(img_groups.keys())\n",
        "\n",
        "    list_of_class = random.sample(list(img_groups.keys()), nclass)\n",
        "#     print(list_of_class)\n",
        "\n",
        "    short_dico = {x: img_groups[x] for x in list_of_class if x in img_groups}\n",
        "\n",
        "    dataHiero=pd.DataFrame.from_dict(img_list,orient='index')\n",
        "    dataHiero.columns = [\"label\"]\n",
        "    dataHiero = dataHiero[dataHiero.label != 'UNKNOWN']\n",
        "\n",
        "    dataHiero = dataHiero.loc[dataHiero['label'].isin(short_dico)]\n",
        "\n",
        "\n",
        "    dataHiero.reset_index(level=0, inplace=True)\n",
        "\n",
        "    return dataHiero,img_groups"
      ],
      "execution_count": null,
      "outputs": []
    },
    {
      "cell_type": "markdown",
      "metadata": {
        "id": "_CaZM8DxjbAp"
      },
      "source": [
        "a function that takes the image groups and load those images<br>\n",
        "input: img_proups dictionary<br>\n",
        "output:<br>\n",
        "&emsp;&emsp;X -> np array of the images<br>\n",
        "&emsp;&emsp;y -> np array of labels<br>\n",
        "&emsp;&emsp;glyph_sizes -> a dictionary in the form of {'label' : (starting index, ending index in X and y)}\n"
      ]
    },
    {
      "cell_type": "code",
      "metadata": {
        "id": "xO2UaDgTjbAu"
      },
      "source": [
        "def read_images(img_groups,path):\n",
        "    X=[]\n",
        "    y=[]\n",
        "    glyph_sizes={}\n",
        "    low=0\n",
        "    for glyph in img_groups:\n",
        "        category_images=[]\n",
        "        high=low\n",
        "        for img_path in img_groups[glyph] :\n",
        "            folder,name = img_path.split('_')\n",
        "            image = io.imread(path+folder+'/'+name+'_'+glyph+'.png')\n",
        "            X.append(image)\n",
        "            y.append(glyph)\n",
        "            high+=1\n",
        "#         X.append(np.array(category_images))\n",
        "        glyph_sizes[glyph]=(low,high-1)\n",
        "        low=high\n",
        "        \n",
        "    return np.array(X),np.array(y).reshape((-1,1)),glyph_sizes\n",
        "            \n",
        "    "
      ],
      "execution_count": null,
      "outputs": []
    },
    {
      "cell_type": "code",
      "metadata": {
        "id": "vwJdv81wuntL"
      },
      "source": [
        ""
      ],
      "execution_count": null,
      "outputs": []
    },
    {
      "cell_type": "code",
      "metadata": {
        "colab": {
          "base_uri": "https://localhost:8080/",
          "height": 324
        },
        "id": "IYwf13e4jbA3",
        "outputId": "40164a56-2bf4-4e9f-9e17-823f4146688c"
      },
      "source": [
        "dataHiero,img_groups=loadData(folderPictures=path)\n",
        "dataHiero.head()\n",
        "# img_groups"
      ],
      "execution_count": null,
      "outputs": [
        {
          "data": {
            "text/html": [
              "<div>\n",
              "<style scoped>\n",
              "    .dataframe tbody tr th:only-of-type {\n",
              "        vertical-align: middle;\n",
              "    }\n",
              "\n",
              "    .dataframe tbody tr th {\n",
              "        vertical-align: top;\n",
              "    }\n",
              "\n",
              "    .dataframe thead th {\n",
              "        text-align: right;\n",
              "    }\n",
              "</style>\n",
              "<table border=\"1\" class=\"dataframe\">\n",
              "  <thead>\n",
              "    <tr style=\"text-align: right;\">\n",
              "      <th></th>\n",
              "      <th>index</th>\n",
              "      <th>label</th>\n",
              "    </tr>\n",
              "  </thead>\n",
              "  <tbody>\n",
              "    <tr>\n",
              "      <th>0</th>\n",
              "      <td>39_390115</td>\n",
              "      <td>D21</td>\n",
              "    </tr>\n",
              "    <tr>\n",
              "      <th>1</th>\n",
              "      <td>39_390082</td>\n",
              "      <td>M17</td>\n",
              "    </tr>\n",
              "    <tr>\n",
              "      <th>2</th>\n",
              "      <td>39_390292</td>\n",
              "      <td>V31</td>\n",
              "    </tr>\n",
              "    <tr>\n",
              "      <th>3</th>\n",
              "      <td>39_390375</td>\n",
              "      <td>U15</td>\n",
              "    </tr>\n",
              "    <tr>\n",
              "      <th>4</th>\n",
              "      <td>39_390175</td>\n",
              "      <td>D35</td>\n",
              "    </tr>\n",
              "  </tbody>\n",
              "</table>\n",
              "</div>"
            ],
            "text/plain": [
              "       index label\n",
              "0  39_390115   D21\n",
              "1  39_390082   M17\n",
              "2  39_390292   V31\n",
              "3  39_390375   U15\n",
              "4  39_390175   D35"
            ]
          },
          "execution_count": 11,
          "metadata": {},
          "output_type": "execute_result"
        }
      ]
    },
    {
      "cell_type": "code",
      "metadata": {
        "id": "-j6RWKkrjbA6"
      },
      "source": [
        "X,y,sizes=read_images(img_groups,path)"
      ],
      "execution_count": null,
      "outputs": []
    },
    {
      "cell_type": "code",
      "metadata": {
        "id": "6dtSHq2CuntN",
        "outputId": "ece1fc39-78e5-44e5-afce-2d02122bff05"
      },
      "source": [
        "len(np.unique(y))"
      ],
      "execution_count": null,
      "outputs": [
        {
          "data": {
            "text/plain": [
              "135"
            ]
          },
          "execution_count": 27,
          "metadata": {},
          "output_type": "execute_result"
        }
      ]
    },
    {
      "cell_type": "code",
      "metadata": {
        "id": "kNTAe8oQjbBG",
        "scrolled": true,
        "outputId": "a030e446-b195-4481-b03e-2b201b17045f"
      },
      "source": [
        "type(X)\n",
        "print(y.shape)\n",
        "print(X.shape)\n",
        "sizes['D21'][1]"
      ],
      "execution_count": null,
      "outputs": [
        {
          "name": "stdout",
          "output_type": "stream",
          "text": [
            "(2921, 1)\n",
            "(2921, 75, 50)\n"
          ]
        },
        {
          "data": {
            "text/plain": [
              "5"
            ]
          },
          "execution_count": 25,
          "metadata": {},
          "output_type": "execute_result"
        }
      ]
    },
    {
      "cell_type": "markdown",
      "metadata": {
        "id": "hjQdogROjbBI"
      },
      "source": [
        "saving the images into a pickle"
      ]
    },
    {
      "cell_type": "code",
      "metadata": {
        "id": "Br2-Xm7bjbBb"
      },
      "source": [
        "#train val split\n",
        "X_train, X_test, y_train, y_test = train_test_split(X, y, test_size=0.3,stratify=y, random_state=42)"
      ],
      "execution_count": null,
      "outputs": []
    },
    {
      "cell_type": "code",
      "metadata": {
        "id": "h19VDNyjuntR",
        "outputId": "778d602a-b24b-4c4e-fa9b-0f5260984105"
      },
      "source": [
        "X_test.shape"
      ],
      "execution_count": null,
      "outputs": [
        {
          "data": {
            "text/plain": [
              "(1252, 75, 50)"
            ]
          },
          "execution_count": 24,
          "metadata": {},
          "output_type": "execute_result"
        }
      ]
    },
    {
      "cell_type": "code",
      "metadata": {
        "id": "lPS8xCJPjbBh"
      },
      "source": [
        "def get_sizes(X,Y):\n",
        "    sizes={}\n",
        "    for i ,(x,y) in enumerate(zip(X,Y)):\n",
        "#         print(i,x,y)\n",
        "        if y[0] in sizes:\n",
        "            sizes[y[0]].append(i)\n",
        "        else:\n",
        "            sizes[y[0]]=[i]\n",
        "    return sizes\n",
        "    "
      ],
      "execution_count": null,
      "outputs": []
    },
    {
      "cell_type": "code",
      "metadata": {
        "id": "sG1c9UUHjbBi"
      },
      "source": [
        "sizes=get_sizes(X_train,y_train)\n",
        "X=X_train\n",
        "y=y_train"
      ],
      "execution_count": null,
      "outputs": []
    },
    {
      "cell_type": "code",
      "metadata": {
        "id": "bbrU-fAkjbBn"
      },
      "source": [
        "#saving data as pickle\n",
        "with open(\"train.pickle\", \"wb\") as f:\n",
        "    pickle.dump((X,y,sizes),f)"
      ],
      "execution_count": null,
      "outputs": []
    },
    {
      "cell_type": "code",
      "metadata": {
        "id": "x4szlW2XjbBo"
      },
      "source": [
        "sizes_val=get_sizes(X_test,y_test)\n",
        "Xval=X_test\n",
        "yval=y_test"
      ],
      "execution_count": null,
      "outputs": []
    },
    {
      "cell_type": "code",
      "metadata": {
        "id": "NkrX6IOujbBp"
      },
      "source": [
        "#saving data as pickle\n",
        "with open(\"test.pickle\", \"wb\") as f:\n",
        "    pickle.dump((Xval,yval,sizes_val),f)"
      ],
      "execution_count": null,
      "outputs": []
    },
    {
      "cell_type": "markdown",
      "metadata": {
        "id": "PLsdlmINTx6R"
      },
      "source": [
        "**Creating all pairs**"
      ]
    },
    {
      "cell_type": "code",
      "metadata": {
        "id": "cUfovN9vjbBw"
      },
      "source": [
        "def create_all_pairs(X,y):\n",
        "    n=y.shape[0]\n",
        "    _,w,h=X.shape\n",
        "    input1_ind=[]\n",
        "    input2_ind=[]\n",
        "    label=[]\n",
        "    for i in range(n):\n",
        "        for j in range(i+1,n):\n",
        "            if y[i] == y[j]:\n",
        "                  label.append(1)\n",
        "            else:\n",
        "                label.append(0)\n",
        "\n",
        "            input1_ind.append(i)\n",
        "            input2_ind.append(j)\n",
        "\n",
        "\n",
        "\n",
        "    label=np.asarray(label)\n",
        "    input1,input2,label = shuffle(input1_ind,input2_ind,label)\n",
        "    pairs=[input1,input2]\n",
        "\n",
        "    return X,np.asarray(pairs),np.asarray(label)"
      ],
      "execution_count": 99,
      "outputs": []
    },
    {
      "cell_type": "code",
      "metadata": {
        "id": "oO1idzHuVvIH"
      },
      "source": [
        "images_all_train,pairs_all_train,labels_all_train=create_all_pairs(X,y)"
      ],
      "execution_count": 100,
      "outputs": []
    },
    {
      "cell_type": "code",
      "metadata": {
        "id": "VlhOr26j1B26"
      },
      "source": [
        "images_all_test,pairs_all_test,labels_all_test=create_all_pairs(Xval,yval)"
      ],
      "execution_count": 101,
      "outputs": []
    },
    {
      "cell_type": "code",
      "metadata": {
        "colab": {
          "base_uri": "https://localhost:8080/"
        },
        "id": "cJTd3vY_3DEu",
        "outputId": "f5dbbcc5-b22a-41aa-c92c-f5c5b9d3bc3d"
      },
      "source": [
        "print(pairs_all_test.shape)\n",
        "pairs_all_train.shape"
      ],
      "execution_count": 102,
      "outputs": [
        {
          "output_type": "stream",
          "name": "stdout",
          "text": [
            "(2, 783126)\n"
          ]
        },
        {
          "output_type": "execute_result",
          "data": {
            "text/plain": [
              "(2, 4264660)"
            ]
          },
          "metadata": {},
          "execution_count": 102
        }
      ]
    },
    {
      "cell_type": "code",
      "metadata": {
        "colab": {
          "base_uri": "https://localhost:8080/"
        },
        "id": "7bMw1KqJgz_F",
        "outputId": "d7b43e0c-6747-4f11-8100-2821c273926a"
      },
      "source": [
        "print(labels_all_train[labels_all_train==0].shape)\n",
        "labels_all_train[labels_all_train==1].shape"
      ],
      "execution_count": 103,
      "outputs": [
        {
          "output_type": "stream",
          "name": "stdout",
          "text": [
            "(4090789,)\n"
          ]
        },
        {
          "output_type": "execute_result",
          "data": {
            "text/plain": [
              "(173871,)"
            ]
          },
          "metadata": {},
          "execution_count": 103
        }
      ]
    },
    {
      "cell_type": "code",
      "metadata": {
        "id": "uwGMn6z1gz6q"
      },
      "source": [
        "with open(data_path+\"pairs_all_train.pickle\", \"wb\") as f:\n",
        "    pickle.dump((images_all_train,pairs_all_train,labels_all_train),f)"
      ],
      "execution_count": 104,
      "outputs": []
    },
    {
      "cell_type": "code",
      "metadata": {
        "id": "dGbIqJY11VBu"
      },
      "source": [
        "with open(data_path+\"pairs_all_test.pickle\", \"wb\") as f:\n",
        "    pickle.dump((images_all_test,pairs_all_test,labels_all_test),f)"
      ],
      "execution_count": 105,
      "outputs": []
    },
    {
      "cell_type": "markdown",
      "metadata": {
        "id": "jtd7kUY6jbBx"
      },
      "source": [
        "# reading the Data with pickle"
      ]
    },
    {
      "cell_type": "code",
      "metadata": {
        "id": "XVz6vsHZ4SeJ"
      },
      "source": [
        "#colab\n",
        "data_path= '/content/drive/MyDrive/hiero_cv/'\n",
        "#local|\n",
        "# data_path='./'"
      ],
      "execution_count": 2,
      "outputs": []
    },
    {
      "cell_type": "code",
      "metadata": {
        "colab": {
          "base_uri": "https://localhost:8080/"
        },
        "id": "UdKimrvevHWM",
        "outputId": "4ae93435-99ea-4c84-c7fc-81cbc6c5c5f1"
      },
      "source": [
        "from google.colab import drive\n",
        "drive.mount('/content/drive')"
      ],
      "execution_count": 3,
      "outputs": [
        {
          "output_type": "stream",
          "name": "stdout",
          "text": [
            "Mounted at /content/drive\n"
          ]
        }
      ]
    },
    {
      "cell_type": "code",
      "metadata": {
        "id": "9ZPC6wKrjbB4"
      },
      "source": [
        "with open(data_path+\"train.pickle\", \"rb\") as f:\n",
        "    (X,y,sizes) = pickle.load(f)"
      ],
      "execution_count": 4,
      "outputs": []
    },
    {
      "cell_type": "code",
      "metadata": {
        "id": "lOstoN_vjbB7"
      },
      "source": [
        "with open(data_path+\"test.pickle\", \"rb\") as f:\n",
        "    (Xval,yval,sizes_val) = pickle.load(f)"
      ],
      "execution_count": 5,
      "outputs": []
    },
    {
      "cell_type": "code",
      "metadata": {
        "id": "EmdcIQiwpDLV"
      },
      "source": [
        "# from google.colab import drive\n",
        "# drive.mount('/content/drive')"
      ],
      "execution_count": 6,
      "outputs": []
    },
    {
      "cell_type": "code",
      "metadata": {
        "id": "E47lfQCBRt-t"
      },
      "source": [
        "#read all pairs train\n",
        "with open(data_path+\"pairs_all_train.pickle\", \"rb\") as f:\n",
        "    (images_all_train,pairs_all_train,labels_all_train) = pickle.load(f)"
      ],
      "execution_count": 71,
      "outputs": []
    },
    {
      "cell_type": "code",
      "metadata": {
        "id": "grt9vg3J1cq4"
      },
      "source": [
        "#read all pairs test\n",
        "with open(data_path+\"pairs_all_test.pickle\", \"rb\") as f:\n",
        "    (images_all_test,pairs_all_test,labels_all_test) = pickle.load(f)"
      ],
      "execution_count": 72,
      "outputs": []
    },
    {
      "cell_type": "code",
      "metadata": {
        "colab": {
          "base_uri": "https://localhost:8080/"
        },
        "id": "pGGfzez1Oitc",
        "outputId": "a0f20619-8482-479b-cc56-add503ba3aa0"
      },
      "source": [
        "labels_all_train.shape"
      ],
      "execution_count": 73,
      "outputs": [
        {
          "output_type": "execute_result",
          "data": {
            "text/plain": [
              "(4264660,)"
            ]
          },
          "metadata": {},
          "execution_count": 73
        }
      ]
    },
    {
      "cell_type": "markdown",
      "metadata": {
        "id": "GcwSOPsVSWXI"
      },
      "source": [
        "# The Model"
      ]
    },
    {
      "cell_type": "code",
      "metadata": {
        "id": "JpR7qVOCjbCX"
      },
      "source": [
        "def get_siamese_model(input_shape):\n",
        "    \"\"\"\n",
        "        Model architecture based on the one provided in: http://www.cs.utoronto.ca/~gkoch/files/msc-thesis.pdf\n",
        "    \"\"\"\n",
        "    \n",
        "    # Define the tensors for the two input images\n",
        "    left_input = Input(input_shape,name='Input_1')\n",
        "    right_input = Input(input_shape,name='Input_2')\n",
        "    \n",
        "    # Convolutional Neural Network\n",
        "    model = Sequential(name='CNN')\n",
        "    model.add(Conv2D(64, (3,3), activation='relu', input_shape=input_shape, kernel_regularizer=l2(2e-4)))\n",
        "    model.add(MaxPooling2D())\n",
        "    model.add(Conv2D(64, (3,3), activation='relu', kernel_regularizer=l2(2e-4)))\n",
        "    model.add(MaxPooling2D())\n",
        "    model.add(Conv2D(128, (4,4), activation='relu', kernel_regularizer=l2(2e-4)))\n",
        "    model.add(MaxPooling2D())\n",
        "    model.add(Conv2D(256, (4,4), activation='relu',  kernel_regularizer=l2(2e-4)))\n",
        "    model.add(Flatten())\n",
        "\n",
        "    model.add(Dense(4096, activation='relu',\n",
        "                   kernel_regularizer=l2(1e-3)))\n",
        "    # model.add(Dropout(0.2))\n",
        "    # Generate the encodings (feature vectors) for the two images\n",
        "    encoded_l = model(left_input)\n",
        "    encoded_r = model(right_input)\n",
        "    \n",
        "    # Add a customized layer to compute the absolute difference between the encodings\n",
        "    L1_layer = Lambda(lambda tensors:K.abs(tensors[0] - tensors[1]),name='Subtract')\n",
        "    \n",
        "    L1_distance = L1_layer([encoded_l, encoded_r])\n",
        "    L1_distance = Dense(512,activation='relu',kernel_regularizer=l2(1e-3),name='Dense_1')(L1_distance)\n",
        "    L1_distance = Dense(256,activation='relu',kernel_regularizer=l2(1e-3),name='Dense_2')(L1_distance)\n",
        "    # Add a dense layer with a sigmoid unit to generate the similarity score\n",
        "\n",
        "    prediction = Dense(1,activation='sigmoid',name='Output')(L1_distance)\n",
        "\n",
        "    \n",
        "    \n",
        "    # prediction = Lambda(cosine_distance, output_shape=1)([encoded_l, encoded_r])\n",
        "    # Connect the inputs with the outputs\n",
        "    siamese_net = Model(inputs=[left_input,right_input],outputs=prediction)\n",
        "    \n",
        "    # return the model\n",
        "    return siamese_net"
      ],
      "execution_count": 251,
      "outputs": []
    },
    {
      "cell_type": "code",
      "metadata": {
        "colab": {
          "base_uri": "https://localhost:8080/"
        },
        "id": "4MtvWYCyjbCb",
        "scrolled": true,
        "outputId": "01390114-5e2a-46bd-ad80-4830f39c266d"
      },
      "source": [
        "model = get_siamese_model((75, 50, 1))\n",
        "model.summary()"
      ],
      "execution_count": 252,
      "outputs": [
        {
          "output_type": "stream",
          "name": "stdout",
          "text": [
            "Model: \"model_14\"\n",
            "__________________________________________________________________________________________________\n",
            " Layer (type)                   Output Shape         Param #     Connected to                     \n",
            "==================================================================================================\n",
            " Input_1 (InputLayer)           [(None, 75, 50, 1)]  0           []                               \n",
            "                                                                                                  \n",
            " Input_2 (InputLayer)           [(None, 75, 50, 1)]  0           []                               \n",
            "                                                                                                  \n",
            " CNN (Sequential)               (None, 4096)         4891712     ['Input_1[0][0]',                \n",
            "                                                                  'Input_2[0][0]']                \n",
            "                                                                                                  \n",
            " Subtract (Lambda)              (None, 4096)         0           ['CNN[0][0]',                    \n",
            "                                                                  'CNN[1][0]']                    \n",
            "                                                                                                  \n",
            " Dense_1 (Dense)                (None, 512)          2097664     ['Subtract[0][0]']               \n",
            "                                                                                                  \n",
            " Dense_2 (Dense)                (None, 256)          131328      ['Dense_1[0][0]']                \n",
            "                                                                                                  \n",
            " Output (Dense)                 (None, 1)            257         ['Dense_2[0][0]']                \n",
            "                                                                                                  \n",
            "==================================================================================================\n",
            "Total params: 7,120,961\n",
            "Trainable params: 7,120,961\n",
            "Non-trainable params: 0\n",
            "__________________________________________________________________________________________________\n"
          ]
        }
      ]
    },
    {
      "cell_type": "code",
      "metadata": {
        "colab": {
          "base_uri": "https://localhost:8080/"
        },
        "id": "FpDd_9CWjbCd",
        "scrolled": true,
        "outputId": "d476e94c-d90a-451d-a64e-93f3cd9c8721"
      },
      "source": [
        "optimizer = Adam(lr = 0.001)\n",
        "model.compile(loss=\"binary_crossentropy\",optimizer=optimizer,metrics=['accuracy'])"
      ],
      "execution_count": 253,
      "outputs": [
        {
          "output_type": "stream",
          "name": "stderr",
          "text": [
            "/usr/local/lib/python3.7/dist-packages/keras/optimizer_v2/adam.py:105: UserWarning: The `lr` argument is deprecated, use `learning_rate` instead.\n",
            "  super(Adam, self).__init__(name, **kwargs)\n"
          ]
        }
      ]
    },
    {
      "cell_type": "code",
      "metadata": {
        "colab": {
          "base_uri": "https://localhost:8080/",
          "height": 564
        },
        "id": "QV5x1y6Funtd",
        "outputId": "7d328b15-5c3b-4ad3-975d-0122b7d02fa8"
      },
      "source": [
        "tf.keras.utils.plot_model(\n",
        "    model, to_file='model.png',\n",
        "    show_layer_names=True, rankdir='TB'\n",
        ")\n",
        "\n"
      ],
      "execution_count": 31,
      "outputs": [
        {
          "output_type": "execute_result",
          "data": {
            "image/png": "[encoded data removed]",
            "text/plain": [
              "<IPython.core.display.Image object>"
            ]
          },
          "metadata": {},
          "execution_count": 31
        }
      ]
    },
    {
      "cell_type": "code",
      "metadata": {
        "id": "VgD8wnmQunte"
      },
      "source": [
        ""
      ],
      "execution_count": null,
      "outputs": []
    },
    {
      "cell_type": "markdown",
      "metadata": {
        "id": "9CIl_GyLSiz6"
      },
      "source": [
        "# Functions"
      ]
    },
    {
      "cell_type": "markdown",
      "metadata": {
        "id": "tUBHJas8jbCf"
      },
      "source": [
        "## a function to predict which glyph"
      ]
    },
    {
      "cell_type": "code",
      "metadata": {
        "id": "Kua3lTs3jbCf"
      },
      "source": [
        "def create_glyphlist(X,sizes):\n",
        "    images=[]\n",
        "    labels=[]\n",
        "    _,w,h=X.shape\n",
        "    for glyph in sizes:\n",
        "        # index=sizes[glyph][0]\n",
        "        if glyph != 'UNKNOWN':\n",
        "            index = np.random.choice(sizes[glyph])\n",
        "            images.append(X[index].reshape( w , h, 1))\n",
        "            labels.append(glyph)\n",
        "    return np.asarray(images), np.asarray(labels) "
      ],
      "execution_count": 13,
      "outputs": []
    },
    {
      "cell_type": "code",
      "metadata": {
        "id": "DTWwXWyBjbCn"
      },
      "source": [
        "anchor_img, anchor_label=create_glyphlist(X,sizes)"
      ],
      "execution_count": 14,
      "outputs": []
    },
    {
      "cell_type": "markdown",
      "metadata": {
        "id": "mTbJ8qWountf"
      },
      "source": [
        "**a function that create pairs from the image that we want to test and the anchor list**"
      ]
    },
    {
      "cell_type": "code",
      "metadata": {
        "id": "cj5krLHkjbCo"
      },
      "source": [
        "def whichGlyph_pair(image,anchor_img,anchor_label):\n",
        "    N,w,h,_=anchor_img.shape\n",
        "#     pairs=[np.zeros((N, w, h,1)) for i in range(2)]\n",
        "    \n",
        "    test_image= np.asarray([image]*N).reshape(N, w, h,1)\n",
        "    \n",
        "    anchor_label, test_image, anchor_img = shuffle(anchor_label, test_image, anchor_img)\n",
        "#     pairs = [test_image,anchor_img]\n",
        "    \n",
        "    return test_image, anchor_img, anchor_label\n",
        "    "
      ],
      "execution_count": 15,
      "outputs": []
    },
    {
      "cell_type": "markdown",
      "metadata": {
        "id": "BVoEbZhhuntg"
      },
      "source": [
        "**a funnction that compairs the image with each character from the anchor list and outputs the propabilities.**"
      ]
    },
    {
      "cell_type": "code",
      "metadata": {
        "id": "e6a5mx_MjbCq"
      },
      "source": [
        "def whichGlyph(model,image,anchor_img,anchor_label):\n",
        "    test_image,anchor_img,targets = whichGlyph_pair(image,anchor_img,anchor_label)\n",
        "    probs = model.predict([test_image,anchor_img])\n",
        "    return probs,anchor_img,targets\n",
        "    "
      ],
      "execution_count": 16,
      "outputs": []
    },
    {
      "cell_type": "markdown",
      "metadata": {
        "id": "6xCa5bCWjbC6"
      },
      "source": [
        "## creating pairs of images"
      ]
    },
    {
      "cell_type": "markdown",
      "metadata": {
        "id": "ZNSpnQaljbCe"
      },
      "source": [
        "**a function that create pairs of images with a certain batch size with y= 1 if they are similar and 0 if they are different.**"
      ]
    },
    {
      "cell_type": "code",
      "metadata": {
        "id": "a7t5J2GCjbC7"
      },
      "source": [
        "def createPairs(X,y,sizes,batch_size):\n",
        "    ##create a batch with half it's size are similar glyphs and the other half are different.\n",
        "    n=0\n",
        "    i=0\n",
        "    \n",
        "    label=[]\n",
        "    _,w,h=X.shape\n",
        "    # initialize 2 empty arrays for the input image batch\n",
        "#     pairs=[np.zeros((batch_size, w, h,1)) for i in range(2)]\n",
        "    input1=np.zeros((batch_size, w, h,1))\n",
        "    input2=np.zeros((batch_size, w, h,1))\n",
        "    \n",
        "    while n < batch_size:\n",
        "        random_key1=random.choice(list(sizes))\n",
        "#         low=sizes[random_key1][0]\n",
        "#         high=sizes[random_key1][1]\n",
        "        index1, index3 = np.random.choice(sizes[random_key1], size=2)\n",
        "        index2 = np.random.choice(sizes[random_key1])\n",
        "        \n",
        "        random_key2=random.choice(list(sizes))\n",
        "        \n",
        "        while random_key2 == random_key1:\n",
        "            random_key2=random.choice(list(sizes))\n",
        "            \n",
        "#         low=sizes[random_key2][0]\n",
        "#         high=sizes[random_key2][1]\n",
        "        index4=np.random.choice(sizes[random_key2])\n",
        "        n += 2\n",
        "        # appending images 1 and 3 into input1 and input2 corresponding to y=1 \n",
        "        #and images 2 and 4 corresponding to y=0\n",
        "    \n",
        "        input1[i,:,:,:] = X[index1].reshape( w , h, 1)\n",
        "        input1[i+1,:,:,:] = X[index2].reshape(w, h, 1)\n",
        "        input2[i,:,:,:] = X[index3].reshape(w, h, 1)\n",
        "        input2[i+1,:,:,:] = X[index4].reshape(w, h, 1)\n",
        "        i += 2\n",
        "#         input1+=[X[index1],X[index2]]\n",
        "#         input2+=[X[index3],X[index4]]\n",
        "        label+=[1,0]\n",
        "        \n",
        "#         print(index1,index2,index3,index4)\n",
        "#         print(y[index1],y[index2],y[index3],y[index4])\n",
        "#         print(random_key1,random_key2)\n",
        "    input1,input2,label = shuffle(input1,input2,label)\n",
        "    pairs=[input1,input2]\n",
        "    \n",
        "    return pairs,label\n",
        "pairs,label=createPairs(X,y,sizes,32)   "
      ],
      "execution_count": 17,
      "outputs": []
    },
    {
      "cell_type": "code",
      "metadata": {
        "id": "II8Jq4vZ39AL"
      },
      "source": [
        ""
      ],
      "execution_count": 29,
      "outputs": []
    },
    {
      "cell_type": "code",
      "metadata": {
        "id": "rd46Yer40w_a"
      },
      "source": [
        "def get_batch_all(images,pairs_all,labels_all,batch_size,it):\n",
        "    _,w,h=images.shape\n",
        "    input1=np.zeros((batch_size, w, h,1))\n",
        "    input2=np.zeros((batch_size, w, h,1))\n",
        "    # label=np.zeros((batch_size,1))\n",
        "    index=0\n",
        "    start=it*batch_size\n",
        "    end= it*batch_size + batch_size\n",
        "    for i in range(start,end):\n",
        "      # random_index=random.choice(range(batch_size))\n",
        "      ind1=pairs_all[0][i]\n",
        "      ind2=pairs_all[1][i]\n",
        "      input1[index,:,:,:] = images[ind1].reshape( w , h, 1)\n",
        "      input2[index,:,:,:] = images[ind2].reshape( w , h, 1)\n",
        "      index+=1\n",
        "\n",
        "    input1,input2,label = shuffle(input1,input2,labels_all[start:end])\n",
        "    pairs=[input1,input2]\n",
        "    \n",
        "    return pairs,label\n"
      ],
      "execution_count": 151,
      "outputs": []
    },
    {
      "cell_type": "code",
      "metadata": {
        "id": "BXoehBUTjbC9"
      },
      "source": [
        "# pp,mm=get_batch_all(images_all_train,pairs_all_train,labels_all_train,5)"
      ],
      "execution_count": 150,
      "outputs": []
    },
    {
      "cell_type": "code",
      "metadata": {
        "id": "EAxrWxikbdH2"
      },
      "source": [
        ""
      ],
      "execution_count": 149,
      "outputs": []
    },
    {
      "cell_type": "markdown",
      "metadata": {
        "id": "BhahTAyiTfMU"
      },
      "source": [
        "## Testing"
      ]
    },
    {
      "cell_type": "markdown",
      "metadata": {
        "id": "pclsIyfMyots"
      },
      "source": [
        "### Testing accuracy random"
      ]
    },
    {
      "cell_type": "code",
      "metadata": {
        "id": "lDQXUEmFjbDt"
      },
      "source": [
        "def calc_accuracy(N,Xval,yval,anchor_img,anchor_label,model,sizes):\n",
        "    count_first=0\n",
        "    count_first3=0\n",
        "    for i in range(N):\n",
        "        # ind=random.choice(range(yval.shape[0]))\n",
        "        random_key = random.choice(list(sizes))\n",
        "        ind = np.random.choice(sizes[random_key])\n",
        "                               \n",
        "        predicted,anchor_imgs,targets=whichGlyph(model,Xval[ind],anchor_img,anchor_label)\n",
        "        sort_index = np.argsort(np.asarray(predicted).reshape(len(predicted),))\n",
        "        if targets[sort_index[-1]] == yval[ind][0]:\n",
        "            count_first+=1\n",
        "        if yval[ind][0] in targets[sort_index[127:]]:\n",
        "            count_first3+=1\n",
        "    accuracy_first=count_first/N\n",
        "    accuracy_first3=count_first3/N\n",
        "    \n",
        "    return accuracy_first, accuracy_first3"
      ],
      "execution_count": 19,
      "outputs": []
    },
    {
      "cell_type": "code",
      "metadata": {
        "id": "Lwcdo2Vountq"
      },
      "source": [
        "def predict_random(N,Xval,yval,anchor_img,anchor_label,model,sizes):\n",
        "    preds=[]\n",
        "    actual=[]\n",
        "    for i in range(N):\n",
        "        # ind=random.choice(range(yval.shape[0]))\n",
        "        random_key = random.choice(list(sizes))\n",
        "        ind = np.random.choice(sizes[random_key])\n",
        "        \n",
        "        predicted,anchor_imgs,targets=whichGlyph(model,Xval[ind],anchor_img,anchor_label)\n",
        "        sort_index = np.argsort(np.asarray(predicted).reshape(len(predicted),))\n",
        "        preds.append(targets[sort_index[-1]])\n",
        "        actual.append(yval[ind][0])\n",
        "        \n",
        "    \n",
        "    return np.asarray(preds),np.asarray(actual)"
      ],
      "execution_count": 20,
      "outputs": []
    },
    {
      "cell_type": "code",
      "metadata": {
        "id": "wr6bSOuBjbDZ"
      },
      "source": [
        ""
      ],
      "execution_count": null,
      "outputs": []
    },
    {
      "cell_type": "markdown",
      "metadata": {
        "id": "eumupxeIuntm"
      },
      "source": [
        "**a function to test accuracy**"
      ]
    },
    {
      "cell_type": "code",
      "metadata": {
        "id": "S2aZlLWQuntm"
      },
      "source": [
        "def test_accuracy_score(N,Xval,yval,anchor_img,anchor_label,model,sizes):\n",
        "    count_first=0\n",
        "    for i in range(N):\n",
        "        random_key = random.choice(list(sizes))\n",
        "        ind = np.random.choice(sizes[random_key])\n",
        "        \n",
        "#         ind=random.choice(range(yval.shape[0]))\n",
        "        predicted,anchor_imgs,targets=whichGlyph(model,Xval[ind],anchor_img,anchor_label)\n",
        "        if targets[np.argmax(predicted)]== yval[ind][0]:\n",
        "            count_first+=1\n",
        "    percent_correct = (100.0 * count_first / N)\n",
        "    print(\"Got an average of {}% accuracy in {} samples. \\n\".format(percent_correct,N))\n",
        "    return percent_correct"
      ],
      "execution_count": 21,
      "outputs": []
    },
    {
      "cell_type": "code",
      "metadata": {
        "id": "hUJxsuo15mVi"
      },
      "source": [
        ""
      ],
      "execution_count": null,
      "outputs": []
    },
    {
      "cell_type": "markdown",
      "metadata": {
        "id": "BaxIvzx6J6TO"
      },
      "source": [
        "## Under sampling"
      ]
    },
    {
      "cell_type": "code",
      "metadata": {
        "id": "ThYt641EJ-Lj"
      },
      "source": [
        "from imblearn.under_sampling import RandomUnderSampler\n",
        "rus = RandomUnderSampler(random_state=42)\n",
        "#undersampling training data\n",
        "\n",
        "in_df=pd.DataFrame({'0':pairs_all_train[0],'1':pairs_all_train[1]})\n",
        "in_df,labels_tr= rus.fit_resample(in_df,labels_all_train)\n",
        "p0,p1,labels_tr= shuffle(in_df['0'].to_numpy(),in_df['1'].to_numpy(),labels_tr)\n",
        "pairs_all_train=[p0,p1] \n",
        "labels_all_train= labels_tr\n",
        "\n",
        "#undersampling test data\n",
        "\n",
        "test_df=pd.DataFrame({'0':pairs_all_test[0],'1':pairs_all_test[1]})\n",
        "test_df,labels_te= rus.fit_resample(test_df,labels_all_test)\n",
        "p0t,p1t,labels_te=shuffle(test_df['0'].to_numpy(),test_df['1'].to_numpy(),labels_te)\n",
        "pairs_all_test= [p0t,p1t]\n",
        "labels_all_test=labels_te\n"
      ],
      "execution_count": 106,
      "outputs": []
    },
    {
      "cell_type": "code",
      "metadata": {
        "colab": {
          "base_uri": "https://localhost:8080/"
        },
        "id": "4YdL1UeLMSrS",
        "outputId": "a08d1a1d-9664-4d04-acdd-094fefb6a21f"
      },
      "source": [
        "labels_all_train.shape"
      ],
      "execution_count": 166,
      "outputs": [
        {
          "output_type": "execute_result",
          "data": {
            "text/plain": [
              "(347742,)"
            ]
          },
          "metadata": {},
          "execution_count": 166
        }
      ]
    },
    {
      "cell_type": "code",
      "metadata": {
        "colab": {
          "base_uri": "https://localhost:8080/"
        },
        "id": "I_13tGrYMUc8",
        "outputId": "a1f03141-72f3-41c6-cea9-124fa2618070"
      },
      "source": [
        "print(labels_all_train[labels_all_train==0].shape)\n",
        "print(labels_all_train[labels_all_train==1].shape)"
      ],
      "execution_count": 76,
      "outputs": [
        {
          "output_type": "stream",
          "name": "stdout",
          "text": [
            "(173871,)\n",
            "(173871,)\n"
          ]
        }
      ]
    },
    {
      "cell_type": "markdown",
      "metadata": {
        "id": "d7hU-S3B5nRf"
      },
      "source": [
        "# Training"
      ]
    },
    {
      "cell_type": "code",
      "metadata": {
        "id": "RbUqy4FNjbDf"
      },
      "source": [
        "# Hyper parameters\n",
        "evaluate_every = 200 # interval for evaluating on one-shot tasks\n",
        "batch_size = 128 #64#32\n",
        "n_iter = 2000 #5400 # No. of training iterations 20000\n",
        "N_way = 20 # how many classes for testing one-shot tasks\n",
        "n_val = 256 # how many one-shot tasks to validate on\n",
        "best = -1\n",
        "epochs=2\n"
      ],
      "execution_count": 202,
      "outputs": []
    },
    {
      "cell_type": "code",
      "metadata": {
        "colab": {
          "base_uri": "https://localhost:8080/"
        },
        "id": "jsHUoLrX8QEt",
        "outputId": "7e8b39f4-03d5-4b7d-8c15-d99d664a3968"
      },
      "source": [
        "labels_all_train.shape"
      ],
      "execution_count": 192,
      "outputs": [
        {
          "output_type": "execute_result",
          "data": {
            "text/plain": [
              "(347742,)"
            ]
          },
          "metadata": {},
          "execution_count": 192
        }
      ]
    },
    {
      "cell_type": "code",
      "metadata": {
        "id": "fJXH6WomjbDg"
      },
      "source": [
        "model_path = './weights/'\n",
        "# model_2_path= '/content/drive/MyDrive/hiero_cv/'\n",
        "# model_cos_path= '/content/drive/MyDrive/hiero_cv/weights_cos/'\n",
        "# model_regul='/content/drive/MyDrive/hiero_cv/regul_weights/'\n"
      ],
      "execution_count": 193,
      "outputs": []
    },
    {
      "cell_type": "code",
      "metadata": {
        "colab": {
          "base_uri": "https://localhost:8080/"
        },
        "id": "gUJcfqJLjbDh",
        "outputId": "068cb139-7db2-43d0-bfde-f00d781ad49b"
      },
      "source": [
        "print(\"Training on all pairs!\")\n",
        "print(\"-------------------------------------\")\n",
        "train_loss=[]\n",
        "validation_loss=[]\n",
        "t_start = time.time()\n",
        "\n",
        "for epoch in range(epochs):\n",
        "    test_it=0\n",
        "    pairs_all_train[0],pairs_all_train[1],labels_all_train=shuffle(pairs_all_train[0],pairs_all_train[1],labels_all_train)\n",
        "    pairs_all_test[0],pairs_all_test[1],labels_all_test=shuffle(pairs_all_test[0],pairs_all_test[1],labels_all_test)\n",
        "    for i in range(1, n_iter+1):\n",
        "        (inputs,targets) = get_batch_all(images_all_train,pairs_all_train,labels_all_train,batch_size,i)\n",
        "        targets=np.asarray(targets)\n",
        "        loss = model.train_on_batch(inputs, targets)\n",
        "        train_loss.append(loss[0])\n",
        "        if i % evaluate_every == 0:\n",
        "            print(\"\\n ------------- \\n\")\n",
        "            print(\"Time for {0} iterations epoch :{1} : {2} mins\".format(i, epoch,(time.time()-t_start)/60.0))\n",
        "            print(f\"Train Loss: {loss[0]} , accuracy : {loss[1]}\") \n",
        "    #         val_acc = test_oneshot(model,Xval,yval,sizes_val, N_way, n_val, verbose=True)\n",
        "            (val_inputs,val_targets) = get_batch_all(images_all_test,pairs_all_test,labels_all_test,n_val,test_it)\n",
        "            test_it+=1\n",
        "            val_targets=np.asarray(val_targets)\n",
        "            val_loss= model.test_on_batch(val_inputs, val_targets)\n",
        "            validation_loss.append(val_loss[0])\n",
        "            # model.save_weights(os.path.join(model_2_path, 'weights.{}.h5'.format(i)))\n",
        "            print(f\"validation Loss: {val_loss[0]}, val accuracy : {val_loss[1]}\") "
      ],
      "execution_count": 203,
      "outputs": [
        {
          "output_type": "stream",
          "name": "stdout",
          "text": [
            "Training on all pairs!\n",
            "-------------------------------------\n",
            "\n",
            " ------------- \n",
            "\n",
            "Time for 200 iterations epoch :0 : 0.42071298758188885 mins\n",
            "Train Loss: 1.08247709274292 , accuracy : 0.8828125\n",
            "validation Loss: 1.1965086460113525, val accuracy : 0.8046875\n",
            "\n",
            " ------------- \n",
            "\n",
            "Time for 400 iterations epoch :0 : 0.8210418661435445 mins\n",
            "Train Loss: 0.7471252083778381 , accuracy : 0.875\n",
            "validation Loss: 0.8491807579994202, val accuracy : 0.8046875\n",
            "\n",
            " ------------- \n",
            "\n",
            "Time for 600 iterations epoch :0 : 1.2161245544751484 mins\n",
            "Train Loss: 0.5257269740104675 , accuracy : 0.890625\n",
            "validation Loss: 0.8908308148384094, val accuracy : 0.69921875\n",
            "\n",
            " ------------- \n",
            "\n",
            "Time for 800 iterations epoch :0 : 1.612519919872284 mins\n",
            "Train Loss: 0.3741898238658905 , accuracy : 0.9453125\n",
            "validation Loss: 0.5596645474433899, val accuracy : 0.8203125\n",
            "\n",
            " ------------- \n",
            "\n",
            "Time for 1000 iterations epoch :0 : 2.0090962330500286 mins\n",
            "Train Loss: 0.3960479497909546 , accuracy : 0.921875\n",
            "validation Loss: 0.6098873615264893, val accuracy : 0.80078125\n",
            "\n",
            " ------------- \n",
            "\n",
            "Time for 1200 iterations epoch :0 : 2.406405174732208 mins\n",
            "Train Loss: 0.27913761138916016 , accuracy : 0.9453125\n",
            "validation Loss: 0.3550369143486023, val accuracy : 0.9453125\n",
            "\n",
            " ------------- \n",
            "\n",
            "Time for 1400 iterations epoch :0 : 2.8043320814768475 mins\n",
            "Train Loss: 0.3249303102493286 , accuracy : 0.9375\n",
            "validation Loss: 0.3997982442378998, val accuracy : 0.88671875\n",
            "\n",
            " ------------- \n",
            "\n",
            "Time for 1600 iterations epoch :0 : 3.2017372767130534 mins\n",
            "Train Loss: 0.25934478640556335 , accuracy : 0.9453125\n",
            "validation Loss: 0.5478310585021973, val accuracy : 0.8359375\n",
            "\n",
            " ------------- \n",
            "\n",
            "Time for 1800 iterations epoch :0 : 3.597434357802073 mins\n",
            "Train Loss: 0.22043049335479736 , accuracy : 0.9609375\n",
            "validation Loss: 0.42981258034706116, val accuracy : 0.90625\n",
            "\n",
            " ------------- \n",
            "\n",
            "Time for 2000 iterations epoch :0 : 3.9932962099711102 mins\n",
            "Train Loss: 0.21357300877571106 , accuracy : 0.9453125\n",
            "validation Loss: 0.48910611867904663, val accuracy : 0.88671875\n",
            "\n",
            " ------------- \n",
            "\n",
            "Time for 200 iterations epoch :1 : 4.388568389415741 mins\n",
            "Train Loss: 0.19857147336006165 , accuracy : 0.953125\n",
            "validation Loss: 0.33715635538101196, val accuracy : 0.90234375\n",
            "\n",
            " ------------- \n",
            "\n",
            "Time for 400 iterations epoch :1 : 4.784790714581807 mins\n",
            "Train Loss: 0.13568976521492004 , accuracy : 0.96875\n",
            "validation Loss: 0.3538593053817749, val accuracy : 0.921875\n",
            "\n",
            " ------------- \n",
            "\n",
            "Time for 600 iterations epoch :1 : 5.1807354887326555 mins\n",
            "Train Loss: 0.12285464257001877 , accuracy : 0.9765625\n",
            "validation Loss: 0.40509870648384094, val accuracy : 0.90625\n",
            "\n",
            " ------------- \n",
            "\n",
            "Time for 800 iterations epoch :1 : 5.577065447966258 mins\n",
            "Train Loss: 0.11210869997739792 , accuracy : 0.984375\n",
            "validation Loss: 0.45995569229125977, val accuracy : 0.90625\n",
            "\n",
            " ------------- \n",
            "\n",
            "Time for 1000 iterations epoch :1 : 5.973814046382904 mins\n",
            "Train Loss: 0.13998252153396606 , accuracy : 0.9609375\n",
            "validation Loss: 0.3134084641933441, val accuracy : 0.94140625\n",
            "\n",
            " ------------- \n",
            "\n",
            "Time for 1200 iterations epoch :1 : 6.369326396783193 mins\n",
            "Train Loss: 0.10261207818984985 , accuracy : 0.984375\n",
            "validation Loss: 0.329933226108551, val accuracy : 0.92578125\n",
            "\n",
            " ------------- \n",
            "\n",
            "Time for 1400 iterations epoch :1 : 6.76532522837321 mins\n",
            "Train Loss: 0.1087246760725975 , accuracy : 0.984375\n",
            "validation Loss: 0.2398504763841629, val accuracy : 0.9375\n",
            "\n",
            " ------------- \n",
            "\n",
            "Time for 1600 iterations epoch :1 : 7.162565263112386 mins\n",
            "Train Loss: 0.13014738261699677 , accuracy : 0.9765625\n",
            "validation Loss: 0.23461252450942993, val accuracy : 0.92578125\n",
            "\n",
            " ------------- \n",
            "\n",
            "Time for 1800 iterations epoch :1 : 7.557902987798055 mins\n",
            "Train Loss: 0.09648261964321136 , accuracy : 0.9921875\n",
            "validation Loss: 0.3201572597026825, val accuracy : 0.9453125\n",
            "\n",
            " ------------- \n",
            "\n",
            "Time for 2000 iterations epoch :1 : 7.954659100373586 mins\n",
            "Train Loss: 0.0947251170873642 , accuracy : 0.984375\n",
            "validation Loss: 0.2487073391675949, val accuracy : 0.94140625\n"
          ]
        }
      ]
    },
    {
      "cell_type": "code",
      "metadata": {
        "colab": {
          "base_uri": "https://localhost:8080/",
          "height": 282
        },
        "id": "ZNO44a9oKn4w",
        "outputId": "97f5008a-d1a3-4b81-8e75-efb1571db6c8"
      },
      "source": [
        "#plot loss\n",
        "plt.figure(1)\n",
        "plt.subplot(211)\n",
        "plt.plot(range(2, len(train_loss)),train_loss[2:])\n",
        "plt.subplot(212)\n",
        "plt.plot(range(1, len(validation_loss)+1),validation_loss)\n"
      ],
      "execution_count": 206,
      "outputs": [
        {
          "output_type": "execute_result",
          "data": {
            "text/plain": [
              "[<matplotlib.lines.Line2D at 0x7f2e01cadb50>]"
            ]
          },
          "metadata": {},
          "execution_count": 206
        },
        {
          "output_type": "display_data",
          "data": {
            "image/png": "[encoded data removed]",
            "text/plain": [
              "<Figure size 432x288 with 2 Axes>"
            ]
          },
          "metadata": {
            "needs_background": "light"
          }
        }
      ]
    },
    {
      "cell_type": "code",
      "metadata": {
        "colab": {
          "base_uri": "https://localhost:8080/"
        },
        "id": "vaS6igHkxj7Q",
        "outputId": "04df86c2-314d-4c7c-962d-e7fcc5e5ce8d"
      },
      "source": [
        "inputs,targets = get_batch_all(images_all_test,pairs_all_test,labels_all_test,1000,0)\n",
        "model.evaluate(inputs,targets )"
      ],
      "execution_count": 207,
      "outputs": [
        {
          "output_type": "stream",
          "name": "stdout",
          "text": [
            "32/32 [==============================] - 1s 21ms/step - loss: 0.2699 - accuracy: 0.9450\n"
          ]
        },
        {
          "output_type": "execute_result",
          "data": {
            "text/plain": [
              "[0.2699025869369507, 0.9449999928474426]"
            ]
          },
          "metadata": {},
          "execution_count": 207
        }
      ]
    },
    {
      "cell_type": "markdown",
      "metadata": {
        "id": "td3qcSvs_2N-"
      },
      "source": [
        "## Training on less represented class"
      ]
    },
    {
      "cell_type": "code",
      "metadata": {
        "id": "ztkuFDEi0uZb"
      },
      "source": [
        "less_represented={}\n",
        "for m in sizes:\n",
        "  if len(sizes[m]) <= 20:\n",
        "    less_represented[m]=sizes[m]"
      ],
      "execution_count": 234,
      "outputs": []
    },
    {
      "cell_type": "code",
      "metadata": {
        "colab": {
          "base_uri": "https://localhost:8080/"
        },
        "id": "L6_g78jV45Ji",
        "outputId": "4b3e983e-177e-45ec-b1ae-96c49e87225d"
      },
      "source": [
        "ccc=[]\n",
        "for m in sizes:\n",
        "  if len(sizes[m]) <= 20:\n",
        "    ccc.append(m)\n",
        "print(len(ccc))"
      ],
      "execution_count": 250,
      "outputs": [
        {
          "output_type": "stream",
          "name": "stdout",
          "text": [
            "106\n"
          ]
        }
      ]
    },
    {
      "cell_type": "code",
      "metadata": {
        "id": "MIe9wlUz07k5"
      },
      "source": [
        "# Hyper parameters\n",
        "evaluate_every = 200 # interval for evaluating on one-shot tasks\n",
        "batch_size = 32 #64#32\n",
        "n_iter = 2000 #5400 # No. of training iterations 20000\n",
        "N_way = 20 # how many classes for testing one-shot tasks\n",
        "n_val = 256 # how many one-shot tasks to validate on\n",
        "best = -1\n",
        "epochs=2"
      ],
      "execution_count": 239,
      "outputs": []
    },
    {
      "cell_type": "code",
      "metadata": {
        "colab": {
          "base_uri": "https://localhost:8080/"
        },
        "id": "wGbpxaWn2S5D",
        "outputId": "0d5596c5-0755-4766-e4a2-44c44e5368db"
      },
      "source": [
        "optimizer = Adam(lr = 0.01)\n",
        "model.compile(loss=\"binary_crossentropy\",optimizer=optimizer,metrics=['accuracy'])"
      ],
      "execution_count": 255,
      "outputs": [
        {
          "output_type": "stream",
          "name": "stderr",
          "text": [
            "/usr/local/lib/python3.7/dist-packages/keras/optimizer_v2/adam.py:105: UserWarning: The `lr` argument is deprecated, use `learning_rate` instead.\n",
            "  super(Adam, self).__init__(name, **kwargs)\n"
          ]
        }
      ]
    },
    {
      "cell_type": "code",
      "metadata": {
        "colab": {
          "base_uri": "https://localhost:8080/",
          "height": 990
        },
        "id": "A4JoCm_5jbDk",
        "outputId": "6bc29faf-6285-4db2-85e2-7185b0b9ed07"
      },
      "source": [
        "print(\"Starting training process for the less represented classes !\")\n",
        "print(\"-------------------------------------\")\n",
        "t_start = time.time()\n",
        "for i in range(1, n_iter+1):\n",
        "    (inputs,targets) = createPairs(X,y,less_represented,batch_size)\n",
        "    targets=np.asarray(targets)\n",
        "    loss = model.train_on_batch(inputs, targets)\n",
        "    if i % evaluate_every == 0:\n",
        "        print(\"\\n ------------- \\n\")\n",
        "        print(\"Time for {0} iterations: {1} mins\".format(i, (time.time()-t_start)/60.0))\n",
        "        print(\"Train Loss: {0}, accuracy : {1}\".format(loss[0],loss[1])) \n",
        "#         val_acc = test_oneshot(model,Xval,yval,sizes_val, N_way, n_val, verbose=True)\n",
        "        val_acc = test_accuracy_score(n_val,Xval,yval,anchor_img,anchor_label,model,sizes_val)\n",
        "        # model.save_weights(os.path.join(model_2_path, 'weights.{}.h5'.format(i)))\n",
        "        if val_acc >= best:\n",
        "            print(\"Current best: {0}, previous best: {1}\".format(val_acc, best))\n",
        "            best = val_acc"
      ],
      "execution_count": 256,
      "outputs": [
        {
          "output_type": "stream",
          "name": "stdout",
          "text": [
            "Starting training process for the less represented classes !\n",
            "-------------------------------------\n",
            "\n",
            " ------------- \n",
            "\n",
            "Time for 200 iterations: 0.18416974147160847 mins\n",
            "Train Loss: 4.3526716232299805, accuracy : 0.65625\n",
            "Got an average of 0.0% accuracy in 256 samples. \n",
            "\n",
            "\n",
            " ------------- \n",
            "\n",
            "Time for 400 iterations: 0.8750580668449401 mins\n",
            "Train Loss: 2.4980878829956055, accuracy : 0.5\n",
            "Got an average of 1.171875% accuracy in 256 samples. \n",
            "\n",
            "\n",
            " ------------- \n",
            "\n",
            "Time for 600 iterations: 1.546055785814921 mins\n",
            "Train Loss: 1.76645827293396, accuracy : 0.5\n",
            "Got an average of 0.390625% accuracy in 256 samples. \n",
            "\n",
            "\n",
            " ------------- \n",
            "\n",
            "Time for 800 iterations: 2.1766769647598267 mins\n",
            "Train Loss: 1.3561127185821533, accuracy : 0.5\n",
            "Got an average of 0.390625% accuracy in 256 samples. \n",
            "\n",
            "\n",
            " ------------- \n",
            "\n",
            "Time for 1000 iterations: 2.84729346036911 mins\n",
            "Train Loss: 1.1597553491592407, accuracy : 0.5\n"
          ]
        },
        {
          "output_type": "error",
          "ename": "KeyboardInterrupt",
          "evalue": "ignored",
          "traceback": [
            "\u001b[0;31m---------------------------------------------------------------------------\u001b[0m",
            "\u001b[0;31mKeyboardInterrupt\u001b[0m                         Traceback (most recent call last)",
            "\u001b[0;32m<ipython-input-256-ff005d857c1a>\u001b[0m in \u001b[0;36m<module>\u001b[0;34m()\u001b[0m\n\u001b[1;32m     11\u001b[0m         \u001b[0mprint\u001b[0m\u001b[0;34m(\u001b[0m\u001b[0;34m\"Train Loss: {0}, accuracy : {1}\"\u001b[0m\u001b[0;34m.\u001b[0m\u001b[0mformat\u001b[0m\u001b[0;34m(\u001b[0m\u001b[0mloss\u001b[0m\u001b[0;34m[\u001b[0m\u001b[0;36m0\u001b[0m\u001b[0;34m]\u001b[0m\u001b[0;34m,\u001b[0m\u001b[0mloss\u001b[0m\u001b[0;34m[\u001b[0m\u001b[0;36m1\u001b[0m\u001b[0;34m]\u001b[0m\u001b[0;34m)\u001b[0m\u001b[0;34m)\u001b[0m\u001b[0;34m\u001b[0m\u001b[0;34m\u001b[0m\u001b[0m\n\u001b[1;32m     12\u001b[0m \u001b[0;31m#         val_acc = test_oneshot(model,Xval,yval,sizes_val, N_way, n_val, verbose=True)\u001b[0m\u001b[0;34m\u001b[0m\u001b[0;34m\u001b[0m\u001b[0;34m\u001b[0m\u001b[0m\n\u001b[0;32m---> 13\u001b[0;31m         \u001b[0mval_acc\u001b[0m \u001b[0;34m=\u001b[0m \u001b[0mtest_accuracy_score\u001b[0m\u001b[0;34m(\u001b[0m\u001b[0mn_val\u001b[0m\u001b[0;34m,\u001b[0m\u001b[0mXval\u001b[0m\u001b[0;34m,\u001b[0m\u001b[0myval\u001b[0m\u001b[0;34m,\u001b[0m\u001b[0manchor_img\u001b[0m\u001b[0;34m,\u001b[0m\u001b[0manchor_label\u001b[0m\u001b[0;34m,\u001b[0m\u001b[0mmodel\u001b[0m\u001b[0;34m,\u001b[0m\u001b[0msizes_val\u001b[0m\u001b[0;34m)\u001b[0m\u001b[0;34m\u001b[0m\u001b[0;34m\u001b[0m\u001b[0m\n\u001b[0m\u001b[1;32m     14\u001b[0m         \u001b[0;31m# model.save_weights(os.path.join(model_2_path, 'weights.{}.h5'.format(i)))\u001b[0m\u001b[0;34m\u001b[0m\u001b[0;34m\u001b[0m\u001b[0;34m\u001b[0m\u001b[0m\n\u001b[1;32m     15\u001b[0m         \u001b[0;32mif\u001b[0m \u001b[0mval_acc\u001b[0m \u001b[0;34m>=\u001b[0m \u001b[0mbest\u001b[0m\u001b[0;34m:\u001b[0m\u001b[0;34m\u001b[0m\u001b[0;34m\u001b[0m\u001b[0m\n",
            "\u001b[0;32m<ipython-input-21-073121a4ead7>\u001b[0m in \u001b[0;36mtest_accuracy_score\u001b[0;34m(N, Xval, yval, anchor_img, anchor_label, model, sizes)\u001b[0m\n\u001b[1;32m      6\u001b[0m \u001b[0;34m\u001b[0m\u001b[0m\n\u001b[1;32m      7\u001b[0m \u001b[0;31m#         ind=random.choice(range(yval.shape[0]))\u001b[0m\u001b[0;34m\u001b[0m\u001b[0;34m\u001b[0m\u001b[0;34m\u001b[0m\u001b[0m\n\u001b[0;32m----> 8\u001b[0;31m         \u001b[0mpredicted\u001b[0m\u001b[0;34m,\u001b[0m\u001b[0manchor_imgs\u001b[0m\u001b[0;34m,\u001b[0m\u001b[0mtargets\u001b[0m\u001b[0;34m=\u001b[0m\u001b[0mwhichGlyph\u001b[0m\u001b[0;34m(\u001b[0m\u001b[0mmodel\u001b[0m\u001b[0;34m,\u001b[0m\u001b[0mXval\u001b[0m\u001b[0;34m[\u001b[0m\u001b[0mind\u001b[0m\u001b[0;34m]\u001b[0m\u001b[0;34m,\u001b[0m\u001b[0manchor_img\u001b[0m\u001b[0;34m,\u001b[0m\u001b[0manchor_label\u001b[0m\u001b[0;34m)\u001b[0m\u001b[0;34m\u001b[0m\u001b[0;34m\u001b[0m\u001b[0m\n\u001b[0m\u001b[1;32m      9\u001b[0m         \u001b[0;32mif\u001b[0m \u001b[0mtargets\u001b[0m\u001b[0;34m[\u001b[0m\u001b[0mnp\u001b[0m\u001b[0;34m.\u001b[0m\u001b[0margmax\u001b[0m\u001b[0;34m(\u001b[0m\u001b[0mpredicted\u001b[0m\u001b[0;34m)\u001b[0m\u001b[0;34m]\u001b[0m\u001b[0;34m==\u001b[0m \u001b[0myval\u001b[0m\u001b[0;34m[\u001b[0m\u001b[0mind\u001b[0m\u001b[0;34m]\u001b[0m\u001b[0;34m[\u001b[0m\u001b[0;36m0\u001b[0m\u001b[0;34m]\u001b[0m\u001b[0;34m:\u001b[0m\u001b[0;34m\u001b[0m\u001b[0;34m\u001b[0m\u001b[0m\n\u001b[1;32m     10\u001b[0m             \u001b[0mcount_first\u001b[0m\u001b[0;34m+=\u001b[0m\u001b[0;36m1\u001b[0m\u001b[0;34m\u001b[0m\u001b[0;34m\u001b[0m\u001b[0m\n",
            "\u001b[0;32m<ipython-input-16-059e93a65e3b>\u001b[0m in \u001b[0;36mwhichGlyph\u001b[0;34m(model, image, anchor_img, anchor_label)\u001b[0m\n\u001b[1;32m      1\u001b[0m \u001b[0;32mdef\u001b[0m \u001b[0mwhichGlyph\u001b[0m\u001b[0;34m(\u001b[0m\u001b[0mmodel\u001b[0m\u001b[0;34m,\u001b[0m\u001b[0mimage\u001b[0m\u001b[0;34m,\u001b[0m\u001b[0manchor_img\u001b[0m\u001b[0;34m,\u001b[0m\u001b[0manchor_label\u001b[0m\u001b[0;34m)\u001b[0m\u001b[0;34m:\u001b[0m\u001b[0;34m\u001b[0m\u001b[0;34m\u001b[0m\u001b[0m\n\u001b[1;32m      2\u001b[0m     \u001b[0mtest_image\u001b[0m\u001b[0;34m,\u001b[0m\u001b[0manchor_img\u001b[0m\u001b[0;34m,\u001b[0m\u001b[0mtargets\u001b[0m \u001b[0;34m=\u001b[0m \u001b[0mwhichGlyph_pair\u001b[0m\u001b[0;34m(\u001b[0m\u001b[0mimage\u001b[0m\u001b[0;34m,\u001b[0m\u001b[0manchor_img\u001b[0m\u001b[0;34m,\u001b[0m\u001b[0manchor_label\u001b[0m\u001b[0;34m)\u001b[0m\u001b[0;34m\u001b[0m\u001b[0;34m\u001b[0m\u001b[0m\n\u001b[0;32m----> 3\u001b[0;31m     \u001b[0mprobs\u001b[0m \u001b[0;34m=\u001b[0m \u001b[0mmodel\u001b[0m\u001b[0;34m.\u001b[0m\u001b[0mpredict\u001b[0m\u001b[0;34m(\u001b[0m\u001b[0;34m[\u001b[0m\u001b[0mtest_image\u001b[0m\u001b[0;34m,\u001b[0m\u001b[0manchor_img\u001b[0m\u001b[0;34m]\u001b[0m\u001b[0;34m)\u001b[0m\u001b[0;34m\u001b[0m\u001b[0;34m\u001b[0m\u001b[0m\n\u001b[0m\u001b[1;32m      4\u001b[0m     \u001b[0;32mreturn\u001b[0m \u001b[0mprobs\u001b[0m\u001b[0;34m,\u001b[0m\u001b[0manchor_img\u001b[0m\u001b[0;34m,\u001b[0m\u001b[0mtargets\u001b[0m\u001b[0;34m\u001b[0m\u001b[0;34m\u001b[0m\u001b[0m\n\u001b[1;32m      5\u001b[0m \u001b[0;34m\u001b[0m\u001b[0m\n",
            "\u001b[0;32m/usr/local/lib/python3.7/dist-packages/keras/utils/traceback_utils.py\u001b[0m in \u001b[0;36merror_handler\u001b[0;34m(*args, **kwargs)\u001b[0m\n\u001b[1;32m     62\u001b[0m     \u001b[0mfiltered_tb\u001b[0m \u001b[0;34m=\u001b[0m \u001b[0;32mNone\u001b[0m\u001b[0;34m\u001b[0m\u001b[0;34m\u001b[0m\u001b[0m\n\u001b[1;32m     63\u001b[0m     \u001b[0;32mtry\u001b[0m\u001b[0;34m:\u001b[0m\u001b[0;34m\u001b[0m\u001b[0;34m\u001b[0m\u001b[0m\n\u001b[0;32m---> 64\u001b[0;31m       \u001b[0;32mreturn\u001b[0m \u001b[0mfn\u001b[0m\u001b[0;34m(\u001b[0m\u001b[0;34m*\u001b[0m\u001b[0margs\u001b[0m\u001b[0;34m,\u001b[0m \u001b[0;34m**\u001b[0m\u001b[0mkwargs\u001b[0m\u001b[0;34m)\u001b[0m\u001b[0;34m\u001b[0m\u001b[0;34m\u001b[0m\u001b[0m\n\u001b[0m\u001b[1;32m     65\u001b[0m     \u001b[0;32mexcept\u001b[0m \u001b[0mException\u001b[0m \u001b[0;32mas\u001b[0m \u001b[0me\u001b[0m\u001b[0;34m:\u001b[0m  \u001b[0;31m# pylint: disable=broad-except\u001b[0m\u001b[0;34m\u001b[0m\u001b[0;34m\u001b[0m\u001b[0m\n\u001b[1;32m     66\u001b[0m       \u001b[0mfiltered_tb\u001b[0m \u001b[0;34m=\u001b[0m \u001b[0m_process_traceback_frames\u001b[0m\u001b[0;34m(\u001b[0m\u001b[0me\u001b[0m\u001b[0;34m.\u001b[0m\u001b[0m__traceback__\u001b[0m\u001b[0;34m)\u001b[0m\u001b[0;34m\u001b[0m\u001b[0;34m\u001b[0m\u001b[0m\n",
            "\u001b[0;32m/usr/local/lib/python3.7/dist-packages/keras/engine/training.py\u001b[0m in \u001b[0;36mpredict\u001b[0;34m(self, x, batch_size, verbose, steps, callbacks, max_queue_size, workers, use_multiprocessing)\u001b[0m\n\u001b[1;32m   1766\u001b[0m           \u001b[0muse_multiprocessing\u001b[0m\u001b[0;34m=\u001b[0m\u001b[0muse_multiprocessing\u001b[0m\u001b[0;34m,\u001b[0m\u001b[0;34m\u001b[0m\u001b[0;34m\u001b[0m\u001b[0m\n\u001b[1;32m   1767\u001b[0m           \u001b[0mmodel\u001b[0m\u001b[0;34m=\u001b[0m\u001b[0mself\u001b[0m\u001b[0;34m,\u001b[0m\u001b[0;34m\u001b[0m\u001b[0;34m\u001b[0m\u001b[0m\n\u001b[0;32m-> 1768\u001b[0;31m           steps_per_execution=self._steps_per_execution)\n\u001b[0m\u001b[1;32m   1769\u001b[0m \u001b[0;34m\u001b[0m\u001b[0m\n\u001b[1;32m   1770\u001b[0m       \u001b[0;31m# Container that configures and calls `tf.keras.Callback`s.\u001b[0m\u001b[0;34m\u001b[0m\u001b[0;34m\u001b[0m\u001b[0;34m\u001b[0m\u001b[0m\n",
            "\u001b[0;32m/usr/local/lib/python3.7/dist-packages/keras/engine/data_adapter.py\u001b[0m in \u001b[0;36mget_data_handler\u001b[0;34m(*args, **kwargs)\u001b[0m\n\u001b[1;32m   1401\u001b[0m   \u001b[0;32mif\u001b[0m \u001b[0mgetattr\u001b[0m\u001b[0;34m(\u001b[0m\u001b[0mkwargs\u001b[0m\u001b[0;34m[\u001b[0m\u001b[0;34m\"model\"\u001b[0m\u001b[0;34m]\u001b[0m\u001b[0;34m,\u001b[0m \u001b[0;34m\"_cluster_coordinator\"\u001b[0m\u001b[0;34m,\u001b[0m \u001b[0;32mNone\u001b[0m\u001b[0;34m)\u001b[0m\u001b[0;34m:\u001b[0m\u001b[0;34m\u001b[0m\u001b[0;34m\u001b[0m\u001b[0m\n\u001b[1;32m   1402\u001b[0m     \u001b[0;32mreturn\u001b[0m \u001b[0m_ClusterCoordinatorDataHandler\u001b[0m\u001b[0;34m(\u001b[0m\u001b[0;34m*\u001b[0m\u001b[0margs\u001b[0m\u001b[0;34m,\u001b[0m \u001b[0;34m**\u001b[0m\u001b[0mkwargs\u001b[0m\u001b[0;34m)\u001b[0m\u001b[0;34m\u001b[0m\u001b[0;34m\u001b[0m\u001b[0m\n\u001b[0;32m-> 1403\u001b[0;31m   \u001b[0;32mreturn\u001b[0m \u001b[0mDataHandler\u001b[0m\u001b[0;34m(\u001b[0m\u001b[0;34m*\u001b[0m\u001b[0margs\u001b[0m\u001b[0;34m,\u001b[0m \u001b[0;34m**\u001b[0m\u001b[0mkwargs\u001b[0m\u001b[0;34m)\u001b[0m\u001b[0;34m\u001b[0m\u001b[0;34m\u001b[0m\u001b[0m\n\u001b[0m\u001b[1;32m   1404\u001b[0m \u001b[0;34m\u001b[0m\u001b[0m\n\u001b[1;32m   1405\u001b[0m \u001b[0;34m\u001b[0m\u001b[0m\n",
            "\u001b[0;32m/usr/local/lib/python3.7/dist-packages/keras/engine/data_adapter.py\u001b[0m in \u001b[0;36m__init__\u001b[0;34m(self, x, y, sample_weight, batch_size, steps_per_epoch, initial_epoch, epochs, shuffle, class_weight, max_queue_size, workers, use_multiprocessing, model, steps_per_execution, distribute)\u001b[0m\n\u001b[1;32m   1163\u001b[0m         \u001b[0muse_multiprocessing\u001b[0m\u001b[0;34m=\u001b[0m\u001b[0muse_multiprocessing\u001b[0m\u001b[0;34m,\u001b[0m\u001b[0;34m\u001b[0m\u001b[0;34m\u001b[0m\u001b[0m\n\u001b[1;32m   1164\u001b[0m         \u001b[0mdistribution_strategy\u001b[0m\u001b[0;34m=\u001b[0m\u001b[0mtf\u001b[0m\u001b[0;34m.\u001b[0m\u001b[0mdistribute\u001b[0m\u001b[0;34m.\u001b[0m\u001b[0mget_strategy\u001b[0m\u001b[0;34m(\u001b[0m\u001b[0;34m)\u001b[0m\u001b[0;34m,\u001b[0m\u001b[0;34m\u001b[0m\u001b[0;34m\u001b[0m\u001b[0m\n\u001b[0;32m-> 1165\u001b[0;31m         model=model)\n\u001b[0m\u001b[1;32m   1166\u001b[0m \u001b[0;34m\u001b[0m\u001b[0m\n\u001b[1;32m   1167\u001b[0m     \u001b[0mstrategy\u001b[0m \u001b[0;34m=\u001b[0m \u001b[0mtf\u001b[0m\u001b[0;34m.\u001b[0m\u001b[0mdistribute\u001b[0m\u001b[0;34m.\u001b[0m\u001b[0mget_strategy\u001b[0m\u001b[0;34m(\u001b[0m\u001b[0;34m)\u001b[0m\u001b[0;34m\u001b[0m\u001b[0;34m\u001b[0m\u001b[0m\n",
            "\u001b[0;32m/usr/local/lib/python3.7/dist-packages/keras/engine/data_adapter.py\u001b[0m in \u001b[0;36m__init__\u001b[0;34m(self, x, y, sample_weights, sample_weight_modes, batch_size, epochs, steps, shuffle, **kwargs)\u001b[0m\n\u001b[1;32m    325\u001b[0m     \u001b[0mindices_dataset\u001b[0m \u001b[0;34m=\u001b[0m \u001b[0mindices_dataset\u001b[0m\u001b[0;34m.\u001b[0m\u001b[0mflat_map\u001b[0m\u001b[0;34m(\u001b[0m\u001b[0mslice_batch_indices\u001b[0m\u001b[0;34m)\u001b[0m\u001b[0;34m\u001b[0m\u001b[0;34m\u001b[0m\u001b[0m\n\u001b[1;32m    326\u001b[0m \u001b[0;34m\u001b[0m\u001b[0m\n\u001b[0;32m--> 327\u001b[0;31m     \u001b[0mdataset\u001b[0m \u001b[0;34m=\u001b[0m \u001b[0mself\u001b[0m\u001b[0;34m.\u001b[0m\u001b[0mslice_inputs\u001b[0m\u001b[0;34m(\u001b[0m\u001b[0mindices_dataset\u001b[0m\u001b[0;34m,\u001b[0m \u001b[0minputs\u001b[0m\u001b[0;34m)\u001b[0m\u001b[0;34m\u001b[0m\u001b[0;34m\u001b[0m\u001b[0m\n\u001b[0m\u001b[1;32m    328\u001b[0m \u001b[0;34m\u001b[0m\u001b[0m\n\u001b[1;32m    329\u001b[0m     \u001b[0;32mif\u001b[0m \u001b[0mshuffle\u001b[0m \u001b[0;34m==\u001b[0m \u001b[0;34m\"batch\"\u001b[0m\u001b[0;34m:\u001b[0m\u001b[0;34m\u001b[0m\u001b[0;34m\u001b[0m\u001b[0m\n",
            "\u001b[0;32m/usr/local/lib/python3.7/dist-packages/keras/engine/data_adapter.py\u001b[0m in \u001b[0;36mslice_inputs\u001b[0;34m(self, indices_dataset, inputs)\u001b[0m\n\u001b[1;32m    358\u001b[0m \u001b[0;34m\u001b[0m\u001b[0m\n\u001b[1;32m    359\u001b[0m     dataset = dataset.map(\n\u001b[0;32m--> 360\u001b[0;31m         grab_batch, num_parallel_calls=tf.data.AUTOTUNE)\n\u001b[0m\u001b[1;32m    361\u001b[0m \u001b[0;34m\u001b[0m\u001b[0m\n\u001b[1;32m    362\u001b[0m     \u001b[0;31m# Default optimizations are disabled to avoid the overhead of (unnecessary)\u001b[0m\u001b[0;34m\u001b[0m\u001b[0;34m\u001b[0m\u001b[0;34m\u001b[0m\u001b[0m\n",
            "\u001b[0;32m/usr/local/lib/python3.7/dist-packages/tensorflow/python/data/ops/dataset_ops.py\u001b[0m in \u001b[0;36mmap\u001b[0;34m(self, map_func, num_parallel_calls, deterministic, name)\u001b[0m\n\u001b[1;32m   2010\u001b[0m           \u001b[0mdeterministic\u001b[0m\u001b[0;34m,\u001b[0m\u001b[0;34m\u001b[0m\u001b[0;34m\u001b[0m\u001b[0m\n\u001b[1;32m   2011\u001b[0m           \u001b[0mpreserve_cardinality\u001b[0m\u001b[0;34m=\u001b[0m\u001b[0;32mTrue\u001b[0m\u001b[0;34m,\u001b[0m\u001b[0;34m\u001b[0m\u001b[0;34m\u001b[0m\u001b[0m\n\u001b[0;32m-> 2012\u001b[0;31m           name=name)\n\u001b[0m\u001b[1;32m   2013\u001b[0m \u001b[0;34m\u001b[0m\u001b[0m\n\u001b[1;32m   2014\u001b[0m   \u001b[0;32mdef\u001b[0m \u001b[0mflat_map\u001b[0m\u001b[0;34m(\u001b[0m\u001b[0mself\u001b[0m\u001b[0;34m,\u001b[0m \u001b[0mmap_func\u001b[0m\u001b[0;34m,\u001b[0m \u001b[0mname\u001b[0m\u001b[0;34m=\u001b[0m\u001b[0;32mNone\u001b[0m\u001b[0;34m)\u001b[0m\u001b[0;34m:\u001b[0m\u001b[0;34m\u001b[0m\u001b[0;34m\u001b[0m\u001b[0m\n",
            "\u001b[0;32m/usr/local/lib/python3.7/dist-packages/tensorflow/python/data/ops/dataset_ops.py\u001b[0m in \u001b[0;36m__init__\u001b[0;34m(self, input_dataset, map_func, num_parallel_calls, deterministic, use_inter_op_parallelism, preserve_cardinality, use_legacy_function, name)\u001b[0m\n\u001b[1;32m   5503\u001b[0m         \u001b[0mself\u001b[0m\u001b[0;34m.\u001b[0m\u001b[0m_transformation_name\u001b[0m\u001b[0;34m(\u001b[0m\u001b[0;34m)\u001b[0m\u001b[0;34m,\u001b[0m\u001b[0;34m\u001b[0m\u001b[0;34m\u001b[0m\u001b[0m\n\u001b[1;32m   5504\u001b[0m         \u001b[0mdataset\u001b[0m\u001b[0;34m=\u001b[0m\u001b[0minput_dataset\u001b[0m\u001b[0;34m,\u001b[0m\u001b[0;34m\u001b[0m\u001b[0;34m\u001b[0m\u001b[0m\n\u001b[0;32m-> 5505\u001b[0;31m         use_legacy_function=use_legacy_function)\n\u001b[0m\u001b[1;32m   5506\u001b[0m     \u001b[0;32mif\u001b[0m \u001b[0mdeterministic\u001b[0m \u001b[0;32mis\u001b[0m \u001b[0;32mNone\u001b[0m\u001b[0;34m:\u001b[0m\u001b[0;34m\u001b[0m\u001b[0;34m\u001b[0m\u001b[0m\n\u001b[1;32m   5507\u001b[0m       \u001b[0mself\u001b[0m\u001b[0;34m.\u001b[0m\u001b[0m_deterministic\u001b[0m \u001b[0;34m=\u001b[0m \u001b[0;34m\"default\"\u001b[0m\u001b[0;34m\u001b[0m\u001b[0;34m\u001b[0m\u001b[0m\n",
            "\u001b[0;32m/usr/local/lib/python3.7/dist-packages/tensorflow/python/data/ops/dataset_ops.py\u001b[0m in \u001b[0;36m__init__\u001b[0;34m(self, func, transformation_name, dataset, input_classes, input_shapes, input_types, input_structure, add_to_graph, use_legacy_function, defun_kwargs)\u001b[0m\n\u001b[1;32m   4531\u001b[0m         \u001b[0mfn_factory\u001b[0m \u001b[0;34m=\u001b[0m \u001b[0mtrace_tf_function\u001b[0m\u001b[0;34m(\u001b[0m\u001b[0mdefun_kwargs\u001b[0m\u001b[0;34m)\u001b[0m\u001b[0;34m\u001b[0m\u001b[0;34m\u001b[0m\u001b[0m\n\u001b[1;32m   4532\u001b[0m \u001b[0;34m\u001b[0m\u001b[0m\n\u001b[0;32m-> 4533\u001b[0;31m     \u001b[0mself\u001b[0m\u001b[0;34m.\u001b[0m\u001b[0m_function\u001b[0m \u001b[0;34m=\u001b[0m \u001b[0mfn_factory\u001b[0m\u001b[0;34m(\u001b[0m\u001b[0;34m)\u001b[0m\u001b[0;34m\u001b[0m\u001b[0;34m\u001b[0m\u001b[0m\n\u001b[0m\u001b[1;32m   4534\u001b[0m     \u001b[0;31m# There is no graph to add in eager mode.\u001b[0m\u001b[0;34m\u001b[0m\u001b[0;34m\u001b[0m\u001b[0;34m\u001b[0m\u001b[0m\n\u001b[1;32m   4535\u001b[0m     \u001b[0madd_to_graph\u001b[0m \u001b[0;34m&=\u001b[0m \u001b[0;32mnot\u001b[0m \u001b[0mcontext\u001b[0m\u001b[0;34m.\u001b[0m\u001b[0mexecuting_eagerly\u001b[0m\u001b[0;34m(\u001b[0m\u001b[0;34m)\u001b[0m\u001b[0;34m\u001b[0m\u001b[0;34m\u001b[0m\u001b[0m\n",
            "\u001b[0;32m/usr/local/lib/python3.7/dist-packages/tensorflow/python/eager/function.py\u001b[0m in \u001b[0;36mget_concrete_function\u001b[0;34m(self, *args, **kwargs)\u001b[0m\n\u001b[1;32m   3243\u001b[0m     \"\"\"\n\u001b[1;32m   3244\u001b[0m     graph_function = self._get_concrete_function_garbage_collected(\n\u001b[0;32m-> 3245\u001b[0;31m         *args, **kwargs)\n\u001b[0m\u001b[1;32m   3246\u001b[0m     \u001b[0mgraph_function\u001b[0m\u001b[0;34m.\u001b[0m\u001b[0m_garbage_collector\u001b[0m\u001b[0;34m.\u001b[0m\u001b[0mrelease\u001b[0m\u001b[0;34m(\u001b[0m\u001b[0;34m)\u001b[0m  \u001b[0;31m# pylint: disable=protected-access\u001b[0m\u001b[0;34m\u001b[0m\u001b[0;34m\u001b[0m\u001b[0m\n\u001b[1;32m   3247\u001b[0m     \u001b[0;32mreturn\u001b[0m \u001b[0mgraph_function\u001b[0m\u001b[0;34m\u001b[0m\u001b[0;34m\u001b[0m\u001b[0m\n",
            "\u001b[0;32m/usr/local/lib/python3.7/dist-packages/tensorflow/python/eager/function.py\u001b[0m in \u001b[0;36m_get_concrete_function_garbage_collected\u001b[0;34m(self, *args, **kwargs)\u001b[0m\n\u001b[1;32m   3208\u001b[0m       \u001b[0margs\u001b[0m\u001b[0;34m,\u001b[0m \u001b[0mkwargs\u001b[0m \u001b[0;34m=\u001b[0m \u001b[0;32mNone\u001b[0m\u001b[0;34m,\u001b[0m \u001b[0;32mNone\u001b[0m\u001b[0;34m\u001b[0m\u001b[0;34m\u001b[0m\u001b[0m\n\u001b[1;32m   3209\u001b[0m     \u001b[0;32mwith\u001b[0m \u001b[0mself\u001b[0m\u001b[0;34m.\u001b[0m\u001b[0m_lock\u001b[0m\u001b[0;34m:\u001b[0m\u001b[0;34m\u001b[0m\u001b[0;34m\u001b[0m\u001b[0m\n\u001b[0;32m-> 3210\u001b[0;31m       \u001b[0mgraph_function\u001b[0m\u001b[0;34m,\u001b[0m \u001b[0m_\u001b[0m \u001b[0;34m=\u001b[0m \u001b[0mself\u001b[0m\u001b[0;34m.\u001b[0m\u001b[0m_maybe_define_function\u001b[0m\u001b[0;34m(\u001b[0m\u001b[0margs\u001b[0m\u001b[0;34m,\u001b[0m \u001b[0mkwargs\u001b[0m\u001b[0;34m)\u001b[0m\u001b[0;34m\u001b[0m\u001b[0;34m\u001b[0m\u001b[0m\n\u001b[0m\u001b[1;32m   3211\u001b[0m       \u001b[0mseen_names\u001b[0m \u001b[0;34m=\u001b[0m \u001b[0mset\u001b[0m\u001b[0;34m(\u001b[0m\u001b[0;34m)\u001b[0m\u001b[0;34m\u001b[0m\u001b[0;34m\u001b[0m\u001b[0m\n\u001b[1;32m   3212\u001b[0m       captured = object_identity.ObjectIdentitySet(\n",
            "\u001b[0;32m/usr/local/lib/python3.7/dist-packages/tensorflow/python/eager/function.py\u001b[0m in \u001b[0;36m_maybe_define_function\u001b[0;34m(self, args, kwargs)\u001b[0m\n\u001b[1;32m   3555\u001b[0m \u001b[0;34m\u001b[0m\u001b[0m\n\u001b[1;32m   3556\u001b[0m           \u001b[0mself\u001b[0m\u001b[0;34m.\u001b[0m\u001b[0m_function_cache\u001b[0m\u001b[0;34m.\u001b[0m\u001b[0mmissed\u001b[0m\u001b[0;34m.\u001b[0m\u001b[0madd\u001b[0m\u001b[0;34m(\u001b[0m\u001b[0mcall_context_key\u001b[0m\u001b[0;34m)\u001b[0m\u001b[0;34m\u001b[0m\u001b[0;34m\u001b[0m\u001b[0m\n\u001b[0;32m-> 3557\u001b[0;31m           \u001b[0mgraph_function\u001b[0m \u001b[0;34m=\u001b[0m \u001b[0mself\u001b[0m\u001b[0;34m.\u001b[0m\u001b[0m_create_graph_function\u001b[0m\u001b[0;34m(\u001b[0m\u001b[0margs\u001b[0m\u001b[0;34m,\u001b[0m \u001b[0mkwargs\u001b[0m\u001b[0;34m)\u001b[0m\u001b[0;34m\u001b[0m\u001b[0;34m\u001b[0m\u001b[0m\n\u001b[0m\u001b[1;32m   3558\u001b[0m           \u001b[0mself\u001b[0m\u001b[0;34m.\u001b[0m\u001b[0m_function_cache\u001b[0m\u001b[0;34m.\u001b[0m\u001b[0mprimary\u001b[0m\u001b[0;34m[\u001b[0m\u001b[0mcache_key\u001b[0m\u001b[0;34m]\u001b[0m \u001b[0;34m=\u001b[0m \u001b[0mgraph_function\u001b[0m\u001b[0;34m\u001b[0m\u001b[0;34m\u001b[0m\u001b[0m\n\u001b[1;32m   3559\u001b[0m \u001b[0;34m\u001b[0m\u001b[0m\n",
            "\u001b[0;32m/usr/local/lib/python3.7/dist-packages/tensorflow/python/eager/function.py\u001b[0m in \u001b[0;36m_create_graph_function\u001b[0;34m(self, args, kwargs, override_flat_arg_shapes)\u001b[0m\n\u001b[1;32m   3400\u001b[0m             \u001b[0marg_names\u001b[0m\u001b[0;34m=\u001b[0m\u001b[0marg_names\u001b[0m\u001b[0;34m,\u001b[0m\u001b[0;34m\u001b[0m\u001b[0;34m\u001b[0m\u001b[0m\n\u001b[1;32m   3401\u001b[0m             \u001b[0moverride_flat_arg_shapes\u001b[0m\u001b[0;34m=\u001b[0m\u001b[0moverride_flat_arg_shapes\u001b[0m\u001b[0;34m,\u001b[0m\u001b[0;34m\u001b[0m\u001b[0;34m\u001b[0m\u001b[0m\n\u001b[0;32m-> 3402\u001b[0;31m             capture_by_value=self._capture_by_value),\n\u001b[0m\u001b[1;32m   3403\u001b[0m         \u001b[0mself\u001b[0m\u001b[0;34m.\u001b[0m\u001b[0m_function_attributes\u001b[0m\u001b[0;34m,\u001b[0m\u001b[0;34m\u001b[0m\u001b[0;34m\u001b[0m\u001b[0m\n\u001b[1;32m   3404\u001b[0m         \u001b[0mfunction_spec\u001b[0m\u001b[0;34m=\u001b[0m\u001b[0mself\u001b[0m\u001b[0;34m.\u001b[0m\u001b[0mfunction_spec\u001b[0m\u001b[0;34m,\u001b[0m\u001b[0;34m\u001b[0m\u001b[0;34m\u001b[0m\u001b[0m\n",
            "\u001b[0;32m/usr/local/lib/python3.7/dist-packages/tensorflow/python/framework/func_graph.py\u001b[0m in \u001b[0;36mfunc_graph_from_py_func\u001b[0;34m(name, python_func, args, kwargs, signature, func_graph, autograph, autograph_options, add_control_dependencies, arg_names, op_return_value, collections, capture_by_value, override_flat_arg_shapes, acd_record_initial_resource_uses)\u001b[0m\n\u001b[1;32m   1182\u001b[0m         if x is not None)\n\u001b[1;32m   1183\u001b[0m \u001b[0;34m\u001b[0m\u001b[0m\n\u001b[0;32m-> 1184\u001b[0;31m     \u001b[0mfunc_graph\u001b[0m\u001b[0;34m.\u001b[0m\u001b[0mvariables\u001b[0m \u001b[0;34m=\u001b[0m \u001b[0mvariables\u001b[0m\u001b[0;34m\u001b[0m\u001b[0;34m\u001b[0m\u001b[0m\n\u001b[0m\u001b[1;32m   1185\u001b[0m \u001b[0;34m\u001b[0m\u001b[0m\n\u001b[1;32m   1186\u001b[0m   \u001b[0;32mif\u001b[0m \u001b[0madd_control_dependencies\u001b[0m\u001b[0;34m:\u001b[0m\u001b[0;34m\u001b[0m\u001b[0;34m\u001b[0m\u001b[0m\n",
            "\u001b[0;32m/usr/local/lib/python3.7/dist-packages/tensorflow/python/framework/auto_control_deps.py\u001b[0m in \u001b[0;36m__exit__\u001b[0;34m(self, unused_type, unused_value, unused_traceback)\u001b[0m\n\u001b[1;32m    416\u001b[0m       \u001b[0;31m# Check for any resource inputs. If we find any, we update control_inputs\u001b[0m\u001b[0;34m\u001b[0m\u001b[0;34m\u001b[0m\u001b[0;34m\u001b[0m\u001b[0m\n\u001b[1;32m    417\u001b[0m       \u001b[0;31m# and last_write_to_resource.\u001b[0m\u001b[0;34m\u001b[0m\u001b[0;34m\u001b[0m\u001b[0;34m\u001b[0m\u001b[0m\n\u001b[0;32m--> 418\u001b[0;31m       \u001b[0;32mfor\u001b[0m \u001b[0minp\u001b[0m\u001b[0;34m,\u001b[0m \u001b[0mresource_type\u001b[0m \u001b[0;32min\u001b[0m \u001b[0m_get_resource_inputs\u001b[0m\u001b[0;34m(\u001b[0m\u001b[0mop\u001b[0m\u001b[0;34m)\u001b[0m\u001b[0;34m:\u001b[0m\u001b[0;34m\u001b[0m\u001b[0;34m\u001b[0m\u001b[0m\n\u001b[0m\u001b[1;32m    419\u001b[0m         \u001b[0mis_read\u001b[0m \u001b[0;34m=\u001b[0m \u001b[0mresource_type\u001b[0m \u001b[0;34m==\u001b[0m \u001b[0mResourceType\u001b[0m\u001b[0;34m.\u001b[0m\u001b[0mREAD_ONLY\u001b[0m\u001b[0;34m\u001b[0m\u001b[0;34m\u001b[0m\u001b[0m\n\u001b[1;32m    420\u001b[0m         \u001b[0minput_id\u001b[0m \u001b[0;34m=\u001b[0m \u001b[0mops\u001b[0m\u001b[0;34m.\u001b[0m\u001b[0mtensor_id\u001b[0m\u001b[0;34m(\u001b[0m\u001b[0minp\u001b[0m\u001b[0;34m)\u001b[0m\u001b[0;34m\u001b[0m\u001b[0;34m\u001b[0m\u001b[0m\n",
            "\u001b[0;32m/usr/local/lib/python3.7/dist-packages/tensorflow/python/framework/auto_control_deps.py\u001b[0m in \u001b[0;36m_get_resource_inputs\u001b[0;34m(op)\u001b[0m\n\u001b[1;32m    608\u001b[0m       \u001b[0;31m# TODO(srbs): An alternate would be to just compare the old and new set\u001b[0m\u001b[0;34m\u001b[0m\u001b[0;34m\u001b[0m\u001b[0;34m\u001b[0m\u001b[0m\n\u001b[1;32m    609\u001b[0m       \u001b[0;31m# but that may not be as fast.\u001b[0m\u001b[0;34m\u001b[0m\u001b[0;34m\u001b[0m\u001b[0;34m\u001b[0m\u001b[0m\n\u001b[0;32m--> 610\u001b[0;31m       \u001b[0mupdated\u001b[0m \u001b[0;34m=\u001b[0m \u001b[0m_acd_resource_resolvers_registry\u001b[0m\u001b[0;34m.\u001b[0m\u001b[0mlookup\u001b[0m\u001b[0;34m(\u001b[0m\u001b[0mkey\u001b[0m\u001b[0;34m)\u001b[0m\u001b[0;34m(\u001b[0m\u001b[0mop\u001b[0m\u001b[0;34m,\u001b[0m \u001b[0mreads\u001b[0m\u001b[0;34m,\u001b[0m \u001b[0mwrites\u001b[0m\u001b[0;34m)\u001b[0m\u001b[0;34m\u001b[0m\u001b[0;34m\u001b[0m\u001b[0m\n\u001b[0m\u001b[1;32m    611\u001b[0m       \u001b[0;32mif\u001b[0m \u001b[0mupdated\u001b[0m\u001b[0;34m:\u001b[0m\u001b[0;34m\u001b[0m\u001b[0;34m\u001b[0m\u001b[0m\n\u001b[1;32m    612\u001b[0m         \u001b[0;31m# Conservatively remove any resources from `reads` that are also writes.\u001b[0m\u001b[0;34m\u001b[0m\u001b[0;34m\u001b[0m\u001b[0;34m\u001b[0m\u001b[0m\n",
            "\u001b[0;32m/usr/local/lib/python3.7/dist-packages/tensorflow/python/tpu/tpu.py\u001b[0m in \u001b[0;36mtpu_replicated_input_resolver\u001b[0;34m(op, resource_reads, resource_writes)\u001b[0m\n\u001b[1;32m    265\u001b[0m   \u001b[0;31m# deps when there are multiple calls to `run` in a\u001b[0m\u001b[0;34m\u001b[0m\u001b[0;34m\u001b[0m\u001b[0;34m\u001b[0m\u001b[0m\n\u001b[1;32m    266\u001b[0m   \u001b[0;31m# `tf.function`.\u001b[0m\u001b[0;34m\u001b[0m\u001b[0;34m\u001b[0m\u001b[0;34m\u001b[0m\u001b[0m\n\u001b[0;32m--> 267\u001b[0;31m   \u001b[0;32mdef\u001b[0m \u001b[0mreplace_with_unreplicated_resources\u001b[0m\u001b[0;34m(\u001b[0m\u001b[0mresource_inputs\u001b[0m\u001b[0;34m)\u001b[0m\u001b[0;34m:\u001b[0m\u001b[0;34m\u001b[0m\u001b[0;34m\u001b[0m\u001b[0m\n\u001b[0m\u001b[1;32m    268\u001b[0m     \u001b[0;34m\"\"\"Replaces handles in `resource_inputs` with their unreplicated inputs.\"\"\"\u001b[0m\u001b[0;34m\u001b[0m\u001b[0;34m\u001b[0m\u001b[0m\n\u001b[1;32m    269\u001b[0m     \u001b[0mto_remove\u001b[0m \u001b[0;34m=\u001b[0m \u001b[0;34m[\u001b[0m\u001b[0;34m]\u001b[0m\u001b[0;34m\u001b[0m\u001b[0;34m\u001b[0m\u001b[0m\n",
            "\u001b[0;31mKeyboardInterrupt\u001b[0m: "
          ]
        }
      ]
    },
    {
      "cell_type": "markdown",
      "metadata": {
        "id": "jcTZ3HHJjbDp"
      },
      "source": [
        "## loading model from weights"
      ]
    },
    {
      "cell_type": "code",
      "metadata": {
        "id": "Yt8pqshBxKcQ"
      },
      "source": [
        "# model_path="
      ],
      "execution_count": null,
      "outputs": []
    },
    {
      "cell_type": "code",
      "metadata": {
        "id": "GDa3cYDdLmfB"
      },
      "source": [
        "# model.save_weights(os.path.join('./', 'weights.h5'))"
      ],
      "execution_count": null,
      "outputs": []
    },
    {
      "cell_type": "code",
      "metadata": {
        "id": "5XSzGDRhjbDr"
      },
      "source": [
        "model.load_weights(os.path.join(data_path,'weights.20000.h5'))"
      ],
      "execution_count": 257,
      "outputs": []
    },
    {
      "cell_type": "markdown",
      "metadata": {
        "id": "uBhAHSjiuntr"
      },
      "source": [
        "# language model"
      ]
    },
    {
      "cell_type": "code",
      "metadata": {
        "id": "903NR4MWuntr"
      },
      "source": [
        "# !pip install ipynb"
      ],
      "execution_count": null,
      "outputs": []
    },
    {
      "cell_type": "code",
      "metadata": {
        "id": "ZfVttM_Nunts"
      },
      "source": [
        "from ipynb.fs.full.Language_model import lm_next\n"
      ],
      "execution_count": null,
      "outputs": []
    },
    {
      "cell_type": "code",
      "metadata": {
        "id": "5aymN-okunts"
      },
      "source": [
        "import dill as pickle\n",
        "with open(\"language_model.pkl\", \"rb\") as f:\n",
        "    language_model = pickle.load(f)"
      ],
      "execution_count": null,
      "outputs": []
    },
    {
      "cell_type": "code",
      "metadata": {
        "id": "C_pLa7vpunts"
      },
      "source": [
        "prev=['M29', 'G1'] \n",
        "prediction=lm_next(language_model,prev)"
      ],
      "execution_count": null,
      "outputs": []
    },
    {
      "cell_type": "code",
      "metadata": {
        "id": "2s5dqmSguntt"
      },
      "source": [
        "# prediction"
      ],
      "execution_count": null,
      "outputs": []
    },
    {
      "cell_type": "code",
      "metadata": {
        "id": "BWgvAe_huntu"
      },
      "source": [
        "def choose_next(clf_3,score_3,language_model,prev):\n",
        "#     print(\"prev\",str(prev))\n",
        "    \n",
        "    freq=lm_next(language_model,prev)\n",
        "#     print(freq)\n",
        "    freq_3=[]\n",
        "    for pred in clf_3:\n",
        "        if pred in freq.keys():\n",
        "            freq_3.append(freq[pred])\n",
        "        else:\n",
        "            freq_3.append(0)\n",
        "    freq_3=np.array(freq_3)\n",
        "    score_3 =np.array(score_3).flatten()\n",
        "    #create a function to take the freq weights into consideration\n",
        "    freq_3 = freq_3/np.sum(freq_3)\n",
        "#     print(score_3.flatten())\n",
        "    score_3 = score_3 / np.sum(score_3)\n",
        "#     print(freq_3)\n",
        "    \n",
        "    scores = score_3 + freq_3\n",
        "#     print('scores : ',scores)\n",
        "    predicted=clf_3[np.argmax(scores)]\n",
        "    print(\"clf predicted : \",clf_3[-1],\" lm freq max : \",list(freq.keys())[0], \" final : \",predicted)\n",
        "    return predicted"
      ],
      "execution_count": null,
      "outputs": []
    },
    {
      "cell_type": "code",
      "metadata": {
        "id": "gpBfXT800k_M"
      },
      "source": [
        "def predict_lm(Xtest,anchor_img,anchor_label,model,language_model,sizes):\n",
        "    preds=[]\n",
        "    for new in Xtest:\n",
        "        if len(preds) < 2 :\n",
        "            predicted,anchor_imgs,targets=whichGlyph(model,new,anchor_img,anchor_label)\n",
        "            sort_index = np.argsort(np.asarray(predicted).reshape(len(predicted),))\n",
        "            targ=targets[sort_index[-1]]\n",
        "            print(targ)\n",
        "            if targ =='UNKNOWN':\n",
        "                targ=targets[sort_index[-2]] \n",
        "            preds.append(targ)\n",
        "        else:\n",
        "            predicted,anchor_imgs,targets=whichGlyph(model,new,anchor_img,anchor_label)\n",
        "            sort_index = np.argsort(np.asarray(predicted).reshape(len(predicted),))\n",
        "#             print('target : ',targets[sort_index[-1:]])\n",
        "            predicted = choose_next(targets[sort_index[-3:]],predicted[sort_index[-3:]],language_model,preds[-2:])\n",
        "            preds.append(predicted)\n",
        "    return preds\n"
      ],
      "execution_count": null,
      "outputs": []
    },
    {
      "cell_type": "code",
      "metadata": {
        "id": "xmiyLTkr6R26"
      },
      "source": [
        "def test_lm(Xtest,ytest,anchor_img,anchor_label,model,language_model,sizes):\n",
        "    preds=predict_lm(Xtest,anchor_img,anchor_label,model,language_model,sizes)\n",
        "    preds=np.asarray(preds)\n",
        "    ytest=np.asarray(ytest)\n",
        "    accuracy = sum(preds==ytest)/len(ytest)\n",
        "    return accuracy"
      ],
      "execution_count": null,
      "outputs": []
    },
    {
      "cell_type": "code",
      "metadata": {
        "id": "uqngYdIbUVmk"
      },
      "source": [
        "image_lm_test=[]\n",
        "word=['M17','G1','X1','F9','N5']\n",
        "for w in word:\n",
        "    ind = np.random.choice(sizes_val[w])\n",
        "    image_lm_test.append(Xval[ind])\n"
      ],
      "execution_count": null,
      "outputs": []
    },
    {
      "cell_type": "code",
      "metadata": {
        "id": "ibv1_h0ABJWg",
        "outputId": "b4012c01-d6cf-48d1-8a3c-9bae7b843c1f"
      },
      "source": [
        "test_lm(image_lm_test,word,anchor_img,anchor_label,model,language_model,sizes)"
      ],
      "execution_count": null,
      "outputs": [
        {
          "name": "stdout",
          "output_type": "stream",
          "text": [
            "M17\n",
            "G1\n",
            "clf predicted :  X1  lm freq max :  X1  final :  X1\n",
            "clf predicted :  Q3  lm freq max :  Q3  final :  Q3\n",
            "clf predicted :  O50  lm freq max :  None  final :  W24\n"
          ]
        },
        {
          "name": "stderr",
          "output_type": "stream",
          "text": [
            "/home/asmaa/anaconda3/lib/python3.7/site-packages/ipykernel_launcher.py:15: RuntimeWarning: invalid value encountered in true_divide\n",
            "  from ipykernel import kernelapp as app\n"
          ]
        },
        {
          "data": {
            "text/plain": [
              "0.6"
            ]
          },
          "execution_count": 37,
          "metadata": {},
          "output_type": "execute_result"
        }
      ]
    },
    {
      "cell_type": "markdown",
      "metadata": {
        "id": "qOhbMPWfBJ2D"
      },
      "source": [
        "## Multi anchor array"
      ]
    },
    {
      "cell_type": "code",
      "metadata": {
        "id": "tdP0sccj306G"
      },
      "source": [
        "def create_multi_anchor(N,X,sizes):\n",
        "  multi_anchor_img=[]\n",
        "  multi_anchor_label=[]\n",
        "  for n in range(N):\n",
        "    anchor_img, anchor_label=create_glyphlist(X,sizes)\n",
        "    multi_anchor_img.append(anchor_img)\n",
        "    multi_anchor_label.append(anchor_label)\n",
        "  return np.asarray(multi_anchor_img),np.asarray(multi_anchor_label)"
      ],
      "execution_count": null,
      "outputs": []
    },
    {
      "cell_type": "code",
      "metadata": {
        "id": "ebqC6Jor7vRt"
      },
      "source": [
        "multi_anchor_img,multi_anchor_label=create_multi_anchor(3,X,sizes)"
      ],
      "execution_count": null,
      "outputs": []
    },
    {
      "cell_type": "code",
      "metadata": {
        "colab": {
          "base_uri": "https://localhost:8080/"
        },
        "id": "K_rwy8RwGwzD",
        "outputId": "6808a576-d7bd-4dd8-af92-82cacd1fd125"
      },
      "source": [
        ""
      ],
      "execution_count": null,
      "outputs": [
        {
          "data": {
            "text/plain": [
              "array([ 3,  7, 12])"
            ]
          },
          "execution_count": 53,
          "metadata": {},
          "output_type": "execute_result"
        }
      ]
    },
    {
      "cell_type": "code",
      "metadata": {
        "id": "aj6UDcss7rZp"
      },
      "source": [
        "def test_multi_anchor_random(N,Xval,yval,multi_anchor_img,multi_anchor_label,model,sizes):\n",
        "  count_first=0\n",
        "  multi_N=multi_anchor_img.shape[0]\n",
        "  final_scores=np.zeros((multi_anchor_label[0].shape[0],1))\n",
        "  for i in range(N):\n",
        "    if i%100 == 0:\n",
        "      print(\"test \",i)\n",
        "    random_key = random.choice(list(sizes))\n",
        "    ind = np.random.choice(sizes[random_key])\n",
        "    # print(yval[ind][0])\n",
        "    for j in range(multi_N):\n",
        "      predicted,anchor_imgs,targets=whichGlyph(model,Xval[ind],multi_anchor_img[j],multi_anchor_label[j])\n",
        "      zipped_lists = zip(targets,predicted)\n",
        "      sorted_pairs = sorted(zipped_lists)\n",
        "      tuples = zip(*sorted_pairs)\n",
        "      targets,predicted = [ list(tuple) for tuple in  tuples]\n",
        "      # print(targets[:3],\" - \",predicted[:3])\n",
        "      final_scores = np.asarray(final_scores) + np.asarray(predicted)\n",
        "\n",
        "    final_pred = targets[np.argmax(final_scores)]\n",
        "    # print(final_pred ,'  - ', yval[ind][0],' - ',count_first)\n",
        "    if final_pred == yval[ind][0]:\n",
        "        count_first+=1\n",
        "    final_scores=np.zeros((multi_anchor_label[0].shape[0],1))\n",
        "    \n",
        "  percent_correct = (100.0 * count_first / N)\n",
        "  return percent_correct\n",
        "\n"
      ],
      "execution_count": 208,
      "outputs": []
    },
    {
      "cell_type": "code",
      "metadata": {
        "colab": {
          "base_uri": "https://localhost:8080/"
        },
        "id": "ubUXaG1ixPhe",
        "outputId": "d430cc94-c706-4cbd-da98-5ae31fc2259c"
      },
      "source": [
        "t_start = time.time()\n",
        "acc=test_multi_anchor_random(1000,Xval,yval,multi_anchor_img,multi_anchor_label,model,sizes_val)\n",
        "print(f'testing:\\nfound first accuracy with multi anchors = {acc}')\n",
        "print(\"accuracy fn took {0} mins\".format((time.time()-t_start)/60.0))"
      ],
      "execution_count": null,
      "outputs": [
        {
          "name": "stdout",
          "output_type": "stream",
          "text": [
            "test  0\n",
            "test  100\n",
            "test  200\n",
            "test  300\n",
            "test  400\n",
            "test  500\n",
            "test  600\n",
            "test  700\n",
            "test  800\n",
            "test  900\n",
            "testing:\n",
            "found first accuracy with multi anchors = 63.2\n",
            "accuracy fn took 6.661158684889475 mins\n"
          ]
        }
      ]
    },
    {
      "cell_type": "code",
      "metadata": {
        "id": "iNrKRHu2y3us"
      },
      "source": [
        "\n",
        "    # print(m,\":\",len(sizes[m]))"
      ],
      "execution_count": 222,
      "outputs": []
    },
    {
      "cell_type": "markdown",
      "metadata": {
        "id": "heS2B6tcuntu"
      },
      "source": [
        "# Some Testing"
      ]
    },
    {
      "cell_type": "code",
      "metadata": {
        "colab": {
          "base_uri": "https://localhost:8080/"
        },
        "id": "GmLQ6lVYjbDt",
        "scrolled": true,
        "outputId": "d25f950c-558f-46c7-dfaf-1b733b01a9e6"
      },
      "source": [
        "t_start = time.time()\n",
        "acc1,acc3=calc_accuracy(1000,Xval,yval,anchor_img,anchor_label,model,sizes_val)\n",
        "print(f'testing:\\nfound first accuracy = {acc1} , first 3 accuracy = {acc3}')\n",
        "print(\"accuracy fn took {0} mins\".format((time.time()-t_start)/60.0))"
      ],
      "execution_count": 258,
      "outputs": [
        {
          "output_type": "stream",
          "name": "stdout",
          "text": [
            "testing:\n",
            "found first accuracy = 0.626 , first 3 accuracy = 0.872\n",
            "accuracy fn took 2.1001135031382243 mins\n"
          ]
        }
      ]
    },
    {
      "cell_type": "code",
      "metadata": {
        "colab": {
          "base_uri": "https://localhost:8080/"
        },
        "id": "NdtRB3qAjbDw",
        "scrolled": false,
        "outputId": "616b2116-9157-41c4-a5d1-bc86573330c7"
      },
      "source": [
        "t_start = time.time()\n",
        "acc1,acc3=calc_accuracy(250,X,y,anchor_img,anchor_label,model,sizes)\n",
        "print(f'training:\\nfound first accuracy = {acc1} , first 3 accuracy = {acc3} ')\n",
        "print(\"accuracy fn took {0} mins\".format((time.time()-t_start)/60.0))"
      ],
      "execution_count": null,
      "outputs": [
        {
          "name": "stdout",
          "output_type": "stream",
          "text": [
            "training:\n",
            "found first accuracy = 0.996 , first 3 accuracy = 1.0 \n",
            "accuracy fn took 0.5483039061228434 mins\n"
          ]
        }
      ]
    },
    {
      "cell_type": "code",
      "metadata": {
        "colab": {
          "base_uri": "https://localhost:8080/"
        },
        "id": "W4Ci6fRSuntv",
        "outputId": "e44770bd-94ad-4b44-fb09-b5f369f36c3e"
      },
      "source": [
        "t_start = time.time()\n",
        "y_pred,y_true= predict_random(1000,Xval,yval,anchor_img,anchor_label,model,sizes_val)\n",
        "print(\"accuracy fn took {0} mins\".format((time.time()-t_start)/60.0))"
      ],
      "execution_count": 210,
      "outputs": [
        {
          "output_type": "stream",
          "name": "stdout",
          "text": [
            "accuracy fn took 2.0673663139343263 mins\n"
          ]
        }
      ]
    },
    {
      "cell_type": "code",
      "metadata": {
        "colab": {
          "base_uri": "https://localhost:8080/"
        },
        "id": "dwJIsMhQuntw",
        "outputId": "85939e57-618b-4268-fd9f-80dd9dfca048"
      },
      "source": [
        "# confusion_matrix = pd.crosstab(index=y_true, columns=y_pred, rownames=['True'], colnames=['predictions']).astype(int)\n",
        "# sns.heatmap(confusion_matrix, annot=True, fmt='.2f', cmap=\"YlGnBu\").set_title('Confusion Matrix')\n",
        "print(classification_report(y_true,y_pred))"
      ],
      "execution_count": 211,
      "outputs": [
        {
          "output_type": "stream",
          "name": "stdout",
          "text": [
            "              precision    recall  f1-score   support\n",
            "\n",
            "        Aa15       0.00      0.00      0.00         6\n",
            "        Aa26       1.00      1.00      1.00         6\n",
            "        Aa27       0.00      0.00      0.00        11\n",
            "          D1       0.00      0.00      0.00        10\n",
            "         D10       0.00      0.00      0.00        11\n",
            "        D156       0.46      1.00      0.63         6\n",
            "         D19       0.00      0.00      0.00         3\n",
            "          D2       0.00      0.00      0.00        11\n",
            "         D21       1.00      0.92      0.96        12\n",
            "         D28       0.56      0.56      0.56         9\n",
            "         D35       0.86      0.86      0.86         7\n",
            "         D36       1.00      0.78      0.88         9\n",
            "         D39       0.00      0.00      0.00         8\n",
            "          D4       0.67      0.67      0.67         9\n",
            "         D46       0.12      0.14      0.13         7\n",
            "         D52       0.00      0.00      0.00         9\n",
            "         D54       0.00      0.00      0.00         7\n",
            "         D56       0.00      0.00      0.00         6\n",
            "         D58       0.00      0.00      0.00         7\n",
            "         D60       0.75      0.43      0.55         7\n",
            "          E1       0.25      1.00      0.40         5\n",
            "         E23       0.00      0.00      0.00         5\n",
            "         E34       0.60      0.75      0.67         8\n",
            "          E9       1.00      0.60      0.75         5\n",
            "         F13       1.00      0.44      0.62         9\n",
            "         F16       1.00      1.00      1.00         9\n",
            "         F18       1.00      0.60      0.75         5\n",
            "         F26       0.67      1.00      0.80         8\n",
            "         F31       0.00      0.00      0.00        10\n",
            "         F34       0.00      0.00      0.00         8\n",
            "         F35       0.53      1.00      0.69         9\n",
            "          F4       0.70      1.00      0.82         7\n",
            "         F40       1.00      1.00      1.00        12\n",
            "          F9       0.00      0.00      0.00        11\n",
            "          G1       0.00      0.00      0.00         4\n",
            "         G14       0.00      0.00      0.00        11\n",
            "         G17       1.00      0.56      0.71         9\n",
            "         G21       0.00      0.00      0.00         6\n",
            "         G25       0.67      0.53      0.59        15\n",
            "         G26       0.00      0.00      0.00         4\n",
            "         G29       0.00      0.00      0.00         4\n",
            "         G35       0.00      0.00      0.00         8\n",
            "         G36       0.08      0.33      0.13         6\n",
            "         G37       0.00      0.00      0.00         6\n",
            "         G39       0.42      0.71      0.53         7\n",
            "          G4       0.00      0.00      0.00         9\n",
            "         G40       0.00      0.00      0.00         7\n",
            "         G43       1.00      0.90      0.95        10\n",
            "          G5       0.00      0.00      0.00        11\n",
            "          G7       0.17      0.20      0.18         5\n",
            "          H6       0.12      0.57      0.20         7\n",
            "         I10       1.00      0.89      0.94         9\n",
            "          I9       0.86      1.00      0.92        12\n",
            "          L1       0.00      0.00      0.00         7\n",
            "          M1       0.00      0.00      0.00        12\n",
            "         M12       0.00      0.00      0.00         7\n",
            "         M16       0.00      0.00      0.00        10\n",
            "         M17       0.37      1.00      0.54         7\n",
            "         M18       0.00      0.00      0.00         6\n",
            "        M195       0.00      0.00      0.00        10\n",
            "         M20       1.00      1.00      1.00         9\n",
            "         M23       1.00      0.70      0.82        10\n",
            "         M29       0.00      0.00      0.00         5\n",
            "          M3       0.00      0.00      0.00         9\n",
            "         M40       0.00      0.00      0.00         8\n",
            "         M41       0.73      1.00      0.84         8\n",
            "         M42       0.56      1.00      0.71        10\n",
            "         M44       0.00      0.00      0.00         5\n",
            "          M8       0.00      0.00      0.00         4\n",
            "          N1       0.16      0.50      0.24         6\n",
            "         N14       0.38      0.83      0.53         6\n",
            "         N17       0.40      0.33      0.36         6\n",
            "         N18       0.00      0.00      0.00         9\n",
            "         N25       1.00      1.00      1.00         9\n",
            "         N29       0.00      0.00      0.00         8\n",
            "         N30       0.00      0.00      0.00        11\n",
            "         N31       0.00      0.00      0.00         7\n",
            "         N35       1.00      1.00      1.00         2\n",
            "         N36       0.00      0.00      0.00        14\n",
            "         N37       0.00      0.00      0.00         8\n",
            "         N41       0.00      0.00      0.00         8\n",
            "          N5       0.00      0.00      0.00         3\n",
            "          O1       0.44      0.67      0.53         6\n",
            "         O28       0.00      0.00      0.00         7\n",
            "         O31       0.00      0.00      0.00         2\n",
            "         O34       0.40      0.57      0.47         7\n",
            "          O4       1.00      0.89      0.94         9\n",
            "         O49       0.00      0.00      0.00         7\n",
            "         O50       0.75      0.33      0.46         9\n",
            "          P1       0.00      0.00      0.00         8\n",
            "          P6       1.00      1.00      1.00        10\n",
            "          P8       0.00      0.00      0.00         6\n",
            "         P98       1.00      1.00      1.00        13\n",
            "          Q1       0.14      0.17      0.15         6\n",
            "          Q3       0.00      0.00      0.00         3\n",
            "          Q7       0.00      0.00      0.00         7\n",
            "          R4       0.00      0.00      0.00         5\n",
            "          R8       0.25      1.00      0.40         4\n",
            "         S24       0.20      1.00      0.33         5\n",
            "         S28       0.00      0.00      0.00         6\n",
            "         S29       1.00      0.86      0.92         7\n",
            "         S34       0.00      0.00      0.00         7\n",
            "         T20       0.00      0.00      0.00         3\n",
            "         T21       0.62      1.00      0.76         8\n",
            "         T22       0.00      0.00      0.00         8\n",
            "         T28       0.00      0.00      0.00         5\n",
            "         T30       0.00      0.00      0.00         4\n",
            "          U1       1.00      0.30      0.46        10\n",
            "         U15       0.00      0.00      0.00         6\n",
            "         U28       0.00      0.00      0.00         7\n",
            "         U33       0.75      0.27      0.40        11\n",
            "          U7       0.00      0.00      0.00        13\n",
            "     UNKNOWN       0.00      0.00      0.00         7\n",
            "         V13       1.00      0.88      0.93         8\n",
            "         V24       0.00      0.00      0.00         3\n",
            "         V28       0.90      1.00      0.95         9\n",
            "         V30       0.00      0.00      0.00         5\n",
            "         V31       1.00      1.00      1.00         6\n",
            "          V4       0.00      0.00      0.00         4\n",
            "          V6       0.00      0.00      0.00         5\n",
            "          V7       0.00      0.00      0.00         7\n",
            "         W11       0.00      0.00      0.00        10\n",
            "         W18       0.00      0.00      0.00         5\n",
            "         W19       0.00      0.00      0.00         4\n",
            "         W22       0.00      0.00      0.00        11\n",
            "         W24       0.00      0.00      0.00         5\n",
            "         W25       0.50      1.00      0.67         8\n",
            "          X1       0.40      0.44      0.42         9\n",
            "          X8       0.00      0.00      0.00         3\n",
            "          Y2       0.00      0.00      0.00         5\n",
            "          Y3       0.00      0.00      0.00         2\n",
            "          Y5       1.00      0.30      0.46        10\n",
            "          Z1       1.00      0.80      0.89         5\n",
            "         Z11       0.00      0.00      0.00         8\n",
            "          Z7       0.75      1.00      0.86         6\n",
            "\n",
            "    accuracy                           0.35      1000\n",
            "   macro avg       0.30      0.33      0.30      1000\n",
            "weighted avg       0.34      0.35      0.33      1000\n",
            "\n"
          ]
        },
        {
          "output_type": "stream",
          "name": "stderr",
          "text": [
            "/usr/local/lib/python3.7/dist-packages/sklearn/metrics/_classification.py:1308: UndefinedMetricWarning: Precision and F-score are ill-defined and being set to 0.0 in labels with no predicted samples. Use `zero_division` parameter to control this behavior.\n",
            "  _warn_prf(average, modifier, msg_start, len(result))\n",
            "/usr/local/lib/python3.7/dist-packages/sklearn/metrics/_classification.py:1308: UndefinedMetricWarning: Precision and F-score are ill-defined and being set to 0.0 in labels with no predicted samples. Use `zero_division` parameter to control this behavior.\n",
            "  _warn_prf(average, modifier, msg_start, len(result))\n",
            "/usr/local/lib/python3.7/dist-packages/sklearn/metrics/_classification.py:1308: UndefinedMetricWarning: Precision and F-score are ill-defined and being set to 0.0 in labels with no predicted samples. Use `zero_division` parameter to control this behavior.\n",
            "  _warn_prf(average, modifier, msg_start, len(result))\n"
          ]
        }
      ]
    },
    {
      "cell_type": "code",
      "metadata": {
        "colab": {
          "base_uri": "https://localhost:8080/"
        },
        "id": "X4Xa-BGqPzgQ",
        "outputId": "b116be19-2a5f-4926-ff80-cfc8cb6932dc"
      },
      "source": [
        "y[y=='UNKNOWN'].shape"
      ],
      "execution_count": null,
      "outputs": [
        {
          "data": {
            "text/plain": [
              "(125,)"
            ]
          },
          "execution_count": 158,
          "metadata": {},
          "output_type": "execute_result"
        }
      ]
    },
    {
      "cell_type": "code",
      "metadata": {
        "id": "poAicP_njbDx"
      },
      "source": [
        "# t_start = time.time()\n",
        "# print(calc_accuracy(1,Xval,yval,anchor_img,anchor_label,model))\n",
        "# print(\"accuracy fn took {0} sec\".format((time.time()-t_start)))"
      ],
      "execution_count": null,
      "outputs": []
    },
    {
      "cell_type": "markdown",
      "metadata": {
        "id": "beW1a29IjbDz"
      },
      "source": [
        "### Testing new images"
      ]
    },
    {
      "cell_type": "code",
      "metadata": {
        "id": "JF4kj__Cunty"
      },
      "source": [
        "def preprocess(img):\n",
        "    if len(img.shape) == 3 and img.shape[2]==3:\n",
        "        img = cv2.cvtColor(img, cv2.COLOR_BGR2GRAY)\n",
        "        \n",
        "    img = cv2.resize(img,(50,75))\n",
        "    return img"
      ],
      "execution_count": null,
      "outputs": []
    },
    {
      "cell_type": "code",
      "metadata": {
        "id": "hrLEK0fejbDz",
        "scrolled": false,
        "outputId": "53ef323a-f1ba-4b3d-9a23-ca7b4fce6a66"
      },
      "source": [
        "test_img1=io.imread('3.jpg')\n",
        "test_img1=preprocess(test_img1)\n",
        "print(test_img1.shape)\n",
        "io.imshow(test_img1)\n"
      ],
      "execution_count": null,
      "outputs": [
        {
          "name": "stdout",
          "output_type": "stream",
          "text": [
            "(75, 50)\n"
          ]
        },
        {
          "data": {
            "text/plain": [
              "<matplotlib.image.AxesImage at 0x7f9021d10450>"
            ]
          },
          "execution_count": 187,
          "metadata": {},
          "output_type": "execute_result"
        },
        {
          "data": {
            "image/png": "[encoded data removed]",
            "text/plain": [
              "<Figure size 432x288 with 1 Axes>"
            ]
          },
          "metadata": {
            "needs_background": "light"
          },
          "output_type": "display_data"
        }
      ]
    },
    {
      "cell_type": "code",
      "metadata": {
        "id": "YZerd3l3untz",
        "outputId": "7cd6dfca-6118-4754-f9f7-6a97f8a237b2"
      },
      "source": [
        "print(targets[64])\n",
        "targets"
      ],
      "execution_count": null,
      "outputs": [
        {
          "name": "stdout",
          "output_type": "stream",
          "text": [
            "X1\n"
          ]
        },
        {
          "data": {
            "text/plain": [
              "array(['U33', 'Q1', 'Y3', 'D39', 'N17', 'G29', 'G26', 'M23', 'Z1', 'M40',\n",
              "       'D21', 'W18', 'T30', 'F34', 'G7', 'M12', 'W24', 'G39', 'M20',\n",
              "       'N25', 'V7', 'D2', 'Y2', 'E34', 'E23', 'G40', 'N5', 'N18', 'G37',\n",
              "       'W25', 'F18', 'D60', 'T20', 'G1', 'V28', 'N35', 'U1', 'N41',\n",
              "       'M195', 'D56', 'D10', 'Q3', 'G36', 'D28', 'T21', 'W11', 'G25',\n",
              "       'F31', 'E9', 'Q7', 'O34', 'M17', 'I10', 'Y5', 'V24', 'N30', 'X8',\n",
              "       'S24', 'M41', 'N14', 'UNKNOWN', 'G35', 'S28', 'P6', 'X1', 'V30',\n",
              "       'N29', 'Z7', 'R8', 'D156', 'V4', 'F16', 'D58', 'N31', 'G14', 'G17',\n",
              "       'F13', 'F4', 'P98', 'D46', 'V31', 'G4', 'F9', 'D35', 'M1', 'O50',\n",
              "       'O4', 'F35', 'P8', 'O31', 'S34', 'D4', 'M16', 'R4', 'O28', 'M3',\n",
              "       'N36', 'Z11', 'N1', 'D36', 'D1', 'W22', 'D52', 'O49', 'M29', 'D19',\n",
              "       'V6', 'U15', 'F26', 'G5', 'M44', 'M42', 'G43', 'U7', 'N37', 'T22',\n",
              "       'H6', 'L1', 'E1', 'S29', 'I9', 'Aa27', 'T28', 'G21', 'M8', 'U28',\n",
              "       'O1', 'Aa26', 'Aa15', 'F40', 'W19', 'P1', 'M18', 'D54', 'V13'],\n",
              "      dtype='<U7')"
            ]
          },
          "execution_count": 195,
          "metadata": {},
          "output_type": "execute_result"
        }
      ]
    },
    {
      "cell_type": "code",
      "metadata": {
        "id": "1Lic7m0Quntz",
        "outputId": "33210212-e0e0-43f0-ce61-ffa038241d44"
      },
      "source": [
        "predicted[100]"
      ],
      "execution_count": null,
      "outputs": [
        {
          "data": {
            "text/plain": [
              "array([0.65185916], dtype=float32)"
            ]
          },
          "execution_count": 197,
          "metadata": {},
          "output_type": "execute_result"
        }
      ]
    },
    {
      "cell_type": "code",
      "metadata": {
        "id": "9ZplSFXGjbD3"
      },
      "source": [
        "predicted,anchor_imgs,targets=whichGlyph(model,test_img1.reshape(75,50,1),anchor_img,anchor_label)"
      ],
      "execution_count": null,
      "outputs": []
    },
    {
      "cell_type": "code",
      "metadata": {
        "id": "sBjp6Mgvunt0",
        "outputId": "ac73d447-99dd-4a25-dc20-e592194a706b"
      },
      "source": [
        "sort_index = np.argsort(np.asarray(predicted).reshape(len(predicted),))\n",
        "sort_index "
      ],
      "execution_count": null,
      "outputs": [
        {
          "data": {
            "text/plain": [
              "array([ 57,  22,  39, 121, 116,  20,  97, 125,  30,  62,  90,  15, 110,\n",
              "        98,  29, 130,  50, 104,  93,  92, 111,   5,  86,  37,  56,  76,\n",
              "       106,  59,  31,  83, 115, 122,  73, 134,  34,  44,  88,  72,  27,\n",
              "         1, 107,  65,  87,  32,  89,  95,  55,  67, 133,  77,  94, 129,\n",
              "       114,  38,  81,  49, 101,  11,   0,  63, 131, 132, 117,  19,  54,\n",
              "        91, 127,   4, 108,  70,  99,  69,  46,  28,  84,   6,   2,  17,\n",
              "       126, 113,  78,  40,  51, 124,  74,  79, 103,   3, 128,   7,   9,\n",
              "         8,  24, 118,  43,  47,  35,  96,  18,  82, 119, 120, 105,  13,\n",
              "        36, 102,  68,  66,  48,  42,  21,  61,  33,  25,  10,  52,  71,\n",
              "        64, 109,  23,  75,  53,  14,  60,  12,  45, 123, 112,  80,  26,\n",
              "        85,  58,  41,  16, 100])"
            ]
          },
          "execution_count": 172,
          "metadata": {},
          "output_type": "execute_result"
        }
      ]
    },
    {
      "cell_type": "code",
      "metadata": {
        "id": "Xas8Egtzunt1",
        "outputId": "f6e5d690-82e8-472f-c34d-cd271e20286a"
      },
      "source": [
        "io.imshow(anchor_imgs[100].reshape(75,50))"
      ],
      "execution_count": null,
      "outputs": [
        {
          "data": {
            "text/plain": [
              "<matplotlib.image.AxesImage at 0x7f9021c8af50>"
            ]
          },
          "execution_count": 198,
          "metadata": {},
          "output_type": "execute_result"
        },
        {
          "data": {
            "image/png": "[encoded data removed]",
            "text/plain": [
              "<Figure size 432x288 with 1 Axes>"
            ]
          },
          "metadata": {
            "needs_background": "light"
          },
          "output_type": "display_data"
        }
      ]
    },
    {
      "cell_type": "code",
      "metadata": {
        "id": "PIEwqh2Hunt1"
      },
      "source": [
        ""
      ],
      "execution_count": null,
      "outputs": []
    }
  ]
}