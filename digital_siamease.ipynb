{
 "cells": [
  {
   "cell_type": "code",
   "execution_count": 1,
   "metadata": {
    "execution": {
     "iopub.execute_input": "2021-12-14T14:48:06.657460Z",
     "iopub.status.busy": "2021-12-14T14:48:06.656989Z",
     "iopub.status.idle": "2021-12-14T14:48:13.131279Z",
     "shell.execute_reply": "2021-12-14T14:48:13.130525Z",
     "shell.execute_reply.started": "2021-12-14T14:48:06.657363Z"
    },
    "id": "S9EUfmmBja-_"
   },
   "outputs": [],
   "source": [
    "import os\n",
    "import pandas as pd\n",
    "import numpy as np\n",
    "import random\n",
    "import matplotlib.pyplot as plt\n",
    "import seaborn as sns\n",
    "import cv2\n",
    "\n",
    "import skimage.io as io\n",
    "import pickle\n",
    "\n",
    "import time\n",
    "\n",
    "from sklearn.utils import shuffle\n",
    "from sklearn.model_selection import train_test_split\n",
    "\n",
    "import tensorflow as tf\n",
    "from keras.models import Sequential\n",
    "#for colab\n",
    "from tensorflow.keras.optimizers import Adam\n",
    "\n",
    "# from keras.optimizers import Adam\n",
    "from keras.layers import Conv2D, ZeroPadding2D, Activation, Input, Concatenate\n",
    "from keras.models import Model\n",
    "\n",
    "from tensorflow.keras.layers import BatchNormalization,Dropout\n",
    "from keras.layers.pooling import MaxPooling2D\n",
    "from keras.layers.merge import Concatenate\n",
    "from keras.layers.core import Lambda, Flatten, Dense\n",
    "from keras.initializers import glorot_uniform\n",
    "\n",
    "from tensorflow.keras.layers import Layer\n",
    "from keras.regularizers import l2\n",
    "from keras import backend as K\n",
    "\n",
    "from tensorflow.keras.applications.inception_v3 import InceptionV3\n",
    "# from tensorflow.keras.preprocessing import image\n",
    "# from tensorflow.keras.models import Model\n",
    "# from tensorflow.keras.layers import Dense, GlobalAveragePooling2D\n",
    "\n",
    "from sklearn.metrics import confusion_matrix, classification_report\n"
   ]
  },
  {
   "cell_type": "markdown",
   "metadata": {
    "id": "XXwbeZYYjbAJ"
   },
   "source": [
    "# Loading data\n",
    "a function that loads the images locations and labels.<br>\n",
    "input: the data path.<br>\n",
    "output:<br>\n",
    "&emsp;&emsp;dataHiero -> a dataframe with index= location of images and label= their labels <br>\n",
    "&emsp;&emsp;img_groups -> a dictionary in the shape of { \"label\" : [array of locations of images labeled with this label] }"
   ]
  },
  {
   "cell_type": "code",
   "execution_count": null,
   "metadata": {
    "id": "noWbwGlLjbAY"
   },
   "outputs": [],
   "source": [
    "path=\"../GlyphDataset/Dataset/Manual/Preprocessed/\"\n",
    "\n",
    "def loadData(folderPictures=path):\n",
    "    \n",
    "    folders=next(os.walk(folderPictures))[1]\n",
    "    img_groups = {}\n",
    "    img_list={}\n",
    "\n",
    "    for folder in folders:\n",
    "        for img_file in os.listdir(folderPictures+folder):\n",
    "            name, label = img_file.strip('.png').split(\"_\")\n",
    "            \n",
    "            \n",
    "            # One image per class\n",
    "\n",
    "            #if label not in img_groups.keys():\n",
    "            #    img_groups[label] = [folder + \"_\" + name]\n",
    "\n",
    "\n",
    "            # Multiple images per class\n",
    "\n",
    "            if label in img_groups.keys():\n",
    "                img_groups[label].append(folder+\"_\"+name)\n",
    "            else:\n",
    "                img_groups[label] = [folder+\"_\"+name]\n",
    "\n",
    "            img_list[folder+\"_\"+name]=[label]\n",
    "\n",
    "\n",
    "    # Remove class with only one hieroglyph\n",
    "\n",
    "\n",
    "    for k,v in list(img_groups.items()):\n",
    "        if len(v)==1: del img_groups[k]\n",
    "\n",
    "    # Extract only N hieroglyph classes randomly\n",
    "\n",
    "    nclass = len(img_groups.keys())\n",
    "\n",
    "    list_of_class = random.sample(list(img_groups.keys()), nclass)\n",
    "#     print(list_of_class)\n",
    "\n",
    "    short_dico = {x: img_groups[x] for x in list_of_class if x in img_groups}\n",
    "\n",
    "    dataHiero=pd.DataFrame.from_dict(img_list,orient='index')\n",
    "    dataHiero.columns = [\"label\"]\n",
    "    dataHiero = dataHiero[dataHiero.label != 'UNKNOWN']\n",
    "\n",
    "    dataHiero = dataHiero.loc[dataHiero['label'].isin(short_dico)]\n",
    "\n",
    "\n",
    "    dataHiero.reset_index(level=0, inplace=True)\n",
    "\n",
    "    return dataHiero,img_groups"
   ]
  },
  {
   "cell_type": "markdown",
   "metadata": {
    "id": "_CaZM8DxjbAp"
   },
   "source": [
    "a function that takes the image groups and load those images<br>\n",
    "input: img_proups dictionary<br>\n",
    "output:<br>\n",
    "&emsp;&emsp;X -> np array of the images<br>\n",
    "&emsp;&emsp;y -> np array of labels<br>\n",
    "&emsp;&emsp;glyph_sizes -> a dictionary in the form of {'label' : (starting index, ending index in X and y)}\n"
   ]
  },
  {
   "cell_type": "code",
   "execution_count": null,
   "metadata": {
    "id": "xO2UaDgTjbAu"
   },
   "outputs": [],
   "source": [
    "def read_images(img_groups,path):\n",
    "    X=[]\n",
    "    y=[]\n",
    "    glyph_sizes={}\n",
    "    low=0\n",
    "    for glyph in img_groups:\n",
    "        category_images=[]\n",
    "        high=low\n",
    "        for img_path in img_groups[glyph] :\n",
    "            folder,name = img_path.split('_')\n",
    "            image = io.imread(path+folder+'/'+name+'_'+glyph+'.png')\n",
    "            X.append(image)\n",
    "            y.append(glyph)\n",
    "            high+=1\n",
    "#         X.append(np.array(category_images))\n",
    "        glyph_sizes[glyph]=(low,high-1)\n",
    "        low=high\n",
    "        \n",
    "    return np.array(X),np.array(y).reshape((-1,1)),glyph_sizes\n",
    "            \n",
    "    "
   ]
  },
  {
   "cell_type": "code",
   "execution_count": null,
   "metadata": {
    "id": "vwJdv81wuntL"
   },
   "outputs": [],
   "source": []
  },
  {
   "cell_type": "code",
   "execution_count": null,
   "metadata": {
    "id": "IYwf13e4jbA3",
    "outputId": "40164a56-2bf4-4e9f-9e17-823f4146688c"
   },
   "outputs": [],
   "source": [
    "dataHiero,img_groups=loadData(folderPictures=path)\n",
    "dataHiero.head()\n",
    "# img_groups"
   ]
  },
  {
   "cell_type": "code",
   "execution_count": null,
   "metadata": {
    "id": "-j6RWKkrjbA6"
   },
   "outputs": [],
   "source": [
    "X,y,sizes=read_images(img_groups,path)"
   ]
  },
  {
   "cell_type": "code",
   "execution_count": null,
   "metadata": {
    "id": "6dtSHq2CuntN",
    "outputId": "ece1fc39-78e5-44e5-afce-2d02122bff05"
   },
   "outputs": [],
   "source": [
    "len(np.unique(y))"
   ]
  },
  {
   "cell_type": "code",
   "execution_count": null,
   "metadata": {
    "id": "kNTAe8oQjbBG",
    "outputId": "a030e446-b195-4481-b03e-2b201b17045f",
    "scrolled": true
   },
   "outputs": [],
   "source": [
    "type(X)\n",
    "print(y.shape)\n",
    "print(X.shape)\n",
    "sizes['D21'][1]"
   ]
  },
  {
   "cell_type": "markdown",
   "metadata": {
    "id": "hjQdogROjbBI"
   },
   "source": [
    "saving the images into a pickle"
   ]
  },
  {
   "cell_type": "code",
   "execution_count": null,
   "metadata": {
    "id": "Br2-Xm7bjbBb"
   },
   "outputs": [],
   "source": [
    "#train val split\n",
    "X_train, X_test, y_train, y_test = train_test_split(X, y, test_size=0.3,stratify=y, random_state=42)"
   ]
  },
  {
   "cell_type": "code",
   "execution_count": null,
   "metadata": {
    "id": "h19VDNyjuntR",
    "outputId": "778d602a-b24b-4c4e-fa9b-0f5260984105"
   },
   "outputs": [],
   "source": [
    "X_test.shape"
   ]
  },
  {
   "cell_type": "code",
   "execution_count": null,
   "metadata": {
    "id": "lPS8xCJPjbBh"
   },
   "outputs": [],
   "source": [
    "def get_sizes(X,Y):\n",
    "    sizes={}\n",
    "    for i ,(x,y) in enumerate(zip(X,Y)):\n",
    "#         print(i,x,y)\n",
    "        if y[0] in sizes:\n",
    "            sizes[y[0]].append(i)\n",
    "        else:\n",
    "            sizes[y[0]]=[i]\n",
    "    return sizes\n",
    "    "
   ]
  },
  {
   "cell_type": "code",
   "execution_count": null,
   "metadata": {
    "id": "sG1c9UUHjbBi"
   },
   "outputs": [],
   "source": [
    "sizes=get_sizes(X_train,y_train)\n",
    "X=X_train\n",
    "y=y_train"
   ]
  },
  {
   "cell_type": "code",
   "execution_count": null,
   "metadata": {
    "id": "bbrU-fAkjbBn"
   },
   "outputs": [],
   "source": [
    "#saving data as pickle\n",
    "with open(\"train.pickle\", \"wb\") as f:\n",
    "    pickle.dump((X,y,sizes),f)"
   ]
  },
  {
   "cell_type": "code",
   "execution_count": null,
   "metadata": {
    "id": "x4szlW2XjbBo"
   },
   "outputs": [],
   "source": [
    "sizes_val=get_sizes(X_test,y_test)\n",
    "Xval=X_test\n",
    "yval=y_test"
   ]
  },
  {
   "cell_type": "code",
   "execution_count": null,
   "metadata": {
    "id": "NkrX6IOujbBp"
   },
   "outputs": [],
   "source": [
    "#saving data as pickle\n",
    "with open(\"test.pickle\", \"wb\") as f:\n",
    "    pickle.dump((Xval,yval,sizes_val),f)"
   ]
  },
  {
   "cell_type": "markdown",
   "metadata": {
    "id": "PLsdlmINTx6R"
   },
   "source": [
    "**Creating all pairs**"
   ]
  },
  {
   "cell_type": "code",
   "execution_count": null,
   "metadata": {
    "id": "cUfovN9vjbBw"
   },
   "outputs": [],
   "source": [
    "def create_all_pairs(X,y):\n",
    "    n=y.shape[0]\n",
    "    _,w,h=X.shape\n",
    "    input1_ind=[]\n",
    "    input2_ind=[]\n",
    "    label=[]\n",
    "    for i in range(n):\n",
    "        for j in range(i+1,n):\n",
    "            if y[i] == y[j]:\n",
    "                  label.append(1)\n",
    "            else:\n",
    "                label.append(0)\n",
    "\n",
    "            input1_ind.append(i)\n",
    "            input2_ind.append(j)\n",
    "\n",
    "\n",
    "\n",
    "    label=np.asarray(label)\n",
    "    input1,input2,label = shuffle(input1_ind,input2_ind,label)\n",
    "    pairs=[input1,input2]\n",
    "\n",
    "    return X,np.asarray(pairs),np.asarray(label)"
   ]
  },
  {
   "cell_type": "code",
   "execution_count": null,
   "metadata": {
    "id": "oO1idzHuVvIH"
   },
   "outputs": [],
   "source": [
    "images_all_train,pairs_all_train,labels_all_train=create_all_pairs(X,y)"
   ]
  },
  {
   "cell_type": "code",
   "execution_count": null,
   "metadata": {
    "id": "VlhOr26j1B26"
   },
   "outputs": [],
   "source": [
    "images_all_test,pairs_all_test,labels_all_test=create_all_pairs(Xval,yval)"
   ]
  },
  {
   "cell_type": "code",
   "execution_count": null,
   "metadata": {
    "id": "cJTd3vY_3DEu",
    "outputId": "f5dbbcc5-b22a-41aa-c92c-f5c5b9d3bc3d"
   },
   "outputs": [],
   "source": [
    "print(pairs_all_test.shape)\n",
    "pairs_all_train.shape"
   ]
  },
  {
   "cell_type": "code",
   "execution_count": null,
   "metadata": {
    "id": "7bMw1KqJgz_F",
    "outputId": "d7b43e0c-6747-4f11-8100-2821c273926a"
   },
   "outputs": [],
   "source": [
    "print(labels_all_train[labels_all_train==0].shape)\n",
    "labels_all_train[labels_all_train==1].shape"
   ]
  },
  {
   "cell_type": "code",
   "execution_count": null,
   "metadata": {
    "id": "uwGMn6z1gz6q"
   },
   "outputs": [],
   "source": [
    "with open(data_path+\"pairs_all_train.pickle\", \"wb\") as f:\n",
    "    pickle.dump((images_all_train,pairs_all_train,labels_all_train),f)"
   ]
  },
  {
   "cell_type": "code",
   "execution_count": null,
   "metadata": {
    "id": "dGbIqJY11VBu"
   },
   "outputs": [],
   "source": [
    "with open(data_path+\"pairs_all_test.pickle\", \"wb\") as f:\n",
    "    pickle.dump((images_all_test,pairs_all_test,labels_all_test),f)"
   ]
  },
  {
   "cell_type": "markdown",
   "metadata": {
    "id": "jtd7kUY6jbBx"
   },
   "source": [
    "# reading the Data with pickle"
   ]
  },
  {
   "cell_type": "code",
   "execution_count": 2,
   "metadata": {
    "execution": {
     "iopub.execute_input": "2021-12-14T14:48:22.099794Z",
     "iopub.status.busy": "2021-12-14T14:48:22.099478Z",
     "iopub.status.idle": "2021-12-14T14:48:22.104668Z",
     "shell.execute_reply": "2021-12-14T14:48:22.103810Z",
     "shell.execute_reply.started": "2021-12-14T14:48:22.099753Z"
    },
    "id": "XVz6vsHZ4SeJ"
   },
   "outputs": [],
   "source": [
    "# #colab\n",
    "# data_path= '/content/drive/MyDrive/hiero_cv/'\n",
    "#local|\n",
    "# data_path='./'\n",
    "#kaggle\n",
    "data_path='../input/oneshot/'"
   ]
  },
  {
   "cell_type": "code",
   "execution_count": null,
   "metadata": {
    "id": "UdKimrvevHWM",
    "outputId": "f806468a-c9b2-4e3a-f3f1-4fd857faf4a1"
   },
   "outputs": [],
   "source": [
    "from google.colab import drive\n",
    "drive.mount('/content/drive')"
   ]
  },
  {
   "cell_type": "code",
   "execution_count": 25,
   "metadata": {
    "execution": {
     "iopub.execute_input": "2021-12-14T15:13:28.823807Z",
     "iopub.status.busy": "2021-12-14T15:13:28.823518Z",
     "iopub.status.idle": "2021-12-14T15:13:29.214351Z",
     "shell.execute_reply": "2021-12-14T15:13:29.213532Z",
     "shell.execute_reply.started": "2021-12-14T15:13:28.823769Z"
    },
    "id": "9ZPC6wKrjbB4"
   },
   "outputs": [],
   "source": [
    "with open(data_path+\"train.pickle\", \"rb\") as f:\n",
    "    (X,y,sizes) = pickle.load(f)"
   ]
  },
  {
   "cell_type": "code",
   "execution_count": 26,
   "metadata": {
    "execution": {
     "iopub.execute_input": "2021-12-14T15:13:31.662790Z",
     "iopub.status.busy": "2021-12-14T15:13:31.662516Z",
     "iopub.status.idle": "2021-12-14T15:13:31.837685Z",
     "shell.execute_reply": "2021-12-14T15:13:31.836971Z",
     "shell.execute_reply.started": "2021-12-14T15:13:31.662756Z"
    },
    "id": "lOstoN_vjbB7"
   },
   "outputs": [],
   "source": [
    "with open(data_path+\"test.pickle\", \"rb\") as f:\n",
    "    (Xval,yval,sizes_val) = pickle.load(f)"
   ]
  },
  {
   "cell_type": "code",
   "execution_count": 6,
   "metadata": {
    "execution": {
     "iopub.execute_input": "2021-12-14T14:48:34.203924Z",
     "iopub.status.busy": "2021-12-14T14:48:34.201649Z",
     "iopub.status.idle": "2021-12-14T14:48:34.256975Z",
     "shell.execute_reply": "2021-12-14T14:48:34.256191Z",
     "shell.execute_reply.started": "2021-12-14T14:48:34.203870Z"
    },
    "id": "4D0vY5kpMhnn"
   },
   "outputs": [],
   "source": [
    "# read digital data\n",
    "with open(data_path+\"train_digital.pickle\", \"rb\") as f:\n",
    "    (X_digital,y_digital,sizes_digital) = pickle.load(f)"
   ]
  },
  {
   "cell_type": "code",
   "execution_count": null,
   "metadata": {
    "id": "E47lfQCBRt-t"
   },
   "outputs": [],
   "source": [
    "#read all pairs train\n",
    "with open(data_path+\"pairs_all_train.pickle\", \"rb\") as f:\n",
    "    (images_all_train,pairs_all_train,labels_all_train) = pickle.load(f)"
   ]
  },
  {
   "cell_type": "code",
   "execution_count": null,
   "metadata": {
    "id": "grt9vg3J1cq4"
   },
   "outputs": [],
   "source": [
    "#read all pairs test\n",
    "with open(data_path+\"pairs_all_test.pickle\", \"rb\") as f:\n",
    "    (images_all_test,pairs_all_test,labels_all_test) = pickle.load(f)"
   ]
  },
  {
   "cell_type": "code",
   "execution_count": null,
   "metadata": {
    "id": "pGGfzez1Oitc",
    "outputId": "8b7ba508-af10-4820-ba6b-8322585831e2"
   },
   "outputs": [],
   "source": [
    "labels_all_train.shape"
   ]
  },
  {
   "cell_type": "markdown",
   "metadata": {
    "id": "GcwSOPsVSWXI"
   },
   "source": [
    "# The Model"
   ]
  },
  {
   "cell_type": "code",
   "execution_count": 127,
   "metadata": {
    "execution": {
     "iopub.execute_input": "2021-12-14T16:55:45.025525Z",
     "iopub.status.busy": "2021-12-14T16:55:45.025254Z",
     "iopub.status.idle": "2021-12-14T16:55:45.037681Z",
     "shell.execute_reply": "2021-12-14T16:55:45.036591Z",
     "shell.execute_reply.started": "2021-12-14T16:55:45.025494Z"
    },
    "id": "JpR7qVOCjbCX"
   },
   "outputs": [],
   "source": [
    "def get_siamese_model(input_shape):\n",
    "    \"\"\"\n",
    "        Model architecture based on the one provided in: http://www.cs.utoronto.ca/~gkoch/files/msc-thesis.pdf\n",
    "    \"\"\"\n",
    "    \n",
    "    # Define the tensors for the two input images\n",
    "    left_input = Input(input_shape,name='Input_1')\n",
    "    right_input = Input(input_shape,name='Input_2')\n",
    "    \n",
    "    # Convolutional Neural Network\n",
    "    model = Sequential(name='CNN')\n",
    "    model.add(Conv2D(64, (3,3), activation='relu', input_shape=input_shape, kernel_regularizer=l2(2e-4)))\n",
    "    model.add(MaxPooling2D())\n",
    "    model.add(Conv2D(64, (3,3), activation='relu', kernel_regularizer=l2(2e-4)))\n",
    "    model.add(MaxPooling2D())\n",
    "    model.add(Conv2D(128, (4,4), activation='relu', kernel_regularizer=l2(2e-4)))\n",
    "    model.add(MaxPooling2D())\n",
    "    model.add(Conv2D(256, (4,4), activation='relu',  kernel_regularizer=l2(2e-4)))\n",
    "    model.add(Flatten())\n",
    "\n",
    "    model.add(Dense(4096, activation='relu',\n",
    "                   kernel_regularizer=l2(1e-3)))\n",
    "    # model.add(Dropout(0.2))\n",
    "    # Generate the encodings (feature vectors) for the two images\n",
    "    encoded_l = model(left_input)\n",
    "    encoded_r = model(right_input)\n",
    "    \n",
    "    # Add a customized layer to compute the absolute difference between the encodings\n",
    "    L1_layer = Lambda(lambda tensors:K.abs(tensors[0] - tensors[1]),name='Subtract')\n",
    "    \n",
    "    L1_distance = L1_layer([encoded_l, encoded_r])\n",
    "    L1_distance = Dense(512,activation='relu',kernel_regularizer=l2(1e-3),name='Dense_1')(L1_distance)\n",
    "    L1_distance = Dense(256,activation='relu',kernel_regularizer=l2(1e-3),name='Dense_2')(L1_distance)\n",
    "    # Add a dense layer with a sigmoid unit to generate the similarity score\n",
    "\n",
    "    prediction = Dense(1,activation='sigmoid',name='Output')(L1_distance)\n",
    "\n",
    "    \n",
    "    \n",
    "    # prediction = Lambda(cosine_distance, output_shape=1)([encoded_l, encoded_r])\n",
    "    # Connect the inputs with the outputs\n",
    "    siamese_net = Model(inputs=[left_input,right_input],outputs=prediction)\n",
    "    \n",
    "    # return the model\n",
    "    return siamese_net"
   ]
  },
  {
   "cell_type": "code",
   "execution_count": 128,
   "metadata": {
    "execution": {
     "iopub.execute_input": "2021-12-14T16:55:48.895456Z",
     "iopub.status.busy": "2021-12-14T16:55:48.895187Z",
     "iopub.status.idle": "2021-12-14T16:55:49.014223Z",
     "shell.execute_reply": "2021-12-14T16:55:49.013392Z",
     "shell.execute_reply.started": "2021-12-14T16:55:48.895425Z"
    },
    "id": "4MtvWYCyjbCb",
    "outputId": "50d29bee-6d6b-416b-d554-faa49e54cf56",
    "scrolled": true
   },
   "outputs": [],
   "source": [
    "model = get_siamese_model((75, 50, 1))\n",
    "model.summary()"
   ]
  },
  {
   "cell_type": "code",
   "execution_count": 129,
   "metadata": {
    "execution": {
     "iopub.execute_input": "2021-12-14T16:55:58.386425Z",
     "iopub.status.busy": "2021-12-14T16:55:58.385717Z",
     "iopub.status.idle": "2021-12-14T16:55:58.396058Z",
     "shell.execute_reply": "2021-12-14T16:55:58.395330Z",
     "shell.execute_reply.started": "2021-12-14T16:55:58.386386Z"
    },
    "id": "FpDd_9CWjbCd",
    "outputId": "77b8a570-3d80-4447-cd98-aee65639a534",
    "scrolled": true
   },
   "outputs": [],
   "source": [
    "optimizer = Adam(learning_rate= 0.001)\n",
    "model.compile(loss=\"binary_crossentropy\",optimizer=optimizer,metrics=['accuracy'])"
   ]
  },
  {
   "cell_type": "code",
   "execution_count": 10,
   "metadata": {
    "execution": {
     "iopub.execute_input": "2021-12-14T14:48:40.322191Z",
     "iopub.status.busy": "2021-12-14T14:48:40.321628Z",
     "iopub.status.idle": "2021-12-14T14:48:41.069466Z",
     "shell.execute_reply": "2021-12-14T14:48:41.068599Z",
     "shell.execute_reply.started": "2021-12-14T14:48:40.322147Z"
    },
    "id": "QV5x1y6Funtd",
    "outputId": "b6b4348a-1f84-43b8-df66-e16a9ae0d759"
   },
   "outputs": [],
   "source": [
    "tf.keras.utils.plot_model(\n",
    "    model, to_file='model.png',\n",
    "    show_layer_names=True, rankdir='TB'\n",
    ")\n",
    "\n"
   ]
  },
  {
   "cell_type": "code",
   "execution_count": null,
   "metadata": {
    "id": "VgD8wnmQunte"
   },
   "outputs": [],
   "source": []
  },
  {
   "cell_type": "markdown",
   "metadata": {
    "id": "9CIl_GyLSiz6"
   },
   "source": [
    "# Functions"
   ]
  },
  {
   "cell_type": "markdown",
   "metadata": {
    "id": "tUBHJas8jbCf"
   },
   "source": [
    "## a function to predict which glyph"
   ]
  },
  {
   "cell_type": "code",
   "execution_count": 11,
   "metadata": {
    "execution": {
     "iopub.execute_input": "2021-12-14T14:48:45.691648Z",
     "iopub.status.busy": "2021-12-14T14:48:45.690840Z",
     "iopub.status.idle": "2021-12-14T14:48:45.703074Z",
     "shell.execute_reply": "2021-12-14T14:48:45.700933Z",
     "shell.execute_reply.started": "2021-12-14T14:48:45.691606Z"
    },
    "id": "Kua3lTs3jbCf"
   },
   "outputs": [],
   "source": [
    "def create_glyphlist(X,sizes):\n",
    "    images=[]\n",
    "    labels=[]\n",
    "    _,w,h=X.shape\n",
    "    for glyph in sizes:\n",
    "        # index=sizes[glyph][0]\n",
    "        if glyph != 'UNKNOWN':\n",
    "            index = np.random.choice(sizes[glyph])\n",
    "            images.append(X[index].reshape( w , h, 1))\n",
    "            labels.append(glyph)\n",
    "    return np.asarray(images), np.asarray(labels) "
   ]
  },
  {
   "cell_type": "code",
   "execution_count": 12,
   "metadata": {
    "execution": {
     "iopub.execute_input": "2021-12-14T14:48:46.119556Z",
     "iopub.status.busy": "2021-12-14T14:48:46.118707Z",
     "iopub.status.idle": "2021-12-14T14:48:46.128775Z",
     "shell.execute_reply": "2021-12-14T14:48:46.127782Z",
     "shell.execute_reply.started": "2021-12-14T14:48:46.119489Z"
    },
    "id": "DTWwXWyBjbCn"
   },
   "outputs": [],
   "source": [
    "anchor_img, anchor_label=create_glyphlist(X,sizes)"
   ]
  },
  {
   "cell_type": "markdown",
   "metadata": {
    "id": "mTbJ8qWountf"
   },
   "source": [
    "**a function that create pairs from the image that we want to test and the anchor list**"
   ]
  },
  {
   "cell_type": "code",
   "execution_count": 13,
   "metadata": {
    "execution": {
     "iopub.execute_input": "2021-12-14T14:48:47.983072Z",
     "iopub.status.busy": "2021-12-14T14:48:47.982453Z",
     "iopub.status.idle": "2021-12-14T14:48:47.988227Z",
     "shell.execute_reply": "2021-12-14T14:48:47.987509Z",
     "shell.execute_reply.started": "2021-12-14T14:48:47.983034Z"
    },
    "id": "cj5krLHkjbCo"
   },
   "outputs": [],
   "source": [
    "def whichGlyph_pair(image,anchor_img,anchor_label):\n",
    "    N,w,h,_=anchor_img.shape\n",
    "#     pairs=[np.zeros((N, w, h,1)) for i in range(2)]\n",
    "    \n",
    "    test_image= np.asarray([image]*N).reshape(N, w, h,1)\n",
    "    \n",
    "    anchor_label, test_image, anchor_img = shuffle(anchor_label, test_image, anchor_img)\n",
    "#     pairs = [test_image,anchor_img]\n",
    "    \n",
    "    return test_image, anchor_img, anchor_label\n",
    "    "
   ]
  },
  {
   "cell_type": "markdown",
   "metadata": {
    "id": "BVoEbZhhuntg"
   },
   "source": [
    "**a funnction that compairs the image with each character from the anchor list and outputs the propabilities.**"
   ]
  },
  {
   "cell_type": "code",
   "execution_count": 14,
   "metadata": {
    "execution": {
     "iopub.execute_input": "2021-12-14T14:48:50.878982Z",
     "iopub.status.busy": "2021-12-14T14:48:50.878238Z",
     "iopub.status.idle": "2021-12-14T14:48:50.884836Z",
     "shell.execute_reply": "2021-12-14T14:48:50.883771Z",
     "shell.execute_reply.started": "2021-12-14T14:48:50.878941Z"
    },
    "id": "e6a5mx_MjbCq"
   },
   "outputs": [],
   "source": [
    "def whichGlyph(model,image,anchor_img,anchor_label):\n",
    "    test_image,anchor_img,targets = whichGlyph_pair(image,anchor_img,anchor_label)\n",
    "    probs = model.predict([test_image,anchor_img])\n",
    "    return probs,anchor_img,targets\n",
    "    "
   ]
  },
  {
   "cell_type": "markdown",
   "metadata": {
    "id": "6xCa5bCWjbC6"
   },
   "source": [
    "## creating pairs of images"
   ]
  },
  {
   "cell_type": "markdown",
   "metadata": {
    "id": "ZNSpnQaljbCe"
   },
   "source": [
    "**a function that create pairs of images with a certain batch size with y= 1 if they are similar and 0 if they are different.**"
   ]
  },
  {
   "cell_type": "code",
   "execution_count": 15,
   "metadata": {
    "execution": {
     "iopub.execute_input": "2021-12-14T14:48:54.331402Z",
     "iopub.status.busy": "2021-12-14T14:48:54.330834Z",
     "iopub.status.idle": "2021-12-14T14:48:54.348718Z",
     "shell.execute_reply": "2021-12-14T14:48:54.347913Z",
     "shell.execute_reply.started": "2021-12-14T14:48:54.331363Z"
    },
    "id": "a7t5J2GCjbC7"
   },
   "outputs": [],
   "source": [
    "def createPairs(X,y,sizes,batch_size):\n",
    "    ##create a batch with half it's size are similar glyphs and the other half are different.\n",
    "    n=0\n",
    "    i=0\n",
    "    \n",
    "    label=[]\n",
    "    _,w,h=X.shape\n",
    "    # initialize 2 empty arrays for the input image batch\n",
    "#     pairs=[np.zeros((batch_size, w, h,1)) for i in range(2)]\n",
    "    input1=np.zeros((batch_size, w, h,1))\n",
    "    input2=np.zeros((batch_size, w, h,1))\n",
    "    \n",
    "    while n < batch_size:\n",
    "        random_key1=random.choice(list(sizes))\n",
    "#         low=sizes[random_key1][0]\n",
    "#         high=sizes[random_key1][1]\n",
    "        index1, index3 = np.random.choice(sizes[random_key1], size=2)\n",
    "        index2 = np.random.choice(sizes[random_key1])\n",
    "        \n",
    "        random_key2=random.choice(list(sizes))\n",
    "        \n",
    "        while random_key2 == random_key1:\n",
    "            random_key2=random.choice(list(sizes))\n",
    "            \n",
    "#         low=sizes[random_key2][0]\n",
    "#         high=sizes[random_key2][1]\n",
    "        index4=np.random.choice(sizes[random_key2])\n",
    "        n += 2\n",
    "        # appending images 1 and 3 into input1 and input2 corresponding to y=1 \n",
    "        #and images 2 and 4 corresponding to y=0\n",
    "    \n",
    "        input1[i,:,:,:] = X[index1].reshape( w , h, 1)\n",
    "        input1[i+1,:,:,:] = X[index2].reshape(w, h, 1)\n",
    "        input2[i,:,:,:] = X[index3].reshape(w, h, 1)\n",
    "        input2[i+1,:,:,:] = X[index4].reshape(w, h, 1)\n",
    "        i += 2\n",
    "#         input1+=[X[index1],X[index2]]\n",
    "#         input2+=[X[index3],X[index4]]\n",
    "        label+=[1,0]\n",
    "        \n",
    "#         print(index1,index2,index3,index4)\n",
    "#         print(y[index1],y[index2],y[index3],y[index4])\n",
    "#         print(random_key1,random_key2)\n",
    "    input1,input2,label = shuffle(input1,input2,label)\n",
    "    pairs=[input1,input2]\n",
    "    \n",
    "    return pairs,label\n",
    "pairs,label=createPairs(X,y,sizes,32)   "
   ]
  },
  {
   "cell_type": "code",
   "execution_count": null,
   "metadata": {
    "id": "II8Jq4vZ39AL"
   },
   "outputs": [],
   "source": []
  },
  {
   "cell_type": "code",
   "execution_count": 16,
   "metadata": {
    "execution": {
     "iopub.execute_input": "2021-12-14T14:48:56.471416Z",
     "iopub.status.busy": "2021-12-14T14:48:56.471093Z",
     "iopub.status.idle": "2021-12-14T14:48:56.485004Z",
     "shell.execute_reply": "2021-12-14T14:48:56.484297Z",
     "shell.execute_reply.started": "2021-12-14T14:48:56.471379Z"
    },
    "id": "rd46Yer40w_a"
   },
   "outputs": [],
   "source": [
    "def get_batch_all(images,pairs_all,labels_all,batch_size,it):\n",
    "    _,w,h=images.shape\n",
    "    input1=np.zeros((batch_size, w, h,1))\n",
    "    input2=np.zeros((batch_size, w, h,1))\n",
    "    # label=np.zeros((batch_size,1))\n",
    "    index=0\n",
    "    start=it*batch_size\n",
    "    end= it*batch_size + batch_size\n",
    "    for i in range(start,end):\n",
    "      # random_index=random.choice(range(batch_size))\n",
    "      ind1=pairs_all[0][i]\n",
    "      ind2=pairs_all[1][i]\n",
    "      input1[index,:,:,:] = images[ind1].reshape( w , h, 1)\n",
    "      input2[index,:,:,:] = images[ind2].reshape( w , h, 1)\n",
    "      index+=1\n",
    "\n",
    "    input1,input2,label = shuffle(input1,input2,labels_all[start:end])\n",
    "    pairs=[input1,input2]\n",
    "    \n",
    "    return pairs,label\n"
   ]
  },
  {
   "cell_type": "code",
   "execution_count": null,
   "metadata": {
    "id": "BXoehBUTjbC9"
   },
   "outputs": [],
   "source": [
    "# pp,mm=get_batch_all(images_all_train,pairs_all_train,labels_all_train,5)"
   ]
  },
  {
   "cell_type": "code",
   "execution_count": null,
   "metadata": {
    "id": "EAxrWxikbdH2"
   },
   "outputs": [],
   "source": []
  },
  {
   "cell_type": "markdown",
   "metadata": {
    "id": "BhahTAyiTfMU"
   },
   "source": [
    "## Testing"
   ]
  },
  {
   "cell_type": "markdown",
   "metadata": {
    "id": "pclsIyfMyots"
   },
   "source": [
    "### Testing accuracy random"
   ]
  },
  {
   "cell_type": "code",
   "execution_count": 17,
   "metadata": {
    "execution": {
     "iopub.execute_input": "2021-12-14T14:48:59.772825Z",
     "iopub.status.busy": "2021-12-14T14:48:59.772544Z",
     "iopub.status.idle": "2021-12-14T14:48:59.779631Z",
     "shell.execute_reply": "2021-12-14T14:48:59.778920Z",
     "shell.execute_reply.started": "2021-12-14T14:48:59.772791Z"
    },
    "id": "lDQXUEmFjbDt"
   },
   "outputs": [],
   "source": [
    "def calc_accuracy(N,Xval,yval,anchor_img,anchor_label,model,sizes):\n",
    "    count_first=0\n",
    "    count_first3=0\n",
    "    for i in range(N):\n",
    "        ind=random.choice(range(yval.shape[0]))\n",
    "#         random_key = random.choice(list(sizes))\n",
    "#         ind = np.random.choice(sizes[random_key])\n",
    "                               \n",
    "        predicted,anchor_imgs,targets=whichGlyph(model,Xval[ind],anchor_img,anchor_label)\n",
    "        sort_index = np.argsort(np.asarray(predicted).reshape(len(predicted),))\n",
    "        if targets[sort_index[-1]] == yval[ind][0]:\n",
    "            count_first+=1\n",
    "        if yval[ind][0] in targets[sort_index[127:]]:\n",
    "            count_first3+=1\n",
    "    accuracy_first=count_first/N\n",
    "    accuracy_first3=count_first3/N\n",
    "    \n",
    "    return accuracy_first, accuracy_first3"
   ]
  },
  {
   "cell_type": "code",
   "execution_count": 18,
   "metadata": {
    "execution": {
     "iopub.execute_input": "2021-12-14T14:49:01.319686Z",
     "iopub.status.busy": "2021-12-14T14:49:01.319113Z",
     "iopub.status.idle": "2021-12-14T14:49:01.326340Z",
     "shell.execute_reply": "2021-12-14T14:49:01.325548Z",
     "shell.execute_reply.started": "2021-12-14T14:49:01.319643Z"
    },
    "id": "Lwcdo2Vountq"
   },
   "outputs": [],
   "source": [
    "def predict_random(N,Xval,yval,anchor_img,anchor_label,model,sizes):\n",
    "    preds=[]\n",
    "    actual=[]\n",
    "    for i in range(N):\n",
    "        # ind=random.choice(range(yval.shape[0]))\n",
    "        random_key = random.choice(list(sizes))\n",
    "        ind = np.random.choice(sizes[random_key])\n",
    "        \n",
    "        predicted,anchor_imgs,targets=whichGlyph(model,Xval[ind],anchor_img,anchor_label)\n",
    "        sort_index = np.argsort(np.asarray(predicted).reshape(len(predicted),))\n",
    "        preds.append(targets[sort_index[-1]])\n",
    "        actual.append(yval[ind][0])\n",
    "        \n",
    "    \n",
    "    return np.asarray(preds),np.asarray(actual)"
   ]
  },
  {
   "cell_type": "code",
   "execution_count": null,
   "metadata": {
    "id": "wr6bSOuBjbDZ"
   },
   "outputs": [],
   "source": []
  },
  {
   "cell_type": "markdown",
   "metadata": {
    "id": "eumupxeIuntm"
   },
   "source": [
    "**a function to test accuracy**"
   ]
  },
  {
   "cell_type": "code",
   "execution_count": 19,
   "metadata": {
    "execution": {
     "iopub.execute_input": "2021-12-14T14:49:03.743354Z",
     "iopub.status.busy": "2021-12-14T14:49:03.742907Z",
     "iopub.status.idle": "2021-12-14T14:49:03.750611Z",
     "shell.execute_reply": "2021-12-14T14:49:03.749920Z",
     "shell.execute_reply.started": "2021-12-14T14:49:03.743318Z"
    },
    "id": "S2aZlLWQuntm"
   },
   "outputs": [],
   "source": [
    "def test_accuracy_score(N,Xval,yval,anchor_img,anchor_label,model,sizes):\n",
    "    count_first=0\n",
    "    for i in range(N):\n",
    "        random_key = random.choice(list(sizes))\n",
    "        ind = np.random.choice(sizes[random_key])\n",
    "        \n",
    "#         ind=random.choice(range(yval.shape[0]))\n",
    "        predicted,anchor_imgs,targets=whichGlyph(model,Xval[ind],anchor_img,anchor_label)\n",
    "        if targets[np.argmax(predicted)]== yval[ind][0]:\n",
    "            count_first+=1\n",
    "    percent_correct = (100.0 * count_first / N)\n",
    "    print(\"Got an average of {}% accuracy in {} samples. \\n\".format(percent_correct,N))\n",
    "    return percent_correct"
   ]
  },
  {
   "cell_type": "code",
   "execution_count": null,
   "metadata": {
    "id": "hUJxsuo15mVi"
   },
   "outputs": [],
   "source": []
  },
  {
   "cell_type": "markdown",
   "metadata": {
    "id": "BaxIvzx6J6TO"
   },
   "source": [
    "## Under sampling - IGNORE"
   ]
  },
  {
   "cell_type": "code",
   "execution_count": null,
   "metadata": {
    "id": "ThYt641EJ-Lj"
   },
   "outputs": [],
   "source": [
    "# from imblearn.under_sampling import RandomUnderSampler\n",
    "# rus = RandomUnderSampler(random_state=42)\n",
    "# #undersampling training data\n",
    "\n",
    "# in_df=pd.DataFrame({'0':pairs_all_train[0],'1':pairs_all_train[1]})\n",
    "# in_df,labels_tr= rus.fit_resample(in_df,labels_all_train)\n",
    "# p0,p1,labels_tr= shuffle(in_df['0'].to_numpy(),in_df['1'].to_numpy(),labels_tr)\n",
    "# pairs_all_train=[p0,p1] \n",
    "# labels_all_train= labels_tr\n",
    "\n",
    "# #undersampling test data\n",
    "\n",
    "# test_df=pd.DataFrame({'0':pairs_all_test[0],'1':pairs_all_test[1]})\n",
    "# test_df,labels_te= rus.fit_resample(test_df,labels_all_test)\n",
    "# p0t,p1t,labels_te=shuffle(test_df['0'].to_numpy(),test_df['1'].to_numpy(),labels_te)\n",
    "# pairs_all_test= [p0t,p1t]\n",
    "# labels_all_test=labels_te\n"
   ]
  },
  {
   "cell_type": "code",
   "execution_count": null,
   "metadata": {
    "id": "4YdL1UeLMSrS",
    "outputId": "4429084c-ed20-4d84-af80-99ccbfcdfcb5"
   },
   "outputs": [],
   "source": [
    "# labels_all_train.shape"
   ]
  },
  {
   "cell_type": "code",
   "execution_count": null,
   "metadata": {
    "id": "I_13tGrYMUc8",
    "outputId": "273b0ac3-6034-4b83-ca79-b57e0110db26"
   },
   "outputs": [],
   "source": [
    "print(labels_all_train[labels_all_train==0].shape)\n",
    "print(labels_all_train[labels_all_train==1].shape)"
   ]
  },
  {
   "cell_type": "markdown",
   "metadata": {
    "id": "d7hU-S3B5nRf"
   },
   "source": [
    "# Training On Digital data"
   ]
  },
  {
   "cell_type": "code",
   "execution_count": 20,
   "metadata": {
    "execution": {
     "iopub.execute_input": "2021-12-14T14:49:13.298708Z",
     "iopub.status.busy": "2021-12-14T14:49:13.298168Z",
     "iopub.status.idle": "2021-12-14T14:49:13.303081Z",
     "shell.execute_reply": "2021-12-14T14:49:13.302000Z",
     "shell.execute_reply.started": "2021-12-14T14:49:13.298662Z"
    },
    "id": "RbUqy4FNjbDf"
   },
   "outputs": [],
   "source": [
    "# Hyper parameters\n",
    "evaluate_every = 200 # interval for evaluating on one-shot tasks\n",
    "batch_size = 128 #64#32\n",
    "n_iter = 10000 #5400 # No. of training iterations 20000\n",
    "# N_way = 20 # how many classes for testing one-shot tasks\n",
    "n_val = 256 # how many one-shot tasks to validate on\n",
    "best = -1\n",
    "# epochs=2\n"
   ]
  },
  {
   "cell_type": "code",
   "execution_count": null,
   "metadata": {
    "id": "jsHUoLrX8QEt"
   },
   "outputs": [],
   "source": [
    "# labels_all_train.shape"
   ]
  },
  {
   "cell_type": "code",
   "execution_count": 21,
   "metadata": {
    "execution": {
     "iopub.execute_input": "2021-12-14T14:49:19.592485Z",
     "iopub.status.busy": "2021-12-14T14:49:19.592200Z",
     "iopub.status.idle": "2021-12-14T14:49:19.596568Z",
     "shell.execute_reply": "2021-12-14T14:49:19.595566Z",
     "shell.execute_reply.started": "2021-12-14T14:49:19.592452Z"
    },
    "id": "fJXH6WomjbDg"
   },
   "outputs": [],
   "source": [
    "model_path = './weights/'\n",
    "# model_2_path= '/content/drive/MyDrive/hiero_cv/'\n",
    "# model_cos_path= '/content/drive/MyDrive/hiero_cv/weights_cos/'\n",
    "# model_regul='/content/drive/MyDrive/hiero_cv/regul_weights/'\n"
   ]
  },
  {
   "cell_type": "code",
   "execution_count": 22,
   "metadata": {
    "execution": {
     "iopub.execute_input": "2021-12-14T14:49:25.642872Z",
     "iopub.status.busy": "2021-12-14T14:49:25.642279Z",
     "iopub.status.idle": "2021-12-14T15:09:15.416236Z",
     "shell.execute_reply": "2021-12-14T15:09:15.414810Z",
     "shell.execute_reply.started": "2021-12-14T14:49:25.642830Z"
    },
    "id": "gUJcfqJLjbDh",
    "outputId": "e124d4de-b1b4-4347-f03b-2159566360d5"
   },
   "outputs": [],
   "source": [
    "print(\"Starting training process for Digital data !\")\n",
    "print(\"-------------------------------------\")\n",
    "train_loss=[]\n",
    "validation_loss=[]\n",
    "t_start = time.time()\n",
    "for i in range(1, n_iter+1):\n",
    "    (inputs,targets) = createPairs(X_digital,y_digital,sizes_digital,batch_size)\n",
    "    targets=np.asarray(targets)\n",
    "    loss = model.train_on_batch(inputs, targets)\n",
    "    train_loss.append(loss[0])\n",
    "    if i % evaluate_every == 0:\n",
    "        print(\"\\n ------------- \\n\")\n",
    "        print(\"Time for {0} iterations: {1} mins\".format(i, (time.time()-t_start)/60.0))\n",
    "        print(f\"Train Loss: {loss[0]} , accuracy : {loss[1]}\")\n",
    "\n",
    "        (inputs_val,targets_val) = createPairs(Xval,yval,sizes_val,n_val)\n",
    "        targets_val=np.asarray(targets_val)\n",
    "        val_loss= model.test_on_batch(inputs_val, targets_val)\n",
    "        val_acc = test_accuracy_score(n_val,Xval,yval,anchor_img,anchor_label,model,sizes_val)\n",
    "        \n",
    "        validation_loss.append(val_loss[0])\n",
    "        # model.save_weights(os.path.join(model_2_path, 'weights.{}.h5'.format(i)))\n",
    "        print(f\"validation Loss: {val_loss[0]}, val accuracy : {val_loss[1]} \") "
   ]
  },
  {
   "cell_type": "code",
   "execution_count": null,
   "metadata": {
    "id": "ZNO44a9oKn4w",
    "outputId": "08ea233b-1658-42e5-abc1-e666635b1201"
   },
   "outputs": [],
   "source": [
    "# #plot loss\n",
    "# plt.figure(1)\n",
    "# plt.subplot(211)\n",
    "# plt.plot(range(2, len(train_loss)),train_loss[2:])\n",
    "# plt.subplot(212)\n",
    "# plt.plot(range(1, len(validation_loss)+1),validation_loss)\n"
   ]
  },
  {
   "cell_type": "code",
   "execution_count": null,
   "metadata": {
    "id": "vaS6igHkxj7Q"
   },
   "outputs": [],
   "source": [
    "# inputs,targets = get_batch_all(images_all_test,pairs_all_test,labels_all_test,1000,0)\n",
    "# model.evaluate(inputs,targets )"
   ]
  },
  {
   "cell_type": "markdown",
   "metadata": {
    "id": "gyKN5pweNs2T"
   },
   "source": [
    "## Train on actual data"
   ]
  },
  {
   "cell_type": "code",
   "execution_count": 28,
   "metadata": {
    "execution": {
     "iopub.execute_input": "2021-12-14T15:16:04.819550Z",
     "iopub.status.busy": "2021-12-14T15:16:04.819292Z",
     "iopub.status.idle": "2021-12-14T15:16:04.824702Z",
     "shell.execute_reply": "2021-12-14T15:16:04.823822Z",
     "shell.execute_reply.started": "2021-12-14T15:16:04.819520Z"
    },
    "id": "sRwoJp16N2ND"
   },
   "outputs": [],
   "source": [
    "# Hyper parameters\n",
    "evaluate_every = 200 # interval for evaluating on one-shot tasks\n",
    "batch_size = 128 #64#32\n",
    "n_iter = 15000 #5400 # No. of training iterations 20000\n",
    "# N_way = 20 # how many classes for testing one-shot tasks\n",
    "n_val = 256 # how many one-shot tasks to validate on\n",
    "best = -1\n",
    "# epochs=2"
   ]
  },
  {
   "cell_type": "code",
   "execution_count": 29,
   "metadata": {
    "execution": {
     "iopub.execute_input": "2021-12-14T15:16:14.921148Z",
     "iopub.status.busy": "2021-12-14T15:16:14.920879Z",
     "iopub.status.idle": "2021-12-14T15:45:54.706709Z",
     "shell.execute_reply": "2021-12-14T15:45:54.705961Z",
     "shell.execute_reply.started": "2021-12-14T15:16:14.921118Z"
    },
    "id": "SRColtt8N2RA"
   },
   "outputs": [],
   "source": [
    "print(\"Starting training process for Digital data !\")\n",
    "print(\"-------------------------------------\")\n",
    "train_loss=[]\n",
    "validation_loss=[]\n",
    "t_start = time.time()\n",
    "for i in range(1, n_iter+1):\n",
    "    (inputs,targets) = createPairs(X,y,sizes,batch_size)\n",
    "    targets=np.asarray(targets)\n",
    "    loss = model.train_on_batch(inputs, targets)\n",
    "    train_loss.append(loss[0])\n",
    "    if i % evaluate_every == 0:\n",
    "        print(\"\\n ------------- \\n\")\n",
    "        print(\"Time for {0} iterations: {1} mins\".format(i, (time.time()-t_start)/60.0))\n",
    "        print(f\"Train Loss: {loss[0]} , accuracy : {loss[1]}\")\n",
    "\n",
    "        (inputs_val,targets_val) = createPairs(Xval,yval,sizes_val,n_val)\n",
    "        targets_val=np.asarray(targets_val)\n",
    "        val_loss= model.test_on_batch(inputs_val, targets_val)\n",
    "        val_acc = test_accuracy_score(n_val,Xval,yval,anchor_img,anchor_label,model,sizes_val)\n",
    "        \n",
    "        validation_loss.append(val_loss[0])\n",
    "        # model.save_weights(os.path.join(model_2_path, 'weights.{}.h5'.format(i)))\n",
    "        print(f\"validation Loss: {val_loss[0]}, val accuracy : {val_loss[1]} \") "
   ]
  },
  {
   "cell_type": "markdown",
   "metadata": {
    "id": "td3qcSvs_2N-"
   },
   "source": [
    "## Training on less represented class"
   ]
  },
  {
   "cell_type": "code",
   "execution_count": 30,
   "metadata": {
    "execution": {
     "iopub.execute_input": "2021-12-14T15:45:54.708784Z",
     "iopub.status.busy": "2021-12-14T15:45:54.708425Z",
     "iopub.status.idle": "2021-12-14T15:45:54.713954Z",
     "shell.execute_reply": "2021-12-14T15:45:54.713063Z",
     "shell.execute_reply.started": "2021-12-14T15:45:54.708732Z"
    },
    "id": "ztkuFDEi0uZb"
   },
   "outputs": [],
   "source": [
    "less_represented={}\n",
    "for m in sizes:\n",
    "  if len(sizes[m]) <= 10:\n",
    "    less_represented[m]=sizes[m]"
   ]
  },
  {
   "cell_type": "code",
   "execution_count": null,
   "metadata": {
    "id": "L6_g78jV45Ji",
    "outputId": "3205532a-0cc9-4087-d505-2f26913b2768"
   },
   "outputs": [],
   "source": [
    "# ccc=[]\n",
    "# for m in sizes:\n",
    "#   if len(sizes[m]) <= 10:\n",
    "#     ccc.append(m)\n",
    "# print(len(ccc))"
   ]
  },
  {
   "cell_type": "code",
   "execution_count": 31,
   "metadata": {
    "execution": {
     "iopub.execute_input": "2021-12-14T15:45:54.715725Z",
     "iopub.status.busy": "2021-12-14T15:45:54.715465Z",
     "iopub.status.idle": "2021-12-14T15:45:54.726165Z",
     "shell.execute_reply": "2021-12-14T15:45:54.725492Z",
     "shell.execute_reply.started": "2021-12-14T15:45:54.715689Z"
    },
    "id": "MIe9wlUz07k5"
   },
   "outputs": [],
   "source": [
    "# Hyper parameters\n",
    "evaluate_every = 200 # interval for evaluating on one-shot tasks\n",
    "batch_size = 32 #64#32\n",
    "n_iter = 1500 #5400 # No. of training iterations 20000\n",
    "N_way = 20 # how many classes for testing one-shot tasks\n",
    "n_val = 256 # how many one-shot tasks to validate on\n",
    "best = -1"
   ]
  },
  {
   "cell_type": "code",
   "execution_count": 32,
   "metadata": {
    "execution": {
     "iopub.execute_input": "2021-12-14T15:45:54.728263Z",
     "iopub.status.busy": "2021-12-14T15:45:54.728007Z",
     "iopub.status.idle": "2021-12-14T15:45:54.744597Z",
     "shell.execute_reply": "2021-12-14T15:45:54.743948Z",
     "shell.execute_reply.started": "2021-12-14T15:45:54.728228Z"
    },
    "id": "wGbpxaWn2S5D"
   },
   "outputs": [],
   "source": [
    "optimizer = Adam(1e-6)\n",
    "model.compile(loss=\"binary_crossentropy\",optimizer=optimizer,metrics=['accuracy'])"
   ]
  },
  {
   "cell_type": "code",
   "execution_count": 33,
   "metadata": {
    "execution": {
     "iopub.execute_input": "2021-12-14T15:45:54.746406Z",
     "iopub.status.busy": "2021-12-14T15:45:54.745959Z",
     "iopub.status.idle": "2021-12-14T15:48:06.588006Z",
     "shell.execute_reply": "2021-12-14T15:48:06.587250Z",
     "shell.execute_reply.started": "2021-12-14T15:45:54.746371Z"
    },
    "id": "A4JoCm_5jbDk",
    "outputId": "1e0b2b88-3414-4c8c-a955-12b1fe13d382"
   },
   "outputs": [],
   "source": [
    "print(\"Starting training process for the less represented classes !\")\n",
    "print(\"-------------------------------------\")\n",
    "t_start = time.time()\n",
    "for i in range(1, n_iter+1):\n",
    "    (inputs,targets) = createPairs(X,y,less_represented,batch_size)\n",
    "    targets=np.asarray(targets)\n",
    "    loss = model.train_on_batch(inputs, targets)\n",
    "    if i % evaluate_every == 0:\n",
    "        print(\"\\n ------------- \\n\")\n",
    "        print(\"Time for {0} iterations: {1} mins\".format(i, (time.time()-t_start)/60.0))\n",
    "        print(\"Train Loss: {0}, accuracy : {1}\".format(loss[0],loss[1])) \n",
    "#         val_acc = test_oneshot(model,Xval,yval,sizes_val, N_way, n_val, verbose=True)\n",
    "        val_acc = test_accuracy_score(n_val,Xval,yval,anchor_img,anchor_label,model,sizes_val)\n",
    "        # model.save_weights(os.path.join(model_2_path, 'weights.{}.h5'.format(i)))\n",
    "        if val_acc >= best:\n",
    "            print(\"Current best: {0}, previous best: {1}\".format(val_acc, best))\n",
    "            best = val_acc"
   ]
  },
  {
   "cell_type": "markdown",
   "metadata": {
    "id": "jcTZ3HHJjbDp"
   },
   "source": [
    "## loading model from weights"
   ]
  },
  {
   "cell_type": "code",
   "execution_count": null,
   "metadata": {
    "id": "Yt8pqshBxKcQ"
   },
   "outputs": [],
   "source": [
    "# model_path="
   ]
  },
  {
   "cell_type": "code",
   "execution_count": null,
   "metadata": {
    "id": "GDa3cYDdLmfB"
   },
   "outputs": [],
   "source": [
    "model.save_weights(os.path.join(data_path, 'weights_BN.h5'))"
   ]
  },
  {
   "cell_type": "code",
   "execution_count": null,
   "metadata": {
    "id": "5XSzGDRhjbDr"
   },
   "outputs": [],
   "source": [
    "model.load_weights(os.path.join(data_path,'weights_finetuned.h5'))"
   ]
  },
  {
   "cell_type": "markdown",
   "metadata": {
    "id": "uBhAHSjiuntr"
   },
   "source": [
    "# language model"
   ]
  },
  {
   "cell_type": "code",
   "execution_count": null,
   "metadata": {
    "id": "903NR4MWuntr"
   },
   "outputs": [],
   "source": [
    "# !pip install ipynb"
   ]
  },
  {
   "cell_type": "code",
   "execution_count": null,
   "metadata": {
    "id": "ZfVttM_Nunts"
   },
   "outputs": [],
   "source": [
    "from collections import Counter, defaultdict\n",
    "def lm_next(model,prev):\n",
    "    pred = dict( eval('model'+ str(prev)))\n",
    "    next_scores = sorted(pred.items(), key=lambda item: item[1],reverse=True)\n",
    "    out = dict(next_scores)\n",
    "    if len(list(out.keys()))==0:\n",
    "        out ={'None':0}\n",
    "    return out"
   ]
  },
  {
   "cell_type": "code",
   "execution_count": null,
   "metadata": {
    "id": "5aymN-okunts"
   },
   "outputs": [],
   "source": [
    "import dill as pickle\n",
    "with open(\"language_model_sent.pkl\", \"rb\") as f:\n",
    "    language_model = pickle.load(f)"
   ]
  },
  {
   "cell_type": "code",
   "execution_count": null,
   "metadata": {
    "id": "C_pLa7vpunts"
   },
   "outputs": [],
   "source": [
    "import dill as pickle\n",
    "with open(\"lm_sentences.pickle\", \"rb\") as f:\n",
    "    sentences = pickle.load(f)"
   ]
  },
  {
   "cell_type": "code",
   "execution_count": null,
   "metadata": {
    "id": "BWgvAe_huntu"
   },
   "outputs": [],
   "source": [
    "def choose_next(clf_3,score_3,language_model,prev):\n",
    "#     print(\"prev\",str(prev))\n",
    "    \n",
    "    freq=lm_next(language_model,prev)\n",
    "#     print(freq)\n",
    "    freq_3=[]\n",
    "    for pred in clf_3:\n",
    "        if pred in freq.keys():\n",
    "            freq_3.append(freq[pred])\n",
    "        else:\n",
    "            freq_3.append(0)\n",
    "    freq_3=np.array(freq_3)\n",
    "#     freq_3= 5*freq_3\n",
    "    score_3 =np.array(score_3).flatten()\n",
    "    \n",
    "#     freq_3_sum = freq_3/np.sum(freq_3)\n",
    "#     print(score_3.flatten())\n",
    "    score_3_sum = score_3 / np.sum(score_3)\n",
    "#     score_3_exp = np.exp(score_3)/sum(np.exp(score_3))\n",
    "    freq_3_exp = np.exp(freq_3)/sum(np.exp(freq_3))\n",
    "    \n",
    "#     print(freq_3)\n",
    "\n",
    "    scores = score_3_sum + 2*freq_3_exp\n",
    "#     print('scores : ',scores)\n",
    "    predicted=clf_3[np.argmax(scores)]\n",
    "#     print(f\"clf predicted : {clf_3[-1]} lm freq max : {list(freq.items())[0]} final :{predicted}\")\n",
    "#     print(clf_3)\n",
    "#     print('act',score_3)\n",
    "# # #     print('exp',score_3_exp)\n",
    "#     print('sum',score_3_sum)\n",
    "#     print('frq',freq_3)\n",
    "#     print('frE',freq_3_exp)\n",
    "#     print('fr3',3*freq_3_exp)\n",
    "#     print('frS',freq_3_sum)\n",
    "    return predicted"
   ]
  },
  {
   "cell_type": "code",
   "execution_count": null,
   "metadata": {
    "id": "gpBfXT800k_M"
   },
   "outputs": [],
   "source": [
    "def predict_lm(Xtest,anchor_img,anchor_label,model,language_model,sizes):\n",
    "    preds=[]\n",
    "    clf_preds=[]\n",
    "    for new in Xtest:\n",
    "        if len(preds) < 1 :\n",
    "            predicted,anchor_imgs,targets=whichGlyph(model,new,anchor_img,anchor_label)\n",
    "            sort_index = np.argsort(np.asarray(predicted).reshape(len(predicted),))\n",
    "            targ=targets[sort_index[-1]]\n",
    "#             print(targ)\n",
    "            if targ =='UNKNOWN':\n",
    "                targ=targets[sort_index[-2]] \n",
    "            preds.append(targ)\n",
    "            clf_preds.append(targ)\n",
    "        else:\n",
    "            predicted,anchor_imgs,targets=whichGlyph(model,new,anchor_img,anchor_label)\n",
    "            sort_index = np.argsort(np.asarray(predicted).reshape(len(predicted),))\n",
    "#             print('target : ',targets[sort_index[-1:]])\n",
    "            predicted = choose_next(targets[sort_index[-3:]],predicted[sort_index[-3:]],language_model,preds[-1:])\n",
    "            preds.append(predicted)\n",
    "            clf_preds.append(targets[sort_index[-1]])\n",
    "    return preds,clf_preds\n"
   ]
  },
  {
   "cell_type": "code",
   "execution_count": null,
   "metadata": {
    "id": "xmiyLTkr6R26"
   },
   "outputs": [],
   "source": [
    "def test_lm(Xtest,ytest,anchor_img,anchor_label,model,language_model,sizes):\n",
    "    preds,clf_preds=predict_lm(Xtest,anchor_img,anchor_label,model,language_model,sizes)\n",
    "    preds=np.asarray(preds)\n",
    "    clf_preds=np.asarray(clf_preds)\n",
    "    ytest=np.asarray(ytest)\n",
    "    accuracy_lm = sum(preds==ytest)/len(ytest)\n",
    "    accuracy_clf = sum(clf_preds==ytest)/len(ytest)\n",
    "    return accuracy_lm, accuracy_clf"
   ]
  },
  {
   "cell_type": "code",
   "execution_count": null,
   "metadata": {
    "id": "3ndPPBag49s-"
   },
   "outputs": [],
   "source": [
    "# test_sentences\n",
    "test_sentences = np.random.choice(np.asarray(sentences),replace=False, size=500)"
   ]
  },
  {
   "cell_type": "code",
   "execution_count": null,
   "metadata": {
    "id": "E71znuRf49s_",
    "outputId": "42686f0e-af0b-4ed4-9ef9-ff7084ee1909"
   },
   "outputs": [],
   "source": [
    "t_start = time.time()\n",
    "\n",
    "count=0\n",
    "correct_lm=0\n",
    "correct_clf=0\n",
    "i=0\n",
    "for word in test_sentences:\n",
    "    i+=1\n",
    "    image_lm_test=[]\n",
    "    for w in word:\n",
    "        count+=1\n",
    "        ind = np.random.choice(sizes_val[w])\n",
    "        image_lm_test.append(Xval[ind])\n",
    "#     print(\"word = \",np.asarray(word).flatten())\n",
    "#     accuracy=test_lm(image_lm_test,word,anchor_img,anchor_label,model,language_model,sizes)\n",
    "    preds_lm,preds_clf=predict_lm(image_lm_test,anchor_img,anchor_label,model,language_model,sizes_val)\n",
    "    preds_lm=np.asarray(preds_lm)\n",
    "    preds_clf=np.asarray(preds_clf)\n",
    "    correct_lm+=sum(preds_lm==np.asarray(word))\n",
    "    correct_clf+=sum(preds_clf==np.asarray(word))\n",
    "    if i%25 == 0:\n",
    "        print(f\" language model accuracy : {correct_lm/count} , clf accuracy :{correct_clf/count}\")\n",
    "        print(\"{0} sentences took {1} mins\".format(i,(time.time()-t_start)/60.0))\n",
    "#     accuracies.append(accuracy)\n",
    "# print(\"accuracy fn took {0} mins\".format((time.time()-t_start)/60.0))"
   ]
  },
  {
   "cell_type": "code",
   "execution_count": null,
   "metadata": {
    "id": "OowzFE-149s_",
    "outputId": "e1a938c0-773a-4baa-c8fa-ececde9c1b79"
   },
   "outputs": [],
   "source": [
    "lm_acc=correct_lm/count\n",
    "print(\"language model: \",correct_lm)\n",
    "print(\"classifier: \",correct_clf)\n",
    "print(\"difference: \",correct_lm-correct_clf)\n",
    "print(\"total count: \",count)\n",
    "lm_acc"
   ]
  },
  {
   "cell_type": "code",
   "execution_count": null,
   "metadata": {
    "id": "Fcm_pFpc49tA",
    "outputId": "ca71ca18-ebe1-45ff-ad0d-f6fa0d6fcaec"
   },
   "outputs": [],
   "source": [
    "t_start = time.time()\n",
    "count=0\n",
    "correct=0\n",
    "i=0\n",
    "for word in test_sentences :\n",
    "    i+=1\n",
    "    for w in word:\n",
    "        count+=1\n",
    "        ind = np.random.choice(sizes_val[w])\n",
    "        predicted,anchor_imgs,targets=whichGlyph(model,Xval[ind],anchor_img,anchor_label)\n",
    "        pred=targets[ np.argmax(predicted)]\n",
    "        if pred == yval[ind]:\n",
    "            correct+=1\n",
    "    if i%25 == 0:\n",
    "        print(correct/count)\n",
    "        print(\"{0} sentences took {1} mins\".format(i,(time.time()-t_start)/60.0))\n",
    "accuracy=correct/count"
   ]
  },
  {
   "cell_type": "code",
   "execution_count": null,
   "metadata": {
    "id": "uqngYdIbUVmk",
    "outputId": "91750096-442c-4b3b-80f2-c607ca3a8a7f"
   },
   "outputs": [],
   "source": [
    "accuracy"
   ]
  },
  {
   "cell_type": "code",
   "execution_count": null,
   "metadata": {
    "id": "ibv1_h0ABJWg",
    "outputId": "b4012c01-d6cf-48d1-8a3c-9bae7b843c1f"
   },
   "outputs": [],
   "source": [
    "count=0\n",
    "for sent in test_sentences:\n",
    "    count+=len(sent)\n",
    "count"
   ]
  },
  {
   "cell_type": "markdown",
   "metadata": {
    "id": "qOhbMPWfBJ2D"
   },
   "source": [
    "## Multi anchor array"
   ]
  },
  {
   "cell_type": "code",
   "execution_count": 34,
   "metadata": {
    "execution": {
     "iopub.execute_input": "2021-12-14T15:56:47.650256Z",
     "iopub.status.busy": "2021-12-14T15:56:47.649646Z",
     "iopub.status.idle": "2021-12-14T15:56:47.656151Z",
     "shell.execute_reply": "2021-12-14T15:56:47.654723Z",
     "shell.execute_reply.started": "2021-12-14T15:56:47.650216Z"
    },
    "id": "tdP0sccj306G"
   },
   "outputs": [],
   "source": [
    "def create_multi_anchor(N,X,sizes):\n",
    "  multi_anchor_img=[]\n",
    "  multi_anchor_label=[]\n",
    "  for n in range(N):\n",
    "    anchor_img, anchor_label=create_glyphlist(X,sizes)\n",
    "    multi_anchor_img.append(anchor_img)\n",
    "    multi_anchor_label.append(anchor_label)\n",
    "  return np.asarray(multi_anchor_img),np.asarray(multi_anchor_label)"
   ]
  },
  {
   "cell_type": "code",
   "execution_count": 35,
   "metadata": {
    "execution": {
     "iopub.execute_input": "2021-12-14T15:56:52.534979Z",
     "iopub.status.busy": "2021-12-14T15:56:52.534362Z",
     "iopub.status.idle": "2021-12-14T15:56:52.544137Z",
     "shell.execute_reply": "2021-12-14T15:56:52.543261Z",
     "shell.execute_reply.started": "2021-12-14T15:56:52.534927Z"
    },
    "id": "ebqC6Jor7vRt"
   },
   "outputs": [],
   "source": [
    "multi_anchor_img,multi_anchor_label=create_multi_anchor(2,X,sizes)"
   ]
  },
  {
   "cell_type": "code",
   "execution_count": null,
   "metadata": {
    "id": "K_rwy8RwGwzD",
    "outputId": "6808a576-d7bd-4dd8-af92-82cacd1fd125"
   },
   "outputs": [],
   "source": []
  },
  {
   "cell_type": "code",
   "execution_count": 36,
   "metadata": {
    "execution": {
     "iopub.execute_input": "2021-12-14T15:56:56.697048Z",
     "iopub.status.busy": "2021-12-14T15:56:56.696789Z",
     "iopub.status.idle": "2021-12-14T15:56:56.706305Z",
     "shell.execute_reply": "2021-12-14T15:56:56.705564Z",
     "shell.execute_reply.started": "2021-12-14T15:56:56.697016Z"
    },
    "id": "aj6UDcss7rZp"
   },
   "outputs": [],
   "source": [
    "def test_multi_anchor_random(N,Xval,yval,multi_anchor_img,multi_anchor_label,model,sizes):\n",
    "  count_first=0\n",
    "  multi_N=multi_anchor_img.shape[0]\n",
    "  final_scores=np.zeros((multi_anchor_label[0].shape[0],1))\n",
    "  for i in range(N):\n",
    "    if i%100 == 0:\n",
    "      print(\"test \",i)\n",
    "#     random_key = random.choice(list(sizes))\n",
    "#     ind = np.random.choice(sizes[random_key])\n",
    "    ind=random.choice(range(yval.shape[0]))\n",
    "\n",
    "    # print(yval[ind][0])\n",
    "    for j in range(multi_N):\n",
    "      predicted,anchor_imgs,targets=whichGlyph(model,Xval[ind],multi_anchor_img[j],multi_anchor_label[j])\n",
    "      zipped_lists = zip(targets,predicted)\n",
    "      sorted_pairs = sorted(zipped_lists)\n",
    "      tuples = zip(*sorted_pairs)\n",
    "      targets,predicted = [ list(tuple) for tuple in  tuples]\n",
    "      # print(targets[:3],\" - \",predicted[:3])\n",
    "      final_scores = np.asarray(final_scores) + np.asarray(predicted)\n",
    "\n",
    "    final_pred = targets[np.argmax(final_scores)]\n",
    "    # print(final_pred ,'  - ', yval[ind][0],' - ',count_first)\n",
    "    if final_pred == yval[ind][0]:\n",
    "        count_first+=1\n",
    "    final_scores=np.zeros((multi_anchor_label[0].shape[0],1))\n",
    "    \n",
    "  percent_correct = (100.0 * count_first / N)\n",
    "  return percent_correct\n",
    "\n"
   ]
  },
  {
   "cell_type": "code",
   "execution_count": 37,
   "metadata": {
    "execution": {
     "iopub.execute_input": "2021-12-14T15:56:59.922575Z",
     "iopub.status.busy": "2021-12-14T15:56:59.922284Z",
     "iopub.status.idle": "2021-12-14T15:58:57.618184Z",
     "shell.execute_reply": "2021-12-14T15:58:57.617417Z",
     "shell.execute_reply.started": "2021-12-14T15:56:59.922541Z"
    },
    "id": "ubUXaG1ixPhe",
    "outputId": "d430cc94-c706-4cbd-da98-5ae31fc2259c"
   },
   "outputs": [],
   "source": [
    "t_start = time.time()\n",
    "acc=test_multi_anchor_random(1000,Xval,yval,multi_anchor_img,multi_anchor_label,model,sizes_val)\n",
    "print(f'testing:\\nfound first accuracy with multi anchors = {acc}')\n",
    "print(\"accuracy fn took {0} mins\".format((time.time()-t_start)/60.0))"
   ]
  },
  {
   "cell_type": "code",
   "execution_count": null,
   "metadata": {
    "id": "iNrKRHu2y3us"
   },
   "outputs": [],
   "source": [
    "\n",
    "    # print(m,\":\",len(sizes[m]))"
   ]
  },
  {
   "cell_type": "markdown",
   "metadata": {
    "id": "heS2B6tcuntu"
   },
   "source": [
    "# Some Testing"
   ]
  },
  {
   "cell_type": "code",
   "execution_count": 41,
   "metadata": {
    "execution": {
     "iopub.execute_input": "2021-12-14T16:04:48.570078Z",
     "iopub.status.busy": "2021-12-14T16:04:48.569218Z",
     "iopub.status.idle": "2021-12-14T16:05:46.679477Z",
     "shell.execute_reply": "2021-12-14T16:05:46.678725Z",
     "shell.execute_reply.started": "2021-12-14T16:04:48.570019Z"
    },
    "id": "GmLQ6lVYjbDt",
    "outputId": "f6a70741-a932-44f1-c705-e5e2dab68199",
    "scrolled": true
   },
   "outputs": [],
   "source": [
    "t_start = time.time()\n",
    "acc1,acc3=calc_accuracy(1000,Xval,yval,anchor_img,anchor_label,model,sizes_val)\n",
    "print(f'testing:\\nfound first accuracy = {acc1} , first 3 accuracy = {acc3}')\n",
    "print(\"accuracy fn took {0} mins\".format((time.time()-t_start)/60.0))"
   ]
  },
  {
   "cell_type": "code",
   "execution_count": 39,
   "metadata": {
    "execution": {
     "iopub.execute_input": "2021-12-14T15:59:54.726788Z",
     "iopub.status.busy": "2021-12-14T15:59:54.726342Z",
     "iopub.status.idle": "2021-12-14T16:00:07.949016Z",
     "shell.execute_reply": "2021-12-14T16:00:07.948018Z",
     "shell.execute_reply.started": "2021-12-14T15:59:54.726726Z"
    },
    "id": "NdtRB3qAjbDw",
    "outputId": "616b2116-9157-41c4-a5d1-bc86573330c7"
   },
   "outputs": [],
   "source": [
    "t_start = time.time()\n",
    "acc1,acc3=calc_accuracy(250,X,y,anchor_img,anchor_label,model,sizes)\n",
    "print(f'training:\\nfound first accuracy = {acc1} , first 3 accuracy = {acc3} ')\n",
    "print(\"accuracy fn took {0} mins\".format((time.time()-t_start)/60.0))"
   ]
  },
  {
   "cell_type": "code",
   "execution_count": 42,
   "metadata": {
    "execution": {
     "iopub.execute_input": "2021-12-14T16:05:46.681662Z",
     "iopub.status.busy": "2021-12-14T16:05:46.681212Z",
     "iopub.status.idle": "2021-12-14T16:06:45.188853Z",
     "shell.execute_reply": "2021-12-14T16:06:45.188049Z",
     "shell.execute_reply.started": "2021-12-14T16:05:46.681608Z"
    },
    "id": "W4Ci6fRSuntv",
    "outputId": "c50537cd-f3e9-4a68-cb66-965ce9f4a1bb"
   },
   "outputs": [],
   "source": [
    "t_start = time.time()\n",
    "y_pred,y_true= predict_random(1000,Xval,yval,anchor_img,anchor_label,model,sizes_val)\n",
    "print(\"accuracy fn took {0} mins\".format((time.time()-t_start)/60.0))"
   ]
  },
  {
   "cell_type": "code",
   "execution_count": null,
   "metadata": {
    "id": "_mG4v2a9yeTU",
    "outputId": "262b4746-3c53-43aa-d18c-60af0ad97764"
   },
   "outputs": [],
   "source": [
    "sizes['M40']"
   ]
  },
  {
   "cell_type": "code",
   "execution_count": null,
   "metadata": {
    "id": "zwPJ-iSv_ZKf",
    "outputId": "058ae616-6a91-46d3-d526-7e218f144f25"
   },
   "outputs": [],
   "source": [
    "sizes_val['M40']\n",
    "plt.imshow(X[1114],cmap='gray')"
   ]
  },
  {
   "cell_type": "code",
   "execution_count": 99,
   "metadata": {
    "execution": {
     "iopub.execute_input": "2021-12-14T16:43:29.226864Z",
     "iopub.status.busy": "2021-12-14T16:43:29.226479Z",
     "iopub.status.idle": "2021-12-14T16:43:29.252538Z",
     "shell.execute_reply": "2021-12-14T16:43:29.251788Z",
     "shell.execute_reply.started": "2021-12-14T16:43:29.226824Z"
    },
    "id": "Jb2dVv2Vxvxj",
    "outputId": "051d5680-0788-4178-cae4-f6aee18f56c7"
   },
   "outputs": [],
   "source": [
    "comp=pd.DataFrame({'actual':y_true,\"pred\":y_pred})\n",
    "diff = comp.query(\"actual != pred\")\n",
    "diff['count'] = diff.apply(lambda row: len(sizes_val[row['actual']]), axis=1)\n",
    "diff.head()"
   ]
  },
  {
   "cell_type": "code",
   "execution_count": 125,
   "metadata": {
    "execution": {
     "iopub.execute_input": "2021-12-14T16:54:19.474820Z",
     "iopub.status.busy": "2021-12-14T16:54:19.474001Z",
     "iopub.status.idle": "2021-12-14T16:54:19.489322Z",
     "shell.execute_reply": "2021-12-14T16:54:19.488419Z",
     "shell.execute_reply.started": "2021-12-14T16:54:19.474762Z"
    }
   },
   "outputs": [],
   "source": [
    "diff['count'].value_counts()\n",
    "diff[diff['count']==1]['actual'].value_counts()\n",
    "diff[diff['count']==1].head()"
   ]
  },
  {
   "cell_type": "code",
   "execution_count": 126,
   "metadata": {
    "execution": {
     "iopub.execute_input": "2021-12-14T16:54:30.722961Z",
     "iopub.status.busy": "2021-12-14T16:54:30.722491Z",
     "iopub.status.idle": "2021-12-14T16:54:31.081409Z",
     "shell.execute_reply": "2021-12-14T16:54:31.080742Z",
     "shell.execute_reply.started": "2021-12-14T16:54:30.722921Z"
    }
   },
   "outputs": [],
   "source": [
    "g='M12'\n",
    "pr='D156'\n",
    "print(f\"train: {len(sizes[g])} , test : {len(sizes_val[g])}\")\n",
    "tr=sizes[g][0]\n",
    "te=sizes_val[g][0]\n",
    "pre=sizes_val[pr][0]\n",
    "f, ax = plt.subplots(1,3)\n",
    "ax[0].imshow(X[tr],cmap='gray')\n",
    "ax[0].set_title('anchor')\n",
    "ax[1].imshow(Xval[te],cmap='gray')\n",
    "ax[1].set_title('test');\n",
    "ax[2].imshow(X[pre],cmap='gray')\n",
    "ax[2].set_title('predicted');"
   ]
  },
  {
   "cell_type": "code",
   "execution_count": 43,
   "metadata": {
    "execution": {
     "iopub.execute_input": "2021-12-14T16:06:45.190575Z",
     "iopub.status.busy": "2021-12-14T16:06:45.190026Z",
     "iopub.status.idle": "2021-12-14T16:06:45.218235Z",
     "shell.execute_reply": "2021-12-14T16:06:45.217408Z",
     "shell.execute_reply.started": "2021-12-14T16:06:45.190532Z"
    },
    "id": "dwJIsMhQuntw",
    "outputId": "c95907be-35d3-4f80-fa15-4c000ac049f4"
   },
   "outputs": [],
   "source": [
    "# confusion_matrix = pd.crosstab(index=y_true, columns=y_pred, rownames=['True'], colnames=['predictions']).astype(int)\n",
    "# sns.heatmap(confusion_matrix, annot=True, fmt='.2f', cmap=\"YlGnBu\").set_title('Confusion Matrix')\n",
    "print(classification_report(y_true,y_pred))"
   ]
  },
  {
   "cell_type": "code",
   "execution_count": null,
   "metadata": {
    "id": "X4Xa-BGqPzgQ",
    "outputId": "b116be19-2a5f-4926-ff80-cfc8cb6932dc"
   },
   "outputs": [],
   "source": [
    "y[y=='UNKNOWN'].shape"
   ]
  },
  {
   "cell_type": "code",
   "execution_count": null,
   "metadata": {
    "id": "poAicP_njbDx"
   },
   "outputs": [],
   "source": [
    "# t_start = time.time()\n",
    "# print(calc_accuracy(1,Xval,yval,anchor_img,anchor_label,model))\n",
    "# print(\"accuracy fn took {0} sec\".format((time.time()-t_start)))"
   ]
  },
  {
   "cell_type": "markdown",
   "metadata": {
    "id": "beW1a29IjbDz"
   },
   "source": [
    "### Testing new images"
   ]
  },
  {
   "cell_type": "code",
   "execution_count": null,
   "metadata": {
    "id": "JF4kj__Cunty"
   },
   "outputs": [],
   "source": [
    "def preprocess(img):\n",
    "    if len(img.shape) == 3 and img.shape[2]==3:\n",
    "        img = cv2.cvtColor(img, cv2.COLOR_BGR2GRAY)\n",
    "        \n",
    "    img = cv2.resize(img,(50,75))\n",
    "    return img"
   ]
  },
  {
   "cell_type": "code",
   "execution_count": null,
   "metadata": {
    "id": "hrLEK0fejbDz",
    "outputId": "53ef323a-f1ba-4b3d-9a23-ca7b4fce6a66"
   },
   "outputs": [],
   "source": [
    "test_img1=io.imread('3.jpg')\n",
    "test_img1=preprocess(test_img1)\n",
    "print(test_img1.shape)\n",
    "io.imshow(test_img1)\n"
   ]
  },
  {
   "cell_type": "code",
   "execution_count": null,
   "metadata": {
    "id": "YZerd3l3untz",
    "outputId": "7cd6dfca-6118-4754-f9f7-6a97f8a237b2"
   },
   "outputs": [],
   "source": [
    "print(targets[64])\n",
    "targets"
   ]
  },
  {
   "cell_type": "code",
   "execution_count": null,
   "metadata": {
    "id": "1Lic7m0Quntz",
    "outputId": "33210212-e0e0-43f0-ce61-ffa038241d44"
   },
   "outputs": [],
   "source": [
    "predicted[100]"
   ]
  },
  {
   "cell_type": "code",
   "execution_count": null,
   "metadata": {
    "id": "9ZplSFXGjbD3"
   },
   "outputs": [],
   "source": [
    "predicted,anchor_imgs,targets=whichGlyph(model,test_img1.reshape(75,50,1),anchor_img,anchor_label)"
   ]
  },
  {
   "cell_type": "code",
   "execution_count": null,
   "metadata": {
    "id": "sBjp6Mgvunt0",
    "outputId": "ac73d447-99dd-4a25-dc20-e592194a706b"
   },
   "outputs": [],
   "source": [
    "sort_index = np.argsort(np.asarray(predicted).reshape(len(predicted),))\n",
    "sort_index "
   ]
  },
  {
   "cell_type": "code",
   "execution_count": null,
   "metadata": {
    "id": "Xas8Egtzunt1",
    "outputId": "f6e5d690-82e8-472f-c34d-cd271e20286a"
   },
   "outputs": [],
   "source": [
    "io.imshow(anchor_imgs[100].reshape(75,50))"
   ]
  },
  {
   "cell_type": "code",
   "execution_count": null,
   "metadata": {
    "id": "PIEwqh2Hunt1"
   },
   "outputs": [],
   "source": []
  }
 ],
 "metadata": {
  "kernelspec": {
   "display_name": "Python 3",
   "language": "python",
   "name": "python3"
  },
  "language_info": {
   "codemirror_mode": {
    "name": "ipython",
    "version": 3
   },
   "file_extension": ".py",
   "mimetype": "text/x-python",
   "name": "python",
   "nbconvert_exporter": "python",
   "pygments_lexer": "ipython3",
   "version": "3.7.6"
  }
 },
 "nbformat": 4,
 "nbformat_minor": 4
}
