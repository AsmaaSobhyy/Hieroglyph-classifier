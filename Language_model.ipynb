{
 "cells": [
  {
   "cell_type": "code",
   "execution_count": 3,
   "metadata": {},
   "outputs": [],
   "source": [
    "import nltk\n",
    "# from nltk.corpus import reuters\n",
    "from nltk import bigrams, trigrams\n",
    "from collections import Counter, defaultdict\n",
    "\n",
    "import pandas as pd\n",
    "import numpy as np"
   ]
  },
  {
   "cell_type": "code",
   "execution_count": 4,
   "metadata": {},
   "outputs": [],
   "source": [
    "# Create a placeholder for model\n",
    "model = defaultdict(lambda: defaultdict(lambda: 0))"
   ]
  },
  {
   "cell_type": "code",
   "execution_count": 5,
   "metadata": {},
   "outputs": [
    {
     "data": {
      "text/html": [
       "<div>\n",
       "<style scoped>\n",
       "    .dataframe tbody tr th:only-of-type {\n",
       "        vertical-align: middle;\n",
       "    }\n",
       "\n",
       "    .dataframe tbody tr th {\n",
       "        vertical-align: top;\n",
       "    }\n",
       "\n",
       "    .dataframe thead th {\n",
       "        text-align: right;\n",
       "    }\n",
       "</style>\n",
       "<table border=\"1\" class=\"dataframe\">\n",
       "  <thead>\n",
       "    <tr style=\"text-align: right;\">\n",
       "      <th></th>\n",
       "      <th>word</th>\n",
       "      <th>x</th>\n",
       "      <th>y</th>\n",
       "    </tr>\n",
       "  </thead>\n",
       "  <tbody>\n",
       "    <tr>\n",
       "      <th>0</th>\n",
       "      <td>G1</td>\n",
       "      <td>A</td>\n",
       "      <td>Glottal stop heard in German words (ah)</td>\n",
       "    </tr>\n",
       "    <tr>\n",
       "      <th>1</th>\n",
       "      <td>M17</td>\n",
       "      <td>i</td>\n",
       "      <td>ey</td>\n",
       "    </tr>\n",
       "    <tr>\n",
       "      <th>2</th>\n",
       "      <td>M17-M17 or Z4</td>\n",
       "      <td>y</td>\n",
       "      <td>yeh</td>\n",
       "    </tr>\n",
       "    <tr>\n",
       "      <th>3</th>\n",
       "      <td>D36</td>\n",
       "      <td>a</td>\n",
       "      <td>ah</td>\n",
       "    </tr>\n",
       "    <tr>\n",
       "      <th>4</th>\n",
       "      <td>G43</td>\n",
       "      <td>w</td>\n",
       "      <td>ou</td>\n",
       "    </tr>\n",
       "  </tbody>\n",
       "</table>\n",
       "</div>"
      ],
      "text/plain": [
       "            word  x                                        y\n",
       "0             G1  A  Glottal stop heard in German words (ah)\n",
       "1            M17  i                                       ey\n",
       "2  M17-M17 or Z4  y                                      yeh\n",
       "3            D36  a                                       ah\n",
       "4            G43  w                                       ou"
      ]
     },
     "execution_count": 5,
     "metadata": {},
     "output_type": "execute_result"
    }
   ],
   "source": [
    "df= pd.read_csv('EGYPT_DICTIONARY (1).csv',names=['word','x','y'])\n",
    "df.head()"
   ]
  },
  {
   "cell_type": "code",
   "execution_count": 6,
   "metadata": {},
   "outputs": [],
   "source": [
    "df.dropna(inplace=True)"
   ]
  },
  {
   "cell_type": "code",
   "execution_count": null,
   "metadata": {},
   "outputs": [],
   "source": []
  },
  {
   "cell_type": "code",
   "execution_count": 7,
   "metadata": {
    "scrolled": true
   },
   "outputs": [
    {
     "data": {
      "text/html": [
       "<div>\n",
       "<style scoped>\n",
       "    .dataframe tbody tr th:only-of-type {\n",
       "        vertical-align: middle;\n",
       "    }\n",
       "\n",
       "    .dataframe tbody tr th {\n",
       "        vertical-align: top;\n",
       "    }\n",
       "\n",
       "    .dataframe thead th {\n",
       "        text-align: right;\n",
       "    }\n",
       "</style>\n",
       "<table border=\"1\" class=\"dataframe\">\n",
       "  <thead>\n",
       "    <tr style=\"text-align: right;\">\n",
       "      <th></th>\n",
       "      <th>word</th>\n",
       "      <th>x</th>\n",
       "      <th>y</th>\n",
       "    </tr>\n",
       "  </thead>\n",
       "  <tbody>\n",
       "    <tr>\n",
       "      <th>0</th>\n",
       "      <td>G1</td>\n",
       "      <td>A</td>\n",
       "      <td>Glottal stop heard in German words (ah)</td>\n",
       "    </tr>\n",
       "    <tr>\n",
       "      <th>1</th>\n",
       "      <td>M17</td>\n",
       "      <td>i</td>\n",
       "      <td>ey</td>\n",
       "    </tr>\n",
       "    <tr>\n",
       "      <th>2</th>\n",
       "      <td>M17-M17orZ4</td>\n",
       "      <td>y</td>\n",
       "      <td>yeh</td>\n",
       "    </tr>\n",
       "  </tbody>\n",
       "</table>\n",
       "</div>"
      ],
      "text/plain": [
       "          word  x                                        y\n",
       "0           G1  A  Glottal stop heard in German words (ah)\n",
       "1          M17  i                                       ey\n",
       "2  M17-M17orZ4  y                                      yeh"
      ]
     },
     "execution_count": 7,
     "metadata": {},
     "output_type": "execute_result"
    }
   ],
   "source": [
    "df['word'] = df['word'].str.replace(' ', '')\n",
    "df.head(3)"
   ]
  },
  {
   "cell_type": "code",
   "execution_count": 8,
   "metadata": {},
   "outputs": [],
   "source": [
    "words=df['word']"
   ]
  },
  {
   "cell_type": "code",
   "execution_count": 9,
   "metadata": {},
   "outputs": [],
   "source": [
    "def tokanize_sent(words):\n",
    "    tok_words=[]\n",
    "    for word in words:\n",
    "      # print(word)\n",
    "        if 'or' in word:\n",
    "            orSplt=word.split('or')\n",
    "            for os in orSplt:\n",
    "                tok_words.append(word.split('-'))\n",
    "        elif '-' in word:\n",
    "            tok_words.append(word.split('-'))\n",
    "        else:\n",
    "            tok_words.append(word)\n",
    "    return tok_words"
   ]
  },
  {
   "cell_type": "code",
   "execution_count": 10,
   "metadata": {},
   "outputs": [],
   "source": [
    "def train_model(model,sentences,n=2):\n",
    "    # Count frequency of co-occurance\n",
    "    if n==3:\n",
    "        for sentence in sentences:\n",
    "            for w1, w2, w3 in trigrams(sentence, pad_right=True, pad_left=True):\n",
    "                model[(w1, w2)][w3] += 1\n",
    "        # Let's transform the counts to probabilities\n",
    "        for w1_w2 in model:\n",
    "            total_count = float(sum(model[w1_w2].values()))\n",
    "            for w3 in model[w1_w2]:\n",
    "                model[w1_w2][w3] /= total_count\n",
    "    elif n==2:\n",
    "        #bigram\n",
    "        for sentence in sentences:\n",
    "            for w1, w2 in bigrams(sentence, pad_right=True, pad_left=True):\n",
    "                model[(w1)][w2] += 1\n",
    "        for w1_w2 in model:\n",
    "            total_count = float(sum(model[w1_w2].values()))\n",
    "            for w3 in model[w1_w2]:\n",
    "                model[w1_w2][w3] /= total_count\n",
    "    return model"
   ]
  },
  {
   "cell_type": "code",
   "execution_count": 33,
   "metadata": {},
   "outputs": [],
   "source": [
    "def lm_next(model,prev):\n",
    "    pred = dict( eval('model'+ str(prev)))\n",
    "    next_scores = sorted(pred.items(), key=lambda item: item[1],reverse=True)\n",
    "    out = dict(next_scores)\n",
    "    if len(list(out.keys()))==0:\n",
    "        out ={'None':0}\n",
    "    return out"
   ]
  },
  {
   "cell_type": "code",
   "execution_count": 19,
   "metadata": {},
   "outputs": [],
   "source": [
    "sentences = tokanize_sent(words)\n",
    "model = train_model(model,sentences,n=3)"
   ]
  },
  {
   "cell_type": "code",
   "execution_count": 20,
   "metadata": {},
   "outputs": [],
   "source": [
    "# model"
   ]
  },
  {
   "cell_type": "code",
   "execution_count": 34,
   "metadata": {
    "scrolled": true
   },
   "outputs": [
    {
     "data": {
      "text/plain": [
       "{'None': 0}"
      ]
     },
     "execution_count": 34,
     "metadata": {},
     "output_type": "execute_result"
    }
   ],
   "source": [
    "prev=['X1', 'M40'] \n",
    "prediction=lm_next(model,prev)\n",
    "prediction"
   ]
  },
  {
   "cell_type": "markdown",
   "metadata": {},
   "source": [
    "# saving model"
   ]
  },
  {
   "cell_type": "code",
   "execution_count": 26,
   "metadata": {},
   "outputs": [],
   "source": [
    "# import dill as pickle\n",
    "\n",
    "# with open(\"language_model.pkl\", \"wb\") as f:\n",
    "#     pickle.dump(model,f)"
   ]
  },
  {
   "cell_type": "code",
   "execution_count": null,
   "metadata": {},
   "outputs": [],
   "source": [
    "# class n_gram_model:\n",
    "#     # Class attribute\n",
    "#     species = \"Canis familiaris\"\n",
    "#     model = defaultdict(lambda: defaultdict(lambda: 0))\n",
    "\n",
    "#     def __init__(self,n):\n",
    "#         self.n = n\n",
    "# #         self.age = age\n",
    "#     def predict_next3(self,prev):\n",
    "#     pred = dict(model[prev])\n",
    "#     next3 = sorted(pred.items(), key=lambda item: item[1],reverse=True)[:3]\n",
    "#     return next3\n",
    "    \n",
    "#     def train_model(self,model,sentences,n=2):\n",
    "#     # Count frequency of co-occurance\n",
    "#     if self.n==3:\n",
    "#         for sentence in sentences:\n",
    "#             for w1, w2, w3 in trigrams(sentence, pad_right=True, pad_left=True):\n",
    "#                 model[(w1, w2)][w3] += 1\n",
    "#         # Let's transform the counts to probabilities\n",
    "#         for w1_w2 in model:\n",
    "#             total_count = float(sum(model[w1_w2].values()))\n",
    "#             for w3 in model[w1_w2]:\n",
    "#                 model[w1_w2][w3] /= total_count\n",
    "#     elif n==2:\n",
    "#         #bigram\n",
    "#         for sentence in sentences:\n",
    "#             for w1, w2 in bigrams(sentence, pad_right=True, pad_left=True):\n",
    "#                 model[(w1)][w2] += 1\n",
    "#         for w1_w2 in model:\n",
    "#             total_count = float(sum(model[w1_w2].values()))\n",
    "#             for w3 in model[w1_w2]:\n",
    "#                 model[w1_w2][w3] /= total_count\n",
    "#     return model"
   ]
  },
  {
   "cell_type": "code",
   "execution_count": null,
   "metadata": {},
   "outputs": [],
   "source": []
  },
  {
   "cell_type": "code",
   "execution_count": null,
   "metadata": {},
   "outputs": [],
   "source": []
  },
  {
   "cell_type": "code",
   "execution_count": null,
   "metadata": {},
   "outputs": [],
   "source": []
  }
 ],
 "metadata": {
  "kernelspec": {
   "display_name": "Python 3",
   "language": "python",
   "name": "python3"
  },
  "language_info": {
   "codemirror_mode": {
    "name": "ipython",
    "version": 3
   },
   "file_extension": ".py",
   "mimetype": "text/x-python",
   "name": "python",
   "nbconvert_exporter": "python",
   "pygments_lexer": "ipython3",
   "version": "3.7.6"
  }
 },
 "nbformat": 4,
 "nbformat_minor": 4
}
