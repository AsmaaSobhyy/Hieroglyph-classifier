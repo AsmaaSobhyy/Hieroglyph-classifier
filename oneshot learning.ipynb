{
 "cells": [
  {
   "cell_type": "code",
   "execution_count": 2,
   "metadata": {
    "id": "S9EUfmmBja-_"
   },
   "outputs": [
    {
     "name": "stderr",
     "output_type": "stream",
     "text": [
      "/home/asmaa/anaconda3/lib/python3.7/site-packages/tensorflow/python/framework/dtypes.py:516: FutureWarning: Passing (type, 1) or '1type' as a synonym of type is deprecated; in a future version of numpy, it will be understood as (type, (1,)) / '(1,)type'.\n",
      "  _np_qint8 = np.dtype([(\"qint8\", np.int8, 1)])\n",
      "/home/asmaa/anaconda3/lib/python3.7/site-packages/tensorflow/python/framework/dtypes.py:517: FutureWarning: Passing (type, 1) or '1type' as a synonym of type is deprecated; in a future version of numpy, it will be understood as (type, (1,)) / '(1,)type'.\n",
      "  _np_quint8 = np.dtype([(\"quint8\", np.uint8, 1)])\n",
      "/home/asmaa/anaconda3/lib/python3.7/site-packages/tensorflow/python/framework/dtypes.py:518: FutureWarning: Passing (type, 1) or '1type' as a synonym of type is deprecated; in a future version of numpy, it will be understood as (type, (1,)) / '(1,)type'.\n",
      "  _np_qint16 = np.dtype([(\"qint16\", np.int16, 1)])\n",
      "/home/asmaa/anaconda3/lib/python3.7/site-packages/tensorflow/python/framework/dtypes.py:519: FutureWarning: Passing (type, 1) or '1type' as a synonym of type is deprecated; in a future version of numpy, it will be understood as (type, (1,)) / '(1,)type'.\n",
      "  _np_quint16 = np.dtype([(\"quint16\", np.uint16, 1)])\n",
      "/home/asmaa/anaconda3/lib/python3.7/site-packages/tensorflow/python/framework/dtypes.py:520: FutureWarning: Passing (type, 1) or '1type' as a synonym of type is deprecated; in a future version of numpy, it will be understood as (type, (1,)) / '(1,)type'.\n",
      "  _np_qint32 = np.dtype([(\"qint32\", np.int32, 1)])\n",
      "/home/asmaa/anaconda3/lib/python3.7/site-packages/tensorflow/python/framework/dtypes.py:525: FutureWarning: Passing (type, 1) or '1type' as a synonym of type is deprecated; in a future version of numpy, it will be understood as (type, (1,)) / '(1,)type'.\n",
      "  np_resource = np.dtype([(\"resource\", np.ubyte, 1)])\n",
      "/home/asmaa/anaconda3/lib/python3.7/site-packages/tensorboard/compat/tensorflow_stub/dtypes.py:541: FutureWarning: Passing (type, 1) or '1type' as a synonym of type is deprecated; in a future version of numpy, it will be understood as (type, (1,)) / '(1,)type'.\n",
      "  _np_qint8 = np.dtype([(\"qint8\", np.int8, 1)])\n",
      "/home/asmaa/anaconda3/lib/python3.7/site-packages/tensorboard/compat/tensorflow_stub/dtypes.py:542: FutureWarning: Passing (type, 1) or '1type' as a synonym of type is deprecated; in a future version of numpy, it will be understood as (type, (1,)) / '(1,)type'.\n",
      "  _np_quint8 = np.dtype([(\"quint8\", np.uint8, 1)])\n",
      "/home/asmaa/anaconda3/lib/python3.7/site-packages/tensorboard/compat/tensorflow_stub/dtypes.py:543: FutureWarning: Passing (type, 1) or '1type' as a synonym of type is deprecated; in a future version of numpy, it will be understood as (type, (1,)) / '(1,)type'.\n",
      "  _np_qint16 = np.dtype([(\"qint16\", np.int16, 1)])\n",
      "/home/asmaa/anaconda3/lib/python3.7/site-packages/tensorboard/compat/tensorflow_stub/dtypes.py:544: FutureWarning: Passing (type, 1) or '1type' as a synonym of type is deprecated; in a future version of numpy, it will be understood as (type, (1,)) / '(1,)type'.\n",
      "  _np_quint16 = np.dtype([(\"quint16\", np.uint16, 1)])\n",
      "/home/asmaa/anaconda3/lib/python3.7/site-packages/tensorboard/compat/tensorflow_stub/dtypes.py:545: FutureWarning: Passing (type, 1) or '1type' as a synonym of type is deprecated; in a future version of numpy, it will be understood as (type, (1,)) / '(1,)type'.\n",
      "  _np_qint32 = np.dtype([(\"qint32\", np.int32, 1)])\n",
      "/home/asmaa/anaconda3/lib/python3.7/site-packages/tensorboard/compat/tensorflow_stub/dtypes.py:550: FutureWarning: Passing (type, 1) or '1type' as a synonym of type is deprecated; in a future version of numpy, it will be understood as (type, (1,)) / '(1,)type'.\n",
      "  np_resource = np.dtype([(\"resource\", np.ubyte, 1)])\n",
      "Using TensorFlow backend.\n"
     ]
    }
   ],
   "source": [
    "import os\n",
    "import pandas as pd\n",
    "import numpy as np\n",
    "import random\n",
    "import matplotlib.pyplot as plt\n",
    "import seaborn as sns\n",
    "import cv2\n",
    "\n",
    "import skimage.io as io\n",
    "import pickle\n",
    "\n",
    "import time\n",
    "\n",
    "from sklearn.utils import shuffle\n",
    "from sklearn.model_selection import train_test_split\n",
    "\n",
    "import tensorflow as tf\n",
    "from keras.models import Sequential\n",
    "#for colab\n",
    "# from tensorflow.keras.optimizers import Adam\n",
    "\n",
    "from keras.optimizers import Adam\n",
    "from keras.layers import Conv2D, ZeroPadding2D, Activation, Input, concatenate\n",
    "from keras.models import Model\n",
    "\n",
    "from tensorflow.keras.layers import BatchNormalization\n",
    "from keras.layers.pooling import MaxPooling2D\n",
    "from keras.layers.merge import Concatenate\n",
    "from keras.layers.core import Lambda, Flatten, Dense\n",
    "from keras.initializers import glorot_uniform\n",
    "\n",
    "from tensorflow.keras.layers import Layer\n",
    "from keras.regularizers import l2\n",
    "from keras import backend as K\n",
    "\n",
    "from tensorflow.keras.applications.inception_v3 import InceptionV3\n",
    "# from tensorflow.keras.preprocessing import image\n",
    "# from tensorflow.keras.models import Model\n",
    "# from tensorflow.keras.layers import Dense, GlobalAveragePooling2D\n",
    "\n",
    "from sklearn.metrics import confusion_matrix, classification_report\n"
   ]
  },
  {
   "cell_type": "markdown",
   "metadata": {
    "id": "XXwbeZYYjbAJ"
   },
   "source": [
    "## Loading data\n",
    "a function that loads the images locations and labels.<br>\n",
    "input: the data path.<br>\n",
    "output:<br>\n",
    "&emsp;&emsp;dataHiero -> a dataframe with index= location of images and label= their labels <br>\n",
    "&emsp;&emsp;img_groups -> a dictionary in the shape of { \"label\" : [array of locations of images labeled with this label] }"
   ]
  },
  {
   "cell_type": "code",
   "execution_count": null,
   "metadata": {
    "id": "noWbwGlLjbAY"
   },
   "outputs": [],
   "source": [
    "path=\"../GlyphDataset/Dataset/Manual/Preprocessed/\"\n",
    "\n",
    "def loadData(folderPictures=path):\n",
    "    \n",
    "    folders=next(os.walk(folderPictures))[1]\n",
    "    img_groups = {}\n",
    "    img_list={}\n",
    "\n",
    "    for folder in folders:\n",
    "        for img_file in os.listdir(folderPictures+folder):\n",
    "            name, label = img_file.strip('.png').split(\"_\")\n",
    "            \n",
    "            \n",
    "            # One image per class\n",
    "\n",
    "            #if label not in img_groups.keys():\n",
    "            #    img_groups[label] = [folder + \"_\" + name]\n",
    "\n",
    "\n",
    "            # Multiple images per class\n",
    "\n",
    "            if label in img_groups.keys():\n",
    "                img_groups[label].append(folder+\"_\"+name)\n",
    "            else:\n",
    "                img_groups[label] = [folder+\"_\"+name]\n",
    "\n",
    "            img_list[folder+\"_\"+name]=[label]\n",
    "\n",
    "\n",
    "    # Remove class with only one hieroglyph\n",
    "\n",
    "\n",
    "    for k,v in list(img_groups.items()):\n",
    "        if len(v)==1: del img_groups[k]\n",
    "\n",
    "    # Extract only N hieroglyph classes randomly\n",
    "\n",
    "    nclass = len(img_groups.keys())\n",
    "\n",
    "    list_of_class = random.sample(list(img_groups.keys()), nclass)\n",
    "#     print(list_of_class)\n",
    "\n",
    "    short_dico = {x: img_groups[x] for x in list_of_class if x in img_groups}\n",
    "\n",
    "    dataHiero=pd.DataFrame.from_dict(img_list,orient='index')\n",
    "    dataHiero.columns = [\"label\"]\n",
    "    dataHiero = dataHiero[dataHiero.label != 'UNKNOWN']\n",
    "\n",
    "    dataHiero = dataHiero.loc[dataHiero['label'].isin(short_dico)]\n",
    "\n",
    "\n",
    "    dataHiero.reset_index(level=0, inplace=True)\n",
    "\n",
    "    return dataHiero,img_groups"
   ]
  },
  {
   "cell_type": "markdown",
   "metadata": {
    "id": "_CaZM8DxjbAp"
   },
   "source": [
    "a function that takes the image groups and load those images<br>\n",
    "input: img_proups dictionary<br>\n",
    "output:<br>\n",
    "&emsp;&emsp;X -> np array of the images<br>\n",
    "&emsp;&emsp;y -> np array of labels<br>\n",
    "&emsp;&emsp;glyph_sizes -> a dictionary in the form of {'label' : (starting index, ending index in X and y)}\n"
   ]
  },
  {
   "cell_type": "code",
   "execution_count": null,
   "metadata": {
    "id": "xO2UaDgTjbAu"
   },
   "outputs": [],
   "source": [
    "def read_images(img_groups,path):\n",
    "    X=[]\n",
    "    y=[]\n",
    "    glyph_sizes={}\n",
    "    low=0\n",
    "    for glyph in img_groups:\n",
    "        category_images=[]\n",
    "        high=low\n",
    "        for img_path in img_groups[glyph] :\n",
    "            folder,name = img_path.split('_')\n",
    "            image = io.imread(path+folder+'/'+name+'_'+glyph+'.png')\n",
    "            X.append(image)\n",
    "            y.append(glyph)\n",
    "            high+=1\n",
    "#         X.append(np.array(category_images))\n",
    "        glyph_sizes[glyph]=(low,high-1)\n",
    "        low=high\n",
    "        \n",
    "    return np.array(X),np.array(y).reshape((-1,1)),glyph_sizes\n",
    "            \n",
    "    "
   ]
  },
  {
   "cell_type": "code",
   "execution_count": null,
   "metadata": {
    "id": "vwJdv81wuntL"
   },
   "outputs": [],
   "source": []
  },
  {
   "cell_type": "code",
   "execution_count": null,
   "metadata": {
    "colab": {
     "base_uri": "https://localhost:8080/",
     "height": 324
    },
    "id": "IYwf13e4jbA3",
    "outputId": "40164a56-2bf4-4e9f-9e17-823f4146688c"
   },
   "outputs": [
    {
     "data": {
      "text/html": [
       "<div>\n",
       "<style scoped>\n",
       "    .dataframe tbody tr th:only-of-type {\n",
       "        vertical-align: middle;\n",
       "    }\n",
       "\n",
       "    .dataframe tbody tr th {\n",
       "        vertical-align: top;\n",
       "    }\n",
       "\n",
       "    .dataframe thead th {\n",
       "        text-align: right;\n",
       "    }\n",
       "</style>\n",
       "<table border=\"1\" class=\"dataframe\">\n",
       "  <thead>\n",
       "    <tr style=\"text-align: right;\">\n",
       "      <th></th>\n",
       "      <th>index</th>\n",
       "      <th>label</th>\n",
       "    </tr>\n",
       "  </thead>\n",
       "  <tbody>\n",
       "    <tr>\n",
       "      <th>0</th>\n",
       "      <td>39_390115</td>\n",
       "      <td>D21</td>\n",
       "    </tr>\n",
       "    <tr>\n",
       "      <th>1</th>\n",
       "      <td>39_390082</td>\n",
       "      <td>M17</td>\n",
       "    </tr>\n",
       "    <tr>\n",
       "      <th>2</th>\n",
       "      <td>39_390292</td>\n",
       "      <td>V31</td>\n",
       "    </tr>\n",
       "    <tr>\n",
       "      <th>3</th>\n",
       "      <td>39_390375</td>\n",
       "      <td>U15</td>\n",
       "    </tr>\n",
       "    <tr>\n",
       "      <th>4</th>\n",
       "      <td>39_390175</td>\n",
       "      <td>D35</td>\n",
       "    </tr>\n",
       "  </tbody>\n",
       "</table>\n",
       "</div>"
      ],
      "text/plain": [
       "       index label\n",
       "0  39_390115   D21\n",
       "1  39_390082   M17\n",
       "2  39_390292   V31\n",
       "3  39_390375   U15\n",
       "4  39_390175   D35"
      ]
     },
     "execution_count": 11,
     "metadata": {},
     "output_type": "execute_result"
    }
   ],
   "source": [
    "dataHiero,img_groups=loadData(folderPictures=path)\n",
    "dataHiero.head()\n",
    "# img_groups"
   ]
  },
  {
   "cell_type": "code",
   "execution_count": null,
   "metadata": {
    "id": "-j6RWKkrjbA6"
   },
   "outputs": [],
   "source": [
    "X,y,sizes=read_images(img_groups,path)"
   ]
  },
  {
   "cell_type": "code",
   "execution_count": null,
   "metadata": {
    "id": "6dtSHq2CuntN",
    "outputId": "ece1fc39-78e5-44e5-afce-2d02122bff05"
   },
   "outputs": [
    {
     "data": {
      "text/plain": [
       "135"
      ]
     },
     "execution_count": 27,
     "metadata": {},
     "output_type": "execute_result"
    }
   ],
   "source": [
    "len(np.unique(y))"
   ]
  },
  {
   "cell_type": "code",
   "execution_count": null,
   "metadata": {
    "id": "kNTAe8oQjbBG",
    "outputId": "a030e446-b195-4481-b03e-2b201b17045f",
    "scrolled": true
   },
   "outputs": [
    {
     "name": "stdout",
     "output_type": "stream",
     "text": [
      "(2921, 1)\n",
      "(2921, 75, 50)\n"
     ]
    },
    {
     "data": {
      "text/plain": [
       "5"
      ]
     },
     "execution_count": 25,
     "metadata": {},
     "output_type": "execute_result"
    }
   ],
   "source": [
    "type(X)\n",
    "print(y.shape)\n",
    "print(X.shape)\n",
    "sizes['D21'][1]"
   ]
  },
  {
   "cell_type": "markdown",
   "metadata": {
    "id": "hjQdogROjbBI"
   },
   "source": [
    "saving the images into a pickle"
   ]
  },
  {
   "cell_type": "code",
   "execution_count": null,
   "metadata": {
    "id": "Br2-Xm7bjbBb"
   },
   "outputs": [],
   "source": [
    "#train val split\n",
    "X_train, X_test, y_train, y_test = train_test_split(X, y, test_size=0.3,stratify=y, random_state=42)"
   ]
  },
  {
   "cell_type": "code",
   "execution_count": null,
   "metadata": {
    "id": "h19VDNyjuntR",
    "outputId": "778d602a-b24b-4c4e-fa9b-0f5260984105"
   },
   "outputs": [
    {
     "data": {
      "text/plain": [
       "(1252, 75, 50)"
      ]
     },
     "execution_count": 24,
     "metadata": {},
     "output_type": "execute_result"
    }
   ],
   "source": [
    "X_test.shape"
   ]
  },
  {
   "cell_type": "code",
   "execution_count": null,
   "metadata": {
    "id": "lPS8xCJPjbBh"
   },
   "outputs": [],
   "source": [
    "def get_sizes(X,Y):\n",
    "    sizes={}\n",
    "    for i ,(x,y) in enumerate(zip(X,Y)):\n",
    "#         print(i,x,y)\n",
    "        if y[0] in sizes:\n",
    "            sizes[y[0]].append(i)\n",
    "        else:\n",
    "            sizes[y[0]]=[i]\n",
    "    return sizes\n",
    "    "
   ]
  },
  {
   "cell_type": "code",
   "execution_count": null,
   "metadata": {
    "id": "sG1c9UUHjbBi"
   },
   "outputs": [],
   "source": [
    "sizes=get_sizes(X_train,y_train)\n",
    "X=X_train\n",
    "y=y_train"
   ]
  },
  {
   "cell_type": "code",
   "execution_count": null,
   "metadata": {
    "id": "bbrU-fAkjbBn"
   },
   "outputs": [],
   "source": [
    "#saving data as pickle\n",
    "with open(\"train.pickle\", \"wb\") as f:\n",
    "    pickle.dump((X,y,sizes),f)"
   ]
  },
  {
   "cell_type": "code",
   "execution_count": null,
   "metadata": {
    "id": "x4szlW2XjbBo"
   },
   "outputs": [],
   "source": [
    "sizes_val=get_sizes(X_test,y_test)\n",
    "Xval=X_test\n",
    "yval=y_test"
   ]
  },
  {
   "cell_type": "code",
   "execution_count": null,
   "metadata": {
    "id": "NkrX6IOujbBp"
   },
   "outputs": [],
   "source": [
    "#saving data as pickle\n",
    "with open(\"test.pickle\", \"wb\") as f:\n",
    "    pickle.dump((Xval,yval,sizes_val),f)"
   ]
  },
  {
   "cell_type": "code",
   "execution_count": null,
   "metadata": {
    "id": "cUfovN9vjbBw"
   },
   "outputs": [],
   "source": [
    "# #saving data as pickle\n",
    "# with open(\"test.pickle\", \"wb\") as f:\n",
    "#     pickle.dump((Xval,yval,sizes_val),f)"
   ]
  },
  {
   "cell_type": "markdown",
   "metadata": {
    "id": "jtd7kUY6jbBx"
   },
   "source": [
    "## reading the Data with pickle"
   ]
  },
  {
   "cell_type": "code",
   "execution_count": 5,
   "metadata": {
    "id": "XVz6vsHZ4SeJ"
   },
   "outputs": [],
   "source": [
    "#colab\n",
    "# data_path= '/content/drive/MyDrive/hiero_cv/'\n",
    "#local|\n",
    "data_path='./'"
   ]
  },
  {
   "cell_type": "code",
   "execution_count": 6,
   "metadata": {
    "colab": {
     "base_uri": "https://localhost:8080/"
    },
    "id": "UdKimrvevHWM",
    "outputId": "d9522294-60e6-4caa-802a-1a1d3dc16f26"
   },
   "outputs": [],
   "source": [
    "# from google.colab import drive\n",
    "# drive.mount('/content/drive')"
   ]
  },
  {
   "cell_type": "code",
   "execution_count": 7,
   "metadata": {
    "id": "9ZPC6wKrjbB4"
   },
   "outputs": [],
   "source": [
    "with open(data_path+\"train.pickle\", \"rb\") as f:\n",
    "    (X,y,sizes) = pickle.load(f)"
   ]
  },
  {
   "cell_type": "code",
   "execution_count": 8,
   "metadata": {
    "id": "lOstoN_vjbB7"
   },
   "outputs": [],
   "source": [
    "with open(data_path+\"test.pickle\", \"rb\") as f:\n",
    "    (Xval,yval,sizes_val) = pickle.load(f)"
   ]
  },
  {
   "cell_type": "code",
   "execution_count": null,
   "metadata": {
    "id": "EmdcIQiwpDLV"
   },
   "outputs": [],
   "source": [
    "# from google.colab import drive\n",
    "# drive.mount('/content/drive')"
   ]
  },
  {
   "cell_type": "markdown",
   "metadata": {
    "id": "QHE4k904untY"
   },
   "source": [
    "### For later : weight initialization approach."
   ]
  },
  {
   "cell_type": "code",
   "execution_count": null,
   "metadata": {
    "id": "XOB0W_VqjbB8"
   },
   "outputs": [],
   "source": [
    "\n",
    "# def initialize_weights(shape, name=None):\n",
    "#     \"\"\"\n",
    "#         The paper, http://www.cs.utoronto.ca/~gkoch/files/msc-thesis.pdf\n",
    "#         suggests to initialize CNN layer weights with mean as 0.0 and standard deviation of 0.01\n",
    "#     \"\"\"\n",
    "#     return np.random.normal(loc = 0.0, scale = 1e-2, size = shape)\n",
    "\n",
    "# def initialize_bias(shape, name=None):\n",
    "#     \"\"\"\n",
    "#         The paper, http://www.cs.utoronto.ca/~gkoch/files/msc-thesis.pdf\n",
    "#         suggests to initialize CNN layer bias with mean as 0.5 and standard deviation of 0.01\n",
    "#     \"\"\"\n",
    "#     return np.random.normal(loc = 0.5, scale = 1e-2, size = shape)"
   ]
  },
  {
   "cell_type": "code",
   "execution_count": null,
   "metadata": {
    "id": "Xwz8vTAmjbCB"
   },
   "outputs": [],
   "source": []
  },
  {
   "cell_type": "markdown",
   "metadata": {
    "id": "3xJN3eoVjbCQ"
   },
   "source": [
    "### model 2 : lower accuracy."
   ]
  },
  {
   "cell_type": "code",
   "execution_count": null,
   "metadata": {
    "id": "G63fmh8-jbCR"
   },
   "outputs": [],
   "source": [
    "# def get_siamese_model_2(input_shape):\n",
    "#     \"\"\"\n",
    "#         Model architecture based on the one provided in: http://www.cs.utoronto.ca/~gkoch/files/msc-thesis.pdf\n",
    "#     \"\"\"\n",
    "    \n",
    "#     # Define the tensors for the two input images\n",
    "#     left_input = Input(input_shape)\n",
    "#     right_input = Input(input_shape)\n",
    "    \n",
    "#     # Convolutional Neural Network\n",
    "#     model = Sequential()\n",
    "#     model.add(Conv2D(64, (3,3),strides=(2, 2), activation='relu', input_shape=input_shape, kernel_regularizer=l2(2e-4)))\n",
    "#     model.add(MaxPooling2D((2, 2), strides=2))\n",
    "#     model.add(Conv2D(64, (3,3), activation='relu', kernel_regularizer=l2(2e-4)))\n",
    "#     model.add(MaxPooling2D((2, 2), strides=2))\n",
    "#     model.add(Conv2D(128, (3,3), activation='relu', kernel_regularizer=l2(2e-4)))\n",
    "# #     model.add(MaxPooling2D())\n",
    "# #     model.add(Conv2D(256, (4,4), activation='relu',  kernel_regularizer=l2(2e-4)))\n",
    "#     model.add(Flatten())\n",
    "#     model.add(Dense(4096, activation='sigmoid',\n",
    "#                    kernel_regularizer=l2(1e-3)))\n",
    "    \n",
    "#     # Generate the encodings (feature vectors) for the two images\n",
    "#     encoded_l = model(left_input)\n",
    "#     encoded_r = model(right_input)\n",
    "    \n",
    "#     # Add a customized layer to compute the absolute difference between the encodings\n",
    "#     L1_layer = Lambda(lambda tensors:K.abs(tensors[0] - tensors[1]))\n",
    "#     L1_distance = L1_layer([encoded_l, encoded_r])\n",
    "    \n",
    "#     # Add a dense layer with a sigmoid unit to generate the similarity score\n",
    "#     prediction = Dense(1,activation='sigmoid')(L1_distance)\n",
    "    \n",
    "#     # Connect the inputs with the outputs\n",
    "#     siamese_net = Model(inputs=[left_input,right_input],outputs=prediction)\n",
    "    \n",
    "#     # return the model\n",
    "#     return siamese_net"
   ]
  },
  {
   "cell_type": "code",
   "execution_count": null,
   "metadata": {
    "id": "pLzzLePsjbCS",
    "scrolled": true
   },
   "outputs": [],
   "source": [
    "# model_2 = get_siamese_model_2((75, 50, 1))\n",
    "# model_2.summary()"
   ]
  },
  {
   "cell_type": "code",
   "execution_count": null,
   "metadata": {
    "id": "kk2Tsft9jbCT"
   },
   "outputs": [],
   "source": [
    "# optimizer = Adam(lr = 0.001)\n",
    "# model_2.compile(loss=\"binary_crossentropy\",optimizer=optimizer)"
   ]
  },
  {
   "cell_type": "markdown",
   "metadata": {
    "id": "QFcNXLnxjbCT"
   },
   "source": [
    "### Later : try transfer learning."
   ]
  },
  {
   "cell_type": "code",
   "execution_count": null,
   "metadata": {
    "id": "zodoNhCYjbCU"
   },
   "outputs": [],
   "source": [
    "# def transfer_model(input_shape):\n",
    "#     \"\"\"\n",
    "#         Model architecture based on the one provided in: http://www.cs.utoronto.ca/~gkoch/files/msc-thesis.pdf\n",
    "#     \"\"\"\n",
    "    \n",
    "#     # Define the tensors for the two input images\n",
    "#     left_input = Input(input_shape)\n",
    "#     right_input = Input(input_shape)\n",
    "    \n",
    "#     #Import inception model for transfer learning without output layers\n",
    "#     base_model = InceptionV3(weights='imagenet', include_top=False, input_shape = input_shape)\n",
    "    \n",
    "    \n",
    "#     x = base_model.output\n",
    "#     x = GlobalAveragePooling2D()(x)\n",
    "#     # let's add a fully-connected layer\n",
    "#     x = Dense(1024, activation='relu')(x)\n",
    "#     # and a logistic layer -- let's say we have 200 classes\n",
    "#     model= Dense(200, activation='softmax')(x)\n",
    "    \n",
    "#     # this is the model we will train\n",
    "# #     model = Model(inputs=base_model.input, outputs=predictions)\n",
    "        \n",
    "    \n",
    "#     # Generate the encodings (feature vectors) for the two images\n",
    "#     encoded_l = model(left_input)\n",
    "#     encoded_r = model(right_input)\n",
    "    \n",
    "#     # Add a customized layer to compute the absolute difference between the encodings\n",
    "#     L1_layer = Lambda(lambda tensors:K.abs(tensors[0] - tensors[1]))\n",
    "#     L1_distance = L1_layer([encoded_l, encoded_r])\n",
    "    \n",
    "#     # Add a dense layer with a sigmoid unit to generate the similarity score\n",
    "#     prediction = Dense(1,activation='sigmoid')(L1_distance)\n",
    "    \n",
    "#     # Connect the inputs with the outputs\n",
    "#     model = Model(inputs=[left_input,right_input],outputs=prediction)\n",
    "    \n",
    "#     for layer in model.layers[:249]:\n",
    "#        layer.trainable = False\n",
    "#     for layer in model.layers[249:]:\n",
    "#        layer.trainable = True\n",
    "    \n",
    "#     # return the model\n",
    "#     return model"
   ]
  },
  {
   "cell_type": "code",
   "execution_count": null,
   "metadata": {
    "id": "f-fIRWtajbCV"
   },
   "outputs": [],
   "source": [
    "# inception_model = transfer_model((75, 50, 1))\n",
    "# inception_model.summary()"
   ]
  },
  {
   "cell_type": "code",
   "execution_count": null,
   "metadata": {
    "id": "zEfmyM_KjbCW"
   },
   "outputs": [],
   "source": [
    "# inception_model.compile(optimizer=SGD(lr=0.0001, momentum=0.9), loss='categorical_crossentropy')"
   ]
  },
  {
   "cell_type": "code",
   "execution_count": null,
   "metadata": {
    "id": "uRlqnliu5So9"
   },
   "outputs": [],
   "source": []
  },
  {
   "cell_type": "code",
   "execution_count": 9,
   "metadata": {
    "id": "JpR7qVOCjbCX"
   },
   "outputs": [],
   "source": [
    "def get_siamese_model(input_shape):\n",
    "    \"\"\"\n",
    "        Model architecture based on the one provided in: http://www.cs.utoronto.ca/~gkoch/files/msc-thesis.pdf\n",
    "    \"\"\"\n",
    "    \n",
    "    # Define the tensors for the two input images\n",
    "    left_input = Input(input_shape,name='Input_1')\n",
    "    right_input = Input(input_shape,name='Input_2')\n",
    "    \n",
    "    # Convolutional Neural Network\n",
    "    model = Sequential(name='CNN')\n",
    "    model.add(Conv2D(64, (3,3), activation='relu', input_shape=input_shape, kernel_regularizer=l2(2e-4)))\n",
    "    model.add(MaxPooling2D())\n",
    "    model.add(Conv2D(64, (3,3), activation='relu', kernel_regularizer=l2(2e-4)))\n",
    "    model.add(MaxPooling2D())\n",
    "    model.add(Conv2D(128, (4,4), activation='relu', kernel_regularizer=l2(2e-4)))\n",
    "    model.add(MaxPooling2D())\n",
    "    model.add(Conv2D(256, (4,4), activation='relu',  kernel_regularizer=l2(2e-4)))\n",
    "    model.add(Flatten())\n",
    "\n",
    "    model.add(Dense(4096, activation='relu',\n",
    "                   kernel_regularizer=l2(1e-3)))\n",
    "    \n",
    "    # Generate the encodings (feature vectors) for the two images\n",
    "    encoded_l = model(left_input)\n",
    "    encoded_r = model(right_input)\n",
    "    \n",
    "    # Add a customized layer to compute the absolute difference between the encodings\n",
    "    L1_layer = Lambda(lambda tensors:K.abs(tensors[0] - tensors[1]),name='Subtract')\n",
    "    \n",
    "    L1_distance = L1_layer([encoded_l, encoded_r])\n",
    "    L1_distance = Dense(512,activation='relu',kernel_regularizer=l2(1e-3),name='Dense_1')(L1_distance)\n",
    "    L1_distance = Dense(256,activation='relu',kernel_regularizer=l2(1e-3),name='Dense_2')(L1_distance)\n",
    "    # Add a dense layer with a sigmoid unit to generate the similarity score\n",
    "\n",
    "    prediction = Dense(1,activation='sigmoid',name='Output')(L1_distance)\n",
    "\n",
    "    #cosine similarity (not learning anything)\n",
    "    # def cosine_distance(vests):\n",
    "    #   x, y = vests\n",
    "    #   x = K.l2_normalize(x, axis=-1)\n",
    "    #   y = K.l2_normalize(y, axis=-1)\n",
    "    #   return -K.mean(x * y, axis=-1, keepdims=True)\n",
    "    \n",
    "    \n",
    "    # prediction = Lambda(cosine_distance, output_shape=1)([encoded_l, encoded_r])\n",
    "    # Connect the inputs with the outputs\n",
    "    siamese_net = Model(inputs=[left_input,right_input],outputs=prediction)\n",
    "    \n",
    "    # return the model\n",
    "    return siamese_net"
   ]
  },
  {
   "cell_type": "code",
   "execution_count": 10,
   "metadata": {
    "colab": {
     "base_uri": "https://localhost:8080/"
    },
    "id": "4MtvWYCyjbCb",
    "outputId": "5a728ba6-f33c-472f-acd1-cab95f4faab4",
    "scrolled": true
   },
   "outputs": [
    {
     "name": "stdout",
     "output_type": "stream",
     "text": [
      "WARNING:tensorflow:From /home/asmaa/anaconda3/lib/python3.7/site-packages/keras/backend/tensorflow_backend.py:4070: The name tf.nn.max_pool is deprecated. Please use tf.nn.max_pool2d instead.\n",
      "\n",
      "Model: \"model_1\"\n",
      "__________________________________________________________________________________________________\n",
      "Layer (type)                    Output Shape         Param #     Connected to                     \n",
      "==================================================================================================\n",
      "Input_1 (InputLayer)            (None, 75, 50, 1)    0                                            \n",
      "__________________________________________________________________________________________________\n",
      "Input_2 (InputLayer)            (None, 75, 50, 1)    0                                            \n",
      "__________________________________________________________________________________________________\n",
      "CNN (Sequential)                (None, 4096)         4891712     Input_1[0][0]                    \n",
      "                                                                 Input_2[0][0]                    \n",
      "__________________________________________________________________________________________________\n",
      "Subtract (Lambda)               (None, 4096)         0           CNN[1][0]                        \n",
      "                                                                 CNN[2][0]                        \n",
      "__________________________________________________________________________________________________\n",
      "Dense_1 (Dense)                 (None, 512)          2097664     Subtract[0][0]                   \n",
      "__________________________________________________________________________________________________\n",
      "Dense_2 (Dense)                 (None, 256)          131328      Dense_1[0][0]                    \n",
      "__________________________________________________________________________________________________\n",
      "Output (Dense)                  (None, 1)            257         Dense_2[0][0]                    \n",
      "==================================================================================================\n",
      "Total params: 7,120,961\n",
      "Trainable params: 7,120,961\n",
      "Non-trainable params: 0\n",
      "__________________________________________________________________________________________________\n"
     ]
    }
   ],
   "source": [
    "model = get_siamese_model((75, 50, 1))\n",
    "model.summary()"
   ]
  },
  {
   "cell_type": "code",
   "execution_count": 11,
   "metadata": {
    "colab": {
     "base_uri": "https://localhost:8080/"
    },
    "id": "FpDd_9CWjbCd",
    "outputId": "b935862e-bc90-490f-d301-3e989bfeeedc",
    "scrolled": true
   },
   "outputs": [
    {
     "name": "stdout",
     "output_type": "stream",
     "text": [
      "WARNING:tensorflow:From /home/asmaa/anaconda3/lib/python3.7/site-packages/tensorflow/python/ops/nn_impl.py:180: add_dispatch_support.<locals>.wrapper (from tensorflow.python.ops.array_ops) is deprecated and will be removed in a future version.\n",
      "Instructions for updating:\n",
      "Use tf.where in 2.0, which has the same broadcast rule as np.where\n"
     ]
    }
   ],
   "source": [
    "optimizer = Adam(lr = 0.0001)\n",
    "model.compile(loss=\"binary_crossentropy\",optimizer=optimizer)"
   ]
  },
  {
   "cell_type": "code",
   "execution_count": 40,
   "metadata": {
    "colab": {
     "base_uri": "https://localhost:8080/",
     "height": 564
    },
    "id": "QV5x1y6Funtd",
    "outputId": "f42aadb8-ddbb-49ef-a5e0-9cce84a9b071"
   },
   "outputs": [
    {
     "data": {
      "image/png": "[encoded data removed]",
      "text/plain": [
       "<IPython.core.display.Image object>"
      ]
     },
     "execution_count": 40,
     "metadata": {},
     "output_type": "execute_result"
    }
   ],
   "source": [
    "tf.keras.utils.plot_model(\n",
    "    model, to_file='model.png',\n",
    "    show_layer_names=True, rankdir='TB'\n",
    ")\n",
    "\n"
   ]
  },
  {
   "cell_type": "code",
   "execution_count": null,
   "metadata": {
    "id": "VgD8wnmQunte"
   },
   "outputs": [],
   "source": []
  },
  {
   "cell_type": "markdown",
   "metadata": {
    "id": "tUBHJas8jbCf"
   },
   "source": [
    "## a function to predict which glyph"
   ]
  },
  {
   "cell_type": "code",
   "execution_count": 12,
   "metadata": {
    "id": "Kua3lTs3jbCf"
   },
   "outputs": [],
   "source": [
    "def create_glyphlist(X,sizes):\n",
    "    images=[]\n",
    "    labels=[]\n",
    "    _,w,h=X.shape\n",
    "    for glyph in sizes:\n",
    "        # index=sizes[glyph][0]\n",
    "        if glyph != 'UNKNOWN':\n",
    "            index = np.random.choice(sizes[glyph])\n",
    "            images.append(X[index].reshape( w , h, 1))\n",
    "            labels.append(glyph)\n",
    "    return np.asarray(images), np.asarray(labels) "
   ]
  },
  {
   "cell_type": "code",
   "execution_count": 13,
   "metadata": {
    "id": "DTWwXWyBjbCn"
   },
   "outputs": [],
   "source": [
    "anchor_img, anchor_label=create_glyphlist(X,sizes)"
   ]
  },
  {
   "cell_type": "markdown",
   "metadata": {
    "id": "mTbJ8qWountf"
   },
   "source": [
    "**a function that create pairs from the image that we want to test and the anchor list**"
   ]
  },
  {
   "cell_type": "code",
   "execution_count": 14,
   "metadata": {
    "id": "cj5krLHkjbCo"
   },
   "outputs": [],
   "source": [
    "def whichGlyph_pair(image,anchor_img,anchor_label):\n",
    "    N,w,h,_=anchor_img.shape\n",
    "#     pairs=[np.zeros((N, w, h,1)) for i in range(2)]\n",
    "    \n",
    "    test_image= np.asarray([image]*N).reshape(N, w, h,1)\n",
    "    \n",
    "    anchor_label, test_image, anchor_img = shuffle(anchor_label, test_image, anchor_img)\n",
    "#     pairs = [test_image,anchor_img]\n",
    "    \n",
    "    return test_image, anchor_img, anchor_label\n",
    "    "
   ]
  },
  {
   "cell_type": "markdown",
   "metadata": {
    "id": "BVoEbZhhuntg"
   },
   "source": [
    "**a funnction that compairs the image with each character from the anchor list and outputs the propabilities.**"
   ]
  },
  {
   "cell_type": "code",
   "execution_count": 15,
   "metadata": {
    "id": "e6a5mx_MjbCq"
   },
   "outputs": [],
   "source": [
    "def whichGlyph(model,image,anchor_img,anchor_label):\n",
    "    test_image,anchor_img,targets = whichGlyph_pair(image,anchor_img,anchor_label)\n",
    "    probs = model.predict([test_image,anchor_img])\n",
    "    return probs,anchor_img,targets\n",
    "    "
   ]
  },
  {
   "cell_type": "markdown",
   "metadata": {
    "id": "6xCa5bCWjbC6"
   },
   "source": [
    "## creating pairs of images"
   ]
  },
  {
   "cell_type": "markdown",
   "metadata": {
    "id": "ZNSpnQaljbCe"
   },
   "source": [
    "a function that create pairs of images with y= 1 if they are similar and 0 if they are different. "
   ]
  },
  {
   "cell_type": "code",
   "execution_count": 16,
   "metadata": {
    "id": "a7t5J2GCjbC7"
   },
   "outputs": [],
   "source": [
    "def createPairs(X,y,sizes,batch_size):\n",
    "    ##create a batch with half it's size are similar glyphs and the other half are different.\n",
    "    n=0\n",
    "    i=0\n",
    "    \n",
    "    label=[]\n",
    "    _,w,h=X.shape\n",
    "    # initialize 2 empty arrays for the input image batch\n",
    "#     pairs=[np.zeros((batch_size, w, h,1)) for i in range(2)]\n",
    "    input1=np.zeros((batch_size, w, h,1))\n",
    "    input2=np.zeros((batch_size, w, h,1))\n",
    "    \n",
    "    while n < batch_size:\n",
    "        random_key1=random.choice(list(sizes))\n",
    "#         low=sizes[random_key1][0]\n",
    "#         high=sizes[random_key1][1]\n",
    "        index1, index3 = np.random.choice(sizes[random_key1], size=2)\n",
    "        index2 = np.random.choice(sizes[random_key1])\n",
    "        \n",
    "        random_key2=random.choice(list(sizes))\n",
    "        \n",
    "        while random_key2 == random_key1:\n",
    "            random_key2=random.choice(list(sizes))\n",
    "            \n",
    "#         low=sizes[random_key2][0]\n",
    "#         high=sizes[random_key2][1]\n",
    "        index4=np.random.choice(sizes[random_key2])\n",
    "        n += 2\n",
    "        # appending images 1 and 3 into input1 and input2 corresponding to y=1 \n",
    "        #and images 2 and 4 corresponding to y=0\n",
    "    \n",
    "        input1[i,:,:,:] = X[index1].reshape( w , h, 1)\n",
    "        input1[i+1,:,:,:] = X[index2].reshape(w, h, 1)\n",
    "        input2[i,:,:,:] = X[index3].reshape(w, h, 1)\n",
    "        input2[i+1,:,:,:] = X[index4].reshape(w, h, 1)\n",
    "        i += 2\n",
    "#         input1+=[X[index1],X[index2]]\n",
    "#         input2+=[X[index3],X[index4]]\n",
    "        label+=[1,0]\n",
    "        \n",
    "#         print(index1,index2,index3,index4)\n",
    "#         print(y[index1],y[index2],y[index3],y[index4])\n",
    "#         print(random_key1,random_key2)\n",
    "    input1,input2,label = shuffle(input1,input2,label)\n",
    "    pairs=[input1,input2]\n",
    "    \n",
    "    return pairs,label\n",
    "pairs,label=createPairs(X,y,sizes,32)   "
   ]
  },
  {
   "cell_type": "code",
   "execution_count": 14,
   "metadata": {
    "id": "BXoehBUTjbC9"
   },
   "outputs": [],
   "source": [
    "# pairs[1].shape\n",
    "# label"
   ]
  },
  {
   "cell_type": "markdown",
   "metadata": {
    "id": "alqGHaxLjbC-"
   },
   "source": [
    "a fn that creates a N-way one shot learning task where it create pairs with the wanted image and N-1 different ones and 1 similar one."
   ]
  },
  {
   "cell_type": "code",
   "execution_count": 17,
   "metadata": {
    "id": "eVWV2CnbjbC-"
   },
   "outputs": [],
   "source": [
    "def make_oneshot_task(X,y,sizes,N):\n",
    "    _,w,h=X.shape\n",
    "    pairs=[np.zeros((N, w, h,1)) for i in range(2)]\n",
    "    \n",
    "    true_key=random.choice(list(sizes))\n",
    "#     low=sizes[true_key][0]\n",
    "#     high=sizes[true_key][1]\n",
    "    \n",
    "    index=np.random.choice(sizes[true_key])\n",
    "    index2=np.random.choice(sizes[true_key])\n",
    "    \n",
    "    test_image= np.asarray([X[index]]*N).reshape(N, w, h,1)\n",
    "#     print(X.shape)\n",
    "    X_diff= np.delete(X,sizes[true_key],axis=0)\n",
    "#     print(X_diff.shape)\n",
    "    indices= np.random.choice(range(0, len(X_diff)), size = N-1)\n",
    "    \n",
    "    support_set=X_diff[indices,:,:]\n",
    "    ##!!! adding the similar image to the start of the array is not working!!!!!!!!!!!!!!!!!!!!!\n",
    "    \n",
    "#     print(support_set.shape)\n",
    "#     support_set = [ X[index2] ] + support_set\n",
    "    support_set=np.insert(support_set,0,X[index2],axis=0)\n",
    "#     print(support_set.shape)\n",
    "    targets = np.zeros((N,))\n",
    "    targets[0] = 1\n",
    "    support_set=support_set.reshape(N,w,h,1)\n",
    "    targets, test_image, support_set = shuffle(targets, test_image, support_set)\n",
    "    pairs = [test_image,support_set]\n",
    "\n",
    "    return pairs, targets\n",
    "    \n"
   ]
  },
  {
   "cell_type": "code",
   "execution_count": 18,
   "metadata": {
    "colab": {
     "base_uri": "https://localhost:8080/"
    },
    "id": "27BD6Rg9jbDO",
    "outputId": "5798c2fd-7fdc-44dc-b83e-a57deb83c2d5"
   },
   "outputs": [
    {
     "data": {
      "text/plain": [
       "(20, 75, 50, 1)"
      ]
     },
     "execution_count": 18,
     "metadata": {},
     "output_type": "execute_result"
    }
   ],
   "source": [
    "pp,tt=make_oneshot_task(Xval,yval,sizes_val,20) \n",
    "pp[0].shape"
   ]
  },
  {
   "cell_type": "code",
   "execution_count": 17,
   "metadata": {
    "colab": {
     "base_uri": "https://localhost:8080/"
    },
    "id": "H6lenk9bjbDP",
    "outputId": "7abc3434-576d-48e0-9566-baac77ecbe89"
   },
   "outputs": [
    {
     "data": {
      "text/plain": [
       "(32, 75, 50, 1)"
      ]
     },
     "execution_count": 17,
     "metadata": {},
     "output_type": "execute_result"
    }
   ],
   "source": [
    "# plt.imshow(pairs[0][0])\n",
    "pairs[1].shape\n",
    "# len(label)"
   ]
  },
  {
   "cell_type": "code",
   "execution_count": null,
   "metadata": {
    "id": "wr6bSOuBjbDZ"
   },
   "outputs": [],
   "source": []
  },
  {
   "cell_type": "code",
   "execution_count": 19,
   "metadata": {
    "id": "r8POHa_JjbDZ"
   },
   "outputs": [],
   "source": [
    "def test_oneshot(model,X,y,sizes, N, k, s = \"val\", verbose = 0):\n",
    "    \"\"\"Test average N way oneshot learning accuracy of a siamese neural net over k one-shot tasks\"\"\"\n",
    "    n_correct = 0\n",
    "    if verbose:\n",
    "        print(\"Evaluating model on {} random {} way one-shot learning tasks ... \\n\".format(k,N))\n",
    "    for i in range(k):\n",
    "        inputs, targets = make_oneshot_task(X,y,sizes,N)\n",
    "        probs = model.predict_random(inputs)\n",
    "        if np.argmax(probs) == np.argmax(targets):\n",
    "            n_correct+=1\n",
    "    percent_correct = (100.0 * n_correct / k)\n",
    "    if verbose:\n",
    "        print(\"Got an average of {}% {} way one-shot learning accuracy \\n\".format(percent_correct,N))\n",
    "    return percent_correct"
   ]
  },
  {
   "cell_type": "markdown",
   "metadata": {
    "id": "eumupxeIuntm"
   },
   "source": [
    "**a function to test accuracy**"
   ]
  },
  {
   "cell_type": "code",
   "execution_count": 20,
   "metadata": {
    "id": "S2aZlLWQuntm"
   },
   "outputs": [],
   "source": [
    "def test_accuracy_score(N,Xval,yval,anchor_img,anchor_label,model,sizes):\n",
    "    count_first=0\n",
    "    for i in range(N):\n",
    "        random_key = random.choice(list(sizes))\n",
    "        ind = np.random.choice(sizes[random_key])\n",
    "        \n",
    "#         ind=random.choice(range(yval.shape[0]))\n",
    "        predicted,anchor_imgs,targets=whichGlyph(model,Xval[ind],anchor_img,anchor_label)\n",
    "        if targets[np.argmax(predicted)]== yval[ind][0]:\n",
    "            count_first+=1\n",
    "    percent_correct = (100.0 * count_first / N)\n",
    "    print(\"Got an average of {}% accuracy in {} samples. \\n\".format(percent_correct,N))\n",
    "    return percent_correct"
   ]
  },
  {
   "cell_type": "code",
   "execution_count": 21,
   "metadata": {
    "id": "RbUqy4FNjbDf"
   },
   "outputs": [],
   "source": [
    "# Hyper parameters\n",
    "evaluate_every = 200 # interval for evaluating on one-shot tasks\n",
    "batch_size = 128 #32\n",
    "n_iter = 20000 # No. of training iterations 20000\n",
    "N_way = 20 # how many classes for testing one-shot tasks\n",
    "n_val = 250 # how many one-shot tasks to validate on\n",
    "best = -1"
   ]
  },
  {
   "cell_type": "code",
   "execution_count": 21,
   "metadata": {
    "id": "fJXH6WomjbDg"
   },
   "outputs": [],
   "source": [
    "model_path = './weights/'\n",
    "# model_2_path= '/content/drive/MyDrive/hiero_cv/'\n",
    "# model_cos_path= '/content/drive/MyDrive/hiero_cv/weights_cos/'\n",
    "# model_regul='/content/drive/MyDrive/hiero_cv/regul_weights/'\n"
   ]
  },
  {
   "cell_type": "code",
   "execution_count": 33,
   "metadata": {
    "colab": {
     "base_uri": "https://localhost:8080/"
    },
    "id": "gUJcfqJLjbDh",
    "outputId": "8d9a6392-fd5f-4017-f891-c30db915a6fe"
   },
   "outputs": [
    {
     "data": {
      "text/plain": [
       "(2921, 75, 50)"
      ]
     },
     "execution_count": 33,
     "metadata": {},
     "output_type": "execute_result"
    }
   ],
   "source": [
    "X.shape"
   ]
  },
  {
   "cell_type": "code",
   "execution_count": 34,
   "metadata": {
    "colab": {
     "base_uri": "https://localhost:8080/"
    },
    "id": "A4JoCm_5jbDk",
    "outputId": "62e6e15e-1347-4a33-dee3-12b36269b527"
   },
   "outputs": [
    {
     "name": "stdout",
     "output_type": "stream",
     "text": [
      "Starting training process!\n",
      "-------------------------------------\n",
      "WARNING:tensorflow:From /home/asmaa/anaconda3/lib/python3.7/site-packages/keras/backend/tensorflow_backend.py:422: The name tf.global_variables is deprecated. Please use tf.compat.v1.global_variables instead.\n",
      "\n"
     ]
    },
    {
     "ename": "KeyboardInterrupt",
     "evalue": "",
     "output_type": "error",
     "traceback": [
      "\u001b[0;31m---------------------------------------------------------------------------\u001b[0m",
      "\u001b[0;31mKeyboardInterrupt\u001b[0m                         Traceback (most recent call last)",
      "\u001b[0;32m<ipython-input-34-89b1deb357b6>\u001b[0m in \u001b[0;36m<module>\u001b[0;34m\u001b[0m\n\u001b[1;32m      5\u001b[0m     \u001b[0;34m(\u001b[0m\u001b[0minputs\u001b[0m\u001b[0;34m,\u001b[0m\u001b[0mtargets\u001b[0m\u001b[0;34m)\u001b[0m \u001b[0;34m=\u001b[0m \u001b[0mcreatePairs\u001b[0m\u001b[0;34m(\u001b[0m\u001b[0mX\u001b[0m\u001b[0;34m,\u001b[0m\u001b[0my\u001b[0m\u001b[0;34m,\u001b[0m\u001b[0msizes\u001b[0m\u001b[0;34m,\u001b[0m\u001b[0mbatch_size\u001b[0m\u001b[0;34m)\u001b[0m\u001b[0;34m\u001b[0m\u001b[0;34m\u001b[0m\u001b[0m\n\u001b[1;32m      6\u001b[0m     \u001b[0mtargets\u001b[0m\u001b[0;34m=\u001b[0m\u001b[0mnp\u001b[0m\u001b[0;34m.\u001b[0m\u001b[0masarray\u001b[0m\u001b[0;34m(\u001b[0m\u001b[0mtargets\u001b[0m\u001b[0;34m)\u001b[0m\u001b[0;34m\u001b[0m\u001b[0;34m\u001b[0m\u001b[0m\n\u001b[0;32m----> 7\u001b[0;31m     \u001b[0mloss\u001b[0m \u001b[0;34m=\u001b[0m \u001b[0mmodel\u001b[0m\u001b[0;34m.\u001b[0m\u001b[0mtrain_on_batch\u001b[0m\u001b[0;34m(\u001b[0m\u001b[0minputs\u001b[0m\u001b[0;34m,\u001b[0m \u001b[0mtargets\u001b[0m\u001b[0;34m)\u001b[0m\u001b[0;34m\u001b[0m\u001b[0;34m\u001b[0m\u001b[0m\n\u001b[0m\u001b[1;32m      8\u001b[0m     \u001b[0;32mif\u001b[0m \u001b[0mi\u001b[0m \u001b[0;34m%\u001b[0m \u001b[0mevaluate_every\u001b[0m \u001b[0;34m==\u001b[0m \u001b[0;36m0\u001b[0m\u001b[0;34m:\u001b[0m\u001b[0;34m\u001b[0m\u001b[0;34m\u001b[0m\u001b[0m\n\u001b[1;32m      9\u001b[0m         \u001b[0mprint\u001b[0m\u001b[0;34m(\u001b[0m\u001b[0;34m\"\\n ------------- \\n\"\u001b[0m\u001b[0;34m)\u001b[0m\u001b[0;34m\u001b[0m\u001b[0;34m\u001b[0m\u001b[0m\n",
      "\u001b[0;32m~/anaconda3/lib/python3.7/site-packages/keras/engine/training.py\u001b[0m in \u001b[0;36mtrain_on_batch\u001b[0;34m(self, x, y, sample_weight, class_weight, reset_metrics)\u001b[0m\n\u001b[1;32m   1512\u001b[0m             \u001b[0mins\u001b[0m \u001b[0;34m=\u001b[0m \u001b[0mx\u001b[0m \u001b[0;34m+\u001b[0m \u001b[0my\u001b[0m \u001b[0;34m+\u001b[0m \u001b[0msample_weights\u001b[0m\u001b[0;34m\u001b[0m\u001b[0;34m\u001b[0m\u001b[0m\n\u001b[1;32m   1513\u001b[0m         \u001b[0mself\u001b[0m\u001b[0;34m.\u001b[0m\u001b[0m_make_train_function\u001b[0m\u001b[0;34m(\u001b[0m\u001b[0;34m)\u001b[0m\u001b[0;34m\u001b[0m\u001b[0;34m\u001b[0m\u001b[0m\n\u001b[0;32m-> 1514\u001b[0;31m         \u001b[0moutputs\u001b[0m \u001b[0;34m=\u001b[0m \u001b[0mself\u001b[0m\u001b[0;34m.\u001b[0m\u001b[0mtrain_function\u001b[0m\u001b[0;34m(\u001b[0m\u001b[0mins\u001b[0m\u001b[0;34m)\u001b[0m\u001b[0;34m\u001b[0m\u001b[0;34m\u001b[0m\u001b[0m\n\u001b[0m\u001b[1;32m   1515\u001b[0m \u001b[0;34m\u001b[0m\u001b[0m\n\u001b[1;32m   1516\u001b[0m         \u001b[0;32mif\u001b[0m \u001b[0mreset_metrics\u001b[0m\u001b[0;34m:\u001b[0m\u001b[0;34m\u001b[0m\u001b[0;34m\u001b[0m\u001b[0m\n",
      "\u001b[0;32m~/anaconda3/lib/python3.7/site-packages/tensorflow/python/keras/backend.py\u001b[0m in \u001b[0;36m__call__\u001b[0;34m(self, inputs)\u001b[0m\n\u001b[1;32m   3290\u001b[0m \u001b[0;34m\u001b[0m\u001b[0m\n\u001b[1;32m   3291\u001b[0m     fetched = self._callable_fn(*array_vals,\n\u001b[0;32m-> 3292\u001b[0;31m                                 run_metadata=self.run_metadata)\n\u001b[0m\u001b[1;32m   3293\u001b[0m     \u001b[0mself\u001b[0m\u001b[0;34m.\u001b[0m\u001b[0m_call_fetch_callbacks\u001b[0m\u001b[0;34m(\u001b[0m\u001b[0mfetched\u001b[0m\u001b[0;34m[\u001b[0m\u001b[0;34m-\u001b[0m\u001b[0mlen\u001b[0m\u001b[0;34m(\u001b[0m\u001b[0mself\u001b[0m\u001b[0;34m.\u001b[0m\u001b[0m_fetches\u001b[0m\u001b[0;34m)\u001b[0m\u001b[0;34m:\u001b[0m\u001b[0;34m]\u001b[0m\u001b[0;34m)\u001b[0m\u001b[0;34m\u001b[0m\u001b[0;34m\u001b[0m\u001b[0m\n\u001b[1;32m   3294\u001b[0m     output_structure = nest.pack_sequence_as(\n",
      "\u001b[0;32m~/anaconda3/lib/python3.7/site-packages/tensorflow/python/client/session.py\u001b[0m in \u001b[0;36m__call__\u001b[0;34m(self, *args, **kwargs)\u001b[0m\n\u001b[1;32m   1456\u001b[0m         ret = tf_session.TF_SessionRunCallable(self._session._session,\n\u001b[1;32m   1457\u001b[0m                                                \u001b[0mself\u001b[0m\u001b[0;34m.\u001b[0m\u001b[0m_handle\u001b[0m\u001b[0;34m,\u001b[0m \u001b[0margs\u001b[0m\u001b[0;34m,\u001b[0m\u001b[0;34m\u001b[0m\u001b[0;34m\u001b[0m\u001b[0m\n\u001b[0;32m-> 1458\u001b[0;31m                                                run_metadata_ptr)\n\u001b[0m\u001b[1;32m   1459\u001b[0m         \u001b[0;32mif\u001b[0m \u001b[0mrun_metadata\u001b[0m\u001b[0;34m:\u001b[0m\u001b[0;34m\u001b[0m\u001b[0;34m\u001b[0m\u001b[0m\n\u001b[1;32m   1460\u001b[0m           \u001b[0mproto_data\u001b[0m \u001b[0;34m=\u001b[0m \u001b[0mtf_session\u001b[0m\u001b[0;34m.\u001b[0m\u001b[0mTF_GetBuffer\u001b[0m\u001b[0;34m(\u001b[0m\u001b[0mrun_metadata_ptr\u001b[0m\u001b[0;34m)\u001b[0m\u001b[0;34m\u001b[0m\u001b[0;34m\u001b[0m\u001b[0m\n",
      "\u001b[0;31mKeyboardInterrupt\u001b[0m: "
     ]
    }
   ],
   "source": [
    "print(\"Starting training process!\")\n",
    "print(\"-------------------------------------\")\n",
    "t_start = time.time()\n",
    "for i in range(1, n_iter+1):\n",
    "    (inputs,targets) = createPairs(X,y,sizes,batch_size)\n",
    "    targets=np.asarray(targets)\n",
    "    loss = model.train_on_batch(inputs, targets)\n",
    "    if i % evaluate_every == 0:\n",
    "        print(\"\\n ------------- \\n\")\n",
    "        print(\"Time for {0} iterations: {1} mins\".format(i, (time.time()-t_start)/60.0))\n",
    "        print(\"Train Loss: {0}\".format(loss)) \n",
    "#         val_acc = test_oneshot(model,Xval,yval,sizes_val, N_way, n_val, verbose=True)\n",
    "        val_acc = test_accuracy_score(n_val,Xval,yval,anchor_img,anchor_label,model,sizes_val)\n",
    "        model.save_weights(os.path.join(model_2_path, 'weights.{}.h5'.format(i)))\n",
    "        if val_acc >= best:\n",
    "            print(\"Current best: {0}, previous best: {1}\".format(val_acc, best))\n",
    "            best = val_acc"
   ]
  },
  {
   "cell_type": "markdown",
   "metadata": {
    "id": "jcTZ3HHJjbDp"
   },
   "source": [
    "## loading model from weights"
   ]
  },
  {
   "cell_type": "code",
   "execution_count": null,
   "metadata": {
    "id": "Yt8pqshBxKcQ"
   },
   "outputs": [],
   "source": [
    "# model_path="
   ]
  },
  {
   "cell_type": "code",
   "execution_count": 55,
   "metadata": {
    "id": "GDa3cYDdLmfB"
   },
   "outputs": [],
   "source": [
    "# model.save_weights(os.path.join('./', 'weights.h5'))"
   ]
  },
  {
   "cell_type": "code",
   "execution_count": 22,
   "metadata": {
    "id": "5XSzGDRhjbDr"
   },
   "outputs": [],
   "source": [
    "model.load_weights('weights.20000.h5')"
   ]
  },
  {
   "cell_type": "markdown",
   "metadata": {
    "id": "pclsIyfMyots"
   },
   "source": [
    "## Testing accuracy random"
   ]
  },
  {
   "cell_type": "code",
   "execution_count": 23,
   "metadata": {
    "id": "lDQXUEmFjbDt"
   },
   "outputs": [],
   "source": [
    "def calc_accuracy(N,Xval,yval,anchor_img,anchor_label,model,sizes):\n",
    "    count_first=0\n",
    "    count_first3=0\n",
    "    for i in range(N):\n",
    "        # ind=random.choice(range(yval.shape[0]))\n",
    "        random_key = random.choice(list(sizes))\n",
    "        ind = np.random.choice(sizes[random_key])\n",
    "                               \n",
    "        predicted,anchor_imgs,targets=whichGlyph(model,Xval[ind],anchor_img,anchor_label)\n",
    "        sort_index = np.argsort(np.asarray(predicted).reshape(len(predicted),))\n",
    "        if targets[sort_index[-1]] == yval[ind][0]:\n",
    "            count_first+=1\n",
    "        if yval[ind][0] in targets[sort_index[127:]]:\n",
    "            count_first3+=1\n",
    "    accuracy_first=count_first/N\n",
    "    accuracy_first3=count_first3/N\n",
    "    \n",
    "    return accuracy_first, accuracy_first3"
   ]
  },
  {
   "cell_type": "code",
   "execution_count": 24,
   "metadata": {
    "id": "Lwcdo2Vountq"
   },
   "outputs": [],
   "source": [
    "def predict_random(N,Xval,yval,anchor_img,anchor_label,model,sizes):\n",
    "    preds=[]\n",
    "    actual=[]\n",
    "    for i in range(N):\n",
    "        # ind=random.choice(range(yval.shape[0]))\n",
    "        random_key = random.choice(list(sizes))\n",
    "        ind = np.random.choice(sizes[random_key])\n",
    "        \n",
    "        predicted,anchor_imgs,targets=whichGlyph(model,Xval[ind],anchor_img,anchor_label)\n",
    "        sort_index = np.argsort(np.asarray(predicted).reshape(len(predicted),))\n",
    "        preds.append(targets[sort_index[-1]])\n",
    "        actual.append(yval[ind][0])\n",
    "        \n",
    "    \n",
    "    return np.asarray(preds),np.asarray(actual)"
   ]
  },
  {
   "cell_type": "markdown",
   "metadata": {
    "id": "uBhAHSjiuntr"
   },
   "source": [
    "# language model"
   ]
  },
  {
   "cell_type": "code",
   "execution_count": 25,
   "metadata": {
    "id": "903NR4MWuntr"
   },
   "outputs": [],
   "source": [
    "# !pip install ipynb"
   ]
  },
  {
   "cell_type": "code",
   "execution_count": 24,
   "metadata": {
    "id": "ZfVttM_Nunts"
   },
   "outputs": [],
   "source": [
    "from ipynb.fs.full.Language_model import lm_next\n"
   ]
  },
  {
   "cell_type": "code",
   "execution_count": 25,
   "metadata": {
    "id": "5aymN-okunts"
   },
   "outputs": [],
   "source": [
    "import dill as pickle\n",
    "with open(\"language_model.pkl\", \"rb\") as f:\n",
    "    language_model = pickle.load(f)"
   ]
  },
  {
   "cell_type": "code",
   "execution_count": 26,
   "metadata": {
    "id": "C_pLa7vpunts"
   },
   "outputs": [],
   "source": [
    "prev=['M29', 'G1'] \n",
    "prediction=lm_next(language_model,prev)"
   ]
  },
  {
   "cell_type": "code",
   "execution_count": 27,
   "metadata": {
    "id": "2s5dqmSguntt"
   },
   "outputs": [],
   "source": [
    "# prediction"
   ]
  },
  {
   "cell_type": "code",
   "execution_count": 34,
   "metadata": {
    "id": "BWgvAe_huntu"
   },
   "outputs": [],
   "source": [
    "def choose_next(clf_3,score_3,language_model,prev):\n",
    "#     print(\"prev\",str(prev))\n",
    "    \n",
    "    freq=lm_next(language_model,prev)\n",
    "#     print(freq)\n",
    "    freq_3=[]\n",
    "    for pred in clf_3:\n",
    "        if pred in freq.keys():\n",
    "            freq_3.append(freq[pred])\n",
    "        else:\n",
    "            freq_3.append(0)\n",
    "    freq_3=np.array(freq_3)\n",
    "    score_3 =np.array(score_3).flatten()\n",
    "    #create a function to take the freq weights into consideration\n",
    "    freq_3 = freq_3/np.sum(freq_3)\n",
    "#     print(score_3.flatten())\n",
    "    score_3 = score_3 / np.sum(score_3)\n",
    "#     print(freq_3)\n",
    "    \n",
    "    scores = score_3 + freq_3\n",
    "#     print('scores : ',scores)\n",
    "    predicted=clf_3[np.argmax(scores)]\n",
    "    print(\"clf predicted : \",clf_3[-1],\" lm freq max : \",list(freq.keys())[0], \" final : \",predicted)\n",
    "    return predicted"
   ]
  },
  {
   "cell_type": "code",
   "execution_count": 33,
   "metadata": {
    "id": "gpBfXT800k_M"
   },
   "outputs": [],
   "source": [
    "def predict_lm(Xtest,anchor_img,anchor_label,model,language_model,sizes):\n",
    "    preds=[]\n",
    "    for new in Xtest:\n",
    "        if len(preds) < 2 :\n",
    "            predicted,anchor_imgs,targets=whichGlyph(model,new,anchor_img,anchor_label)\n",
    "            sort_index = np.argsort(np.asarray(predicted).reshape(len(predicted),))\n",
    "            targ=targets[sort_index[-1]]\n",
    "            print(targ)\n",
    "            if targ =='UNKNOWN':\n",
    "                targ=targets[sort_index[-2]] \n",
    "            preds.append(targ)\n",
    "        else:\n",
    "            predicted,anchor_imgs,targets=whichGlyph(model,new,anchor_img,anchor_label)\n",
    "            sort_index = np.argsort(np.asarray(predicted).reshape(len(predicted),))\n",
    "#             print('target : ',targets[sort_index[-1:]])\n",
    "            predicted = choose_next(targets[sort_index[-3:]],predicted[sort_index[-3:]],language_model,preds[-2:])\n",
    "            preds.append(predicted)\n",
    "    return preds\n"
   ]
  },
  {
   "cell_type": "code",
   "execution_count": 35,
   "metadata": {
    "id": "xmiyLTkr6R26"
   },
   "outputs": [],
   "source": [
    "def test_lm(Xtest,ytest,anchor_img,anchor_label,model,language_model,sizes):\n",
    "    preds=predict_lm(Xtest,anchor_img,anchor_label,model,language_model,sizes)\n",
    "    preds=np.asarray(preds)\n",
    "    ytest=np.asarray(ytest)\n",
    "    accuracy = sum(preds==ytest)/len(ytest)\n",
    "    return accuracy"
   ]
  },
  {
   "cell_type": "code",
   "execution_count": 36,
   "metadata": {
    "id": "uqngYdIbUVmk"
   },
   "outputs": [],
   "source": [
    "image_lm_test=[]\n",
    "word=['M17','G1','X1','F9','N5']\n",
    "for w in word:\n",
    "    ind = np.random.choice(sizes_val[w])\n",
    "    image_lm_test.append(Xval[ind])\n"
   ]
  },
  {
   "cell_type": "code",
   "execution_count": 37,
   "metadata": {
    "id": "ibv1_h0ABJWg"
   },
   "outputs": [
    {
     "name": "stdout",
     "output_type": "stream",
     "text": [
      "M17\n",
      "G1\n",
      "clf predicted :  X1  lm freq max :  X1  final :  X1\n",
      "clf predicted :  Q3  lm freq max :  Q3  final :  Q3\n",
      "clf predicted :  O50  lm freq max :  None  final :  W24\n"
     ]
    },
    {
     "name": "stderr",
     "output_type": "stream",
     "text": [
      "/home/asmaa/anaconda3/lib/python3.7/site-packages/ipykernel_launcher.py:15: RuntimeWarning: invalid value encountered in true_divide\n",
      "  from ipykernel import kernelapp as app\n"
     ]
    },
    {
     "data": {
      "text/plain": [
       "0.6"
      ]
     },
     "execution_count": 37,
     "metadata": {},
     "output_type": "execute_result"
    }
   ],
   "source": [
    "test_lm(image_lm_test,word,anchor_img,anchor_label,model,language_model,sizes)"
   ]
  },
  {
   "cell_type": "markdown",
   "metadata": {
    "id": "qOhbMPWfBJ2D"
   },
   "source": [
    "## Multi anchor array"
   ]
  },
  {
   "cell_type": "code",
   "execution_count": 41,
   "metadata": {
    "id": "tdP0sccj306G"
   },
   "outputs": [],
   "source": [
    "def create_multi_anchor(N,X,sizes):\n",
    "  multi_anchor_img=[]\n",
    "  multi_anchor_label=[]\n",
    "  for n in range(N):\n",
    "    anchor_img, anchor_label=create_glyphlist(X,sizes)\n",
    "    multi_anchor_img.append(anchor_img)\n",
    "    multi_anchor_label.append(anchor_label)\n",
    "  return np.asarray(multi_anchor_img),np.asarray(multi_anchor_label)"
   ]
  },
  {
   "cell_type": "code",
   "execution_count": 77,
   "metadata": {
    "id": "ebqC6Jor7vRt"
   },
   "outputs": [],
   "source": [
    "multi_anchor_img,multi_anchor_label=create_multi_anchor(3,X,sizes)"
   ]
  },
  {
   "cell_type": "code",
   "execution_count": 53,
   "metadata": {
    "colab": {
     "base_uri": "https://localhost:8080/"
    },
    "id": "K_rwy8RwGwzD",
    "outputId": "6808a576-d7bd-4dd8-af92-82cacd1fd125"
   },
   "outputs": [
    {
     "data": {
      "text/plain": [
       "array([ 3,  7, 12])"
      ]
     },
     "execution_count": 53,
     "metadata": {},
     "output_type": "execute_result"
    }
   ],
   "source": []
  },
  {
   "cell_type": "code",
   "execution_count": 94,
   "metadata": {
    "id": "aj6UDcss7rZp"
   },
   "outputs": [],
   "source": [
    "def test_multi_anchor_random(N,Xval,yval,multi_anchor_img,multi_anchor_label,model,sizes):\n",
    "  count_first=0\n",
    "  multi_N=multi_anchor_img.shape[0]\n",
    "  final_scores=np.zeros((multi_anchor_label[0].shape[0],1))\n",
    "  for i in range(N):\n",
    "    if i%100 == 0:\n",
    "      print(\"test \",i)\n",
    "    random_key = random.choice(list(sizes))\n",
    "    ind = np.random.choice(sizes[random_key])\n",
    "    # print(yval[ind][0])\n",
    "    for j in range(multi_N):\n",
    "      predicted,anchor_imgs,targets=whichGlyph(model,Xval[ind],multi_anchor_img[j],multi_anchor_label[j])\n",
    "      zipped_lists = zip(targets,predicted)\n",
    "      sorted_pairs = sorted(zipped_lists)\n",
    "      tuples = zip(*sorted_pairs)\n",
    "      targets,predicted = [ list(tuple) for tuple in  tuples]\n",
    "      # print(targets[:3],\" - \",predicted[:3])\n",
    "      final_scores = np.asarray(final_scores) + np.asarray(predicted)\n",
    "\n",
    "    final_pred = targets[np.argmax(final_scores)]\n",
    "    # print(final_pred ,'  - ', yval[ind][0],' - ',count_first)\n",
    "    if final_pred == yval[ind][0]:\n",
    "        count_first+=1\n",
    "    final_scores=np.zeros((multi_anchor_label[0].shape[0],1))\n",
    "    \n",
    "  percent_correct = (100.0 * count_first / N)\n",
    "  return percent_correct\n",
    "\n"
   ]
  },
  {
   "cell_type": "code",
   "execution_count": 121,
   "metadata": {
    "colab": {
     "base_uri": "https://localhost:8080/"
    },
    "id": "ubUXaG1ixPhe",
    "outputId": "d430cc94-c706-4cbd-da98-5ae31fc2259c"
   },
   "outputs": [
    {
     "name": "stdout",
     "output_type": "stream",
     "text": [
      "test  0\n",
      "test  100\n",
      "test  200\n",
      "test  300\n",
      "test  400\n",
      "test  500\n",
      "test  600\n",
      "test  700\n",
      "test  800\n",
      "test  900\n",
      "testing:\n",
      "found first accuracy with multi anchors = 63.2\n",
      "accuracy fn took 6.661158684889475 mins\n"
     ]
    }
   ],
   "source": [
    "t_start = time.time()\n",
    "acc=test_multi_anchor_random(1000,Xval,yval,multi_anchor_img,multi_anchor_label,model,sizes_val)\n",
    "print(f'testing:\\nfound first accuracy with multi anchors = {acc}')\n",
    "print(\"accuracy fn took {0} mins\".format((time.time()-t_start)/60.0))"
   ]
  },
  {
   "cell_type": "markdown",
   "metadata": {
    "id": "heS2B6tcuntu"
   },
   "source": [
    "# Some Testing"
   ]
  },
  {
   "cell_type": "code",
   "execution_count": 122,
   "metadata": {
    "colab": {
     "base_uri": "https://localhost:8080/"
    },
    "id": "GmLQ6lVYjbDt",
    "outputId": "692de5ed-db42-4ef4-fcfb-e9e3d5ddf67d",
    "scrolled": true
   },
   "outputs": [
    {
     "name": "stdout",
     "output_type": "stream",
     "text": [
      "testing:\n",
      "found first accuracy = 0.605 , first 3 accuracy = 0.895\n",
      "accuracy fn took 2.2337157169977826 mins\n"
     ]
    }
   ],
   "source": [
    "t_start = time.time()\n",
    "acc1,acc3=calc_accuracy(1000,Xval,yval,anchor_img,anchor_label,model,sizes_val)\n",
    "print(f'testing:\\nfound first accuracy = {acc1} , first 3 accuracy = {acc3}')\n",
    "print(\"accuracy fn took {0} mins\".format((time.time()-t_start)/60.0))"
   ]
  },
  {
   "cell_type": "code",
   "execution_count": 123,
   "metadata": {
    "colab": {
     "base_uri": "https://localhost:8080/"
    },
    "id": "NdtRB3qAjbDw",
    "outputId": "616b2116-9157-41c4-a5d1-bc86573330c7",
    "scrolled": false
   },
   "outputs": [
    {
     "name": "stdout",
     "output_type": "stream",
     "text": [
      "training:\n",
      "found first accuracy = 0.996 , first 3 accuracy = 1.0 \n",
      "accuracy fn took 0.5483039061228434 mins\n"
     ]
    }
   ],
   "source": [
    "t_start = time.time()\n",
    "acc1,acc3=calc_accuracy(250,X,y,anchor_img,anchor_label,model,sizes)\n",
    "print(f'training:\\nfound first accuracy = {acc1} , first 3 accuracy = {acc3} ')\n",
    "print(\"accuracy fn took {0} mins\".format((time.time()-t_start)/60.0))"
   ]
  },
  {
   "cell_type": "code",
   "execution_count": 102,
   "metadata": {
    "colab": {
     "base_uri": "https://localhost:8080/"
    },
    "id": "W4Ci6fRSuntv",
    "outputId": "51f9ca19-d611-48ad-eece-3c13a40b1c08"
   },
   "outputs": [
    {
     "name": "stdout",
     "output_type": "stream",
     "text": [
      "accuracy fn took 2.339777346452077 mins\n"
     ]
    }
   ],
   "source": [
    "t_start = time.time()\n",
    "y_pred,y_true= predict_random(1000,Xval,yval,anchor_img,anchor_label,model,sizes_val)\n",
    "print(\"accuracy fn took {0} mins\".format((time.time()-t_start)/60.0))"
   ]
  },
  {
   "cell_type": "code",
   "execution_count": 104,
   "metadata": {
    "colab": {
     "base_uri": "https://localhost:8080/"
    },
    "id": "dwJIsMhQuntw",
    "outputId": "69135655-dc33-45dd-9081-c045f6464063"
   },
   "outputs": [
    {
     "name": "stdout",
     "output_type": "stream",
     "text": [
      "              precision    recall  f1-score   support\n",
      "\n",
      "        Aa15       0.00      0.00      0.00         7\n",
      "        Aa26       1.00      1.00      1.00        10\n",
      "        Aa27       1.00      1.00      1.00         7\n",
      "          D1       1.00      1.00      1.00         4\n",
      "         D10       0.00      0.00      0.00         6\n",
      "        D156       1.00      1.00      1.00         8\n",
      "         D19       0.92      1.00      0.96        11\n",
      "          D2       1.00      0.50      0.67         6\n",
      "         D21       0.75      1.00      0.86         3\n",
      "         D28       0.88      0.88      0.88         8\n",
      "         D35       1.00      0.67      0.80         3\n",
      "         D36       0.50      1.00      0.67         2\n",
      "         D39       1.00      1.00      1.00         9\n",
      "          D4       0.75      0.90      0.82        10\n",
      "         D46       0.43      0.75      0.55        12\n",
      "         D52       0.00      0.00      0.00        10\n",
      "         D54       1.00      1.00      1.00         8\n",
      "         D56       1.00      1.00      1.00        12\n",
      "         D58       1.00      0.67      0.80         6\n",
      "         D60       1.00      1.00      1.00         5\n",
      "          E1       1.00      0.56      0.71         9\n",
      "         E23       1.00      0.78      0.88         9\n",
      "         E34       1.00      0.91      0.95        11\n",
      "          E9       1.00      1.00      1.00         5\n",
      "         F13       1.00      0.62      0.77         8\n",
      "         F16       0.88      1.00      0.93         7\n",
      "         F18       0.00      0.00      0.00         6\n",
      "         F26       0.00      0.00      0.00         6\n",
      "         F31       0.00      0.00      0.00        10\n",
      "         F34       1.00      0.67      0.80         3\n",
      "         F35       1.00      1.00      1.00         4\n",
      "          F4       0.00      0.00      0.00         9\n",
      "         F40       1.00      1.00      1.00         8\n",
      "          F9       0.00      0.00      0.00        10\n",
      "          G1       0.14      1.00      0.24         8\n",
      "         G14       0.00      0.00      0.00         8\n",
      "         G17       1.00      0.60      0.75         5\n",
      "         G21       0.00      0.00      0.00        12\n",
      "         G25       0.14      1.00      0.25         3\n",
      "         G26       0.00      0.00      0.00        11\n",
      "         G29       0.00      0.00      0.00         7\n",
      "         G35       0.00      0.00      0.00         6\n",
      "         G36       1.00      1.00      1.00         6\n",
      "         G37       1.00      1.00      1.00         3\n",
      "         G39       1.00      0.62      0.77         8\n",
      "          G4       0.00      0.00      0.00         9\n",
      "         G40       1.00      1.00      1.00         7\n",
      "         G43       0.88      1.00      0.93         7\n",
      "          G5       0.00      0.00      0.00        13\n",
      "          G7       1.00      1.00      1.00         9\n",
      "          H6       0.00      0.00      0.00         3\n",
      "         I10       1.00      0.83      0.91         6\n",
      "          I9       0.50      1.00      0.67         7\n",
      "          L1       1.00      1.00      1.00         8\n",
      "          M1       0.00      0.00      0.00         7\n",
      "         M12       0.00      0.00      0.00         9\n",
      "         M16       0.00      0.00      0.00         8\n",
      "         M17       0.32      1.00      0.48         7\n",
      "         M18       0.78      0.64      0.70        11\n",
      "        M195       0.00      0.00      0.00         3\n",
      "         M20       1.00      1.00      1.00         5\n",
      "         M23       1.00      1.00      1.00        11\n",
      "         M29       0.00      0.00      0.00         3\n",
      "          M3       0.00      0.00      0.00         5\n",
      "         M40       1.00      1.00      1.00         7\n",
      "         M41       1.00      1.00      1.00         6\n",
      "         M42       0.00      0.00      0.00        14\n",
      "         M44       0.00      0.00      0.00         9\n",
      "          M8       0.00      0.00      0.00        11\n",
      "          N1       1.00      0.57      0.73         7\n",
      "         N14       0.75      1.00      0.86         9\n",
      "         N17       0.00      0.00      0.00         8\n",
      "         N18       0.55      0.50      0.52        12\n",
      "         N25       0.39      1.00      0.56         7\n",
      "         N29       1.00      0.12      0.22         8\n",
      "         N30       1.00      0.80      0.89        15\n",
      "         N31       1.00      1.00      1.00         6\n",
      "         N35       0.33      1.00      0.50         6\n",
      "         N36       0.00      0.00      0.00         6\n",
      "         N37       0.23      0.78      0.35         9\n",
      "         N41       0.00      0.00      0.00         5\n",
      "          N5       0.80      0.44      0.57         9\n",
      "          O1       0.38      0.75      0.50         4\n",
      "         O28       0.33      1.00      0.50         6\n",
      "         O31       0.00      0.00      0.00        15\n",
      "         O34       1.00      1.00      1.00         6\n",
      "          O4       1.00      1.00      1.00         6\n",
      "         O49       0.43      1.00      0.60         6\n",
      "         O50       0.24      1.00      0.38         5\n",
      "          P1       0.00      0.00      0.00         8\n",
      "          P6       1.00      1.00      1.00         2\n",
      "          P8       1.00      0.17      0.29         6\n",
      "         P98       0.00      0.00      0.00         8\n",
      "          Q1       0.60      1.00      0.75         9\n",
      "          Q3       0.30      0.86      0.44         7\n",
      "          Q7       0.00      0.00      0.00        10\n",
      "          R4       0.00      0.00      0.00        11\n",
      "          R8       0.40      0.50      0.44        12\n",
      "         S24       0.00      0.00      0.00         4\n",
      "         S28       1.00      1.00      1.00         5\n",
      "         S29       0.35      1.00      0.52         7\n",
      "         S34       1.00      0.57      0.73         7\n",
      "         T20       1.00      1.00      1.00         7\n",
      "         T21       0.42      1.00      0.59         8\n",
      "         T22       1.00      0.67      0.80         6\n",
      "         T28       0.00      0.00      0.00         5\n",
      "         T30       0.00      0.00      0.00        12\n",
      "          U1       0.38      1.00      0.55         6\n",
      "         U15       1.00      0.75      0.86         8\n",
      "         U28       0.00      0.00      0.00         3\n",
      "         U33       0.54      0.70      0.61        10\n",
      "          U7       0.00      0.00      0.00         8\n",
      "     UNKNOWN       0.01      0.14      0.02         7\n",
      "         V13       0.29      1.00      0.45         5\n",
      "         V24       0.00      0.00      0.00        10\n",
      "         V28       0.36      1.00      0.53         5\n",
      "         V30       0.00      0.00      0.00         8\n",
      "         V31       0.20      1.00      0.34         9\n",
      "          V4       1.00      0.83      0.91         6\n",
      "          V6       0.00      0.00      0.00         5\n",
      "          V7       0.00      0.00      0.00         9\n",
      "         W11       0.00      0.00      0.00         2\n",
      "         W18       1.00      0.67      0.80         3\n",
      "         W19       0.00      0.00      0.00         5\n",
      "         W22       0.00      0.00      0.00        12\n",
      "         W24       0.33      0.33      0.33         3\n",
      "         W25       0.50      1.00      0.67         8\n",
      "          X1       0.58      1.00      0.74         7\n",
      "          X8       1.00      0.45      0.62        11\n",
      "          Y2       0.00      0.00      0.00         8\n",
      "          Y3       1.00      1.00      1.00         8\n",
      "          Y5       1.00      1.00      1.00         8\n",
      "          Z1       0.55      1.00      0.71         6\n",
      "         Z11       0.22      0.80      0.35         5\n",
      "          Z7       0.00      0.00      0.00        12\n",
      "\n",
      "    accuracy                           0.53      1000\n",
      "   macro avg       0.50      0.56      0.49      1000\n",
      "weighted avg       0.48      0.53      0.47      1000\n",
      "\n"
     ]
    },
    {
     "name": "stderr",
     "output_type": "stream",
     "text": [
      "/usr/local/lib/python3.7/dist-packages/sklearn/metrics/_classification.py:1272: UndefinedMetricWarning: Precision and F-score are ill-defined and being set to 0.0 in labels with no predicted samples. Use `zero_division` parameter to control this behavior.\n",
      "  _warn_prf(average, modifier, msg_start, len(result))\n"
     ]
    }
   ],
   "source": [
    "# confusion_matrix = pd.crosstab(index=y_true, columns=y_pred, rownames=['True'], colnames=['predictions']).astype(int)\n",
    "# sns.heatmap(confusion_matrix, annot=True, fmt='.2f', cmap=\"YlGnBu\").set_title('Confusion Matrix')\n",
    "print(classification_report(y_true,y_pred))"
   ]
  },
  {
   "cell_type": "code",
   "execution_count": 158,
   "metadata": {
    "colab": {
     "base_uri": "https://localhost:8080/"
    },
    "id": "X4Xa-BGqPzgQ",
    "outputId": "b116be19-2a5f-4926-ff80-cfc8cb6932dc"
   },
   "outputs": [
    {
     "data": {
      "text/plain": [
       "(125,)"
      ]
     },
     "execution_count": 158,
     "metadata": {},
     "output_type": "execute_result"
    }
   ],
   "source": [
    "y[y=='UNKNOWN'].shape"
   ]
  },
  {
   "cell_type": "code",
   "execution_count": null,
   "metadata": {
    "id": "poAicP_njbDx"
   },
   "outputs": [],
   "source": [
    "# t_start = time.time()\n",
    "# print(calc_accuracy(1,Xval,yval,anchor_img,anchor_label,model))\n",
    "# print(\"accuracy fn took {0} sec\".format((time.time()-t_start)))"
   ]
  },
  {
   "cell_type": "markdown",
   "metadata": {
    "id": "beW1a29IjbDz"
   },
   "source": [
    "### Testing new images"
   ]
  },
  {
   "cell_type": "code",
   "execution_count": null,
   "metadata": {
    "id": "JF4kj__Cunty"
   },
   "outputs": [],
   "source": [
    "def preprocess(img):\n",
    "    if len(img.shape) == 3 and img.shape[2]==3:\n",
    "        img = cv2.cvtColor(img, cv2.COLOR_BGR2GRAY)\n",
    "        \n",
    "    img = cv2.resize(img,(50,75))\n",
    "    return img"
   ]
  },
  {
   "cell_type": "code",
   "execution_count": null,
   "metadata": {
    "id": "hrLEK0fejbDz",
    "outputId": "53ef323a-f1ba-4b3d-9a23-ca7b4fce6a66",
    "scrolled": false
   },
   "outputs": [
    {
     "name": "stdout",
     "output_type": "stream",
     "text": [
      "(75, 50)\n"
     ]
    },
    {
     "data": {
      "text/plain": [
       "<matplotlib.image.AxesImage at 0x7f9021d10450>"
      ]
     },
     "execution_count": 187,
     "metadata": {},
     "output_type": "execute_result"
    },
    {
     "data": {
      "image/png": "[encoded data removed]",
      "text/plain": [
       "<Figure size 432x288 with 1 Axes>"
      ]
     },
     "metadata": {
      "needs_background": "light"
     },
     "output_type": "display_data"
    }
   ],
   "source": [
    "test_img1=io.imread('3.jpg')\n",
    "test_img1=preprocess(test_img1)\n",
    "print(test_img1.shape)\n",
    "io.imshow(test_img1)\n"
   ]
  },
  {
   "cell_type": "code",
   "execution_count": null,
   "metadata": {
    "id": "YZerd3l3untz",
    "outputId": "7cd6dfca-6118-4754-f9f7-6a97f8a237b2"
   },
   "outputs": [
    {
     "name": "stdout",
     "output_type": "stream",
     "text": [
      "X1\n"
     ]
    },
    {
     "data": {
      "text/plain": [
       "array(['U33', 'Q1', 'Y3', 'D39', 'N17', 'G29', 'G26', 'M23', 'Z1', 'M40',\n",
       "       'D21', 'W18', 'T30', 'F34', 'G7', 'M12', 'W24', 'G39', 'M20',\n",
       "       'N25', 'V7', 'D2', 'Y2', 'E34', 'E23', 'G40', 'N5', 'N18', 'G37',\n",
       "       'W25', 'F18', 'D60', 'T20', 'G1', 'V28', 'N35', 'U1', 'N41',\n",
       "       'M195', 'D56', 'D10', 'Q3', 'G36', 'D28', 'T21', 'W11', 'G25',\n",
       "       'F31', 'E9', 'Q7', 'O34', 'M17', 'I10', 'Y5', 'V24', 'N30', 'X8',\n",
       "       'S24', 'M41', 'N14', 'UNKNOWN', 'G35', 'S28', 'P6', 'X1', 'V30',\n",
       "       'N29', 'Z7', 'R8', 'D156', 'V4', 'F16', 'D58', 'N31', 'G14', 'G17',\n",
       "       'F13', 'F4', 'P98', 'D46', 'V31', 'G4', 'F9', 'D35', 'M1', 'O50',\n",
       "       'O4', 'F35', 'P8', 'O31', 'S34', 'D4', 'M16', 'R4', 'O28', 'M3',\n",
       "       'N36', 'Z11', 'N1', 'D36', 'D1', 'W22', 'D52', 'O49', 'M29', 'D19',\n",
       "       'V6', 'U15', 'F26', 'G5', 'M44', 'M42', 'G43', 'U7', 'N37', 'T22',\n",
       "       'H6', 'L1', 'E1', 'S29', 'I9', 'Aa27', 'T28', 'G21', 'M8', 'U28',\n",
       "       'O1', 'Aa26', 'Aa15', 'F40', 'W19', 'P1', 'M18', 'D54', 'V13'],\n",
       "      dtype='<U7')"
      ]
     },
     "execution_count": 195,
     "metadata": {},
     "output_type": "execute_result"
    }
   ],
   "source": [
    "print(targets[64])\n",
    "targets"
   ]
  },
  {
   "cell_type": "code",
   "execution_count": null,
   "metadata": {
    "id": "1Lic7m0Quntz",
    "outputId": "33210212-e0e0-43f0-ce61-ffa038241d44"
   },
   "outputs": [
    {
     "data": {
      "text/plain": [
       "array([0.65185916], dtype=float32)"
      ]
     },
     "execution_count": 197,
     "metadata": {},
     "output_type": "execute_result"
    }
   ],
   "source": [
    "predicted[100]"
   ]
  },
  {
   "cell_type": "code",
   "execution_count": null,
   "metadata": {
    "id": "9ZplSFXGjbD3"
   },
   "outputs": [],
   "source": [
    "predicted,anchor_imgs,targets=whichGlyph(model,test_img1.reshape(75,50,1),anchor_img,anchor_label)"
   ]
  },
  {
   "cell_type": "code",
   "execution_count": null,
   "metadata": {
    "id": "sBjp6Mgvunt0",
    "outputId": "ac73d447-99dd-4a25-dc20-e592194a706b"
   },
   "outputs": [
    {
     "data": {
      "text/plain": [
       "array([ 57,  22,  39, 121, 116,  20,  97, 125,  30,  62,  90,  15, 110,\n",
       "        98,  29, 130,  50, 104,  93,  92, 111,   5,  86,  37,  56,  76,\n",
       "       106,  59,  31,  83, 115, 122,  73, 134,  34,  44,  88,  72,  27,\n",
       "         1, 107,  65,  87,  32,  89,  95,  55,  67, 133,  77,  94, 129,\n",
       "       114,  38,  81,  49, 101,  11,   0,  63, 131, 132, 117,  19,  54,\n",
       "        91, 127,   4, 108,  70,  99,  69,  46,  28,  84,   6,   2,  17,\n",
       "       126, 113,  78,  40,  51, 124,  74,  79, 103,   3, 128,   7,   9,\n",
       "         8,  24, 118,  43,  47,  35,  96,  18,  82, 119, 120, 105,  13,\n",
       "        36, 102,  68,  66,  48,  42,  21,  61,  33,  25,  10,  52,  71,\n",
       "        64, 109,  23,  75,  53,  14,  60,  12,  45, 123, 112,  80,  26,\n",
       "        85,  58,  41,  16, 100])"
      ]
     },
     "execution_count": 172,
     "metadata": {},
     "output_type": "execute_result"
    }
   ],
   "source": [
    "sort_index = np.argsort(np.asarray(predicted).reshape(len(predicted),))\n",
    "sort_index "
   ]
  },
  {
   "cell_type": "code",
   "execution_count": null,
   "metadata": {
    "id": "Xas8Egtzunt1",
    "outputId": "f6e5d690-82e8-472f-c34d-cd271e20286a"
   },
   "outputs": [
    {
     "data": {
      "text/plain": [
       "<matplotlib.image.AxesImage at 0x7f9021c8af50>"
      ]
     },
     "execution_count": 198,
     "metadata": {},
     "output_type": "execute_result"
    },
    {
     "data": {
      "image/png": "[encoded data removed]",
      "text/plain": [
       "<Figure size 432x288 with 1 Axes>"
      ]
     },
     "metadata": {
      "needs_background": "light"
     },
     "output_type": "display_data"
    }
   ],
   "source": [
    "io.imshow(anchor_imgs[100].reshape(75,50))"
   ]
  },
  {
   "cell_type": "code",
   "execution_count": null,
   "metadata": {
    "id": "PIEwqh2Hunt1"
   },
   "outputs": [],
   "source": []
  }
 ],
 "metadata": {
  "accelerator": "GPU",
  "colab": {
   "collapsed_sections": [],
   "name": "oneshot learning.ipynb",
   "provenance": []
  },
  "kernelspec": {
   "display_name": "Python 3",
   "language": "python",
   "name": "python3"
  },
  "language_info": {
   "codemirror_mode": {
    "name": "ipython",
    "version": 3
   },
   "file_extension": ".py",
   "mimetype": "text/x-python",
   "name": "python",
   "nbconvert_exporter": "python",
   "pygments_lexer": "ipython3",
   "version": "3.7.6"
  }
 },
 "nbformat": 4,
 "nbformat_minor": 1
}
